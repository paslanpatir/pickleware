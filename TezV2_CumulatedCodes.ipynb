{
 "cells": [
  {
   "cell_type": "markdown",
   "metadata": {},
   "source": [
    "# Loading Packages & Initialization"
   ]
  },
  {
   "cell_type": "markdown",
   "metadata": {},
   "source": [
    "reference : https://gist.github.com/mertedali/ab7078b9c29dea18c72525239d636b96"
   ]
  },
  {
   "cell_type": "code",
   "execution_count": 2,
   "metadata": {},
   "outputs": [],
   "source": [
    "rm(list=ls())\n",
    "\n",
    "library(data.table)\n",
    "library(tidyverse)\n",
    "library(rJava)\n",
    "library(RNetLogo)\n",
    "\n",
    "library(lhs) # For maximin Latin hypercube sampling\n",
    "library(ggplot2)\n",
    "library(caret)\n",
    "library(randomForest)\n",
    "library(factoextra)\n",
    "library(e1071)\n",
    "library(TSrepr) # for evaluating predictive power\n",
    "\n",
    "options(warn = -1)"
   ]
  },
  {
   "cell_type": "code",
   "execution_count": 3,
   "metadata": {},
   "outputs": [],
   "source": [
    "# Select if data generation is wanted\n",
    "GenerateTTData <- 0"
   ]
  },
  {
   "cell_type": "code",
   "execution_count": 4,
   "metadata": {},
   "outputs": [],
   "source": [
    "Is_Headless <- 0\n",
    "nl.model <- \"Segregation\"\n",
    "\n",
    "nl.path <- \"C:/Program Files/NetLogo 6.0.4/app\"\n",
    "model.path <- paste0(\"C:/Users/paslanpatir/Desktop/TEZ_v2/\",nl.model,\".nlogo\")\n",
    "\n",
    "if (Is_Headless == 0){\n",
    "    NLStart(nl.path, gui = TRUE,nl.jarname='netlogo-6.0.4.jar')\n",
    "    NLLoadModel (model.path)\n",
    "    } else {\n",
    "    NLStart(nl.path, gui = FALSE,nl.jarname='netlogo-6.0.4.jar')\n",
    "    NLLoadModel (model.path)\n",
    "    \n",
    "    #NLStart(nl.path, gui = FALSE,nl.jarname='netlogo-6.0.4.jar', nl.obj = nl.model)\n",
    "    #NLLoadModel (model.path, nl.obj = nl.model )\n",
    "    }"
   ]
  },
  {
   "cell_type": "markdown",
   "metadata": {},
   "source": [
    "# Model Parameters & Functions"
   ]
  },
  {
   "cell_type": "markdown",
   "metadata": {},
   "source": [
    "## Set model parameters"
   ]
  },
  {
   "cell_type": "code",
   "execution_count": 5,
   "metadata": {},
   "outputs": [],
   "source": [
    "set.seed(1)\n",
    "\n",
    "## Set model parameters\n",
    " # Number of replications for each instance\n",
    "nofrep = 10     \n",
    " # order feature names according to their definition order in run_model\n",
    "feature_names = c(\"density\",\"%-similar-wanted\")  \n",
    " # \n",
    "output_name = c(\"percent-similar\")\n",
    "\n",
    " # Number of input parameters of the agent-based model\n",
    "nofparams = length(feature_names)      \n",
    "\n",
    "# set RF parameters\n",
    "ntree = 400\n",
    "mtry = 2"
   ]
  },
  {
   "cell_type": "markdown",
   "metadata": {},
   "source": [
    "## Set user parameters"
   ]
  },
  {
   "cell_type": "code",
   "execution_count": 10,
   "metadata": {},
   "outputs": [],
   "source": [
    "error_type = \"RMSE\" # MAPE, BIAS\n",
    "\n",
    "# choose the uncertainty measure\n",
    "selection_metric <- \"sd\" #, \"range\" \n",
    "\n",
    "unlabeled_ins = 700 \n",
    "test_ins = 700\n",
    "train_ins_oneshot = 700\n",
    "train_ins_Ad = 200\n",
    "\n",
    "# Set selection parameters\n",
    "selected_ins = 5 #nofinstancesWillbeSelected in each step\n",
    "\n",
    "# Set elimination parameters\n",
    "h <- 1 # number of variables eliminated in each step\n"
   ]
  },
  {
   "cell_type": "markdown",
   "metadata": {},
   "source": [
    "## Define functions"
   ]
  },
  {
   "cell_type": "code",
   "execution_count": 11,
   "metadata": {},
   "outputs": [],
   "source": [
    "#run_model <- function(feature_names,feature_values){ # both should be in character list format\n",
    "run_model <- function(feature_values){ # both should be in character list format\n",
    "\n",
    "    \n",
    "    k = length(feature_names)    \n",
    "    for(i in 1:k){\n",
    "        NLCommand(paste0(\"set \",feature_names[i],\" \",feature_values[i]))      \n",
    "    }\n",
    "    NLCommand(\"setup\")\n",
    "    NLDoCommand(100, \"go\") \n",
    "    result <- NLReport(output_name)\n",
    "    return(result)   \n",
    "}"
   ]
  },
  {
   "cell_type": "code",
   "execution_count": 12,
   "metadata": {},
   "outputs": [],
   "source": [
    "#run_replicas <- function(nofrep,feature_names,feature_values) {\n",
    "run_replicas <- function(nofrep,feature_values) {\n",
    "    replicas = matrix(NA, ncol = nofrep, nrow = 1) # Save the result of each replication\n",
    "    for(i in 1:nofrep){\n",
    "     #   replicas[i]= run_model(feature_names,feature_values)\n",
    "        replicas[i]= run_model(feature_values)\n",
    "    }\n",
    "    aggregated_result = mean(replicas)\n",
    "    return(aggregated_result)\n",
    "}"
   ]
  },
  {
   "cell_type": "code",
   "execution_count": 13,
   "metadata": {},
   "outputs": [],
   "source": [
    "#run_ABM = function(nofrep,nofinstances,unlabeledset,featurenames = feature_names){\n",
    "run_ABM = function(nofrep,nofinstances,unlabeledset){\n",
    "   #unlabeledset = setcolorder(unlabeledset,featurenames) \n",
    "   unlabeledset = setcolorder(unlabeledset,feature_names) \n",
    "   for(i in 1:nofinstances){\n",
    "        #unlabeledset[i, output :=  run_replicas(nofrep,featurenames, as.matrix(unlabeledset[i,]))]    \n",
    "        unlabeledset[i, output :=  run_replicas(nofrep, as.matrix(unlabeledset[i,]))] \n",
    "    } \n",
    "    return(unlabeledset)\n",
    "}\n"
   ]
  },
  {
   "cell_type": "code",
   "execution_count": 14,
   "metadata": {},
   "outputs": [],
   "source": [
    "#error functions on test data\n",
    "rmse_func <- function(actual, predicted){\n",
    "    error = predicted - actual\n",
    "    return(sqrt(mean(error^2)))\n",
    "}\n",
    "\n",
    "mape_func <- function(actual,predicted){\n",
    "    return( (abs(actual - predicted)/ actual)*100 )\n",
    "}\n",
    "\n",
    "bias_func <- function(actual,predicted){\n",
    "    return( (actual - predicted)/ actual )\n",
    "}\n",
    "\n",
    "#error functions on train data\n",
    "obb_error_func <- function(model){\n",
    "   if(model$type == \"regression\"){\n",
    "        oob_error = model$mse[model$ntree] \n",
    "    }else if(model$type == \"classification\"){\n",
    "        oob_error = model$err.rate \n",
    "    } \n",
    "    return(oob_error)\n",
    "}\n"
   ]
  },
  {
   "cell_type": "code",
   "execution_count": 15,
   "metadata": {},
   "outputs": [],
   "source": [
    "# prediction functions\n",
    "get_test_predictions <- function(model,testset,errortype){\n",
    "    \n",
    "    predictedLabels <- predict(model, testset)\n",
    "    predictedLabels <- cbind(testset,predictedLabels)\n",
    "    setnames(predictedLabels, \"predictedLabels\",\"pred_output\")\n",
    "\n",
    "    output_variables = colnames(select(predictedLabels, contains(\"output\")))\n",
    "    # output_variables[1] = true output\n",
    "    # output_variables[2] = predicted output\n",
    "    \n",
    "    #output_variables = colnames(predictedLabels[,1:(ncol(predictedLabels) - 2)])\n",
    "    \n",
    "    if(error_type == \"MAPE\"){\n",
    "        predictedLabels[,MAPE := mapply(function(x,y) mape_func(x,y),get(output_variables[1]),get(output_variables[2]))]\n",
    "          }\n",
    "    if(error_type == \"RMSE\"){\n",
    "        predictedLabels[,RMSE := mapply(function(x,y) rmse_func(x,y),get(output_variables[1]),get(output_variables[2]))]\n",
    "          }\n",
    "    if(error_type == \"BIAS\"){\n",
    "        predictedLabels[,BIAS := mapply(function(x,y) bias_func(x,y),get(output_variables[1]),get(output_variables[2]))]\n",
    "           } \n",
    "                                  \n",
    "     output_variables_1 = predictedLabels[,get(output_variables[1]), with = TRUE]\n",
    "     output_variables_2 = predictedLabels[,get(output_variables[2]), with = TRUE]\n",
    "    \n",
    "     performance_temp = matrix(c(1:4), nrow = 1, ncol = 4)\n",
    "     performance_temp[1] = 1 #t ################\n",
    "     performance_temp[2] =  mae(output_variables_1 , output_variables_2)\n",
    "     performance_temp[3] = rmse(output_variables_1 , output_variables_2)\n",
    "     performance_temp[4] = mape(output_variables_1 , output_variables_2)\n",
    "    \n",
    "    return(list(predictedLabels,performance_temp,output_variables))\n",
    "    \n",
    "} "
   ]
  },
  {
   "cell_type": "code",
   "execution_count": 57,
   "metadata": {},
   "outputs": [],
   "source": [
    "# Adaptive sample selection function with an uncertainty measure depending on \"selection_metric\"\n",
    "sample_selection <- function(selected_ins,unlabeled_set,datax,datay){\n",
    "\n",
    "    rf <- randomForest(x = datax, y = datay, importance = TRUE ,ntree = ntree, mtry = mtry )\n",
    "    ind_pred <- t(predict(rf, unlabeled_set,predict.all = TRUE)$individual) %>% data.table() # predictions by each tree in the forest\n",
    "    \n",
    "    ind_pred_eval = data.table()\n",
    "    \n",
    "    # standard deviation calculation\n",
    "    s_dev = sapply(ind_pred, sd) %>% data.table()\n",
    "    setnames(s_dev,\".\",\"sd\")\n",
    "    ind_pred_eval = cbind(ind_pred_eval,s_dev)\n",
    "    \n",
    "    # range calculation\n",
    "    range = sapply(ind_pred, range) %>% t() %>% data.table()\n",
    "    range = range[,.(range = abs(range[,1] - range[,2]))]\n",
    "    setnames(range,\"range.V1\",\"range\")\n",
    "    ind_pred_eval = cbind(ind_pred_eval,range)\n",
    "    \n",
    "    ind_pred_eval[,idx := 1:.N]\n",
    "    \n",
    "    if(selection_metric == \"sd\") {\n",
    "      ind_pred_eval = ind_pred_eval[order(-sd)][1:selected_ins]\n",
    "    }else if(selection_metric == \"range\"){\n",
    "      ind_pred_eval = ind_pred_eval[order(-range)][1:selected_ins]\n",
    "    }\n",
    "    \n",
    "    unlabeled_set[,idx := 1:.N]    \n",
    "    train_candidates = unlabeled_set[ind_pred_eval$idx]\n",
    "    \n",
    "    return(train_candidates)\n",
    "}\n"
   ]
  },
  {
   "cell_type": "code",
   "execution_count": 17,
   "metadata": {},
   "outputs": [],
   "source": [
    "# Random sample selection\n",
    "random_sample_selection <- function(selected_ins,unlabeled_set){\n",
    "  \n",
    "    unlabeled_set[,idx := 1:.N]\n",
    "    \n",
    "    train_candidate_idx = sample(unlabeled_set$idx, selected_ins, replace = FALSE, prob = NULL)   \n",
    "    train_candidates = unlabeled_set[idx %in% train_candidate_idx]\n",
    "    \n",
    "    return(train_candidates)\n",
    "}"
   ]
  },
  {
   "cell_type": "code",
   "execution_count": 18,
   "metadata": {},
   "outputs": [],
   "source": [
    "get_variable_importance <- function(model){\n",
    "    importances <- importance(model, type = 1, scale = FALSE)\n",
    "    selected.vars <- order(importances, decreasing = TRUE)\n",
    "    ranked_features = feature_names[selected.vars]\n",
    "    ordered.importances <- importances[selected.vars]\n",
    "    \n",
    "    return(ranked_features)\n",
    "}                      "
   ]
  },
  {
   "cell_type": "code",
   "execution_count": 19,
   "metadata": {},
   "outputs": [],
   "source": [
    "# Define functions\n",
    "### make sure run this line only once, or in odd numbers (3,5,7..) ###\n",
    "feature_elimination <- function(h,nofEliminatedVariables,data,variableorder){ \n",
    "   # feature number\n",
    "    setcolorder(data,variableorder)\n",
    "    p <- ncol(data[,-c(\"output\")]) \n",
    "    columns_left = colnames(data[, 1:c(1:(p - nofEliminatedVariables - h))])\n",
    "           \n",
    "    return(list(columns_left, h + nofEliminatedVariables))  \n",
    "}"
   ]
  },
  {
   "cell_type": "markdown",
   "metadata": {},
   "source": [
    "# Generate Unlabeled Data Pool"
   ]
  },
  {
   "cell_type": "markdown",
   "metadata": {},
   "source": [
    "## Latin hyper cube sampling"
   ]
  },
  {
   "cell_type": "code",
   "execution_count": 20,
   "metadata": {},
   "outputs": [],
   "source": [
    "if(GenerateTTData == 1){\n",
    "    unlabeled_pool = as.data.table(maximinLHS(n = unlabeled_ins, k = nofparams, dup = 5))\n",
    "    \n",
    "    unlabeled_pool$V1 = qunif(unlabeled_pool$V1, 10, 90) \n",
    "    unlabeled_pool$V2 = qunif(unlabeled_pool$V2, 10, 90) \n",
    "    setnames(unlabeled_pool, c(\"V1\",\"V2\"), feature_names)\n",
    "    \n",
    "    unlabeled_pool[,idx := 1:.N]\n",
    "        \n",
    "    fwrite(unlabeled_pool, paste0(\"C:/Users/paslanpatir/Desktop/TEZ_v2/unlabeled_pool_\",Sys.Date(),\".csv\"))\n",
    "}else{\n",
    "    unlabeled_pool <- fread(\"C:/Users/paslanpatir/Desktop/TEZ_v2/unlabeled_pool_04122019.csv\")   \n",
    "    unlabeled_pool <- head(unlabeled_pool[`%-similar-wanted` < 90 & `density` < 90],700)\n",
    "}"
   ]
  },
  {
   "cell_type": "code",
   "execution_count": 21,
   "metadata": {},
   "outputs": [
    {
     "data": {
      "image/png": "[encoded data removed]",
      "text/plain": [
       "plot without title"
      ]
     },
     "metadata": {},
     "output_type": "display_data"
    }
   ],
   "source": [
    "pca_unlabeled_pool <- princomp(unlabeled_pool[,-c(\"idx\")], cor = TRUE, scores = TRUE)\n",
    "pca_unlabeled_pool_components <- get_pca_ind(pca_unlabeled_pool)\n",
    "p_unlabeled_pool <- ggplot(data = data.table(pca_unlabeled_pool_components$coord[,1:2]), aes(x = Dim.1, y = Dim.2)) +\n",
    "                    geom_point() +\n",
    "                    labs( title = \"\") \n",
    "p_unlabeled_pool\n"
   ]
  },
  {
   "cell_type": "markdown",
   "metadata": {},
   "source": [
    "# Generate Test Set"
   ]
  },
  {
   "cell_type": "code",
   "execution_count": 22,
   "metadata": {
    "scrolled": true
   },
   "outputs": [],
   "source": [
    "if(GenerateTTData == 1){\n",
    "    test_set <- head(unlabeled_pool,test_ins)\n",
    "    \n",
    "    ################## Buraya variale'ların datatipine göre bir şeyler yazılabilir\n",
    "    test_set$density = runif(test_ins, 10, 90) \n",
    "    test_set$`%-similar-wanted` = runif(test_ins, 10, 90) \n",
    "    test_set[,c(\"idx\"):= NULL]\n",
    "      \n",
    "    paste0(\"ABM run start time : \",Sys.time())\n",
    "    test_set = run_ABM(nofrep,test_ins,test_set) %>% as.data.table()\n",
    "    paste0(\"ABM run end time : \",Sys.time())\n",
    "    \n",
    "    fwrite(test_set, paste0(\"C:/Users/paslanpatir/Desktop/TEZ_v2/test_set_\",Sys.Date(),\".csv\"))\n",
    "}else{\n",
    "    test_set <- fread(\"C:/Users/paslanpatir/Desktop/TEZ_v2/test_set_04122019.csv\")  \n",
    "    test_set <- head(test_set[`%-similar-wanted` < 90],800)\n",
    "\n",
    "}"
   ]
  },
  {
   "cell_type": "markdown",
   "metadata": {},
   "source": [
    "10 * 10 ~ 1 min\n",
    "100 * 10 ~ 14 min\n",
    "900 * 10 ~ 09:16 -- 2019-12-03 07:54:10 +03\""
   ]
  },
  {
   "cell_type": "code",
   "execution_count": 23,
   "metadata": {},
   "outputs": [
    {
     "data": {
      "image/png": "[encoded data removed]",
      "text/plain": [
       "plot without title"
      ]
     },
     "metadata": {},
     "output_type": "display_data"
    }
   ],
   "source": [
    "pca_test_set <- princomp(test_set, cor = TRUE, scores = TRUE)\n",
    "pca_test_set_components <- get_pca_ind(pca_test_set)\n",
    "p_test_set <- ggplot(data = data.table(pca_test_set_components$coord[,1:2]), aes(x = Dim.1, y = Dim.2)) +\n",
    "                    geom_point() +\n",
    "                    labs( title = \"\") \n",
    "p_test_set"
   ]
  },
  {
   "cell_type": "markdown",
   "metadata": {},
   "source": [
    "# Benchmark : One-shot sampling, No feature elimination"
   ]
  },
  {
   "cell_type": "markdown",
   "metadata": {},
   "source": [
    "## Generate Training Set"
   ]
  },
  {
   "cell_type": "markdown",
   "metadata": {},
   "source": [
    "Select a very big data pool ( nofinstances should be very high ) , like 1000"
   ]
  },
  {
   "cell_type": "code",
   "execution_count": 24,
   "metadata": {},
   "outputs": [],
   "source": [
    "if(GenerateTTData == 1){\n",
    "    LHSample = as.data.table(maximinLHS(n = train_ins_oneshot, k = nofparams, dup = 5))\n",
    "    \n",
    "    LHSample$V1 = qunif(LHSample$V1, 10, 90) \n",
    "    LHSample$V2 = qunif(LHSample$V2, 10, 90) \n",
    "    setnames(LHSample, c(\"V1\",\"V2\"), feature_names)\n",
    "    \n",
    "    LHSample$output <- 0.00\n",
    "    \n",
    "    paste0(\"ABM run start time : \",Sys.time())\n",
    "    LHSample = run_ABM(nofrep,train_ins_oneshot,LHSample) %>% as.data.table()\n",
    "    paste0(\"ABM run end time : \",Sys.time())\n",
    "    \n",
    "    fwrite(LHSample, paste0(\"C:/Users/paslanpatir/Desktop/TEZ_v2/LHSample_Data\",Sys.Date(),\".csv\"))\n",
    "    \n",
    "}else{\n",
    "    LHSample <- fread(\"C:/Users/paslanpatir/Desktop/TEZ_v2/LHSample_Data_04122019.csv\")\n",
    "    LHSample <- head(LHSample[`%-similar-wanted` < 90],700)\n",
    "}"
   ]
  },
  {
   "cell_type": "markdown",
   "metadata": {},
   "source": [
    "### Visualization"
   ]
  },
  {
   "cell_type": "code",
   "execution_count": 26,
   "metadata": {},
   "outputs": [
    {
     "data": {
      "image/png": "[encoded data removed]",
      "text/plain": [
       "plot without title"
      ]
     },
     "metadata": {},
     "output_type": "display_data"
    }
   ],
   "source": [
    "pca_LHSample <- princomp(LHSample[,.SD, .SDcols = !c(\"output\")], cor = TRUE, scores = TRUE)\n",
    "\n",
    "#fviz_pca_ind(pca_LHSample,\n",
    "#             col.ind = \"cos2\", # Color by the quality of representation\n",
    "#             gradient.cols = c(\"#00AFBB\", \"#E7B800\", \"#FC4E07\"),\n",
    "#              geom=\"point\"\n",
    "#             )\n",
    "\n",
    "pca_LHSample_components <- get_pca_ind(pca_LHSample)\n",
    "pca_LHSample_components <-cbind(pca_LHSample_components$coord[,1:2],LHSample[,.SD, .SDcols = c(\"output\")])\n",
    "p_LHSample <- ggplot(data = pca_LHSample_components, aes(x = Dim.1, y = Dim.2)) +\n",
    "             geom_point(aes(colour = output)) +\n",
    "             labs( title = \"\", legend = \"output\") \n",
    "p_LHSample"
   ]
  },
  {
   "cell_type": "markdown",
   "metadata": {},
   "source": [
    "## Train & Test Metamodel"
   ]
  },
  {
   "cell_type": "code",
   "execution_count": 27,
   "metadata": {},
   "outputs": [
    {
     "data": {
      "text/plain": [
       "\n",
       "Call:\n",
       " randomForest(x = LHSample[, -c(\"output\")], y = LHSample$output,      ntree = ntree, mtry = mtry, importance = TRUE) \n",
       "               Type of random forest: regression\n",
       "                     Number of trees: 400\n",
       "No. of variables tried at each split: 2\n",
       "\n",
       "          Mean of squared residuals: 9.161969\n",
       "                    % Var explained: 96.96"
      ]
     },
     "metadata": {},
     "output_type": "display_data"
    }
   ],
   "source": [
    "model_oneshot <- randomForest(x = LHSample[, -c(\"output\")], y = LHSample$output, importance = TRUE,ntree = ntree, mtry = mtry)\n",
    "model_oneshot"
   ]
  },
  {
   "cell_type": "code",
   "execution_count": 28,
   "metadata": {},
   "outputs": [],
   "source": [
    "obb_error_oneshot <- obb_error_func(model_oneshot)"
   ]
  },
  {
   "cell_type": "code",
   "execution_count": null,
   "metadata": {},
   "outputs": [],
   "source": [
    "#OBB_pred = cbind(LHSample$output,model_oneshot$predicted)\n",
    "#names(OBB_pred) <- c(\"actual\",\"predicted\")"
   ]
  },
  {
   "cell_type": "code",
   "execution_count": 29,
   "metadata": {},
   "outputs": [
    {
     "data": {
      "image/png": "[encoded data removed]",
      "text/plain": [
       "plot without title"
      ]
     },
     "metadata": {},
     "output_type": "display_data"
    }
   ],
   "source": [
    "plot(model_oneshot$mse, type=\"l\")"
   ]
  },
  {
   "cell_type": "code",
   "execution_count": 30,
   "metadata": {},
   "outputs": [],
   "source": [
    "test_prediction_oneshot = get_test_predictions(model_oneshot,test_set,error_type)\n",
    "predictedLabels_oneshot = test_prediction_oneshot[[1]]\n",
    "\n",
    "performance_table_oneshot = data.table(iter = numeric(), mae= numeric(),rmse= numeric(), mape = numeric())\n",
    "\n",
    "performance_table_temp = test_prediction_oneshot[[2]]\n",
    "performance_table_oneshot = rbind(performance_table_oneshot,performance_table_temp, use.names = FALSE)\n",
    "rm(performance_table_temp)   \n",
    "\n",
    "output_variables = test_prediction_oneshot[[3]]    \n"
   ]
  },
  {
   "cell_type": "code",
   "execution_count": 31,
   "metadata": {},
   "outputs": [
    {
     "data": {
      "image/png": "[encoded data removed]",
      "text/plain": [
       "plot without title"
      ]
     },
     "metadata": {},
     "output_type": "display_data"
    }
   ],
   "source": [
    "p_oneshot <- ggplot(predictedLabels_oneshot,aes(x = get(output_variables[1]), y = get(output_variables[2]), color = (get(output_variables[2]) - get(output_variables[1])))) +\n",
    "            geom_point() +\n",
    "            geom_abline() +\n",
    "            xlab(\"actual values\") +\n",
    "            ylab(\"fitted values\")\n",
    "\n",
    "p_oneshot"
   ]
  },
  {
   "cell_type": "markdown",
   "metadata": {},
   "source": [
    "# Random Sampling & No Feature Elimination"
   ]
  },
  {
   "cell_type": "markdown",
   "metadata": {},
   "source": [
    "## Generate Training Set"
   ]
  },
  {
   "cell_type": "markdown",
   "metadata": {},
   "source": [
    "Select a relatively big data pool ( nofinstances should be medium) , like 400"
   ]
  },
  {
   "cell_type": "code",
   "execution_count": 32,
   "metadata": {},
   "outputs": [],
   "source": [
    "if(GenerateTTData == 1){\n",
    "   \n",
    "    LHSample_Ad = as.data.table(maximinLHS(n = train_ins_Ad, k = nofparams, dup = 5))\n",
    "    \n",
    "    LHSample_Ad$V1 = qunif(LHSample_Ad$V1, 10, 90) \n",
    "    LHSample_Ad$V2 = qunif(LHSample_Ad$V2, 10, 90) \n",
    "    setnames(LHSample_Ad, c(\"V1\",\"V2\"), feature_names)\n",
    "    LHSample_Ad$output <- 0.00\n",
    "    \n",
    "    paste0(\"ABM run start time : \",Sys.time())\n",
    "    LHSample_Ad = run_ABM(nofrep,train_ins_Ad,LHSample_Ad) %>% as.data.table()\n",
    "    paste0(\"ABM run end time : \",Sys.time())\n",
    "    \n",
    "    fwrite(LHSample_Ad, paste0(\"C:/Users/paslanpatir/Desktop/TEZ_v2/LHSample_Ad_Data\",Sys.Date(),\".csv\"))\n",
    "\n",
    "}else{\n",
    "    LHSample_Ad <- fread(\"C:/Users/paslanpatir/Desktop/TEZ_v2/LHSample_Ad_Data_04122019.csv\")\n",
    "    LHSample_Ad <- head(LHSample_Ad[`%-similar-wanted` < 90  & `density` < 90],200)\n",
    "\n",
    "}"
   ]
  },
  {
   "cell_type": "markdown",
   "metadata": {},
   "source": [
    "## Train & Test Metamodel"
   ]
  },
  {
   "cell_type": "code",
   "execution_count": 33,
   "metadata": {},
   "outputs": [],
   "source": [
    "# Record train candidates\n",
    "train_candidates_table = matrix(c(1:ncol(LHSample_Ad) ), nrow = 0, ncol = ncol(LHSample_Ad) )\n",
    "colnames(train_candidates_table) <- colnames(LHSample_Ad)\n",
    "colnames(train_candidates_table)[colnames(train_candidates_table) == \"output\"] <- \"idx\"\n",
    "\n",
    "# Record model performances\n",
    "performance_table = data.table(iter = numeric(), mae= numeric(),rmse= numeric(), mape = numeric()  )\n",
    "\n",
    "#error_type = \"mape\"  \n",
    "predictedLabels_table = copy(test_set)"
   ]
  },
  {
   "cell_type": "code",
   "execution_count": 34,
   "metadata": {},
   "outputs": [
    {
     "name": "stdout",
     "output_type": "stream",
     "text": [
      "[1] 1\n",
      "[1] 2\n",
      "[1] 3\n",
      "[1] 4\n",
      "[1] 5\n",
      "[1] 6\n",
      "[1] 7\n",
      "[1] 8\n",
      "[1] 9\n",
      "[1] 10\n",
      "[1] 11\n",
      "[1] 12\n",
      "[1] 13\n",
      "[1] 14\n",
      "[1] 15\n",
      "[1] 16\n",
      "[1] 17\n",
      "[1] 18\n",
      "[1] 19\n"
     ]
    }
   ],
   "source": [
    "iter = 1\n",
    "\n",
    "while(iter < 20){ \n",
    "    \n",
    "    print(iter)\n",
    "\n",
    "    trainx = LHSample_Ad[,.SD, .SDcols = feature_names]\n",
    "    trainy = LHSample_Ad$output\n",
    "    \n",
    "    # Train the model\n",
    "    model_Sub <- randomForest( x = trainx, y =  trainy,importance = TRUE,ntree = ntree, mtry = mtry)\n",
    "    assign(paste0(\"model_Sub_\",iter),model_Sub)\n",
    "    \n",
    "     if(iter == 1){ # keep just as info\n",
    "         ranked_features = get_variable_importance(model_Sub)\n",
    "     }                      \n",
    "         \n",
    "    \n",
    "    if(iter == 1){\n",
    "        obb_error <- as.data.table(obb_error_func(model_Sub)) \n",
    "        obb_error$iter <- 1 \n",
    "        setnames(obb_error,\"V1\",\"obb_error\")\n",
    "    }else{\n",
    "         ## OOB Error & Test Error \n",
    "        obb_error_Sub <- as.data.table(obb_error_func(model_Sub)) \n",
    "        obb_error_Sub$iter <- iter \n",
    "        obb_error <- rbind(obb_error,obb_error_Sub, use.names = FALSE)\n",
    "        rm(obb_error_Sub)\n",
    "    }\n",
    " \n",
    "    # test the model on test set\n",
    "    test_predictions_Sub = get_test_predictions(model_Sub,test_set,error_type)\n",
    "    predictedLabels_Sub = test_predictions_Sub[[1]]\n",
    "    setnames(predictedLabels_Sub,c(\"pred_output\",error_type), c(paste0(\"pred_output_\",iter),paste0(error_type,\"_\",iter)))    \n",
    "    predictedLabels_table = cbind(predictedLabels_table,predictedLabels_Sub[,.SD, .SDcols = c(paste0(\"pred_output_\",iter),paste0(error_type,\"_\",iter))])\n",
    "    \n",
    "    # record the general test errors\n",
    "    performance_table_temp = test_predictions_Sub[[2]]\n",
    "    performance_table_temp[[1]] = iter\n",
    "    performance_table = rbind(performance_table,performance_table_temp, use.names = FALSE)\n",
    "    rm(performance_table_temp)   \n",
    "    \n",
    "    output_variables = test_predictions_Sub[[3]]          \n",
    "\n",
    "    # Sample from unlabeled data\n",
    "    unlabeled_set <- copy(unlabeled_pool)\n",
    "    train_candidates = random_sample_selection(selected_ins,unlabeled_set)\n",
    "    # Eliminate train candidates from the unlabeled pool\n",
    "    unlabeled_pool = unlabeled_pool[- train_candidates$idx]\n",
    "    rm(unlabeled_set)\n",
    "    \n",
    "    # Run ABM to label train candidates\n",
    "#  train_candidates = as.data.table(train_candidates) \n",
    "    paste0(\"ABM train_candidate run start time : \",Sys.time())\n",
    "    train_candidates = run_ABM(nofrep,selected_ins,train_candidates)\n",
    "    paste0(\"ABM train_candidate run end time : \",Sys.time())\n",
    "    \n",
    "    if(iter == 1){\n",
    "        train_candidates_table <- copy(train_candidates)\n",
    "        train_candidates_table$iter <- iter\n",
    "    }else{\n",
    "        train_candidates_temp <- copy(train_candidates)\n",
    "        train_candidates_temp$iter <- iter\n",
    "        \n",
    "        train_candidates_table <- rbindlist(list(train_candidates_table,train_candidates_temp), use.names=TRUE)\n",
    "        rm(train_candidates_temp)\n",
    "    }\n",
    "\n",
    "    # Add new data to train data\n",
    "    LHSample_Ad = rbind(LHSample_Ad,train_candidates[,-c(\"idx\")])\n",
    "\n",
    "    iter = iter + 1\n",
    "}\n",
    "\n",
    "# plot koy her iteration'da göstersin.\n",
    "#setcolorder(data,variableorder) ################# bunu bi yerlere koyman gerekebilir, dikkat!!\n"
   ]
  },
  {
   "cell_type": "code",
   "execution_count": 35,
   "metadata": {},
   "outputs": [],
   "source": [
    "# Final records\n",
    "FinalTrainData_Rd = copy(LHSample_Ad)\n",
    "performance_table_Rd = copy(performance_table)\n",
    "train_candidates_table_Rd  = copy(train_candidates_table)\n",
    "predictedLabels_table_Rd = copy(predictedLabels_table)\n",
    "obb_error_Rd = copy(obb_error)"
   ]
  },
  {
   "cell_type": "code",
   "execution_count": 36,
   "metadata": {},
   "outputs": [
    {
     "data": {
      "text/html": [
       "295"
      ],
      "text/latex": [
       "295"
      ],
      "text/markdown": [
       "295"
      ],
      "text/plain": [
       "[1] 295"
      ]
     },
     "metadata": {},
     "output_type": "display_data"
    },
    {
     "data": {
      "text/html": [
       "<table>\n",
       "<caption>A data.table: 19 × 4</caption>\n",
       "<thead>\n",
       "\t<tr><th scope=col>iter</th><th scope=col>mae</th><th scope=col>rmse</th><th scope=col>mape</th></tr>\n",
       "\t<tr><th scope=col>&lt;dbl&gt;</th><th scope=col>&lt;dbl&gt;</th><th scope=col>&lt;dbl&gt;</th><th scope=col>&lt;dbl&gt;</th></tr>\n",
       "</thead>\n",
       "<tbody>\n",
       "\t<tr><td> 1</td><td>2.084160</td><td>4.579301</td><td>3.026346</td></tr>\n",
       "\t<tr><td> 2</td><td>2.037959</td><td>4.489061</td><td>2.972927</td></tr>\n",
       "\t<tr><td> 3</td><td>1.968079</td><td>4.391375</td><td>2.884604</td></tr>\n",
       "\t<tr><td> 4</td><td>1.923673</td><td>4.269769</td><td>2.803342</td></tr>\n",
       "\t<tr><td> 5</td><td>1.917569</td><td>4.272107</td><td>2.794694</td></tr>\n",
       "\t<tr><td> 6</td><td>1.922500</td><td>4.295827</td><td>2.807313</td></tr>\n",
       "\t<tr><td> 7</td><td>1.895890</td><td>4.268259</td><td>2.779588</td></tr>\n",
       "\t<tr><td> 8</td><td>1.815036</td><td>4.190170</td><td>2.652540</td></tr>\n",
       "\t<tr><td> 9</td><td>1.805057</td><td>4.208668</td><td>2.639909</td></tr>\n",
       "\t<tr><td>10</td><td>1.809740</td><td>4.221597</td><td>2.650557</td></tr>\n",
       "\t<tr><td>11</td><td>1.777935</td><td>4.182535</td><td>2.595979</td></tr>\n",
       "\t<tr><td>12</td><td>1.793303</td><td>4.198147</td><td>2.625211</td></tr>\n",
       "\t<tr><td>13</td><td>1.770176</td><td>4.180568</td><td>2.579667</td></tr>\n",
       "\t<tr><td>14</td><td>1.725334</td><td>4.117581</td><td>2.513089</td></tr>\n",
       "\t<tr><td>15</td><td>1.723688</td><td>4.126026</td><td>2.504946</td></tr>\n",
       "\t<tr><td>16</td><td>1.716917</td><td>4.138296</td><td>2.491605</td></tr>\n",
       "\t<tr><td>17</td><td>1.715160</td><td>4.137033</td><td>2.483221</td></tr>\n",
       "\t<tr><td>18</td><td>1.699264</td><td>4.144697</td><td>2.454743</td></tr>\n",
       "\t<tr><td>19</td><td>1.722181</td><td>4.175344</td><td>2.498014</td></tr>\n",
       "</tbody>\n",
       "</table>\n"
      ],
      "text/latex": [
       "A data.table: 19 × 4\n",
       "\\begin{tabular}{r|llll}\n",
       " iter & mae & rmse & mape\\\\\n",
       " <dbl> & <dbl> & <dbl> & <dbl>\\\\\n",
       "\\hline\n",
       "\t  1 & 2.084160 & 4.579301 & 3.026346\\\\\n",
       "\t  2 & 2.037959 & 4.489061 & 2.972927\\\\\n",
       "\t  3 & 1.968079 & 4.391375 & 2.884604\\\\\n",
       "\t  4 & 1.923673 & 4.269769 & 2.803342\\\\\n",
       "\t  5 & 1.917569 & 4.272107 & 2.794694\\\\\n",
       "\t  6 & 1.922500 & 4.295827 & 2.807313\\\\\n",
       "\t  7 & 1.895890 & 4.268259 & 2.779588\\\\\n",
       "\t  8 & 1.815036 & 4.190170 & 2.652540\\\\\n",
       "\t  9 & 1.805057 & 4.208668 & 2.639909\\\\\n",
       "\t 10 & 1.809740 & 4.221597 & 2.650557\\\\\n",
       "\t 11 & 1.777935 & 4.182535 & 2.595979\\\\\n",
       "\t 12 & 1.793303 & 4.198147 & 2.625211\\\\\n",
       "\t 13 & 1.770176 & 4.180568 & 2.579667\\\\\n",
       "\t 14 & 1.725334 & 4.117581 & 2.513089\\\\\n",
       "\t 15 & 1.723688 & 4.126026 & 2.504946\\\\\n",
       "\t 16 & 1.716917 & 4.138296 & 2.491605\\\\\n",
       "\t 17 & 1.715160 & 4.137033 & 2.483221\\\\\n",
       "\t 18 & 1.699264 & 4.144697 & 2.454743\\\\\n",
       "\t 19 & 1.722181 & 4.175344 & 2.498014\\\\\n",
       "\\end{tabular}\n"
      ],
      "text/markdown": [
       "\n",
       "A data.table: 19 × 4\n",
       "\n",
       "| iter &lt;dbl&gt; | mae &lt;dbl&gt; | rmse &lt;dbl&gt; | mape &lt;dbl&gt; |\n",
       "|---|---|---|---|\n",
       "|  1 | 2.084160 | 4.579301 | 3.026346 |\n",
       "|  2 | 2.037959 | 4.489061 | 2.972927 |\n",
       "|  3 | 1.968079 | 4.391375 | 2.884604 |\n",
       "|  4 | 1.923673 | 4.269769 | 2.803342 |\n",
       "|  5 | 1.917569 | 4.272107 | 2.794694 |\n",
       "|  6 | 1.922500 | 4.295827 | 2.807313 |\n",
       "|  7 | 1.895890 | 4.268259 | 2.779588 |\n",
       "|  8 | 1.815036 | 4.190170 | 2.652540 |\n",
       "|  9 | 1.805057 | 4.208668 | 2.639909 |\n",
       "| 10 | 1.809740 | 4.221597 | 2.650557 |\n",
       "| 11 | 1.777935 | 4.182535 | 2.595979 |\n",
       "| 12 | 1.793303 | 4.198147 | 2.625211 |\n",
       "| 13 | 1.770176 | 4.180568 | 2.579667 |\n",
       "| 14 | 1.725334 | 4.117581 | 2.513089 |\n",
       "| 15 | 1.723688 | 4.126026 | 2.504946 |\n",
       "| 16 | 1.716917 | 4.138296 | 2.491605 |\n",
       "| 17 | 1.715160 | 4.137033 | 2.483221 |\n",
       "| 18 | 1.699264 | 4.144697 | 2.454743 |\n",
       "| 19 | 1.722181 | 4.175344 | 2.498014 |\n",
       "\n"
      ],
      "text/plain": [
       "   iter mae      rmse     mape    \n",
       "1   1   2.084160 4.579301 3.026346\n",
       "2   2   2.037959 4.489061 2.972927\n",
       "3   3   1.968079 4.391375 2.884604\n",
       "4   4   1.923673 4.269769 2.803342\n",
       "5   5   1.917569 4.272107 2.794694\n",
       "6   6   1.922500 4.295827 2.807313\n",
       "7   7   1.895890 4.268259 2.779588\n",
       "8   8   1.815036 4.190170 2.652540\n",
       "9   9   1.805057 4.208668 2.639909\n",
       "10 10   1.809740 4.221597 2.650557\n",
       "11 11   1.777935 4.182535 2.595979\n",
       "12 12   1.793303 4.198147 2.625211\n",
       "13 13   1.770176 4.180568 2.579667\n",
       "14 14   1.725334 4.117581 2.513089\n",
       "15 15   1.723688 4.126026 2.504946\n",
       "16 16   1.716917 4.138296 2.491605\n",
       "17 17   1.715160 4.137033 2.483221\n",
       "18 18   1.699264 4.144697 2.454743\n",
       "19 19   1.722181 4.175344 2.498014"
      ]
     },
     "metadata": {},
     "output_type": "display_data"
    },
    {
     "data": {
      "text/html": [
       "<table>\n",
       "<caption>A data.table: 95 × 5</caption>\n",
       "<thead>\n",
       "\t<tr><th scope=col>density</th><th scope=col>%-similar-wanted</th><th scope=col>idx</th><th scope=col>output</th><th scope=col>iter</th></tr>\n",
       "\t<tr><th scope=col>&lt;dbl&gt;</th><th scope=col>&lt;dbl&gt;</th><th scope=col>&lt;int&gt;</th><th scope=col>&lt;dbl&gt;</th><th scope=col>&lt;dbl&gt;</th></tr>\n",
       "</thead>\n",
       "<tbody>\n",
       "\t<tr><td>15.58944</td><td>11.77994</td><td> 83</td><td> 81.23764</td><td>1</td></tr>\n",
       "\t<tr><td>13.42041</td><td>36.25440</td><td>311</td><td> 96.11373</td><td>1</td></tr>\n",
       "\t<tr><td>81.23824</td><td>39.67071</td><td>518</td><td> 80.72336</td><td>1</td></tr>\n",
       "\t<tr><td>13.97423</td><td>87.50010</td><td>555</td><td>100.00000</td><td>1</td></tr>\n",
       "\t<tr><td>25.86486</td><td>51.16387</td><td>607</td><td> 98.82730</td><td>1</td></tr>\n",
       "\t<tr><td>58.22955</td><td>35.47621</td><td> 13</td><td> 81.31989</td><td>2</td></tr>\n",
       "\t<tr><td>18.79723</td><td>79.67726</td><td>468</td><td> 96.29267</td><td>2</td></tr>\n",
       "\t<tr><td>43.28615</td><td>82.95672</td><td>471</td><td> 54.59197</td><td>2</td></tr>\n",
       "\t<tr><td>29.26148</td><td>78.01998</td><td>504</td><td> 82.83702</td><td>2</td></tr>\n",
       "\t<tr><td>10.84192</td><td>31.72772</td><td>581</td><td> 91.16676</td><td>2</td></tr>\n",
       "\t<tr><td>58.14809</td><td>62.95521</td><td> 21</td><td> 98.54702</td><td>3</td></tr>\n",
       "\t<tr><td>83.10812</td><td>52.04609</td><td>477</td><td> 93.79981</td><td>3</td></tr>\n",
       "\t<tr><td>75.24774</td><td>75.33341</td><td>607</td><td> 53.88134</td><td>3</td></tr>\n",
       "\t<tr><td>62.08898</td><td>53.94605</td><td>625</td><td> 95.10145</td><td>3</td></tr>\n",
       "\t<tr><td>86.47605</td><td>54.01093</td><td>656</td><td> 93.98677</td><td>3</td></tr>\n",
       "\t<tr><td>46.72137</td><td>46.67493</td><td>149</td><td> 90.16291</td><td>4</td></tr>\n",
       "\t<tr><td>53.81024</td><td>41.30175</td><td>379</td><td> 87.54724</td><td>4</td></tr>\n",
       "\t<tr><td>53.30594</td><td>65.57246</td><td>407</td><td> 98.64827</td><td>4</td></tr>\n",
       "\t<tr><td>38.80837</td><td>66.89394</td><td>644</td><td> 99.77015</td><td>4</td></tr>\n",
       "\t<tr><td>35.16704</td><td>50.19621</td><td>669</td><td> 97.88164</td><td>4</td></tr>\n",
       "\t<tr><td>15.30562</td><td>15.15585</td><td> 17</td><td> 83.57248</td><td>5</td></tr>\n",
       "\t<tr><td>55.20071</td><td>49.55104</td><td> 93</td><td> 89.20457</td><td>5</td></tr>\n",
       "\t<tr><td>36.59009</td><td>12.41078</td><td>106</td><td> 62.76671</td><td>5</td></tr>\n",
       "\t<tr><td>51.68196</td><td>26.48377</td><td>267</td><td> 72.32659</td><td>5</td></tr>\n",
       "\t<tr><td>60.81096</td><td>81.27744</td><td>445</td><td> 52.13625</td><td>5</td></tr>\n",
       "\t<tr><td>18.89679</td><td>34.16519</td><td>113</td><td> 93.42748</td><td>6</td></tr>\n",
       "\t<tr><td>87.39509</td><td>34.54069</td><td>152</td><td> 76.30911</td><td>6</td></tr>\n",
       "\t<tr><td>42.77812</td><td>53.75968</td><td>266</td><td> 96.93764</td><td>6</td></tr>\n",
       "\t<tr><td>68.78966</td><td>61.26448</td><td>603</td><td> 98.28350</td><td>6</td></tr>\n",
       "\t<tr><td>10.39393</td><td>17.20636</td><td>632</td><td> 89.94295</td><td>6</td></tr>\n",
       "\t<tr><td>...</td><td>...</td><td>...</td><td>...</td><td>...</td></tr>\n",
       "\t<tr><td>47.92501</td><td>24.76929</td><td>138</td><td>66.50478</td><td>14</td></tr>\n",
       "\t<tr><td>25.73549</td><td>58.70199</td><td>305</td><td>98.91266</td><td>14</td></tr>\n",
       "\t<tr><td>80.11843</td><td>11.24148</td><td>350</td><td>51.38967</td><td>14</td></tr>\n",
       "\t<tr><td>89.67565</td><td>52.96523</td><td>360</td><td>94.23877</td><td>14</td></tr>\n",
       "\t<tr><td>26.67383</td><td>80.69200</td><td>557</td><td>63.81121</td><td>14</td></tr>\n",
       "\t<tr><td>52.23495</td><td>21.16775</td><td> 42</td><td>65.03927</td><td>15</td></tr>\n",
       "\t<tr><td>63.82651</td><td>79.28610</td><td>203</td><td>57.97752</td><td>15</td></tr>\n",
       "\t<tr><td>69.74894</td><td>37.79711</td><td>243</td><td>80.45063</td><td>15</td></tr>\n",
       "\t<tr><td>69.07079</td><td>78.26982</td><td>347</td><td>55.84076</td><td>15</td></tr>\n",
       "\t<tr><td>22.48997</td><td>30.27819</td><td>618</td><td>82.85870</td><td>15</td></tr>\n",
       "\t<tr><td>88.70956</td><td>79.96555</td><td>287</td><td>51.71451</td><td>16</td></tr>\n",
       "\t<tr><td>22.31801</td><td>50.55006</td><td>406</td><td>99.05697</td><td>16</td></tr>\n",
       "\t<tr><td>83.37065</td><td>15.84925</td><td>427</td><td>55.00451</td><td>16</td></tr>\n",
       "\t<tr><td>89.63580</td><td>20.97521</td><td>530</td><td>56.81212</td><td>16</td></tr>\n",
       "\t<tr><td>84.66750</td><td>63.69843</td><td>577</td><td>98.12101</td><td>16</td></tr>\n",
       "\t<tr><td>26.50948</td><td>22.33165</td><td>361</td><td>73.87411</td><td>17</td></tr>\n",
       "\t<tr><td>54.45166</td><td>54.36086</td><td>424</td><td>96.03283</td><td>17</td></tr>\n",
       "\t<tr><td>59.18655</td><td>27.18449</td><td>434</td><td>69.15230</td><td>17</td></tr>\n",
       "\t<tr><td>47.67714</td><td>33.95666</td><td>461</td><td>83.91582</td><td>17</td></tr>\n",
       "\t<tr><td>89.91334</td><td>64.80711</td><td>566</td><td>97.86064</td><td>17</td></tr>\n",
       "\t<tr><td>71.57375</td><td>84.28705</td><td>150</td><td>51.27591</td><td>18</td></tr>\n",
       "\t<tr><td>75.41016</td><td>69.24051</td><td>256</td><td>99.54386</td><td>18</td></tr>\n",
       "\t<tr><td>50.33188</td><td>20.38087</td><td>428</td><td>65.77100</td><td>18</td></tr>\n",
       "\t<tr><td>73.80014</td><td>43.23221</td><td>476</td><td>87.70892</td><td>18</td></tr>\n",
       "\t<tr><td>41.72194</td><td>16.19991</td><td>612</td><td>60.59710</td><td>18</td></tr>\n",
       "\t<tr><td>72.47860</td><td>32.80387</td><td>207</td><td>72.02068</td><td>19</td></tr>\n",
       "\t<tr><td>33.09676</td><td>66.26872</td><td>210</td><td>98.91485</td><td>19</td></tr>\n",
       "\t<tr><td>80.22550</td><td>59.66944</td><td>379</td><td>96.73680</td><td>19</td></tr>\n",
       "\t<tr><td>32.15096</td><td>76.26948</td><td>411</td><td>80.63921</td><td>19</td></tr>\n",
       "\t<tr><td>77.35468</td><td>66.74709</td><td>494</td><td>99.54660</td><td>19</td></tr>\n",
       "</tbody>\n",
       "</table>\n"
      ],
      "text/latex": [
       "A data.table: 95 × 5\n",
       "\\begin{tabular}{r|lllll}\n",
       " density & \\%-similar-wanted & idx & output & iter\\\\\n",
       " <dbl> & <dbl> & <int> & <dbl> & <dbl>\\\\\n",
       "\\hline\n",
       "\t 15.58944 & 11.77994 &  83 &  81.23764 & 1\\\\\n",
       "\t 13.42041 & 36.25440 & 311 &  96.11373 & 1\\\\\n",
       "\t 81.23824 & 39.67071 & 518 &  80.72336 & 1\\\\\n",
       "\t 13.97423 & 87.50010 & 555 & 100.00000 & 1\\\\\n",
       "\t 25.86486 & 51.16387 & 607 &  98.82730 & 1\\\\\n",
       "\t 58.22955 & 35.47621 &  13 &  81.31989 & 2\\\\\n",
       "\t 18.79723 & 79.67726 & 468 &  96.29267 & 2\\\\\n",
       "\t 43.28615 & 82.95672 & 471 &  54.59197 & 2\\\\\n",
       "\t 29.26148 & 78.01998 & 504 &  82.83702 & 2\\\\\n",
       "\t 10.84192 & 31.72772 & 581 &  91.16676 & 2\\\\\n",
       "\t 58.14809 & 62.95521 &  21 &  98.54702 & 3\\\\\n",
       "\t 83.10812 & 52.04609 & 477 &  93.79981 & 3\\\\\n",
       "\t 75.24774 & 75.33341 & 607 &  53.88134 & 3\\\\\n",
       "\t 62.08898 & 53.94605 & 625 &  95.10145 & 3\\\\\n",
       "\t 86.47605 & 54.01093 & 656 &  93.98677 & 3\\\\\n",
       "\t 46.72137 & 46.67493 & 149 &  90.16291 & 4\\\\\n",
       "\t 53.81024 & 41.30175 & 379 &  87.54724 & 4\\\\\n",
       "\t 53.30594 & 65.57246 & 407 &  98.64827 & 4\\\\\n",
       "\t 38.80837 & 66.89394 & 644 &  99.77015 & 4\\\\\n",
       "\t 35.16704 & 50.19621 & 669 &  97.88164 & 4\\\\\n",
       "\t 15.30562 & 15.15585 &  17 &  83.57248 & 5\\\\\n",
       "\t 55.20071 & 49.55104 &  93 &  89.20457 & 5\\\\\n",
       "\t 36.59009 & 12.41078 & 106 &  62.76671 & 5\\\\\n",
       "\t 51.68196 & 26.48377 & 267 &  72.32659 & 5\\\\\n",
       "\t 60.81096 & 81.27744 & 445 &  52.13625 & 5\\\\\n",
       "\t 18.89679 & 34.16519 & 113 &  93.42748 & 6\\\\\n",
       "\t 87.39509 & 34.54069 & 152 &  76.30911 & 6\\\\\n",
       "\t 42.77812 & 53.75968 & 266 &  96.93764 & 6\\\\\n",
       "\t 68.78966 & 61.26448 & 603 &  98.28350 & 6\\\\\n",
       "\t 10.39393 & 17.20636 & 632 &  89.94295 & 6\\\\\n",
       "\t ... & ... & ... & ... & ...\\\\\n",
       "\t 47.92501 & 24.76929 & 138 & 66.50478 & 14\\\\\n",
       "\t 25.73549 & 58.70199 & 305 & 98.91266 & 14\\\\\n",
       "\t 80.11843 & 11.24148 & 350 & 51.38967 & 14\\\\\n",
       "\t 89.67565 & 52.96523 & 360 & 94.23877 & 14\\\\\n",
       "\t 26.67383 & 80.69200 & 557 & 63.81121 & 14\\\\\n",
       "\t 52.23495 & 21.16775 &  42 & 65.03927 & 15\\\\\n",
       "\t 63.82651 & 79.28610 & 203 & 57.97752 & 15\\\\\n",
       "\t 69.74894 & 37.79711 & 243 & 80.45063 & 15\\\\\n",
       "\t 69.07079 & 78.26982 & 347 & 55.84076 & 15\\\\\n",
       "\t 22.48997 & 30.27819 & 618 & 82.85870 & 15\\\\\n",
       "\t 88.70956 & 79.96555 & 287 & 51.71451 & 16\\\\\n",
       "\t 22.31801 & 50.55006 & 406 & 99.05697 & 16\\\\\n",
       "\t 83.37065 & 15.84925 & 427 & 55.00451 & 16\\\\\n",
       "\t 89.63580 & 20.97521 & 530 & 56.81212 & 16\\\\\n",
       "\t 84.66750 & 63.69843 & 577 & 98.12101 & 16\\\\\n",
       "\t 26.50948 & 22.33165 & 361 & 73.87411 & 17\\\\\n",
       "\t 54.45166 & 54.36086 & 424 & 96.03283 & 17\\\\\n",
       "\t 59.18655 & 27.18449 & 434 & 69.15230 & 17\\\\\n",
       "\t 47.67714 & 33.95666 & 461 & 83.91582 & 17\\\\\n",
       "\t 89.91334 & 64.80711 & 566 & 97.86064 & 17\\\\\n",
       "\t 71.57375 & 84.28705 & 150 & 51.27591 & 18\\\\\n",
       "\t 75.41016 & 69.24051 & 256 & 99.54386 & 18\\\\\n",
       "\t 50.33188 & 20.38087 & 428 & 65.77100 & 18\\\\\n",
       "\t 73.80014 & 43.23221 & 476 & 87.70892 & 18\\\\\n",
       "\t 41.72194 & 16.19991 & 612 & 60.59710 & 18\\\\\n",
       "\t 72.47860 & 32.80387 & 207 & 72.02068 & 19\\\\\n",
       "\t 33.09676 & 66.26872 & 210 & 98.91485 & 19\\\\\n",
       "\t 80.22550 & 59.66944 & 379 & 96.73680 & 19\\\\\n",
       "\t 32.15096 & 76.26948 & 411 & 80.63921 & 19\\\\\n",
       "\t 77.35468 & 66.74709 & 494 & 99.54660 & 19\\\\\n",
       "\\end{tabular}\n"
      ],
      "text/markdown": [
       "\n",
       "A data.table: 95 × 5\n",
       "\n",
       "| density &lt;dbl&gt; | %-similar-wanted &lt;dbl&gt; | idx &lt;int&gt; | output &lt;dbl&gt; | iter &lt;dbl&gt; |\n",
       "|---|---|---|---|---|\n",
       "| 15.58944 | 11.77994 |  83 |  81.23764 | 1 |\n",
       "| 13.42041 | 36.25440 | 311 |  96.11373 | 1 |\n",
       "| 81.23824 | 39.67071 | 518 |  80.72336 | 1 |\n",
       "| 13.97423 | 87.50010 | 555 | 100.00000 | 1 |\n",
       "| 25.86486 | 51.16387 | 607 |  98.82730 | 1 |\n",
       "| 58.22955 | 35.47621 |  13 |  81.31989 | 2 |\n",
       "| 18.79723 | 79.67726 | 468 |  96.29267 | 2 |\n",
       "| 43.28615 | 82.95672 | 471 |  54.59197 | 2 |\n",
       "| 29.26148 | 78.01998 | 504 |  82.83702 | 2 |\n",
       "| 10.84192 | 31.72772 | 581 |  91.16676 | 2 |\n",
       "| 58.14809 | 62.95521 |  21 |  98.54702 | 3 |\n",
       "| 83.10812 | 52.04609 | 477 |  93.79981 | 3 |\n",
       "| 75.24774 | 75.33341 | 607 |  53.88134 | 3 |\n",
       "| 62.08898 | 53.94605 | 625 |  95.10145 | 3 |\n",
       "| 86.47605 | 54.01093 | 656 |  93.98677 | 3 |\n",
       "| 46.72137 | 46.67493 | 149 |  90.16291 | 4 |\n",
       "| 53.81024 | 41.30175 | 379 |  87.54724 | 4 |\n",
       "| 53.30594 | 65.57246 | 407 |  98.64827 | 4 |\n",
       "| 38.80837 | 66.89394 | 644 |  99.77015 | 4 |\n",
       "| 35.16704 | 50.19621 | 669 |  97.88164 | 4 |\n",
       "| 15.30562 | 15.15585 |  17 |  83.57248 | 5 |\n",
       "| 55.20071 | 49.55104 |  93 |  89.20457 | 5 |\n",
       "| 36.59009 | 12.41078 | 106 |  62.76671 | 5 |\n",
       "| 51.68196 | 26.48377 | 267 |  72.32659 | 5 |\n",
       "| 60.81096 | 81.27744 | 445 |  52.13625 | 5 |\n",
       "| 18.89679 | 34.16519 | 113 |  93.42748 | 6 |\n",
       "| 87.39509 | 34.54069 | 152 |  76.30911 | 6 |\n",
       "| 42.77812 | 53.75968 | 266 |  96.93764 | 6 |\n",
       "| 68.78966 | 61.26448 | 603 |  98.28350 | 6 |\n",
       "| 10.39393 | 17.20636 | 632 |  89.94295 | 6 |\n",
       "| ... | ... | ... | ... | ... |\n",
       "| 47.92501 | 24.76929 | 138 | 66.50478 | 14 |\n",
       "| 25.73549 | 58.70199 | 305 | 98.91266 | 14 |\n",
       "| 80.11843 | 11.24148 | 350 | 51.38967 | 14 |\n",
       "| 89.67565 | 52.96523 | 360 | 94.23877 | 14 |\n",
       "| 26.67383 | 80.69200 | 557 | 63.81121 | 14 |\n",
       "| 52.23495 | 21.16775 |  42 | 65.03927 | 15 |\n",
       "| 63.82651 | 79.28610 | 203 | 57.97752 | 15 |\n",
       "| 69.74894 | 37.79711 | 243 | 80.45063 | 15 |\n",
       "| 69.07079 | 78.26982 | 347 | 55.84076 | 15 |\n",
       "| 22.48997 | 30.27819 | 618 | 82.85870 | 15 |\n",
       "| 88.70956 | 79.96555 | 287 | 51.71451 | 16 |\n",
       "| 22.31801 | 50.55006 | 406 | 99.05697 | 16 |\n",
       "| 83.37065 | 15.84925 | 427 | 55.00451 | 16 |\n",
       "| 89.63580 | 20.97521 | 530 | 56.81212 | 16 |\n",
       "| 84.66750 | 63.69843 | 577 | 98.12101 | 16 |\n",
       "| 26.50948 | 22.33165 | 361 | 73.87411 | 17 |\n",
       "| 54.45166 | 54.36086 | 424 | 96.03283 | 17 |\n",
       "| 59.18655 | 27.18449 | 434 | 69.15230 | 17 |\n",
       "| 47.67714 | 33.95666 | 461 | 83.91582 | 17 |\n",
       "| 89.91334 | 64.80711 | 566 | 97.86064 | 17 |\n",
       "| 71.57375 | 84.28705 | 150 | 51.27591 | 18 |\n",
       "| 75.41016 | 69.24051 | 256 | 99.54386 | 18 |\n",
       "| 50.33188 | 20.38087 | 428 | 65.77100 | 18 |\n",
       "| 73.80014 | 43.23221 | 476 | 87.70892 | 18 |\n",
       "| 41.72194 | 16.19991 | 612 | 60.59710 | 18 |\n",
       "| 72.47860 | 32.80387 | 207 | 72.02068 | 19 |\n",
       "| 33.09676 | 66.26872 | 210 | 98.91485 | 19 |\n",
       "| 80.22550 | 59.66944 | 379 | 96.73680 | 19 |\n",
       "| 32.15096 | 76.26948 | 411 | 80.63921 | 19 |\n",
       "| 77.35468 | 66.74709 | 494 | 99.54660 | 19 |\n",
       "\n"
      ],
      "text/plain": [
       "    density  %-similar-wanted idx output    iter\n",
       "1   15.58944 11.77994          83  81.23764 1   \n",
       "2   13.42041 36.25440         311  96.11373 1   \n",
       "3   81.23824 39.67071         518  80.72336 1   \n",
       "4   13.97423 87.50010         555 100.00000 1   \n",
       "5   25.86486 51.16387         607  98.82730 1   \n",
       "6   58.22955 35.47621          13  81.31989 2   \n",
       "7   18.79723 79.67726         468  96.29267 2   \n",
       "8   43.28615 82.95672         471  54.59197 2   \n",
       "9   29.26148 78.01998         504  82.83702 2   \n",
       "10  10.84192 31.72772         581  91.16676 2   \n",
       "11  58.14809 62.95521          21  98.54702 3   \n",
       "12  83.10812 52.04609         477  93.79981 3   \n",
       "13  75.24774 75.33341         607  53.88134 3   \n",
       "14  62.08898 53.94605         625  95.10145 3   \n",
       "15  86.47605 54.01093         656  93.98677 3   \n",
       "16  46.72137 46.67493         149  90.16291 4   \n",
       "17  53.81024 41.30175         379  87.54724 4   \n",
       "18  53.30594 65.57246         407  98.64827 4   \n",
       "19  38.80837 66.89394         644  99.77015 4   \n",
       "20  35.16704 50.19621         669  97.88164 4   \n",
       "21  15.30562 15.15585          17  83.57248 5   \n",
       "22  55.20071 49.55104          93  89.20457 5   \n",
       "23  36.59009 12.41078         106  62.76671 5   \n",
       "24  51.68196 26.48377         267  72.32659 5   \n",
       "25  60.81096 81.27744         445  52.13625 5   \n",
       "26  18.89679 34.16519         113  93.42748 6   \n",
       "27  87.39509 34.54069         152  76.30911 6   \n",
       "28  42.77812 53.75968         266  96.93764 6   \n",
       "29  68.78966 61.26448         603  98.28350 6   \n",
       "30  10.39393 17.20636         632  89.94295 6   \n",
       "... ...      ...              ... ...       ... \n",
       "66  47.92501 24.76929         138 66.50478  14  \n",
       "67  25.73549 58.70199         305 98.91266  14  \n",
       "68  80.11843 11.24148         350 51.38967  14  \n",
       "69  89.67565 52.96523         360 94.23877  14  \n",
       "70  26.67383 80.69200         557 63.81121  14  \n",
       "71  52.23495 21.16775          42 65.03927  15  \n",
       "72  63.82651 79.28610         203 57.97752  15  \n",
       "73  69.74894 37.79711         243 80.45063  15  \n",
       "74  69.07079 78.26982         347 55.84076  15  \n",
       "75  22.48997 30.27819         618 82.85870  15  \n",
       "76  88.70956 79.96555         287 51.71451  16  \n",
       "77  22.31801 50.55006         406 99.05697  16  \n",
       "78  83.37065 15.84925         427 55.00451  16  \n",
       "79  89.63580 20.97521         530 56.81212  16  \n",
       "80  84.66750 63.69843         577 98.12101  16  \n",
       "81  26.50948 22.33165         361 73.87411  17  \n",
       "82  54.45166 54.36086         424 96.03283  17  \n",
       "83  59.18655 27.18449         434 69.15230  17  \n",
       "84  47.67714 33.95666         461 83.91582  17  \n",
       "85  89.91334 64.80711         566 97.86064  17  \n",
       "86  71.57375 84.28705         150 51.27591  18  \n",
       "87  75.41016 69.24051         256 99.54386  18  \n",
       "88  50.33188 20.38087         428 65.77100  18  \n",
       "89  73.80014 43.23221         476 87.70892  18  \n",
       "90  41.72194 16.19991         612 60.59710  18  \n",
       "91  72.47860 32.80387         207 72.02068  19  \n",
       "92  33.09676 66.26872         210 98.91485  19  \n",
       "93  80.22550 59.66944         379 96.73680  19  \n",
       "94  32.15096 76.26948         411 80.63921  19  \n",
       "95  77.35468 66.74709         494 99.54660  19  "
      ]
     },
     "metadata": {},
     "output_type": "display_data"
    },
    {
     "ename": "ERROR",
     "evalue": "Error in head(predictedLabels_table_rd): object 'predictedLabels_table_rd' not found\n",
     "output_type": "error",
     "traceback": [
      "Error in head(predictedLabels_table_rd): object 'predictedLabels_table_rd' not found\nTraceback:\n",
      "1. head(predictedLabels_table_rd)"
     ]
    }
   ],
   "source": [
    "# show results\n",
    "nrow(FinalTrainData_Rd)\n",
    "performance_table_Rd \n",
    "train_candidates_table_Rd  \n",
    "head(predictedLabels_table_Rd)\n",
    "obb_error_Rd"
   ]
  },
  {
   "cell_type": "code",
   "execution_count": 78,
   "metadata": {},
   "outputs": [
    {
     "data": {
      "image/png": "[encoded data removed]",
      "text/plain": [
       "plot without title"
      ]
     },
     "metadata": {},
     "output_type": "display_data"
    }
   ],
   "source": [
    "performance_molten_Rd <- melt(data = performance_table_Rd\n",
    "                             , id.vars = 'iter')\n",
    "setnames(performance_molten_Rd, c(\"variable\",\"value\"),c(\"errortype\",\"errorvalue\"))\n",
    "p_Rd = ggplot(performance_molten_Rd, aes(x = iter, y = errorvalue, group=errortype, col=errortype)) + \n",
    "          geom_line(lwd=1)\n",
    "p_Rd"
   ]
  },
  {
   "cell_type": "markdown",
   "metadata": {},
   "source": [
    "# Adaptive Sampling & No Feature Elimination"
   ]
  },
  {
   "cell_type": "markdown",
   "metadata": {},
   "source": [
    "## Generate Training Set"
   ]
  },
  {
   "cell_type": "markdown",
   "metadata": {},
   "source": [
    "Select a relatively big data pool ( nofinstances should be medium) , like 400"
   ]
  },
  {
   "cell_type": "code",
   "execution_count": 37,
   "metadata": {},
   "outputs": [],
   "source": [
    "if(GenerateTTData == 1){\n",
    "   \n",
    "    LHSample_Ad = as.data.table(maximinLHS(n = train_ins_Ad, k = nofparams, dup = 5))\n",
    "    \n",
    "    LHSample_Ad$V1 = qunif(LHSample_Ad$V1, 10, 90) \n",
    "    LHSample_Ad$V2 = qunif(LHSample_Ad$V2, 10, 90) \n",
    "    setnames(LHSample_Ad, c(\"V1\",\"V2\"), feature_names)\n",
    "    LHSample_Ad$output <- 0.00\n",
    "    \n",
    "    paste0(\"ABM run start time : \",Sys.time())\n",
    "    LHSample_Ad = run_ABM(nofrep,train_ins_Ad,LHSample_Ad) %>% as.data.table()\n",
    "    paste0(\"ABM run end time : \",Sys.time())\n",
    "    \n",
    "    fwrite(LHSample_Ad, paste0(\"C:/Users/paslanpatir/Desktop/TEZ_v2/LHSample_Ad_Data\",Sys.Date(),\".csv\"))\n",
    "\n",
    "}else{\n",
    "    LHSample_Ad <- fread(\"C:/Users/paslanpatir/Desktop/TEZ_v2/LHSample_Ad_Data_04122019.csv\")\n",
    "    LHSample_Ad <- head(LHSample_Ad[`%-similar-wanted` < 90  & `density` < 90],200)\n",
    "\n",
    "}"
   ]
  },
  {
   "cell_type": "markdown",
   "metadata": {},
   "source": [
    "### Visualization"
   ]
  },
  {
   "cell_type": "code",
   "execution_count": 38,
   "metadata": {},
   "outputs": [],
   "source": [
    "pca_LHSample_Ad <- princomp(LHSample_Ad[,-c(\"output\")], cor = TRUE, scores = TRUE)"
   ]
  },
  {
   "cell_type": "code",
   "execution_count": 39,
   "metadata": {},
   "outputs": [
    {
     "data": {
      "image/png": "[encoded data removed]",
      "text/plain": [
       "plot without title"
      ]
     },
     "metadata": {},
     "output_type": "display_data"
    }
   ],
   "source": [
    "#fviz_pca_ind(pca_LHSample,\n",
    "#             col.ind = \"cos2\", # Color by the quality of representation\n",
    "#             gradient.cols = c(\"#00AFBB\", \"#E7B800\", \"#FC4E07\"),\n",
    "#              geom=\"point\"\n",
    "#             )\n",
    "\n",
    "pca_LHSample_Ad_components <- get_pca_ind(pca_LHSample_Ad)\n",
    "pca_LHSample_Ad_components <-cbind(pca_LHSample_Ad_components$coord[,1:2],LHSample_Ad[,c(\"output\")])\n",
    "p_LHSample_Ad <- ggplot(data = pca_LHSample_Ad_components, aes(x = Dim.1, y = Dim.2)) +\n",
    "                     geom_point(aes(colour = output)) +\n",
    "                     labs( title = \"\", legend = \"output\") \n",
    "p_LHSample_Ad"
   ]
  },
  {
   "cell_type": "markdown",
   "metadata": {},
   "source": [
    "## Train & Test Metamodel"
   ]
  },
  {
   "cell_type": "code",
   "execution_count": 40,
   "metadata": {},
   "outputs": [],
   "source": [
    "# Record train candidates\n",
    "train_candidates_table = matrix(c(1:ncol(LHSample_Ad) ), nrow = 0, ncol = ncol(LHSample_Ad) )\n",
    "colnames(train_candidates_table) <- colnames(LHSample_Ad)\n",
    "colnames(train_candidates_table)[colnames(train_candidates_table) == \"output\"] <- \"idx\"\n",
    "\n",
    "# Record model performances\n",
    "performance_table = data.table(iter = numeric(), mae= numeric(),rmse= numeric(), mape = numeric()  )\n",
    "\n",
    "#error_type = \"mape\"  \n",
    "predictedLabels_table = copy(test_set)"
   ]
  },
  {
   "cell_type": "code",
   "execution_count": 58,
   "metadata": {},
   "outputs": [
    {
     "name": "stdout",
     "output_type": "stream",
     "text": [
      "[1] \"2019-12-20 01:38:28 +03\"\n",
      "[1] 1\n",
      "[1] \"ABM train_candidate run start time : 2019-12-20 01:38:29\"\n",
      "[1] \"ABM train_candidate run end time : 2019-12-20 01:40:48\"\n",
      "[1] 2\n",
      "[1] \"ABM train_candidate run start time : 2019-12-20 01:40:48\"\n",
      "[1] \"ABM train_candidate run end time : 2019-12-20 01:43:48\"\n",
      "[1] 3\n",
      "[1] \"ABM train_candidate run start time : 2019-12-20 01:43:48\"\n",
      "[1] \"ABM train_candidate run end time : 2019-12-20 01:46:47\"\n",
      "[1] 4\n",
      "[1] \"ABM train_candidate run start time : 2019-12-20 01:46:48\"\n",
      "[1] \"ABM train_candidate run end time : 2019-12-20 01:49:45\"\n",
      "[1] 5\n",
      "[1] \"ABM train_candidate run start time : 2019-12-20 01:49:45\"\n",
      "[1] \"ABM train_candidate run end time : 2019-12-20 01:51:12\"\n",
      "[1] 6\n",
      "[1] \"ABM train_candidate run start time : 2019-12-20 01:51:13\"\n",
      "[1] \"ABM train_candidate run end time : 2019-12-20 01:54:12\"\n",
      "[1] 7\n",
      "[1] \"ABM train_candidate run start time : 2019-12-20 01:54:13\"\n",
      "[1] \"ABM train_candidate run end time : 2019-12-20 01:56:42\"\n",
      "[1] 8\n",
      "[1] \"ABM train_candidate run start time : 2019-12-20 01:56:42\"\n",
      "[1] \"ABM train_candidate run end time : 2019-12-20 02:00:08\"\n",
      "[1] 9\n",
      "[1] \"ABM train_candidate run start time : 2019-12-20 02:00:09\"\n",
      "[1] \"ABM train_candidate run end time : 2019-12-20 02:02:12\"\n",
      "[1] 10\n",
      "[1] \"ABM train_candidate run start time : 2019-12-20 02:02:12\"\n",
      "[1] \"ABM train_candidate run end time : 2019-12-20 02:02:42\"\n",
      "[1] 11\n",
      "[1] \"ABM train_candidate run start time : 2019-12-20 02:02:43\"\n",
      "[1] \"ABM train_candidate run end time : 2019-12-20 02:03:22\"\n",
      "[1] 12\n",
      "[1] \"ABM train_candidate run start time : 2019-12-20 02:03:23\"\n",
      "[1] \"ABM train_candidate run end time : 2019-12-20 02:03:55\"\n",
      "[1] 13\n",
      "[1] \"ABM train_candidate run start time : 2019-12-20 02:03:55\"\n",
      "[1] \"ABM train_candidate run end time : 2019-12-20 02:04:20\"\n",
      "[1] 14\n",
      "[1] \"ABM train_candidate run start time : 2019-12-20 02:04:20\"\n",
      "[1] \"ABM train_candidate run end time : 2019-12-20 02:05:01\"\n",
      "[1] 15\n",
      "[1] \"ABM train_candidate run start time : 2019-12-20 02:05:02\"\n",
      "[1] \"ABM train_candidate run end time : 2019-12-20 02:05:40\"\n",
      "[1] 16\n",
      "[1] \"ABM train_candidate run start time : 2019-12-20 02:05:40\"\n",
      "[1] \"ABM train_candidate run end time : 2019-12-20 02:06:21\"\n",
      "[1] 17\n",
      "[1] \"ABM train_candidate run start time : 2019-12-20 02:06:22\"\n",
      "[1] \"ABM train_candidate run end time : 2019-12-20 02:07:25\"\n",
      "[1] 18\n",
      "[1] \"ABM train_candidate run start time : 2019-12-20 02:07:25\"\n",
      "[1] \"ABM train_candidate run end time : 2019-12-20 02:07:50\"\n",
      "[1] 19\n",
      "[1] \"ABM train_candidate run start time : 2019-12-20 02:07:51\"\n",
      "[1] \"ABM train_candidate run end time : 2019-12-20 02:08:19\"\n",
      "[1] \"2019-12-20 02:08:19 +03\"\n"
     ]
    }
   ],
   "source": [
    "\n",
    "iter = 1\n",
    "\n",
    "print(Sys.time())\n",
    "while(iter < 20){ \n",
    "    \n",
    "    print(iter)\n",
    "\n",
    "    trainx = LHSample_Ad[,.SD, .SDcols = feature_names]\n",
    "    trainy = LHSample_Ad$output\n",
    "    \n",
    "    # Train the model\n",
    "    model_Sub <- randomForest( x = trainx, y =  trainy,importance = TRUE,ntree = ntree, mtry = mtry)\n",
    "    assign(paste0(\"model_Sub_\",iter),model_Sub)\n",
    "    \n",
    "     if(iter == 1){ # keep just as info\n",
    "         ranked_features = get_variable_importance(model_Sub)\n",
    "     }                      \n",
    "         \n",
    "    \n",
    "    if(iter == 1){\n",
    "        obb_error <- as.data.table(obb_error_func(model_Sub)) \n",
    "        obb_error$iter <- 1 \n",
    "        setnames(obb_error,\"V1\",\"obb_error\")\n",
    "    }else{\n",
    "         ## OOB Error & Test Error \n",
    "        obb_error_Sub <- as.data.table(obb_error_func(model_Sub)) \n",
    "        obb_error_Sub$iter <- iter \n",
    "        obb_error <- rbind(obb_error,obb_error_Sub, use.names = FALSE)\n",
    "        rm(obb_error_Sub)\n",
    "    }\n",
    " \n",
    "    # test the model on test set\n",
    "    test_predictions_Sub = get_test_predictions(model_Sub,test_set,error_type)\n",
    "    predictedLabels_Sub = test_predictions_Sub[[1]]\n",
    "    setnames(predictedLabels_Sub,c(\"pred_output\",error_type), c(paste0(\"pred_output_\",iter),paste0(error_type,\"_\",iter)))    \n",
    "    predictedLabels_table = cbind(predictedLabels_table,predictedLabels_Sub[,.SD, .SDcols = c(paste0(\"pred_output_\",iter),paste0(error_type,\"_\",iter))])\n",
    "    \n",
    "    # record the general test errors\n",
    "    performance_table_temp = test_predictions_Sub[[2]]\n",
    "    performance_table_temp[[1]] = iter\n",
    "    performance_table = rbind(performance_table,performance_table_temp, use.names = FALSE)\n",
    "    rm(performance_table_temp)   \n",
    "    \n",
    "    output_variables = test_predictions_Sub[[3]]          \n",
    "\n",
    "    # Sample from unlabeled data\n",
    "    unlabeled_set <- copy(unlabeled_pool)\n",
    "    train_candidates = sample_selection(selected_ins,unlabeled_set,trainx,trainy)\n",
    "    # Eliminate train candidates from the unlabeled pool\n",
    "    unlabeled_pool = unlabeled_pool[- train_candidates$idx]\n",
    "    rm(unlabeled_set)\n",
    "    \n",
    "    # Run ABM to label train candidates\n",
    "#  train_candidates = as.data.table(train_candidates) \n",
    "    print(paste0(\"ABM train_candidate run start time : \",Sys.time()))\n",
    "    train_candidates = run_ABM(nofrep,selected_ins,train_candidates)\n",
    "    print(paste0(\"ABM train_candidate run end time : \",Sys.time()))\n",
    "    \n",
    "    if(iter == 1){\n",
    "        train_candidates_table <- copy(train_candidates)\n",
    "        train_candidates_table$iter <- iter\n",
    "    }else{\n",
    "        train_candidates_temp <- copy(train_candidates)\n",
    "        train_candidates_temp$iter <- iter\n",
    "        \n",
    "        train_candidates_table <- rbindlist(list(train_candidates_table,train_candidates_temp), use.names=TRUE)\n",
    "        rm(train_candidates_temp)\n",
    "    }\n",
    "\n",
    "    # Add new data to train data\n",
    "    LHSample_Ad = rbind(LHSample_Ad,train_candidates[,-c(\"idx\")])\n",
    "\n",
    "    iter = iter + 1\n",
    "}\n",
    "print(Sys.time())\n",
    "# plot koy her iteration'da göstersin.\n",
    "#setcolorder(data,variableorder) ################# bunu bi yerlere koyman gerekebilir, dikkat!!\n"
   ]
  },
  {
   "cell_type": "code",
   "execution_count": 59,
   "metadata": {},
   "outputs": [],
   "source": [
    "# Final records\n",
    "FinalTrainData_Ad = copy(LHSample_Ad)\n",
    "performance_table_Ad = copy(performance_table)\n",
    "train_candidates_table_Ad  = copy(train_candidates_table)\n",
    "predictedLabels_table_Ad = copy(predictedLabels_table)\n",
    "obb_error_Ad = copy(obb_error)"
   ]
  },
  {
   "cell_type": "code",
   "execution_count": 60,
   "metadata": {},
   "outputs": [
    {
     "data": {
      "text/html": [
       "295"
      ],
      "text/latex": [
       "295"
      ],
      "text/markdown": [
       "295"
      ],
      "text/plain": [
       "[1] 295"
      ]
     },
     "metadata": {},
     "output_type": "display_data"
    },
    {
     "data": {
      "text/html": [
       "<table>\n",
       "<caption>A data.table: 23 × 4</caption>\n",
       "<thead>\n",
       "\t<tr><th scope=col>iter</th><th scope=col>mae</th><th scope=col>rmse</th><th scope=col>mape</th></tr>\n",
       "\t<tr><th scope=col>&lt;dbl&gt;</th><th scope=col>&lt;dbl&gt;</th><th scope=col>&lt;dbl&gt;</th><th scope=col>&lt;dbl&gt;</th></tr>\n",
       "</thead>\n",
       "<tbody>\n",
       "\t<tr><td> 1</td><td>2.069660</td><td>4.545770</td><td>3.010989</td></tr>\n",
       "\t<tr><td> 1</td><td>2.059291</td><td>4.550752</td><td>2.997442</td></tr>\n",
       "\t<tr><td> 1</td><td>2.038493</td><td>4.495720</td><td>2.958968</td></tr>\n",
       "\t<tr><td> 1</td><td>2.085033</td><td>4.565746</td><td>3.028217</td></tr>\n",
       "\t<tr><td> 1</td><td>2.082917</td><td>4.547625</td><td>3.029866</td></tr>\n",
       "\t<tr><td> 2</td><td>2.012590</td><td>4.491908</td><td>2.972430</td></tr>\n",
       "\t<tr><td> 3</td><td>1.893994</td><td>4.297459</td><td>2.758255</td></tr>\n",
       "\t<tr><td> 4</td><td>1.832126</td><td>4.241877</td><td>2.665298</td></tr>\n",
       "\t<tr><td> 5</td><td>1.837146</td><td>4.223707</td><td>2.683168</td></tr>\n",
       "\t<tr><td> 6</td><td>1.790455</td><td>4.117193</td><td>2.640601</td></tr>\n",
       "\t<tr><td> 7</td><td>1.782507</td><td>4.173949</td><td>2.613123</td></tr>\n",
       "\t<tr><td> 8</td><td>1.726764</td><td>3.896000</td><td>2.502354</td></tr>\n",
       "\t<tr><td> 9</td><td>1.674778</td><td>3.942876</td><td>2.452638</td></tr>\n",
       "\t<tr><td>10</td><td>1.613970</td><td>3.736849</td><td>2.356217</td></tr>\n",
       "\t<tr><td>11</td><td>1.597621</td><td>3.728757</td><td>2.337329</td></tr>\n",
       "\t<tr><td>12</td><td>1.611855</td><td>3.735498</td><td>2.366997</td></tr>\n",
       "\t<tr><td>13</td><td>1.604961</td><td>3.736034</td><td>2.350168</td></tr>\n",
       "\t<tr><td>14</td><td>1.533693</td><td>3.667389</td><td>2.257875</td></tr>\n",
       "\t<tr><td>15</td><td>1.524121</td><td>3.653089</td><td>2.239675</td></tr>\n",
       "\t<tr><td>16</td><td>1.512962</td><td>3.628993</td><td>2.225135</td></tr>\n",
       "\t<tr><td>17</td><td>1.501571</td><td>3.655631</td><td>2.207644</td></tr>\n",
       "\t<tr><td>18</td><td>1.496463</td><td>3.670678</td><td>2.196357</td></tr>\n",
       "\t<tr><td>19</td><td>1.481211</td><td>3.647944</td><td>2.180274</td></tr>\n",
       "</tbody>\n",
       "</table>\n"
      ],
      "text/latex": [
       "A data.table: 23 × 4\n",
       "\\begin{tabular}{r|llll}\n",
       " iter & mae & rmse & mape\\\\\n",
       " <dbl> & <dbl> & <dbl> & <dbl>\\\\\n",
       "\\hline\n",
       "\t  1 & 2.069660 & 4.545770 & 3.010989\\\\\n",
       "\t  1 & 2.059291 & 4.550752 & 2.997442\\\\\n",
       "\t  1 & 2.038493 & 4.495720 & 2.958968\\\\\n",
       "\t  1 & 2.085033 & 4.565746 & 3.028217\\\\\n",
       "\t  1 & 2.082917 & 4.547625 & 3.029866\\\\\n",
       "\t  2 & 2.012590 & 4.491908 & 2.972430\\\\\n",
       "\t  3 & 1.893994 & 4.297459 & 2.758255\\\\\n",
       "\t  4 & 1.832126 & 4.241877 & 2.665298\\\\\n",
       "\t  5 & 1.837146 & 4.223707 & 2.683168\\\\\n",
       "\t  6 & 1.790455 & 4.117193 & 2.640601\\\\\n",
       "\t  7 & 1.782507 & 4.173949 & 2.613123\\\\\n",
       "\t  8 & 1.726764 & 3.896000 & 2.502354\\\\\n",
       "\t  9 & 1.674778 & 3.942876 & 2.452638\\\\\n",
       "\t 10 & 1.613970 & 3.736849 & 2.356217\\\\\n",
       "\t 11 & 1.597621 & 3.728757 & 2.337329\\\\\n",
       "\t 12 & 1.611855 & 3.735498 & 2.366997\\\\\n",
       "\t 13 & 1.604961 & 3.736034 & 2.350168\\\\\n",
       "\t 14 & 1.533693 & 3.667389 & 2.257875\\\\\n",
       "\t 15 & 1.524121 & 3.653089 & 2.239675\\\\\n",
       "\t 16 & 1.512962 & 3.628993 & 2.225135\\\\\n",
       "\t 17 & 1.501571 & 3.655631 & 2.207644\\\\\n",
       "\t 18 & 1.496463 & 3.670678 & 2.196357\\\\\n",
       "\t 19 & 1.481211 & 3.647944 & 2.180274\\\\\n",
       "\\end{tabular}\n"
      ],
      "text/markdown": [
       "\n",
       "A data.table: 23 × 4\n",
       "\n",
       "| iter &lt;dbl&gt; | mae &lt;dbl&gt; | rmse &lt;dbl&gt; | mape &lt;dbl&gt; |\n",
       "|---|---|---|---|\n",
       "|  1 | 2.069660 | 4.545770 | 3.010989 |\n",
       "|  1 | 2.059291 | 4.550752 | 2.997442 |\n",
       "|  1 | 2.038493 | 4.495720 | 2.958968 |\n",
       "|  1 | 2.085033 | 4.565746 | 3.028217 |\n",
       "|  1 | 2.082917 | 4.547625 | 3.029866 |\n",
       "|  2 | 2.012590 | 4.491908 | 2.972430 |\n",
       "|  3 | 1.893994 | 4.297459 | 2.758255 |\n",
       "|  4 | 1.832126 | 4.241877 | 2.665298 |\n",
       "|  5 | 1.837146 | 4.223707 | 2.683168 |\n",
       "|  6 | 1.790455 | 4.117193 | 2.640601 |\n",
       "|  7 | 1.782507 | 4.173949 | 2.613123 |\n",
       "|  8 | 1.726764 | 3.896000 | 2.502354 |\n",
       "|  9 | 1.674778 | 3.942876 | 2.452638 |\n",
       "| 10 | 1.613970 | 3.736849 | 2.356217 |\n",
       "| 11 | 1.597621 | 3.728757 | 2.337329 |\n",
       "| 12 | 1.611855 | 3.735498 | 2.366997 |\n",
       "| 13 | 1.604961 | 3.736034 | 2.350168 |\n",
       "| 14 | 1.533693 | 3.667389 | 2.257875 |\n",
       "| 15 | 1.524121 | 3.653089 | 2.239675 |\n",
       "| 16 | 1.512962 | 3.628993 | 2.225135 |\n",
       "| 17 | 1.501571 | 3.655631 | 2.207644 |\n",
       "| 18 | 1.496463 | 3.670678 | 2.196357 |\n",
       "| 19 | 1.481211 | 3.647944 | 2.180274 |\n",
       "\n"
      ],
      "text/plain": [
       "   iter mae      rmse     mape    \n",
       "1   1   2.069660 4.545770 3.010989\n",
       "2   1   2.059291 4.550752 2.997442\n",
       "3   1   2.038493 4.495720 2.958968\n",
       "4   1   2.085033 4.565746 3.028217\n",
       "5   1   2.082917 4.547625 3.029866\n",
       "6   2   2.012590 4.491908 2.972430\n",
       "7   3   1.893994 4.297459 2.758255\n",
       "8   4   1.832126 4.241877 2.665298\n",
       "9   5   1.837146 4.223707 2.683168\n",
       "10  6   1.790455 4.117193 2.640601\n",
       "11  7   1.782507 4.173949 2.613123\n",
       "12  8   1.726764 3.896000 2.502354\n",
       "13  9   1.674778 3.942876 2.452638\n",
       "14 10   1.613970 3.736849 2.356217\n",
       "15 11   1.597621 3.728757 2.337329\n",
       "16 12   1.611855 3.735498 2.366997\n",
       "17 13   1.604961 3.736034 2.350168\n",
       "18 14   1.533693 3.667389 2.257875\n",
       "19 15   1.524121 3.653089 2.239675\n",
       "20 16   1.512962 3.628993 2.225135\n",
       "21 17   1.501571 3.655631 2.207644\n",
       "22 18   1.496463 3.670678 2.196357\n",
       "23 19   1.481211 3.647944 2.180274"
      ]
     },
     "metadata": {},
     "output_type": "display_data"
    },
    {
     "data": {
      "text/html": [
       "<table>\n",
       "<caption>A data.table: 95 × 5</caption>\n",
       "<thead>\n",
       "\t<tr><th scope=col>density</th><th scope=col>%-similar-wanted</th><th scope=col>idx</th><th scope=col>output</th><th scope=col>iter</th></tr>\n",
       "\t<tr><th scope=col>&lt;dbl&gt;</th><th scope=col>&lt;dbl&gt;</th><th scope=col>&lt;int&gt;</th><th scope=col>&lt;dbl&gt;</th><th scope=col>&lt;dbl&gt;</th></tr>\n",
       "</thead>\n",
       "<tbody>\n",
       "\t<tr><td>52.51502</td><td>74.99535</td><td>121</td><td>99.79272</td><td>1</td></tr>\n",
       "\t<tr><td>66.32434</td><td>74.85613</td><td>172</td><td>99.66249</td><td>1</td></tr>\n",
       "\t<tr><td>79.18638</td><td>74.59114</td><td>449</td><td>80.98941</td><td>1</td></tr>\n",
       "\t<tr><td>38.04839</td><td>74.89497</td><td>239</td><td>99.72754</td><td>1</td></tr>\n",
       "\t<tr><td>17.79868</td><td>75.83541</td><td>211</td><td>99.94269</td><td>1</td></tr>\n",
       "\t<tr><td>54.75810</td><td>76.58287</td><td>264</td><td>63.93182</td><td>2</td></tr>\n",
       "\t<tr><td>61.35303</td><td>75.38737</td><td>150</td><td>57.66862</td><td>2</td></tr>\n",
       "\t<tr><td>57.48774</td><td>75.70978</td><td>274</td><td>61.30243</td><td>2</td></tr>\n",
       "\t<tr><td>63.69882</td><td>76.08750</td><td>234</td><td>57.78966</td><td>2</td></tr>\n",
       "\t<tr><td>51.83401</td><td>77.29802</td><td>505</td><td>65.60883</td><td>2</td></tr>\n",
       "\t<tr><td>21.60726</td><td>85.95121</td><td>359</td><td>74.82609</td><td>3</td></tr>\n",
       "\t<tr><td>22.23156</td><td>89.17194</td><td>481</td><td>72.80657</td><td>3</td></tr>\n",
       "\t<tr><td>23.96343</td><td>87.89434</td><td> 75</td><td>70.26637</td><td>3</td></tr>\n",
       "\t<tr><td>25.23382</td><td>89.59882</td><td>300</td><td>63.69349</td><td>3</td></tr>\n",
       "\t<tr><td>20.98484</td><td>80.97271</td><td>157</td><td>79.30219</td><td>3</td></tr>\n",
       "\t<tr><td>41.29254</td><td>75.91780</td><td>535</td><td>77.08147</td><td>4</td></tr>\n",
       "\t<tr><td>18.66068</td><td>86.56811</td><td> 36</td><td>85.89560</td><td>4</td></tr>\n",
       "\t<tr><td>17.95568</td><td>88.87073</td><td>589</td><td>89.92731</td><td>4</td></tr>\n",
       "\t<tr><td>20.37012</td><td>75.14078</td><td>448</td><td>92.95109</td><td>4</td></tr>\n",
       "\t<tr><td>35.43042</td><td>77.53684</td><td>540</td><td>80.27429</td><td>4</td></tr>\n",
       "\t<tr><td>33.83885</td><td>79.30846</td><td>158</td><td>81.53446</td><td>5</td></tr>\n",
       "\t<tr><td>41.83807</td><td>78.67310</td><td>148</td><td>77.06271</td><td>5</td></tr>\n",
       "\t<tr><td>12.27218</td><td>12.10815</td><td> 18</td><td>87.40860</td><td>5</td></tr>\n",
       "\t<tr><td>14.15759</td><td>13.42712</td><td>468</td><td>83.91131</td><td>5</td></tr>\n",
       "\t<tr><td>17.29939</td><td>10.16686</td><td>583</td><td>80.82381</td><td>5</td></tr>\n",
       "\t<tr><td>29.08568</td><td>80.77893</td><td>147</td><td>61.62818</td><td>6</td></tr>\n",
       "\t<tr><td>44.18873</td><td>76.62527</td><td>208</td><td>73.96184</td><td>6</td></tr>\n",
       "\t<tr><td>44.26975</td><td>79.53293</td><td>493</td><td>74.42230</td><td>6</td></tr>\n",
       "\t<tr><td>72.77920</td><td>73.39243</td><td>321</td><td>93.24193</td><td>6</td></tr>\n",
       "\t<tr><td>25.55510</td><td>82.89269</td><td>122</td><td>66.67727</td><td>6</td></tr>\n",
       "\t<tr><td>...</td><td>...</td><td>...</td><td>...</td><td>...</td></tr>\n",
       "\t<tr><td>27.23151</td><td>33.58787</td><td>463</td><td> 90.48151</td><td>14</td></tr>\n",
       "\t<tr><td>14.05474</td><td>33.45658</td><td>372</td><td> 94.69872</td><td>14</td></tr>\n",
       "\t<tr><td>24.27906</td><td>33.68830</td><td>253</td><td> 90.98713</td><td>14</td></tr>\n",
       "\t<tr><td>70.47861</td><td>76.76088</td><td> 50</td><td> 54.05629</td><td>14</td></tr>\n",
       "\t<tr><td>77.59878</td><td>77.15022</td><td>269</td><td> 53.51347</td><td>14</td></tr>\n",
       "\t<tr><td>42.06010</td><td>12.32076</td><td>384</td><td> 58.89312</td><td>15</td></tr>\n",
       "\t<tr><td>26.15834</td><td>27.99602</td><td>154</td><td> 80.48288</td><td>15</td></tr>\n",
       "\t<tr><td>22.88652</td><td>25.02460</td><td> 41</td><td> 81.74883</td><td>15</td></tr>\n",
       "\t<tr><td>56.74337</td><td>78.65609</td><td>464</td><td> 62.24327</td><td>15</td></tr>\n",
       "\t<tr><td>35.02280</td><td>27.87709</td><td>194</td><td> 77.87777</td><td>15</td></tr>\n",
       "\t<tr><td>25.30662</td><td>25.56910</td><td>458</td><td> 81.23230</td><td>16</td></tr>\n",
       "\t<tr><td>45.98137</td><td>81.18073</td><td> 84</td><td> 54.44039</td><td>16</td></tr>\n",
       "\t<tr><td>84.43539</td><td>70.89673</td><td>227</td><td> 99.36573</td><td>16</td></tr>\n",
       "\t<tr><td>31.76051</td><td>26.41215</td><td>378</td><td> 78.95605</td><td>16</td></tr>\n",
       "\t<tr><td>50.83140</td><td>80.84639</td><td>152</td><td> 53.90415</td><td>16</td></tr>\n",
       "\t<tr><td>28.08115</td><td>25.41423</td><td>213</td><td> 78.94887</td><td>17</td></tr>\n",
       "\t<tr><td>37.82167</td><td>27.35264</td><td>366</td><td> 76.64759</td><td>17</td></tr>\n",
       "\t<tr><td>23.50021</td><td>20.82771</td><td>433</td><td> 76.38033</td><td>17</td></tr>\n",
       "\t<tr><td>75.62214</td><td>28.38348</td><td>265</td><td> 64.32724</td><td>17</td></tr>\n",
       "\t<tr><td>89.25011</td><td>76.02308</td><td>344</td><td> 51.46065</td><td>17</td></tr>\n",
       "\t<tr><td>87.27561</td><td>28.73142</td><td>336</td><td> 73.71052</td><td>18</td></tr>\n",
       "\t<tr><td>43.38667</td><td>22.75769</td><td> 13</td><td> 66.13741</td><td>18</td></tr>\n",
       "\t<tr><td>35.32615</td><td>24.68971</td><td>515</td><td> 68.65060</td><td>18</td></tr>\n",
       "\t<tr><td>64.29873</td><td>73.10575</td><td>491</td><td> 99.77176</td><td>18</td></tr>\n",
       "\t<tr><td>40.05386</td><td>25.70328</td><td>184</td><td> 75.80537</td><td>18</td></tr>\n",
       "\t<tr><td>34.44622</td><td>74.35828</td><td>245</td><td> 99.88408</td><td>19</td></tr>\n",
       "\t<tr><td>15.13944</td><td>74.06980</td><td>  4</td><td>100.00000</td><td>19</td></tr>\n",
       "\t<tr><td>24.96805</td><td>74.65329</td><td>435</td><td> 99.88595</td><td>19</td></tr>\n",
       "\t<tr><td>13.65286</td><td>74.27084</td><td>373</td><td>100.00000</td><td>19</td></tr>\n",
       "\t<tr><td>69.98541</td><td>71.95276</td><td>203</td><td> 99.05710</td><td>19</td></tr>\n",
       "</tbody>\n",
       "</table>\n"
      ],
      "text/latex": [
       "A data.table: 95 × 5\n",
       "\\begin{tabular}{r|lllll}\n",
       " density & \\%-similar-wanted & idx & output & iter\\\\\n",
       " <dbl> & <dbl> & <int> & <dbl> & <dbl>\\\\\n",
       "\\hline\n",
       "\t 52.51502 & 74.99535 & 121 & 99.79272 & 1\\\\\n",
       "\t 66.32434 & 74.85613 & 172 & 99.66249 & 1\\\\\n",
       "\t 79.18638 & 74.59114 & 449 & 80.98941 & 1\\\\\n",
       "\t 38.04839 & 74.89497 & 239 & 99.72754 & 1\\\\\n",
       "\t 17.79868 & 75.83541 & 211 & 99.94269 & 1\\\\\n",
       "\t 54.75810 & 76.58287 & 264 & 63.93182 & 2\\\\\n",
       "\t 61.35303 & 75.38737 & 150 & 57.66862 & 2\\\\\n",
       "\t 57.48774 & 75.70978 & 274 & 61.30243 & 2\\\\\n",
       "\t 63.69882 & 76.08750 & 234 & 57.78966 & 2\\\\\n",
       "\t 51.83401 & 77.29802 & 505 & 65.60883 & 2\\\\\n",
       "\t 21.60726 & 85.95121 & 359 & 74.82609 & 3\\\\\n",
       "\t 22.23156 & 89.17194 & 481 & 72.80657 & 3\\\\\n",
       "\t 23.96343 & 87.89434 &  75 & 70.26637 & 3\\\\\n",
       "\t 25.23382 & 89.59882 & 300 & 63.69349 & 3\\\\\n",
       "\t 20.98484 & 80.97271 & 157 & 79.30219 & 3\\\\\n",
       "\t 41.29254 & 75.91780 & 535 & 77.08147 & 4\\\\\n",
       "\t 18.66068 & 86.56811 &  36 & 85.89560 & 4\\\\\n",
       "\t 17.95568 & 88.87073 & 589 & 89.92731 & 4\\\\\n",
       "\t 20.37012 & 75.14078 & 448 & 92.95109 & 4\\\\\n",
       "\t 35.43042 & 77.53684 & 540 & 80.27429 & 4\\\\\n",
       "\t 33.83885 & 79.30846 & 158 & 81.53446 & 5\\\\\n",
       "\t 41.83807 & 78.67310 & 148 & 77.06271 & 5\\\\\n",
       "\t 12.27218 & 12.10815 &  18 & 87.40860 & 5\\\\\n",
       "\t 14.15759 & 13.42712 & 468 & 83.91131 & 5\\\\\n",
       "\t 17.29939 & 10.16686 & 583 & 80.82381 & 5\\\\\n",
       "\t 29.08568 & 80.77893 & 147 & 61.62818 & 6\\\\\n",
       "\t 44.18873 & 76.62527 & 208 & 73.96184 & 6\\\\\n",
       "\t 44.26975 & 79.53293 & 493 & 74.42230 & 6\\\\\n",
       "\t 72.77920 & 73.39243 & 321 & 93.24193 & 6\\\\\n",
       "\t 25.55510 & 82.89269 & 122 & 66.67727 & 6\\\\\n",
       "\t ... & ... & ... & ... & ...\\\\\n",
       "\t 27.23151 & 33.58787 & 463 &  90.48151 & 14\\\\\n",
       "\t 14.05474 & 33.45658 & 372 &  94.69872 & 14\\\\\n",
       "\t 24.27906 & 33.68830 & 253 &  90.98713 & 14\\\\\n",
       "\t 70.47861 & 76.76088 &  50 &  54.05629 & 14\\\\\n",
       "\t 77.59878 & 77.15022 & 269 &  53.51347 & 14\\\\\n",
       "\t 42.06010 & 12.32076 & 384 &  58.89312 & 15\\\\\n",
       "\t 26.15834 & 27.99602 & 154 &  80.48288 & 15\\\\\n",
       "\t 22.88652 & 25.02460 &  41 &  81.74883 & 15\\\\\n",
       "\t 56.74337 & 78.65609 & 464 &  62.24327 & 15\\\\\n",
       "\t 35.02280 & 27.87709 & 194 &  77.87777 & 15\\\\\n",
       "\t 25.30662 & 25.56910 & 458 &  81.23230 & 16\\\\\n",
       "\t 45.98137 & 81.18073 &  84 &  54.44039 & 16\\\\\n",
       "\t 84.43539 & 70.89673 & 227 &  99.36573 & 16\\\\\n",
       "\t 31.76051 & 26.41215 & 378 &  78.95605 & 16\\\\\n",
       "\t 50.83140 & 80.84639 & 152 &  53.90415 & 16\\\\\n",
       "\t 28.08115 & 25.41423 & 213 &  78.94887 & 17\\\\\n",
       "\t 37.82167 & 27.35264 & 366 &  76.64759 & 17\\\\\n",
       "\t 23.50021 & 20.82771 & 433 &  76.38033 & 17\\\\\n",
       "\t 75.62214 & 28.38348 & 265 &  64.32724 & 17\\\\\n",
       "\t 89.25011 & 76.02308 & 344 &  51.46065 & 17\\\\\n",
       "\t 87.27561 & 28.73142 & 336 &  73.71052 & 18\\\\\n",
       "\t 43.38667 & 22.75769 &  13 &  66.13741 & 18\\\\\n",
       "\t 35.32615 & 24.68971 & 515 &  68.65060 & 18\\\\\n",
       "\t 64.29873 & 73.10575 & 491 &  99.77176 & 18\\\\\n",
       "\t 40.05386 & 25.70328 & 184 &  75.80537 & 18\\\\\n",
       "\t 34.44622 & 74.35828 & 245 &  99.88408 & 19\\\\\n",
       "\t 15.13944 & 74.06980 &   4 & 100.00000 & 19\\\\\n",
       "\t 24.96805 & 74.65329 & 435 &  99.88595 & 19\\\\\n",
       "\t 13.65286 & 74.27084 & 373 & 100.00000 & 19\\\\\n",
       "\t 69.98541 & 71.95276 & 203 &  99.05710 & 19\\\\\n",
       "\\end{tabular}\n"
      ],
      "text/markdown": [
       "\n",
       "A data.table: 95 × 5\n",
       "\n",
       "| density &lt;dbl&gt; | %-similar-wanted &lt;dbl&gt; | idx &lt;int&gt; | output &lt;dbl&gt; | iter &lt;dbl&gt; |\n",
       "|---|---|---|---|---|\n",
       "| 52.51502 | 74.99535 | 121 | 99.79272 | 1 |\n",
       "| 66.32434 | 74.85613 | 172 | 99.66249 | 1 |\n",
       "| 79.18638 | 74.59114 | 449 | 80.98941 | 1 |\n",
       "| 38.04839 | 74.89497 | 239 | 99.72754 | 1 |\n",
       "| 17.79868 | 75.83541 | 211 | 99.94269 | 1 |\n",
       "| 54.75810 | 76.58287 | 264 | 63.93182 | 2 |\n",
       "| 61.35303 | 75.38737 | 150 | 57.66862 | 2 |\n",
       "| 57.48774 | 75.70978 | 274 | 61.30243 | 2 |\n",
       "| 63.69882 | 76.08750 | 234 | 57.78966 | 2 |\n",
       "| 51.83401 | 77.29802 | 505 | 65.60883 | 2 |\n",
       "| 21.60726 | 85.95121 | 359 | 74.82609 | 3 |\n",
       "| 22.23156 | 89.17194 | 481 | 72.80657 | 3 |\n",
       "| 23.96343 | 87.89434 |  75 | 70.26637 | 3 |\n",
       "| 25.23382 | 89.59882 | 300 | 63.69349 | 3 |\n",
       "| 20.98484 | 80.97271 | 157 | 79.30219 | 3 |\n",
       "| 41.29254 | 75.91780 | 535 | 77.08147 | 4 |\n",
       "| 18.66068 | 86.56811 |  36 | 85.89560 | 4 |\n",
       "| 17.95568 | 88.87073 | 589 | 89.92731 | 4 |\n",
       "| 20.37012 | 75.14078 | 448 | 92.95109 | 4 |\n",
       "| 35.43042 | 77.53684 | 540 | 80.27429 | 4 |\n",
       "| 33.83885 | 79.30846 | 158 | 81.53446 | 5 |\n",
       "| 41.83807 | 78.67310 | 148 | 77.06271 | 5 |\n",
       "| 12.27218 | 12.10815 |  18 | 87.40860 | 5 |\n",
       "| 14.15759 | 13.42712 | 468 | 83.91131 | 5 |\n",
       "| 17.29939 | 10.16686 | 583 | 80.82381 | 5 |\n",
       "| 29.08568 | 80.77893 | 147 | 61.62818 | 6 |\n",
       "| 44.18873 | 76.62527 | 208 | 73.96184 | 6 |\n",
       "| 44.26975 | 79.53293 | 493 | 74.42230 | 6 |\n",
       "| 72.77920 | 73.39243 | 321 | 93.24193 | 6 |\n",
       "| 25.55510 | 82.89269 | 122 | 66.67727 | 6 |\n",
       "| ... | ... | ... | ... | ... |\n",
       "| 27.23151 | 33.58787 | 463 |  90.48151 | 14 |\n",
       "| 14.05474 | 33.45658 | 372 |  94.69872 | 14 |\n",
       "| 24.27906 | 33.68830 | 253 |  90.98713 | 14 |\n",
       "| 70.47861 | 76.76088 |  50 |  54.05629 | 14 |\n",
       "| 77.59878 | 77.15022 | 269 |  53.51347 | 14 |\n",
       "| 42.06010 | 12.32076 | 384 |  58.89312 | 15 |\n",
       "| 26.15834 | 27.99602 | 154 |  80.48288 | 15 |\n",
       "| 22.88652 | 25.02460 |  41 |  81.74883 | 15 |\n",
       "| 56.74337 | 78.65609 | 464 |  62.24327 | 15 |\n",
       "| 35.02280 | 27.87709 | 194 |  77.87777 | 15 |\n",
       "| 25.30662 | 25.56910 | 458 |  81.23230 | 16 |\n",
       "| 45.98137 | 81.18073 |  84 |  54.44039 | 16 |\n",
       "| 84.43539 | 70.89673 | 227 |  99.36573 | 16 |\n",
       "| 31.76051 | 26.41215 | 378 |  78.95605 | 16 |\n",
       "| 50.83140 | 80.84639 | 152 |  53.90415 | 16 |\n",
       "| 28.08115 | 25.41423 | 213 |  78.94887 | 17 |\n",
       "| 37.82167 | 27.35264 | 366 |  76.64759 | 17 |\n",
       "| 23.50021 | 20.82771 | 433 |  76.38033 | 17 |\n",
       "| 75.62214 | 28.38348 | 265 |  64.32724 | 17 |\n",
       "| 89.25011 | 76.02308 | 344 |  51.46065 | 17 |\n",
       "| 87.27561 | 28.73142 | 336 |  73.71052 | 18 |\n",
       "| 43.38667 | 22.75769 |  13 |  66.13741 | 18 |\n",
       "| 35.32615 | 24.68971 | 515 |  68.65060 | 18 |\n",
       "| 64.29873 | 73.10575 | 491 |  99.77176 | 18 |\n",
       "| 40.05386 | 25.70328 | 184 |  75.80537 | 18 |\n",
       "| 34.44622 | 74.35828 | 245 |  99.88408 | 19 |\n",
       "| 15.13944 | 74.06980 |   4 | 100.00000 | 19 |\n",
       "| 24.96805 | 74.65329 | 435 |  99.88595 | 19 |\n",
       "| 13.65286 | 74.27084 | 373 | 100.00000 | 19 |\n",
       "| 69.98541 | 71.95276 | 203 |  99.05710 | 19 |\n",
       "\n"
      ],
      "text/plain": [
       "    density  %-similar-wanted idx output    iter\n",
       "1   52.51502 74.99535         121 99.79272  1   \n",
       "2   66.32434 74.85613         172 99.66249  1   \n",
       "3   79.18638 74.59114         449 80.98941  1   \n",
       "4   38.04839 74.89497         239 99.72754  1   \n",
       "5   17.79868 75.83541         211 99.94269  1   \n",
       "6   54.75810 76.58287         264 63.93182  2   \n",
       "7   61.35303 75.38737         150 57.66862  2   \n",
       "8   57.48774 75.70978         274 61.30243  2   \n",
       "9   63.69882 76.08750         234 57.78966  2   \n",
       "10  51.83401 77.29802         505 65.60883  2   \n",
       "11  21.60726 85.95121         359 74.82609  3   \n",
       "12  22.23156 89.17194         481 72.80657  3   \n",
       "13  23.96343 87.89434          75 70.26637  3   \n",
       "14  25.23382 89.59882         300 63.69349  3   \n",
       "15  20.98484 80.97271         157 79.30219  3   \n",
       "16  41.29254 75.91780         535 77.08147  4   \n",
       "17  18.66068 86.56811          36 85.89560  4   \n",
       "18  17.95568 88.87073         589 89.92731  4   \n",
       "19  20.37012 75.14078         448 92.95109  4   \n",
       "20  35.43042 77.53684         540 80.27429  4   \n",
       "21  33.83885 79.30846         158 81.53446  5   \n",
       "22  41.83807 78.67310         148 77.06271  5   \n",
       "23  12.27218 12.10815          18 87.40860  5   \n",
       "24  14.15759 13.42712         468 83.91131  5   \n",
       "25  17.29939 10.16686         583 80.82381  5   \n",
       "26  29.08568 80.77893         147 61.62818  6   \n",
       "27  44.18873 76.62527         208 73.96184  6   \n",
       "28  44.26975 79.53293         493 74.42230  6   \n",
       "29  72.77920 73.39243         321 93.24193  6   \n",
       "30  25.55510 82.89269         122 66.67727  6   \n",
       "... ...      ...              ... ...       ... \n",
       "66  27.23151 33.58787         463  90.48151 14  \n",
       "67  14.05474 33.45658         372  94.69872 14  \n",
       "68  24.27906 33.68830         253  90.98713 14  \n",
       "69  70.47861 76.76088          50  54.05629 14  \n",
       "70  77.59878 77.15022         269  53.51347 14  \n",
       "71  42.06010 12.32076         384  58.89312 15  \n",
       "72  26.15834 27.99602         154  80.48288 15  \n",
       "73  22.88652 25.02460          41  81.74883 15  \n",
       "74  56.74337 78.65609         464  62.24327 15  \n",
       "75  35.02280 27.87709         194  77.87777 15  \n",
       "76  25.30662 25.56910         458  81.23230 16  \n",
       "77  45.98137 81.18073          84  54.44039 16  \n",
       "78  84.43539 70.89673         227  99.36573 16  \n",
       "79  31.76051 26.41215         378  78.95605 16  \n",
       "80  50.83140 80.84639         152  53.90415 16  \n",
       "81  28.08115 25.41423         213  78.94887 17  \n",
       "82  37.82167 27.35264         366  76.64759 17  \n",
       "83  23.50021 20.82771         433  76.38033 17  \n",
       "84  75.62214 28.38348         265  64.32724 17  \n",
       "85  89.25011 76.02308         344  51.46065 17  \n",
       "86  87.27561 28.73142         336  73.71052 18  \n",
       "87  43.38667 22.75769          13  66.13741 18  \n",
       "88  35.32615 24.68971         515  68.65060 18  \n",
       "89  64.29873 73.10575         491  99.77176 18  \n",
       "90  40.05386 25.70328         184  75.80537 18  \n",
       "91  34.44622 74.35828         245  99.88408 19  \n",
       "92  15.13944 74.06980           4 100.00000 19  \n",
       "93  24.96805 74.65329         435  99.88595 19  \n",
       "94  13.65286 74.27084         373 100.00000 19  \n",
       "95  69.98541 71.95276         203  99.05710 19  "
      ]
     },
     "metadata": {},
     "output_type": "display_data"
    },
    {
     "data": {
      "text/html": [
       "<table>\n",
       "<caption>A data.table: 6 × 49</caption>\n",
       "<thead>\n",
       "\t<tr><th scope=col>density</th><th scope=col>%-similar-wanted</th><th scope=col>output</th><th scope=col>pred_output_1</th><th scope=col>RMSE_1</th><th scope=col>pred_output_1.1</th><th scope=col>RMSE_1.1</th><th scope=col>pred_output_1.2</th><th scope=col>RMSE_1.2</th><th scope=col>pred_output_1.3</th><th scope=col>...</th><th scope=col>pred_output_15</th><th scope=col>RMSE_15</th><th scope=col>pred_output_16</th><th scope=col>RMSE_16</th><th scope=col>pred_output_17</th><th scope=col>RMSE_17</th><th scope=col>pred_output_18</th><th scope=col>RMSE_18</th><th scope=col>pred_output_19</th><th scope=col>RMSE_19</th></tr>\n",
       "\t<tr><th scope=col>&lt;dbl&gt;</th><th scope=col>&lt;dbl&gt;</th><th scope=col>&lt;dbl&gt;</th><th scope=col>&lt;dbl&gt;</th><th scope=col>&lt;dbl&gt;</th><th scope=col>&lt;dbl&gt;</th><th scope=col>&lt;dbl&gt;</th><th scope=col>&lt;dbl&gt;</th><th scope=col>&lt;dbl&gt;</th><th scope=col>&lt;dbl&gt;</th><th scope=col>...</th><th scope=col>&lt;dbl&gt;</th><th scope=col>&lt;dbl&gt;</th><th scope=col>&lt;dbl&gt;</th><th scope=col>&lt;dbl&gt;</th><th scope=col>&lt;dbl&gt;</th><th scope=col>&lt;dbl&gt;</th><th scope=col>&lt;dbl&gt;</th><th scope=col>&lt;dbl&gt;</th><th scope=col>&lt;dbl&gt;</th><th scope=col>&lt;dbl&gt;</th></tr>\n",
       "</thead>\n",
       "<tbody>\n",
       "\t<tr><td>89.39026</td><td>63.87711</td><td>98.25157</td><td>98.02619</td><td>0.22537562</td><td>98.05625</td><td>0.195312276</td><td>98.07824</td><td>0.173327202</td><td>98.05447</td><td>...</td><td>97.65446</td><td>0.59711062</td><td>97.43004</td><td>0.82152704</td><td>97.76621</td><td>0.48535540</td><td>97.91883</td><td>0.332737480</td><td>97.65357</td><td>0.59799268</td></tr>\n",
       "\t<tr><td>39.27182</td><td>36.46039</td><td>86.97693</td><td>84.78891</td><td>2.18801522</td><td>84.47239</td><td>2.504538564</td><td>84.53018</td><td>2.446747070</td><td>84.82991</td><td>...</td><td>87.29368</td><td>0.31675240</td><td>87.13750</td><td>0.16057395</td><td>87.26244</td><td>0.28551130</td><td>86.97396</td><td>0.002966766</td><td>87.10879</td><td>0.13186123</td></tr>\n",
       "\t<tr><td>30.17455</td><td>57.23629</td><td>98.35179</td><td>98.40070</td><td>0.04891199</td><td>98.45743</td><td>0.105633999</td><td>98.46692</td><td>0.115129388</td><td>98.50400</td><td>...</td><td>98.41585</td><td>0.06405636</td><td>98.42143</td><td>0.06963919</td><td>98.47747</td><td>0.12568084</td><td>98.45857</td><td>0.106780124</td><td>98.44041</td><td>0.08861664</td></tr>\n",
       "\t<tr><td>38.02617</td><td>15.93903</td><td>61.81402</td><td>63.55640</td><td>1.74238149</td><td>63.28558</td><td>1.471563231</td><td>63.02787</td><td>1.213856800</td><td>63.26405</td><td>...</td><td>62.65282</td><td>0.83880274</td><td>62.59872</td><td>0.78470151</td><td>62.60987</td><td>0.79584889</td><td>64.15607</td><td>2.342047583</td><td>64.13604</td><td>2.32202146</td></tr>\n",
       "\t<tr><td>28.12210</td><td>68.05564</td><td>99.86504</td><td>99.87685</td><td>0.01181027</td><td>99.85945</td><td>0.005596987</td><td>99.86997</td><td>0.004930407</td><td>99.87220</td><td>...</td><td>99.87626</td><td>0.01121416</td><td>99.88544</td><td>0.02039341</td><td>99.87770</td><td>0.01265748</td><td>99.88128</td><td>0.016233152</td><td>99.87857</td><td>0.01352749</td></tr>\n",
       "\t<tr><td>75.80979</td><td>17.80044</td><td>57.77487</td><td>58.20129</td><td>0.42642512</td><td>58.22111</td><td>0.446241064</td><td>58.34005</td><td>0.565177852</td><td>58.35384</td><td>...</td><td>57.98234</td><td>0.20747605</td><td>57.54364</td><td>0.23122477</td><td>57.41225</td><td>0.36261793</td><td>57.24022</td><td>0.534646247</td><td>57.46162</td><td>0.31324634</td></tr>\n",
       "</tbody>\n",
       "</table>\n"
      ],
      "text/latex": [
       "A data.table: 6 × 49\n",
       "\\begin{tabular}{r|lllllllllllllllllllllllllllllllllllllllllllllllll}\n",
       " density & \\%-similar-wanted & output & pred\\_output\\_1 & RMSE\\_1 & pred\\_output\\_1 & RMSE\\_1 & pred\\_output\\_1 & RMSE\\_1 & pred\\_output\\_1 & RMSE\\_1 & pred\\_output\\_1 & RMSE\\_1 & pred\\_output\\_2 & RMSE\\_2 & pred\\_output\\_3 & RMSE\\_3 & pred\\_output\\_4 & RMSE\\_4 & pred\\_output\\_5 & RMSE\\_5 & pred\\_output\\_6 & RMSE\\_6 & pred\\_output\\_7 & RMSE\\_7 & pred\\_output\\_8 & RMSE\\_8 & pred\\_output\\_9 & RMSE\\_9 & pred\\_output\\_10 & RMSE\\_10 & pred\\_output\\_11 & RMSE\\_11 & pred\\_output\\_12 & RMSE\\_12 & pred\\_output\\_13 & RMSE\\_13 & pred\\_output\\_14 & RMSE\\_14 & pred\\_output\\_15 & RMSE\\_15 & pred\\_output\\_16 & RMSE\\_16 & pred\\_output\\_17 & RMSE\\_17 & pred\\_output\\_18 & RMSE\\_18 & pred\\_output\\_19 & RMSE\\_19\\\\\n",
       " <dbl> & <dbl> & <dbl> & <dbl> & <dbl> & <dbl> & <dbl> & <dbl> & <dbl> & <dbl> & <dbl> & <dbl> & <dbl> & <dbl> & <dbl> & <dbl> & <dbl> & <dbl> & <dbl> & <dbl> & <dbl> & <dbl> & <dbl> & <dbl> & <dbl> & <dbl> & <dbl> & <dbl> & <dbl> & <dbl> & <dbl> & <dbl> & <dbl> & <dbl> & <dbl> & <dbl> & <dbl> & <dbl> & <dbl> & <dbl> & <dbl> & <dbl> & <dbl> & <dbl> & <dbl> & <dbl> & <dbl> & <dbl> & <dbl>\\\\\n",
       "\\hline\n",
       "\t 89.39026 & 63.87711 & 98.25157 & 98.02619 & 0.22537562 & 98.05625 & 0.195312276 & 98.07824 & 0.173327202 & 98.05447 & 0.197098760 & 98.03056 & 0.2210083809 & 97.94330 & 0.30826312 & 97.93158 & 0.31998628 & 98.00127 & 0.25030114 & 97.96627 & 0.28529765 & 97.82335 & 0.42822053 & 97.97861 & 0.272957617 & 92.90797 & 5.34360024 & 97.69063 & 0.56093872 & 97.72262 & 0.52894609 & 97.77201 & 0.47955704 & 97.53907 & 0.71249800 & 97.80883 & 0.44273957 & 97.70652 & 0.54505048 & 97.65446 & 0.59711062 & 97.43004 & 0.82152704 & 97.76621 & 0.48535540 & 97.91883 & 0.332737480 & 97.65357 & 0.59799268\\\\\n",
       "\t 39.27182 & 36.46039 & 86.97693 & 84.78891 & 2.18801522 & 84.47239 & 2.504538564 & 84.53018 & 2.446747070 & 84.82991 & 2.147012187 & 84.50412 & 2.4728050172 & 84.95562 & 2.02130074 & 84.48682 & 2.49010262 & 84.37765 & 2.59927048 & 84.89914 & 2.07778531 & 84.61098 & 2.36594057 & 84.67029 & 2.306634547 & 84.79688 & 2.18004414 & 84.53603 & 2.44089972 & 84.64505 & 2.33187235 & 85.49186 & 1.48506671 & 85.67639 & 1.30053144 & 86.85389 & 0.12303589 & 87.00821 & 0.03128652 & 87.29368 & 0.31675240 & 87.13750 & 0.16057395 & 87.26244 & 0.28551130 & 86.97396 & 0.002966766 & 87.10879 & 0.13186123\\\\\n",
       "\t 30.17455 & 57.23629 & 98.35179 & 98.40070 & 0.04891199 & 98.45743 & 0.105633999 & 98.46692 & 0.115129388 & 98.50400 & 0.152204509 & 98.55500 & 0.2032076996 & 98.45788 & 0.10608877 & 98.48040 & 0.12860538 & 98.50071 & 0.14891637 & 98.56728 & 0.21549154 & 98.44156 & 0.08976928 & 98.49156 & 0.139767936 & 98.49478 & 0.14298298 & 98.47211 & 0.12031634 & 98.46401 & 0.11221850 & 98.46155 & 0.10975991 & 98.48987 & 0.13808065 & 98.49251 & 0.14071862 & 98.45471 & 0.10292103 & 98.41585 & 0.06405636 & 98.42143 & 0.06963919 & 98.47747 & 0.12568084 & 98.45857 & 0.106780124 & 98.44041 & 0.08861664\\\\\n",
       "\t 38.02617 & 15.93903 & 61.81402 & 63.55640 & 1.74238149 & 63.28558 & 1.471563231 & 63.02787 & 1.213856800 & 63.26405 & 1.450032715 & 63.01077 & 1.1967539341 & 62.94903 & 1.13501497 & 62.93464 & 1.12062297 & 63.15144 & 1.33742552 & 63.20198 & 1.38796168 & 63.25144 & 1.43742110 & 63.30919 & 1.495170872 & 62.84396 & 1.02994256 & 63.04873 & 1.23471274 & 63.06329 & 1.24927232 & 63.25987 & 1.44584745 & 62.88948 & 1.07546156 & 62.51403 & 0.70000825 & 62.80279 & 0.98876991 & 62.65282 & 0.83880274 & 62.59872 & 0.78470151 & 62.60987 & 0.79584889 & 64.15607 & 2.342047583 & 64.13604 & 2.32202146\\\\\n",
       "\t 28.12210 & 68.05564 & 99.86504 & 99.87685 & 0.01181027 & 99.85945 & 0.005596987 & 99.86997 & 0.004930407 & 99.87220 & 0.007156708 & 99.86555 & 0.0005097862 & 99.87798 & 0.01293375 & 99.88593 & 0.02088683 & 99.87837 & 0.01333052 & 99.87764 & 0.01260215 & 99.87933 & 0.01428537 & 99.87169 & 0.006651663 & 99.89312 & 0.02808078 & 99.88496 & 0.01992101 & 99.87696 & 0.01191458 & 99.88025 & 0.01520784 & 99.87998 & 0.01494001 & 99.88984 & 0.02479768 & 99.88322 & 0.01817991 & 99.87626 & 0.01121416 & 99.88544 & 0.02039341 & 99.87770 & 0.01265748 & 99.88128 & 0.016233152 & 99.87857 & 0.01352749\\\\\n",
       "\t 75.80979 & 17.80044 & 57.77487 & 58.20129 & 0.42642512 & 58.22111 & 0.446241064 & 58.34005 & 0.565177852 & 58.35384 & 0.578976248 & 58.46467 & 0.6897995150 & 58.47923 & 0.70436319 & 58.35984 & 0.58497651 & 58.37470 & 0.59983707 & 58.20184 & 0.42697275 & 58.21710 & 0.44223096 & 58.28132 & 0.506454481 & 58.10555 & 0.33067851 & 57.98033 & 0.20545990 & 57.94669 & 0.17181920 & 57.89009 & 0.11521846 & 57.99146 & 0.21659642 & 57.81731 & 0.04244046 & 57.83803 & 0.06316017 & 57.98234 & 0.20747605 & 57.54364 & 0.23122477 & 57.41225 & 0.36261793 & 57.24022 & 0.534646247 & 57.46162 & 0.31324634\\\\\n",
       "\\end{tabular}\n"
      ],
      "text/markdown": [
       "\n",
       "A data.table: 6 × 49\n",
       "\n",
       "| density &lt;dbl&gt; | %-similar-wanted &lt;dbl&gt; | output &lt;dbl&gt; | pred_output_1 &lt;dbl&gt; | RMSE_1 &lt;dbl&gt; | pred_output_1.1 &lt;dbl&gt; | RMSE_1.1 &lt;dbl&gt; | pred_output_1.2 &lt;dbl&gt; | RMSE_1.2 &lt;dbl&gt; | pred_output_1.3 &lt;dbl&gt; | ... ... | pred_output_15 &lt;dbl&gt; | RMSE_15 &lt;dbl&gt; | pred_output_16 &lt;dbl&gt; | RMSE_16 &lt;dbl&gt; | pred_output_17 &lt;dbl&gt; | RMSE_17 &lt;dbl&gt; | pred_output_18 &lt;dbl&gt; | RMSE_18 &lt;dbl&gt; | pred_output_19 &lt;dbl&gt; | RMSE_19 &lt;dbl&gt; |\n",
       "|---|---|---|---|---|---|---|---|---|---|---|---|---|---|---|---|---|---|---|---|---|\n",
       "| 89.39026 | 63.87711 | 98.25157 | 98.02619 | 0.22537562 | 98.05625 | 0.195312276 | 98.07824 | 0.173327202 | 98.05447 | ... | 97.65446 | 0.59711062 | 97.43004 | 0.82152704 | 97.76621 | 0.48535540 | 97.91883 | 0.332737480 | 97.65357 | 0.59799268 |\n",
       "| 39.27182 | 36.46039 | 86.97693 | 84.78891 | 2.18801522 | 84.47239 | 2.504538564 | 84.53018 | 2.446747070 | 84.82991 | ... | 87.29368 | 0.31675240 | 87.13750 | 0.16057395 | 87.26244 | 0.28551130 | 86.97396 | 0.002966766 | 87.10879 | 0.13186123 |\n",
       "| 30.17455 | 57.23629 | 98.35179 | 98.40070 | 0.04891199 | 98.45743 | 0.105633999 | 98.46692 | 0.115129388 | 98.50400 | ... | 98.41585 | 0.06405636 | 98.42143 | 0.06963919 | 98.47747 | 0.12568084 | 98.45857 | 0.106780124 | 98.44041 | 0.08861664 |\n",
       "| 38.02617 | 15.93903 | 61.81402 | 63.55640 | 1.74238149 | 63.28558 | 1.471563231 | 63.02787 | 1.213856800 | 63.26405 | ... | 62.65282 | 0.83880274 | 62.59872 | 0.78470151 | 62.60987 | 0.79584889 | 64.15607 | 2.342047583 | 64.13604 | 2.32202146 |\n",
       "| 28.12210 | 68.05564 | 99.86504 | 99.87685 | 0.01181027 | 99.85945 | 0.005596987 | 99.86997 | 0.004930407 | 99.87220 | ... | 99.87626 | 0.01121416 | 99.88544 | 0.02039341 | 99.87770 | 0.01265748 | 99.88128 | 0.016233152 | 99.87857 | 0.01352749 |\n",
       "| 75.80979 | 17.80044 | 57.77487 | 58.20129 | 0.42642512 | 58.22111 | 0.446241064 | 58.34005 | 0.565177852 | 58.35384 | ... | 57.98234 | 0.20747605 | 57.54364 | 0.23122477 | 57.41225 | 0.36261793 | 57.24022 | 0.534646247 | 57.46162 | 0.31324634 |\n",
       "\n"
      ],
      "text/plain": [
       "  density  %-similar-wanted output   pred_output_1 RMSE_1     pred_output_1.1\n",
       "1 89.39026 63.87711         98.25157 98.02619      0.22537562 98.05625       \n",
       "2 39.27182 36.46039         86.97693 84.78891      2.18801522 84.47239       \n",
       "3 30.17455 57.23629         98.35179 98.40070      0.04891199 98.45743       \n",
       "4 38.02617 15.93903         61.81402 63.55640      1.74238149 63.28558       \n",
       "5 28.12210 68.05564         99.86504 99.87685      0.01181027 99.85945       \n",
       "6 75.80979 17.80044         57.77487 58.20129      0.42642512 58.22111       \n",
       "  RMSE_1.1    pred_output_1.2 RMSE_1.2    pred_output_1.3 ... pred_output_15\n",
       "1 0.195312276 98.07824        0.173327202 98.05447        ... 97.65446      \n",
       "2 2.504538564 84.53018        2.446747070 84.82991        ... 87.29368      \n",
       "3 0.105633999 98.46692        0.115129388 98.50400        ... 98.41585      \n",
       "4 1.471563231 63.02787        1.213856800 63.26405        ... 62.65282      \n",
       "5 0.005596987 99.86997        0.004930407 99.87220        ... 99.87626      \n",
       "6 0.446241064 58.34005        0.565177852 58.35384        ... 57.98234      \n",
       "  RMSE_15    pred_output_16 RMSE_16    pred_output_17 RMSE_17    pred_output_18\n",
       "1 0.59711062 97.43004       0.82152704 97.76621       0.48535540 97.91883      \n",
       "2 0.31675240 87.13750       0.16057395 87.26244       0.28551130 86.97396      \n",
       "3 0.06405636 98.42143       0.06963919 98.47747       0.12568084 98.45857      \n",
       "4 0.83880274 62.59872       0.78470151 62.60987       0.79584889 64.15607      \n",
       "5 0.01121416 99.88544       0.02039341 99.87770       0.01265748 99.88128      \n",
       "6 0.20747605 57.54364       0.23122477 57.41225       0.36261793 57.24022      \n",
       "  RMSE_18     pred_output_19 RMSE_19   \n",
       "1 0.332737480 97.65357       0.59799268\n",
       "2 0.002966766 87.10879       0.13186123\n",
       "3 0.106780124 98.44041       0.08861664\n",
       "4 2.342047583 64.13604       2.32202146\n",
       "5 0.016233152 99.87857       0.01352749\n",
       "6 0.534646247 57.46162       0.31324634"
      ]
     },
     "metadata": {},
     "output_type": "display_data"
    },
    {
     "data": {
      "text/html": [
       "<table>\n",
       "<caption>A data.table: 19 × 2</caption>\n",
       "<thead>\n",
       "\t<tr><th scope=col>obb_error</th><th scope=col>iter</th></tr>\n",
       "\t<tr><th scope=col>&lt;dbl&gt;</th><th scope=col>&lt;dbl&gt;</th></tr>\n",
       "</thead>\n",
       "<tbody>\n",
       "\t<tr><td>13.343861</td><td> 1</td></tr>\n",
       "\t<tr><td>19.987377</td><td> 2</td></tr>\n",
       "\t<tr><td>15.375215</td><td> 3</td></tr>\n",
       "\t<tr><td>14.281181</td><td> 4</td></tr>\n",
       "\t<tr><td>14.136621</td><td> 5</td></tr>\n",
       "\t<tr><td>13.975001</td><td> 6</td></tr>\n",
       "\t<tr><td>13.934245</td><td> 7</td></tr>\n",
       "\t<tr><td>14.776425</td><td> 8</td></tr>\n",
       "\t<tr><td>14.506534</td><td> 9</td></tr>\n",
       "\t<tr><td>12.797816</td><td>10</td></tr>\n",
       "\t<tr><td>10.795791</td><td>11</td></tr>\n",
       "\t<tr><td>11.436907</td><td>12</td></tr>\n",
       "\t<tr><td>11.059777</td><td>13</td></tr>\n",
       "\t<tr><td> 9.953043</td><td>14</td></tr>\n",
       "\t<tr><td>10.149925</td><td>15</td></tr>\n",
       "\t<tr><td>10.256117</td><td>16</td></tr>\n",
       "\t<tr><td> 9.777603</td><td>17</td></tr>\n",
       "\t<tr><td>10.127751</td><td>18</td></tr>\n",
       "\t<tr><td> 9.862279</td><td>19</td></tr>\n",
       "</tbody>\n",
       "</table>\n"
      ],
      "text/latex": [
       "A data.table: 19 × 2\n",
       "\\begin{tabular}{r|ll}\n",
       " obb\\_error & iter\\\\\n",
       " <dbl> & <dbl>\\\\\n",
       "\\hline\n",
       "\t 13.343861 &  1\\\\\n",
       "\t 19.987377 &  2\\\\\n",
       "\t 15.375215 &  3\\\\\n",
       "\t 14.281181 &  4\\\\\n",
       "\t 14.136621 &  5\\\\\n",
       "\t 13.975001 &  6\\\\\n",
       "\t 13.934245 &  7\\\\\n",
       "\t 14.776425 &  8\\\\\n",
       "\t 14.506534 &  9\\\\\n",
       "\t 12.797816 & 10\\\\\n",
       "\t 10.795791 & 11\\\\\n",
       "\t 11.436907 & 12\\\\\n",
       "\t 11.059777 & 13\\\\\n",
       "\t  9.953043 & 14\\\\\n",
       "\t 10.149925 & 15\\\\\n",
       "\t 10.256117 & 16\\\\\n",
       "\t  9.777603 & 17\\\\\n",
       "\t 10.127751 & 18\\\\\n",
       "\t  9.862279 & 19\\\\\n",
       "\\end{tabular}\n"
      ],
      "text/markdown": [
       "\n",
       "A data.table: 19 × 2\n",
       "\n",
       "| obb_error &lt;dbl&gt; | iter &lt;dbl&gt; |\n",
       "|---|---|\n",
       "| 13.343861 |  1 |\n",
       "| 19.987377 |  2 |\n",
       "| 15.375215 |  3 |\n",
       "| 14.281181 |  4 |\n",
       "| 14.136621 |  5 |\n",
       "| 13.975001 |  6 |\n",
       "| 13.934245 |  7 |\n",
       "| 14.776425 |  8 |\n",
       "| 14.506534 |  9 |\n",
       "| 12.797816 | 10 |\n",
       "| 10.795791 | 11 |\n",
       "| 11.436907 | 12 |\n",
       "| 11.059777 | 13 |\n",
       "|  9.953043 | 14 |\n",
       "| 10.149925 | 15 |\n",
       "| 10.256117 | 16 |\n",
       "|  9.777603 | 17 |\n",
       "| 10.127751 | 18 |\n",
       "|  9.862279 | 19 |\n",
       "\n"
      ],
      "text/plain": [
       "   obb_error iter\n",
       "1  13.343861  1  \n",
       "2  19.987377  2  \n",
       "3  15.375215  3  \n",
       "4  14.281181  4  \n",
       "5  14.136621  5  \n",
       "6  13.975001  6  \n",
       "7  13.934245  7  \n",
       "8  14.776425  8  \n",
       "9  14.506534  9  \n",
       "10 12.797816 10  \n",
       "11 10.795791 11  \n",
       "12 11.436907 12  \n",
       "13 11.059777 13  \n",
       "14  9.953043 14  \n",
       "15 10.149925 15  \n",
       "16 10.256117 16  \n",
       "17  9.777603 17  \n",
       "18 10.127751 18  \n",
       "19  9.862279 19  "
      ]
     },
     "metadata": {},
     "output_type": "display_data"
    }
   ],
   "source": [
    "nrow(FinalTrainData_Ad)\n",
    "performance_table_Ad\n",
    "train_candidates_table_Ad\n",
    "head(predictedLabels_table_Ad)\n",
    "obb_error_Ad"
   ]
  },
  {
   "cell_type": "code",
   "execution_count": 80,
   "metadata": {},
   "outputs": [
    {
     "data": {
      "image/png": "[encoded data removed]",
      "text/plain": [
       "plot without title"
      ]
     },
     "metadata": {},
     "output_type": "display_data"
    }
   ],
   "source": [
    "performance_molten_Ad <- melt(data = performance_table_Ad\n",
    "                             , id.vars = 'iter')\n",
    "setnames(performance_molten_Ad, c(\"variable\",\"value\"),c(\"errortype\",\"errorvalue\"))\n",
    "p_Ad = ggplot(performance_molten_Ad, aes(x = iter, y = errorvalue, group=errortype, col=errortype)) + \n",
    "            geom_line(lwd=1)\n",
    "p_Ad"
   ]
  },
  {
   "cell_type": "markdown",
   "metadata": {},
   "source": [
    "# Random Sampling vs Uncertainty Sampling"
   ]
  },
  {
   "cell_type": "code",
   "execution_count": 82,
   "metadata": {
    "collapsed": true
   },
   "outputs": [
    {
     "name": "stderr",
     "output_type": "stream",
     "text": [
      "Loading required package: gridExtra\n",
      "\n",
      "Attaching package: 'gridExtra'\n",
      "\n",
      "The following object is masked from 'package:randomForest':\n",
      "\n",
      "    combine\n",
      "\n",
      "The following object is masked from 'package:dplyr':\n",
      "\n",
      "    combine\n",
      "\n"
     ]
    }
   ],
   "source": [
    "require(gridExtra)"
   ]
  },
  {
   "cell_type": "code",
   "execution_count": 83,
   "metadata": {},
   "outputs": [
    {
     "data": {
      "image/png": "[encoded data removed]",
      "text/plain": [
       "plot without title"
      ]
     },
     "metadata": {},
     "output_type": "display_data"
    }
   ],
   "source": [
    "grid.arrange(p_Rd, p_Ad, ncol=2)"
   ]
  },
  {
   "cell_type": "markdown",
   "metadata": {},
   "source": [
    "# Adaptive Sampling & Feature Elimination "
   ]
  },
  {
   "cell_type": "markdown",
   "metadata": {},
   "source": [
    "## Generate Training Set"
   ]
  },
  {
   "cell_type": "markdown",
   "metadata": {},
   "source": [
    "Select a relatively big data pool ( nofinstances should be medium) , like 400"
   ]
  },
  {
   "cell_type": "code",
   "execution_count": 61,
   "metadata": {},
   "outputs": [],
   "source": [
    "if(GenerateTTData == 1){\n",
    "   \n",
    "    LHSample_Ad = as.data.table(maximinLHS(n = train_ins_Ad, k = nofparams, dup = 5))\n",
    "    \n",
    "    LHSample_Ad$V1 = qunif(LHSample_Ad$V1, 10, 90) \n",
    "    LHSample_Ad$V2 = qunif(LHSample_Ad$V2, 10, 90) \n",
    "    setnames(LHSample_Ad, c(\"V1\",\"V2\"), feature_names)\n",
    "    LHSample_Ad$output <- 0.00\n",
    "    \n",
    "    paste0(\"ABM run start time : \",Sys.time())\n",
    "    LHSample_Ad = run_ABM(nofrep,train_ins_Ad,LHSample_Ad) %>% as.data.table()\n",
    "    paste0(\"ABM run end time : \",Sys.time())\n",
    "    \n",
    "    fwrite(LHSample_Ad, paste0(\"C:/Users/paslanpatir/Desktop/TEZ_v2/LHSample_Ad_Data\",Sys.Date(),\".csv\"))\n",
    "\n",
    "}else{\n",
    "    LHSample_Ad <- fread(\"C:/Users/paslanpatir/Desktop/TEZ_v2/LHSample_Ad_Data_04122019.csv\")\n",
    "    LHSample_Ad <- head(LHSample_Ad[`%-similar-wanted` < 90  & `density` < 90],200)\n",
    "\n",
    "}"
   ]
  },
  {
   "cell_type": "markdown",
   "metadata": {},
   "source": [
    "### Visualization"
   ]
  },
  {
   "cell_type": "code",
   "execution_count": null,
   "metadata": {},
   "outputs": [],
   "source": [
    "pca_LHSample_Ad <- princomp(LHSample_Ad[,-c(\"output\")], cor = TRUE, scores = TRUE)"
   ]
  },
  {
   "cell_type": "code",
   "execution_count": null,
   "metadata": {
    "scrolled": false
   },
   "outputs": [],
   "source": [
    "#fviz_pca_ind(pca_LHSample,\n",
    "#             col.ind = \"cos2\", # Color by the quality of representation\n",
    "#             gradient.cols = c(\"#00AFBB\", \"#E7B800\", \"#FC4E07\"),\n",
    "#              geom=\"point\"\n",
    "#             )\n",
    "\n",
    "pca_LHSample_Ad_components <- get_pca_ind(pca_LHSample_Ad)\n",
    "pca_LHSample_Ad_components <-cbind(pca_LHSample_Ad_components$coord[,1:2],LHSample_Ad[,c(\"output\")])\n",
    "p_LHSample_Ad <- ggplot(data = pca_LHSample_Ad_components, aes(x = Dim.1, y = Dim.2)) +\n",
    "                     geom_point(aes(colour = output)) +\n",
    "                     labs( title = \"\", legend = \"output\") \n",
    "p_LHSample_Ad"
   ]
  },
  {
   "cell_type": "markdown",
   "metadata": {},
   "source": [
    "## Train and Test Metamodel"
   ]
  },
  {
   "cell_type": "code",
   "execution_count": 62,
   "metadata": {},
   "outputs": [],
   "source": [
    "# Record train candidates\n",
    "train_candidates_table = matrix(c(1:ncol(LHSample_Ad) ), nrow = 0, ncol = ncol(LHSample_Ad) )\n",
    "colnames(train_candidates_table) <- colnames(LHSample_Ad)\n",
    "colnames(train_candidates_table)[colnames(train_candidates_table) == \"output\"] <- \"idx\"\n",
    "\n",
    "# Record model performances\n",
    "performance_table = data.table(iter = numeric(), mae= numeric(),rmse= numeric(), mape = numeric()  )\n"
   ]
  },
  {
   "cell_type": "code",
   "execution_count": 63,
   "metadata": {},
   "outputs": [
    {
     "name": "stdout",
     "output_type": "stream",
     "text": [
      "[1] 1\n",
      "[1] 2\n"
     ]
    }
   ],
   "source": [
    "#error_type = \"mape\"  \n",
    "predictedLabels_table_AdFe = copy(test_set)\n",
    "\n",
    "loop = 0\n",
    "iter = 1\n",
    "columns_left = feature_names\n",
    "nofEliminatedVariables <- 0 # initial\n",
    "\n",
    "print(Sys.time())\n",
    "while(nofEliminatedVariables < nofparams){ # 1 is reponse v., another 1 is the last feature\n",
    "    \n",
    "    print(iter)\n",
    "    loop =  loop + 1\n",
    "    trainx = LHSample_Ad[,.SD, .SDcols = columns_left]\n",
    "    trainy = LHSample_Ad$output\n",
    "    \n",
    "    # Train the model\n",
    "    model_Sub <- randomForest( x = trainx, y =  trainy,importance = TRUE,ntree = ntree, mtry = mtry)\n",
    "    assign(paste0(\"model_Sub_\",iter),model_Sub)\n",
    "    \n",
    "     if(iter == 1){\n",
    "  #      importances <- importance(model_Sub, type = 1, scale = FALSE)\n",
    "  #      selected.vars <- order(importances, decreasing = TRUE)\n",
    "  #      ranked_features = feature_names[selected.vars]\n",
    "         ranked_features = get_variable_importance(model_Sub)\n",
    "     }                      \n",
    "         \n",
    "    \n",
    "    if(iter == 1){\n",
    "        obb_error <- as.data.table(obb_error_func(model_Sub)) \n",
    "        obb_error$iter <- 1 \n",
    "        setnames(obb_error,\"V1\",\"obb_error\")\n",
    "    }else{\n",
    "         ## OOB Error & Test Error \n",
    "        obb_error_Sub <- as.data.table(obb_error_func(model_Sub)) \n",
    "        obb_error_Sub$iter <- iter \n",
    "        obb_error <- rbind(obb_error,obb_error_Sub, use.names = FALSE)\n",
    "        rm(obb_error_Sub)\n",
    "    }\n",
    " \n",
    "\n",
    "    \n",
    " #  ## OOB Error & Test Error \n",
    " #  obb_error_Sub <- as.data.table(obb_error(model_Sub)) \n",
    " #  obb_error_Sub$iter <- iter \n",
    " #  obb_error_AdFe <- rbind(obb_error_AdFe,obb_error_Sub, use.names = FALSE)\n",
    " #  rm(obb_error_Sub)\n",
    "  \n",
    "    # test the model on test set\n",
    "    test_predictions_Sub = get_test_predictions(model_Sub,test_set,error_type)\n",
    "    predictedLabels_Sub = test_predictions_Sub[[1]]\n",
    "    setnames(predictedLabels_Sub,c(\"pred_output\",error_type), c(paste0(\"pred_output_\",iter),paste0(error_type,\"_\",iter)))  \n",
    "    predictedLabels_table_AdFe = cbind(predictedLabels_table_AdFe,predictedLabels_Sub[,.SD, .SDcols = c(paste0(\"pred_output_\",iter),paste0(error_type,\"_\",iter))])\n",
    "    \n",
    "    # record the general test errors\n",
    "    performance_table_temp = test_predictions_Sub[[2]]\n",
    "    performance_table_temp[[1]] = iter\n",
    "    performance_table = rbind(performance_table,performance_table_temp, use.names = FALSE)\n",
    "    rm(performance_table_temp)   \n",
    "    \n",
    "    output_variables = test_predictions_Sub[[3]]          \n",
    "\n",
    "if(nofEliminatedVariables < (nofparams - 1) ){ # 1 for output , \n",
    "    # Sample from unlabeled data\n",
    "    unlabeled_set <- copy(unlabeled_pool)\n",
    "    train_candidates = sample_selection(selected_ins,unlabeled_set,trainx,trainy)\n",
    "    # Eliminate train candidates from the unlabeled pool\n",
    "    unlabeled_pool = unlabeled_pool[- train_candidates$idx]\n",
    "    rm(unlabeled_set)\n",
    "    # Run ABM to label train candidates\n",
    "#  train_candidates = as.data.table(train_candidates) \n",
    "    print(paste0(\"ABM train_candidate run start time : \",Sys.time()))\n",
    "    train_candidates = run_ABM(nofrep,selected_ins,train_candidates)\n",
    "    print(paste0(\"ABM train_candidate run end time : \",Sys.time()))\n",
    "    \n",
    "    if(iter == 1){\n",
    "        train_candidates_table <- copy(train_candidates)\n",
    "        train_candidates_table$iter <- iter\n",
    "    }else{\n",
    "        train_candidates_temp <- copy(train_candidates)\n",
    "        train_candidates_temp$iter <- iter\n",
    "        \n",
    "        train_candidates_table <- rbindlist(list(train_candidates_table,train_candidates_temp), use.names=TRUE)\n",
    "        rm(train_candidates_temp)\n",
    "    }\n",
    "\n",
    "    # Add new data to train data\n",
    "    LHSample_Ad = rbind(LHSample_Ad,train_candidates[,-c(\"idx\")])\n",
    "         \n",
    "    # order columns according to importances\n",
    "    id_variables = colnames(select(LHSample_Ad, -starts_with(\"pred_\"))) # pred_ouput is always at the end\n",
    "    LHSample_Ad = setcolorder(LHSample_Ad[,.SD, .SDcols = id_variables],ranked_features)\n",
    "    \n",
    "    # Apply feature elimination\n",
    "    feature_elimination_result = feature_elimination(h,nofEliminatedVariables,LHSample_Ad,ranked_features)\n",
    "\n",
    "    columns_left_iter = feature_elimination_result[[1]]# \n",
    "    eliminated_columns = setdiff(columns_left,columns_left_iter) ## bunu historik tut\n",
    "    columns_left = copy(columns_left_iter)\n",
    "    rm(columns_left_iter)\n",
    "    \n",
    "    nofEliminatedVariables = as.numeric(feature_elimination_result[2])                  \n",
    "\n",
    "    \n",
    "#   setcolorder(LHSample_Ad,selected.vars)\n",
    "#    feature_elimination_result = feature_elimination(h,nofEliminatedVariables,LHSample_Ad,selected.vars)\n",
    "    iter = iter + 1\n",
    "    loop = loop + 1\n",
    "  }\n",
    "    \n",
    "   if(loop > iter ){ break }   \n",
    "}\n",
    "print(Sys.time())\n",
    "# plot koy her iteration'da göstersin.\n",
    "#setcolorder(data,variableorder) ################# bunu bi yerlere koyman gerekebilir, dikkat!!"
   ]
  },
  {
   "cell_type": "code",
   "execution_count": 64,
   "metadata": {},
   "outputs": [],
   "source": [
    "# Final records\n",
    "FinalTrainData_AdFe = copy(LHSample_Ad)\n",
    "performance_table_AdFe = copy(performance_table)\n",
    "train_candidates_table_AdFe  = copy(train_candidates_table)\n",
    "predictedLabels_table_AdFe = copy(predictedLabels_table)\n",
    "obb_error_AdFe = copy(obb_error)"
   ]
  },
  {
   "cell_type": "code",
   "execution_count": 65,
   "metadata": {},
   "outputs": [
    {
     "data": {
      "text/html": [
       "205"
      ],
      "text/latex": [
       "205"
      ],
      "text/markdown": [
       "205"
      ],
      "text/plain": [
       "[1] 205"
      ]
     },
     "metadata": {},
     "output_type": "display_data"
    },
    {
     "data": {
      "text/html": [
       "<table>\n",
       "<caption>A data.table: 2 × 4</caption>\n",
       "<thead>\n",
       "\t<tr><th scope=col>iter</th><th scope=col>mae</th><th scope=col>rmse</th><th scope=col>mape</th></tr>\n",
       "\t<tr><th scope=col>&lt;dbl&gt;</th><th scope=col>&lt;dbl&gt;</th><th scope=col>&lt;dbl&gt;</th><th scope=col>&lt;dbl&gt;</th></tr>\n",
       "</thead>\n",
       "<tbody>\n",
       "\t<tr><td>1</td><td>2.084766</td><td> 4.571524</td><td>3.031850</td></tr>\n",
       "\t<tr><td>2</td><td>6.250283</td><td>10.392718</td><td>8.991685</td></tr>\n",
       "</tbody>\n",
       "</table>\n"
      ],
      "text/latex": [
       "A data.table: 2 × 4\n",
       "\\begin{tabular}{r|llll}\n",
       " iter & mae & rmse & mape\\\\\n",
       " <dbl> & <dbl> & <dbl> & <dbl>\\\\\n",
       "\\hline\n",
       "\t 1 & 2.084766 &  4.571524 & 3.031850\\\\\n",
       "\t 2 & 6.250283 & 10.392718 & 8.991685\\\\\n",
       "\\end{tabular}\n"
      ],
      "text/markdown": [
       "\n",
       "A data.table: 2 × 4\n",
       "\n",
       "| iter &lt;dbl&gt; | mae &lt;dbl&gt; | rmse &lt;dbl&gt; | mape &lt;dbl&gt; |\n",
       "|---|---|---|---|\n",
       "| 1 | 2.084766 |  4.571524 | 3.031850 |\n",
       "| 2 | 6.250283 | 10.392718 | 8.991685 |\n",
       "\n"
      ],
      "text/plain": [
       "  iter mae      rmse      mape    \n",
       "1 1    2.084766  4.571524 3.031850\n",
       "2 2    6.250283 10.392718 8.991685"
      ]
     },
     "metadata": {},
     "output_type": "display_data"
    },
    {
     "data": {
      "text/html": [
       "<table>\n",
       "<caption>A data.table: 5 × 5</caption>\n",
       "<thead>\n",
       "\t<tr><th scope=col>density</th><th scope=col>%-similar-wanted</th><th scope=col>idx</th><th scope=col>output</th><th scope=col>iter</th></tr>\n",
       "\t<tr><th scope=col>&lt;dbl&gt;</th><th scope=col>&lt;dbl&gt;</th><th scope=col>&lt;int&gt;</th><th scope=col>&lt;dbl&gt;</th><th scope=col>&lt;dbl&gt;</th></tr>\n",
       "</thead>\n",
       "<tbody>\n",
       "\t<tr><td>66.09709</td><td>77.64091</td><td>427</td><td> 56.54428</td><td>1</td></tr>\n",
       "\t<tr><td>82.76068</td><td>76.43015</td><td>118</td><td> 52.97802</td><td>1</td></tr>\n",
       "\t<tr><td>72.41038</td><td>76.23947</td><td>160</td><td> 54.78693</td><td>1</td></tr>\n",
       "\t<tr><td>38.49721</td><td>77.71332</td><td>293</td><td> 78.04716</td><td>1</td></tr>\n",
       "\t<tr><td>10.75115</td><td>80.23808</td><td>431</td><td>100.00000</td><td>1</td></tr>\n",
       "</tbody>\n",
       "</table>\n"
      ],
      "text/latex": [
       "A data.table: 5 × 5\n",
       "\\begin{tabular}{r|lllll}\n",
       " density & \\%-similar-wanted & idx & output & iter\\\\\n",
       " <dbl> & <dbl> & <int> & <dbl> & <dbl>\\\\\n",
       "\\hline\n",
       "\t 66.09709 & 77.64091 & 427 &  56.54428 & 1\\\\\n",
       "\t 82.76068 & 76.43015 & 118 &  52.97802 & 1\\\\\n",
       "\t 72.41038 & 76.23947 & 160 &  54.78693 & 1\\\\\n",
       "\t 38.49721 & 77.71332 & 293 &  78.04716 & 1\\\\\n",
       "\t 10.75115 & 80.23808 & 431 & 100.00000 & 1\\\\\n",
       "\\end{tabular}\n"
      ],
      "text/markdown": [
       "\n",
       "A data.table: 5 × 5\n",
       "\n",
       "| density &lt;dbl&gt; | %-similar-wanted &lt;dbl&gt; | idx &lt;int&gt; | output &lt;dbl&gt; | iter &lt;dbl&gt; |\n",
       "|---|---|---|---|---|\n",
       "| 66.09709 | 77.64091 | 427 |  56.54428 | 1 |\n",
       "| 82.76068 | 76.43015 | 118 |  52.97802 | 1 |\n",
       "| 72.41038 | 76.23947 | 160 |  54.78693 | 1 |\n",
       "| 38.49721 | 77.71332 | 293 |  78.04716 | 1 |\n",
       "| 10.75115 | 80.23808 | 431 | 100.00000 | 1 |\n",
       "\n"
      ],
      "text/plain": [
       "  density  %-similar-wanted idx output    iter\n",
       "1 66.09709 77.64091         427  56.54428 1   \n",
       "2 82.76068 76.43015         118  52.97802 1   \n",
       "3 72.41038 76.23947         160  54.78693 1   \n",
       "4 38.49721 77.71332         293  78.04716 1   \n",
       "5 10.75115 80.23808         431 100.00000 1   "
      ]
     },
     "metadata": {},
     "output_type": "display_data"
    },
    {
     "data": {
      "text/html": [
       "<table>\n",
       "<caption>A data.table: 6 × 49</caption>\n",
       "<thead>\n",
       "\t<tr><th scope=col>density</th><th scope=col>%-similar-wanted</th><th scope=col>output</th><th scope=col>pred_output_1</th><th scope=col>RMSE_1</th><th scope=col>pred_output_1.1</th><th scope=col>RMSE_1.1</th><th scope=col>pred_output_1.2</th><th scope=col>RMSE_1.2</th><th scope=col>pred_output_1.3</th><th scope=col>...</th><th scope=col>pred_output_15</th><th scope=col>RMSE_15</th><th scope=col>pred_output_16</th><th scope=col>RMSE_16</th><th scope=col>pred_output_17</th><th scope=col>RMSE_17</th><th scope=col>pred_output_18</th><th scope=col>RMSE_18</th><th scope=col>pred_output_19</th><th scope=col>RMSE_19</th></tr>\n",
       "\t<tr><th scope=col>&lt;dbl&gt;</th><th scope=col>&lt;dbl&gt;</th><th scope=col>&lt;dbl&gt;</th><th scope=col>&lt;dbl&gt;</th><th scope=col>&lt;dbl&gt;</th><th scope=col>&lt;dbl&gt;</th><th scope=col>&lt;dbl&gt;</th><th scope=col>&lt;dbl&gt;</th><th scope=col>&lt;dbl&gt;</th><th scope=col>&lt;dbl&gt;</th><th scope=col>...</th><th scope=col>&lt;dbl&gt;</th><th scope=col>&lt;dbl&gt;</th><th scope=col>&lt;dbl&gt;</th><th scope=col>&lt;dbl&gt;</th><th scope=col>&lt;dbl&gt;</th><th scope=col>&lt;dbl&gt;</th><th scope=col>&lt;dbl&gt;</th><th scope=col>&lt;dbl&gt;</th><th scope=col>&lt;dbl&gt;</th><th scope=col>&lt;dbl&gt;</th></tr>\n",
       "</thead>\n",
       "<tbody>\n",
       "\t<tr><td>89.39026</td><td>63.87711</td><td>98.25157</td><td>98.02619</td><td>0.22537562</td><td>98.05625</td><td>0.195312276</td><td>98.07824</td><td>0.173327202</td><td>98.05447</td><td>...</td><td>97.65446</td><td>0.59711062</td><td>97.43004</td><td>0.82152704</td><td>97.76621</td><td>0.48535540</td><td>97.91883</td><td>0.332737480</td><td>97.65357</td><td>0.59799268</td></tr>\n",
       "\t<tr><td>39.27182</td><td>36.46039</td><td>86.97693</td><td>84.78891</td><td>2.18801522</td><td>84.47239</td><td>2.504538564</td><td>84.53018</td><td>2.446747070</td><td>84.82991</td><td>...</td><td>87.29368</td><td>0.31675240</td><td>87.13750</td><td>0.16057395</td><td>87.26244</td><td>0.28551130</td><td>86.97396</td><td>0.002966766</td><td>87.10879</td><td>0.13186123</td></tr>\n",
       "\t<tr><td>30.17455</td><td>57.23629</td><td>98.35179</td><td>98.40070</td><td>0.04891199</td><td>98.45743</td><td>0.105633999</td><td>98.46692</td><td>0.115129388</td><td>98.50400</td><td>...</td><td>98.41585</td><td>0.06405636</td><td>98.42143</td><td>0.06963919</td><td>98.47747</td><td>0.12568084</td><td>98.45857</td><td>0.106780124</td><td>98.44041</td><td>0.08861664</td></tr>\n",
       "\t<tr><td>38.02617</td><td>15.93903</td><td>61.81402</td><td>63.55640</td><td>1.74238149</td><td>63.28558</td><td>1.471563231</td><td>63.02787</td><td>1.213856800</td><td>63.26405</td><td>...</td><td>62.65282</td><td>0.83880274</td><td>62.59872</td><td>0.78470151</td><td>62.60987</td><td>0.79584889</td><td>64.15607</td><td>2.342047583</td><td>64.13604</td><td>2.32202146</td></tr>\n",
       "\t<tr><td>28.12210</td><td>68.05564</td><td>99.86504</td><td>99.87685</td><td>0.01181027</td><td>99.85945</td><td>0.005596987</td><td>99.86997</td><td>0.004930407</td><td>99.87220</td><td>...</td><td>99.87626</td><td>0.01121416</td><td>99.88544</td><td>0.02039341</td><td>99.87770</td><td>0.01265748</td><td>99.88128</td><td>0.016233152</td><td>99.87857</td><td>0.01352749</td></tr>\n",
       "\t<tr><td>75.80979</td><td>17.80044</td><td>57.77487</td><td>58.20129</td><td>0.42642512</td><td>58.22111</td><td>0.446241064</td><td>58.34005</td><td>0.565177852</td><td>58.35384</td><td>...</td><td>57.98234</td><td>0.20747605</td><td>57.54364</td><td>0.23122477</td><td>57.41225</td><td>0.36261793</td><td>57.24022</td><td>0.534646247</td><td>57.46162</td><td>0.31324634</td></tr>\n",
       "</tbody>\n",
       "</table>\n"
      ],
      "text/latex": [
       "A data.table: 6 × 49\n",
       "\\begin{tabular}{r|lllllllllllllllllllllllllllllllllllllllllllllllll}\n",
       " density & \\%-similar-wanted & output & pred\\_output\\_1 & RMSE\\_1 & pred\\_output\\_1 & RMSE\\_1 & pred\\_output\\_1 & RMSE\\_1 & pred\\_output\\_1 & RMSE\\_1 & pred\\_output\\_1 & RMSE\\_1 & pred\\_output\\_2 & RMSE\\_2 & pred\\_output\\_3 & RMSE\\_3 & pred\\_output\\_4 & RMSE\\_4 & pred\\_output\\_5 & RMSE\\_5 & pred\\_output\\_6 & RMSE\\_6 & pred\\_output\\_7 & RMSE\\_7 & pred\\_output\\_8 & RMSE\\_8 & pred\\_output\\_9 & RMSE\\_9 & pred\\_output\\_10 & RMSE\\_10 & pred\\_output\\_11 & RMSE\\_11 & pred\\_output\\_12 & RMSE\\_12 & pred\\_output\\_13 & RMSE\\_13 & pred\\_output\\_14 & RMSE\\_14 & pred\\_output\\_15 & RMSE\\_15 & pred\\_output\\_16 & RMSE\\_16 & pred\\_output\\_17 & RMSE\\_17 & pred\\_output\\_18 & RMSE\\_18 & pred\\_output\\_19 & RMSE\\_19\\\\\n",
       " <dbl> & <dbl> & <dbl> & <dbl> & <dbl> & <dbl> & <dbl> & <dbl> & <dbl> & <dbl> & <dbl> & <dbl> & <dbl> & <dbl> & <dbl> & <dbl> & <dbl> & <dbl> & <dbl> & <dbl> & <dbl> & <dbl> & <dbl> & <dbl> & <dbl> & <dbl> & <dbl> & <dbl> & <dbl> & <dbl> & <dbl> & <dbl> & <dbl> & <dbl> & <dbl> & <dbl> & <dbl> & <dbl> & <dbl> & <dbl> & <dbl> & <dbl> & <dbl> & <dbl> & <dbl> & <dbl> & <dbl> & <dbl> & <dbl>\\\\\n",
       "\\hline\n",
       "\t 89.39026 & 63.87711 & 98.25157 & 98.02619 & 0.22537562 & 98.05625 & 0.195312276 & 98.07824 & 0.173327202 & 98.05447 & 0.197098760 & 98.03056 & 0.2210083809 & 97.94330 & 0.30826312 & 97.93158 & 0.31998628 & 98.00127 & 0.25030114 & 97.96627 & 0.28529765 & 97.82335 & 0.42822053 & 97.97861 & 0.272957617 & 92.90797 & 5.34360024 & 97.69063 & 0.56093872 & 97.72262 & 0.52894609 & 97.77201 & 0.47955704 & 97.53907 & 0.71249800 & 97.80883 & 0.44273957 & 97.70652 & 0.54505048 & 97.65446 & 0.59711062 & 97.43004 & 0.82152704 & 97.76621 & 0.48535540 & 97.91883 & 0.332737480 & 97.65357 & 0.59799268\\\\\n",
       "\t 39.27182 & 36.46039 & 86.97693 & 84.78891 & 2.18801522 & 84.47239 & 2.504538564 & 84.53018 & 2.446747070 & 84.82991 & 2.147012187 & 84.50412 & 2.4728050172 & 84.95562 & 2.02130074 & 84.48682 & 2.49010262 & 84.37765 & 2.59927048 & 84.89914 & 2.07778531 & 84.61098 & 2.36594057 & 84.67029 & 2.306634547 & 84.79688 & 2.18004414 & 84.53603 & 2.44089972 & 84.64505 & 2.33187235 & 85.49186 & 1.48506671 & 85.67639 & 1.30053144 & 86.85389 & 0.12303589 & 87.00821 & 0.03128652 & 87.29368 & 0.31675240 & 87.13750 & 0.16057395 & 87.26244 & 0.28551130 & 86.97396 & 0.002966766 & 87.10879 & 0.13186123\\\\\n",
       "\t 30.17455 & 57.23629 & 98.35179 & 98.40070 & 0.04891199 & 98.45743 & 0.105633999 & 98.46692 & 0.115129388 & 98.50400 & 0.152204509 & 98.55500 & 0.2032076996 & 98.45788 & 0.10608877 & 98.48040 & 0.12860538 & 98.50071 & 0.14891637 & 98.56728 & 0.21549154 & 98.44156 & 0.08976928 & 98.49156 & 0.139767936 & 98.49478 & 0.14298298 & 98.47211 & 0.12031634 & 98.46401 & 0.11221850 & 98.46155 & 0.10975991 & 98.48987 & 0.13808065 & 98.49251 & 0.14071862 & 98.45471 & 0.10292103 & 98.41585 & 0.06405636 & 98.42143 & 0.06963919 & 98.47747 & 0.12568084 & 98.45857 & 0.106780124 & 98.44041 & 0.08861664\\\\\n",
       "\t 38.02617 & 15.93903 & 61.81402 & 63.55640 & 1.74238149 & 63.28558 & 1.471563231 & 63.02787 & 1.213856800 & 63.26405 & 1.450032715 & 63.01077 & 1.1967539341 & 62.94903 & 1.13501497 & 62.93464 & 1.12062297 & 63.15144 & 1.33742552 & 63.20198 & 1.38796168 & 63.25144 & 1.43742110 & 63.30919 & 1.495170872 & 62.84396 & 1.02994256 & 63.04873 & 1.23471274 & 63.06329 & 1.24927232 & 63.25987 & 1.44584745 & 62.88948 & 1.07546156 & 62.51403 & 0.70000825 & 62.80279 & 0.98876991 & 62.65282 & 0.83880274 & 62.59872 & 0.78470151 & 62.60987 & 0.79584889 & 64.15607 & 2.342047583 & 64.13604 & 2.32202146\\\\\n",
       "\t 28.12210 & 68.05564 & 99.86504 & 99.87685 & 0.01181027 & 99.85945 & 0.005596987 & 99.86997 & 0.004930407 & 99.87220 & 0.007156708 & 99.86555 & 0.0005097862 & 99.87798 & 0.01293375 & 99.88593 & 0.02088683 & 99.87837 & 0.01333052 & 99.87764 & 0.01260215 & 99.87933 & 0.01428537 & 99.87169 & 0.006651663 & 99.89312 & 0.02808078 & 99.88496 & 0.01992101 & 99.87696 & 0.01191458 & 99.88025 & 0.01520784 & 99.87998 & 0.01494001 & 99.88984 & 0.02479768 & 99.88322 & 0.01817991 & 99.87626 & 0.01121416 & 99.88544 & 0.02039341 & 99.87770 & 0.01265748 & 99.88128 & 0.016233152 & 99.87857 & 0.01352749\\\\\n",
       "\t 75.80979 & 17.80044 & 57.77487 & 58.20129 & 0.42642512 & 58.22111 & 0.446241064 & 58.34005 & 0.565177852 & 58.35384 & 0.578976248 & 58.46467 & 0.6897995150 & 58.47923 & 0.70436319 & 58.35984 & 0.58497651 & 58.37470 & 0.59983707 & 58.20184 & 0.42697275 & 58.21710 & 0.44223096 & 58.28132 & 0.506454481 & 58.10555 & 0.33067851 & 57.98033 & 0.20545990 & 57.94669 & 0.17181920 & 57.89009 & 0.11521846 & 57.99146 & 0.21659642 & 57.81731 & 0.04244046 & 57.83803 & 0.06316017 & 57.98234 & 0.20747605 & 57.54364 & 0.23122477 & 57.41225 & 0.36261793 & 57.24022 & 0.534646247 & 57.46162 & 0.31324634\\\\\n",
       "\\end{tabular}\n"
      ],
      "text/markdown": [
       "\n",
       "A data.table: 6 × 49\n",
       "\n",
       "| density &lt;dbl&gt; | %-similar-wanted &lt;dbl&gt; | output &lt;dbl&gt; | pred_output_1 &lt;dbl&gt; | RMSE_1 &lt;dbl&gt; | pred_output_1.1 &lt;dbl&gt; | RMSE_1.1 &lt;dbl&gt; | pred_output_1.2 &lt;dbl&gt; | RMSE_1.2 &lt;dbl&gt; | pred_output_1.3 &lt;dbl&gt; | ... ... | pred_output_15 &lt;dbl&gt; | RMSE_15 &lt;dbl&gt; | pred_output_16 &lt;dbl&gt; | RMSE_16 &lt;dbl&gt; | pred_output_17 &lt;dbl&gt; | RMSE_17 &lt;dbl&gt; | pred_output_18 &lt;dbl&gt; | RMSE_18 &lt;dbl&gt; | pred_output_19 &lt;dbl&gt; | RMSE_19 &lt;dbl&gt; |\n",
       "|---|---|---|---|---|---|---|---|---|---|---|---|---|---|---|---|---|---|---|---|---|\n",
       "| 89.39026 | 63.87711 | 98.25157 | 98.02619 | 0.22537562 | 98.05625 | 0.195312276 | 98.07824 | 0.173327202 | 98.05447 | ... | 97.65446 | 0.59711062 | 97.43004 | 0.82152704 | 97.76621 | 0.48535540 | 97.91883 | 0.332737480 | 97.65357 | 0.59799268 |\n",
       "| 39.27182 | 36.46039 | 86.97693 | 84.78891 | 2.18801522 | 84.47239 | 2.504538564 | 84.53018 | 2.446747070 | 84.82991 | ... | 87.29368 | 0.31675240 | 87.13750 | 0.16057395 | 87.26244 | 0.28551130 | 86.97396 | 0.002966766 | 87.10879 | 0.13186123 |\n",
       "| 30.17455 | 57.23629 | 98.35179 | 98.40070 | 0.04891199 | 98.45743 | 0.105633999 | 98.46692 | 0.115129388 | 98.50400 | ... | 98.41585 | 0.06405636 | 98.42143 | 0.06963919 | 98.47747 | 0.12568084 | 98.45857 | 0.106780124 | 98.44041 | 0.08861664 |\n",
       "| 38.02617 | 15.93903 | 61.81402 | 63.55640 | 1.74238149 | 63.28558 | 1.471563231 | 63.02787 | 1.213856800 | 63.26405 | ... | 62.65282 | 0.83880274 | 62.59872 | 0.78470151 | 62.60987 | 0.79584889 | 64.15607 | 2.342047583 | 64.13604 | 2.32202146 |\n",
       "| 28.12210 | 68.05564 | 99.86504 | 99.87685 | 0.01181027 | 99.85945 | 0.005596987 | 99.86997 | 0.004930407 | 99.87220 | ... | 99.87626 | 0.01121416 | 99.88544 | 0.02039341 | 99.87770 | 0.01265748 | 99.88128 | 0.016233152 | 99.87857 | 0.01352749 |\n",
       "| 75.80979 | 17.80044 | 57.77487 | 58.20129 | 0.42642512 | 58.22111 | 0.446241064 | 58.34005 | 0.565177852 | 58.35384 | ... | 57.98234 | 0.20747605 | 57.54364 | 0.23122477 | 57.41225 | 0.36261793 | 57.24022 | 0.534646247 | 57.46162 | 0.31324634 |\n",
       "\n"
      ],
      "text/plain": [
       "  density  %-similar-wanted output   pred_output_1 RMSE_1     pred_output_1.1\n",
       "1 89.39026 63.87711         98.25157 98.02619      0.22537562 98.05625       \n",
       "2 39.27182 36.46039         86.97693 84.78891      2.18801522 84.47239       \n",
       "3 30.17455 57.23629         98.35179 98.40070      0.04891199 98.45743       \n",
       "4 38.02617 15.93903         61.81402 63.55640      1.74238149 63.28558       \n",
       "5 28.12210 68.05564         99.86504 99.87685      0.01181027 99.85945       \n",
       "6 75.80979 17.80044         57.77487 58.20129      0.42642512 58.22111       \n",
       "  RMSE_1.1    pred_output_1.2 RMSE_1.2    pred_output_1.3 ... pred_output_15\n",
       "1 0.195312276 98.07824        0.173327202 98.05447        ... 97.65446      \n",
       "2 2.504538564 84.53018        2.446747070 84.82991        ... 87.29368      \n",
       "3 0.105633999 98.46692        0.115129388 98.50400        ... 98.41585      \n",
       "4 1.471563231 63.02787        1.213856800 63.26405        ... 62.65282      \n",
       "5 0.005596987 99.86997        0.004930407 99.87220        ... 99.87626      \n",
       "6 0.446241064 58.34005        0.565177852 58.35384        ... 57.98234      \n",
       "  RMSE_15    pred_output_16 RMSE_16    pred_output_17 RMSE_17    pred_output_18\n",
       "1 0.59711062 97.43004       0.82152704 97.76621       0.48535540 97.91883      \n",
       "2 0.31675240 87.13750       0.16057395 87.26244       0.28551130 86.97396      \n",
       "3 0.06405636 98.42143       0.06963919 98.47747       0.12568084 98.45857      \n",
       "4 0.83880274 62.59872       0.78470151 62.60987       0.79584889 64.15607      \n",
       "5 0.01121416 99.88544       0.02039341 99.87770       0.01265748 99.88128      \n",
       "6 0.20747605 57.54364       0.23122477 57.41225       0.36261793 57.24022      \n",
       "  RMSE_18     pred_output_19 RMSE_19   \n",
       "1 0.332737480 97.65357       0.59799268\n",
       "2 0.002966766 87.10879       0.13186123\n",
       "3 0.106780124 98.44041       0.08861664\n",
       "4 2.342047583 64.13604       2.32202146\n",
       "5 0.016233152 99.87857       0.01352749\n",
       "6 0.534646247 57.46162       0.31324634"
      ]
     },
     "metadata": {},
     "output_type": "display_data"
    },
    {
     "data": {
      "text/html": [
       "<table>\n",
       "<caption>A data.table: 2 × 2</caption>\n",
       "<thead>\n",
       "\t<tr><th scope=col>obb_error</th><th scope=col>iter</th></tr>\n",
       "\t<tr><th scope=col>&lt;dbl&gt;</th><th scope=col>&lt;dbl&gt;</th></tr>\n",
       "</thead>\n",
       "<tbody>\n",
       "\t<tr><td> 14.91404</td><td>1</td></tr>\n",
       "\t<tr><td>128.74638</td><td>2</td></tr>\n",
       "</tbody>\n",
       "</table>\n"
      ],
      "text/latex": [
       "A data.table: 2 × 2\n",
       "\\begin{tabular}{r|ll}\n",
       " obb\\_error & iter\\\\\n",
       " <dbl> & <dbl>\\\\\n",
       "\\hline\n",
       "\t  14.91404 & 1\\\\\n",
       "\t 128.74638 & 2\\\\\n",
       "\\end{tabular}\n"
      ],
      "text/markdown": [
       "\n",
       "A data.table: 2 × 2\n",
       "\n",
       "| obb_error &lt;dbl&gt; | iter &lt;dbl&gt; |\n",
       "|---|---|\n",
       "|  14.91404 | 1 |\n",
       "| 128.74638 | 2 |\n",
       "\n"
      ],
      "text/plain": [
       "  obb_error iter\n",
       "1  14.91404 1   \n",
       "2 128.74638 2   "
      ]
     },
     "metadata": {},
     "output_type": "display_data"
    }
   ],
   "source": [
    "nrow(FinalTrainData_AdFe)\n",
    "performance_table_AdFe\n",
    "train_candidates_table_AdFe\n",
    "head(predictedLabels_table_AdFe)\n",
    "obb_error_AdFe"
   ]
  },
  {
   "cell_type": "code",
   "execution_count": null,
   "metadata": {},
   "outputs": [],
   "source": [
    "#varImpPlot(model_Ad)"
   ]
  },
  {
   "cell_type": "code",
   "execution_count": null,
   "metadata": {},
   "outputs": [],
   "source": [
    "NLQuit()"
   ]
  }
 ],
 "metadata": {
  "kernelspec": {
   "display_name": "R 3.6",
   "language": "R",
   "name": "ir36"
  },
  "language_info": {
   "codemirror_mode": "r",
   "file_extension": ".r",
   "mimetype": "text/x-r-source",
   "name": "R",
   "pygments_lexer": "r",
   "version": "3.6.1"
  },
  "toc": {
   "base_numbering": 1,
   "nav_menu": {
    "height": "80.9983px",
    "width": "167.995px"
   },
   "number_sections": true,
   "sideBar": true,
   "skip_h1_title": false,
   "title_cell": "Table of Contents",
   "title_sidebar": "Contents",
   "toc_cell": false,
   "toc_position": {
    "height": "calc(100% - 180px)",
    "left": "10px",
    "top": "150px",
    "width": "400px"
   },
   "toc_section_display": true,
   "toc_window_display": true
  }
 },
 "nbformat": 4,
 "nbformat_minor": 2
}
