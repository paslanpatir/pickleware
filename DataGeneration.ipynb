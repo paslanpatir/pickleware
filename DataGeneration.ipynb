{
 "cells": [
  {
   "cell_type": "code",
   "execution_count": 2,
   "metadata": {},
   "outputs": [],
   "source": [
    "rm(list=ls())\n",
    "\n",
    "library(data.table)\n",
    "library(tidyverse)\n",
    "library(rJava)\n",
    "library(RNetLogo)\n",
    "library(lhs)\n",
    "\n",
    "options(warn = -1)"
   ]
  },
  {
   "cell_type": "code",
   "execution_count": 3,
   "metadata": {},
   "outputs": [],
   "source": [
    "nl.model <- \"Segregation\"\n",
    "nl.path <- \"C:/Program Files/NetLogo 6.0.4/app\"\n",
    "file.path <- \"C:/Users/paslanpatir/Desktop/TEZ_v2/\"\n",
    "model.path <- paste0(file.path,nl.model,\".nlogo\")\n",
    "\n",
    "data.path <- \"C:/Users/paslanpatir/Desktop/TEZ_v2/data/\"\n",
    "logFile = paste0(data.path,\"data_log.txt\")\n",
    "\n",
    "NLStart(nl.path, gui = FALSE,nl.jarname='netlogo-6.0.4.jar', nl.obj = nl.model)\n",
    "NLLoadModel (model.path, nl.obj = nl.model)"
   ]
  },
  {
   "cell_type": "code",
   "execution_count": 4,
   "metadata": {},
   "outputs": [],
   "source": [
    "model = ifelse(nl.model == \"Segregation\",\"basic\",\"dummy\")"
   ]
  },
  {
   "cell_type": "code",
   "execution_count": 5,
   "metadata": {},
   "outputs": [],
   "source": [
    "## Set model parameters\n",
    " # Number of replications for each instance\n",
    "nofrep = 10 \n",
    " # order feature names according to their definition order in run_model\n",
    "if(nl.model == \"Segregation_Dummy\"){\n",
    "    feature_names = c(\"density\",\"%-similar-wanted\",\"budget-multiplier-dummy\",\"density-multiplier-dummy\",\"noise-dummy\",\"tick-limit\")  \n",
    " }else if(nl.model == \"Segregation\"){\n",
    "    feature_names = c(\"density\",\"%-similar-wanted\")   \n",
    "}\n",
    "    # \n",
    "output_name = c(\"percent-similar\")\n",
    "\n",
    " # Number of input parameters of the agent-based model\n",
    "nofparams = length(feature_names) "
   ]
  },
  {
   "cell_type": "code",
   "execution_count": 6,
   "metadata": {},
   "outputs": [],
   "source": [
    "unlabeled_ins = c(100,200,300,400,500,600,700,800,900) \n",
    "test_ins = c(200,300,400)\n",
    "train_ins_oneshot = 1\n",
    "train_ins_Ad = 1 "
   ]
  },
  {
   "cell_type": "markdown",
   "metadata": {},
   "source": [
    "# Functions"
   ]
  },
  {
   "cell_type": "code",
   "execution_count": 7,
   "metadata": {},
   "outputs": [],
   "source": [
    "#run_model <- function(feature_names,feature_values){ # both should be in character list format\n",
    "run_model <- function(feature_values){ # both should be in character list format\n",
    "\n",
    "    \n",
    "    k = length(feature_names)    \n",
    "    for(i in 1:k){\n",
    "        NLCommand(paste0(\"set \",feature_names[i],\" \",feature_values[i]), nl.obj = nl.model)      \n",
    "    }\n",
    "    NLCommand(\"setup\", nl.obj = nl.model)\n",
    "    NLDoCommand(100, \"go\", nl.obj = nl.model) \n",
    "    result <- NLReport(output_name, nl.obj = nl.model)\n",
    "    return(result)   \n",
    "}\n",
    "#run_replicas <- function(nofrep,feature_names,feature_values) {\n",
    "run_replicas <- function(nofrep,feature_values) {\n",
    "    replicas = matrix(NA, ncol = nofrep, nrow = 1) # Save the result of each replication\n",
    "    for(i in 1:nofrep){\n",
    "     #   replicas[i]= run_model(feature_names,feature_values)\n",
    "        replicas[i]= run_model(feature_values)\n",
    "    }\n",
    "    aggregated_result = mean(replicas)\n",
    "    return(aggregated_result)\n",
    "}\n",
    "\n",
    "#run_ABM = function(nofrep,nofinstances,unlabeledset,featurenames = feature_names){\n",
    "run_ABM = function(nofrep,nofinstances,unlabeledset){\n",
    "   #unlabeledset = setcolorder(unlabeledset,featurenames) \n",
    "   unlabeledset = setcolorder(unlabeledset,feature_names) \n",
    "   for(i in 1:nofinstances){\n",
    "        #unlabeledset[i, output :=  run_replicas(nofrep,featurenames, as.matrix(unlabeledset[i,]))]    \n",
    "        unlabeledset[i, output :=  run_replicas(nofrep, as.matrix(unlabeledset[i,]))] \n",
    "    } \n",
    "    return(unlabeledset)\n",
    "}\n"
   ]
  },
  {
   "cell_type": "markdown",
   "metadata": {},
   "source": [
    "# Unlabeled Pool"
   ]
  },
  {
   "cell_type": "code",
   "execution_count": 8,
   "metadata": {},
   "outputs": [],
   "source": [
    "for(n in unlabeled_ins){\n",
    "set.seed(n)\n",
    "    \n",
    "unlabeled_pool = as.data.table(maximinLHS(n = n, k = nofparams, dup = 5))\n",
    "\n",
    "if(model == \"basic\"){\n",
    "    unlabeled_pool$V1 = qunif(unlabeled_pool$V1, 10, 90) \n",
    "    unlabeled_pool$V2 = qunif(unlabeled_pool$V2, 10, 90)   \n",
    " }else if(model != \"basic\"){   \n",
    "    unlabeled_pool$V1 = qunif(unlabeled_pool$V1, 10, 90) \n",
    "    unlabeled_pool$V2 = qunif(unlabeled_pool$V2, 10, 90)\n",
    "    unlabeled_pool$V3 = qunif(unlabeled_pool$V3, 1, 10) \n",
    "    unlabeled_pool$V4 = qunif(unlabeled_pool$V4, 0.01, 1)    \n",
    "    unlabeled_pool$V5 = qunif(unlabeled_pool$V5, 0.00001, 0.0001) \n",
    "    unlabeled_pool$V6 = qunif(unlabeled_pool$V6, 90, 110)  \n",
    "}        \n",
    "    setnames(unlabeled_pool, c(paste0(\"V\",1:nofparams)), feature_names)    \n",
    "    unlabeled_pool[,idx := 1:.N]\n",
    "        \n",
    "    fwrite(unlabeled_pool, paste0(data.path,\"unlabeled_pool\",\"_\",model,\"_\",n,\"_\",Sys.Date(),\".csv\"))\n",
    "}"
   ]
  },
  {
   "cell_type": "markdown",
   "metadata": {},
   "source": [
    "# Test Data"
   ]
  },
  {
   "cell_type": "code",
   "execution_count": null,
   "metadata": {},
   "outputs": [],
   "source": [
    "for(k in test_ins){\n",
    "set.seed(k)\n",
    "    \n",
    "test_set = matrix(nrow = k, ncol = nofparams) %>% data.table()\n",
    "setnames(test_set, c(paste0(\"V\",1:nofparams)), feature_names)\n",
    "\n",
    "if(model == \"basic\"){\n",
    "    test_set$density            = runif(k, 10, 90) \n",
    "    test_set$`%-similar-wanted` = runif(k, 10, 90) \n",
    "}else if(model != \"basic\"){\n",
    "    test_set$density                    = runif(k, 10, 90) \n",
    "    test_set$`%-similar-wanted`         = runif(k, 10, 90) \n",
    "    test_set$`budget-multiplier-dummy`  = runif(k, 1, 10) \n",
    "    test_set$`density-multiplier-dummy` = runif(k, 0.01, 1) \n",
    "    test_set$`noise-dummy`              = runif(k, 0.00001, 0.0001) \n",
    "    test_set$`tick-limit`               = runif(k, 90, 110) \n",
    "}\n",
    " \n",
    "\n",
    "    test_start = paste0(\"ABM run start time : \",Sys.time())\n",
    "    print(test_start)\n",
    "    write(paste0(\"test_set\",\"_\",model,\"_\",k,\"   \",test_start),logFile, append=TRUE, sep = \"\\n\" )    \n",
    "\n",
    "    test_set = run_ABM(nofrep,k,test_set) %>% as.data.table()\n",
    "\n",
    "    test_end = paste0(\"ABM run end time : \",Sys.time())\n",
    "    print(test_end)\n",
    "    write(paste0(\"test_set\",\"_\",model,\"_\",k,\"   \",test_end),logFile, append=TRUE, sep = \"\\n\" )    \n",
    "\n",
    "fwrite(test_set, paste0(data.path,\"test_set\",\"_\",model,\"_\",k,\"_\",Sys.Date(),\".csv\"))\n",
    "}"
   ]
  },
  {
   "cell_type": "markdown",
   "metadata": {},
   "source": [
    "# Train Data"
   ]
  },
  {
   "cell_type": "markdown",
   "metadata": {},
   "source": [
    "## One-Shot"
   ]
  },
  {
   "cell_type": "code",
   "execution_count": null,
   "metadata": {},
   "outputs": [],
   "source": [
    "for(m in train_ins_oneshot){\n",
    "set.seed(m)\n",
    "    \n",
    "training_set = as.data.table(maximinLHS(n = m, k = nofparams, dup = 5))\n",
    "\n",
    "if(model == \"basic\"){\n",
    "    training_set$V1 = qunif(training_set$V1, 10, 90) \n",
    "    training_set$V2 = qunif(training_set$V2, 10, 90) \n",
    "}else if(model != \"basic\"){  \n",
    "    training_set$V1 = qunif(training_set$V1, 10, 90) \n",
    "    training_set$V2 = qunif(training_set$V2, 10, 90) \n",
    "    training_set$V3 = qunif(training_set$V3, 1, 10) \n",
    "    training_set$V4 = qunif(training_set$V4, 0.01, 1)    \n",
    "    training_set$V5 = qunif(training_set$V5, 0.00001, 0.0001) \n",
    "    training_set$V6 = qunif(training_set$V6, 90, 110) \n",
    "}\n",
    "    setnames(training_set, c(paste0(\"V\",1:nofparams)), feature_names)\n",
    "    training_set$output <- 0.00\n",
    "\n",
    "    training_start = paste0(\"ABM run start time : \",Sys.time())\n",
    "    print(training_start)\n",
    "    write(paste0(\"training_set\",\"_\",model,\"_\",m,\"   \",training_start),logFile, append=TRUE, sep = \"\\n\" )    \n",
    "\n",
    "    training_set = run_ABM(nofrep,m,training_set) %>% as.data.table()\n",
    "\n",
    "    training_end = paste0(\"ABM run end time : \",Sys.time())\n",
    "    print(training_end)\n",
    "    write(paste0(\"training_set\",\"_\",model,\"_\",m,\"   \",training_end),logFile, append=TRUE, sep = \"\\n\" )    \n",
    "\n",
    "fwrite(test_set, paste0(data.path,\"training_set\",\"_\",model,\"_\",m,\"_\",Sys.Date(),\".csv\"))\n",
    "    }"
   ]
  },
  {
   "cell_type": "markdown",
   "metadata": {},
   "source": [
    "## Sequential Samp."
   ]
  },
  {
   "cell_type": "code",
   "execution_count": null,
   "metadata": {},
   "outputs": [],
   "source": [
    "for(p in train_ins_Ad){\n",
    "set.seed(p)\n",
    "    \n",
    "training_set_Ad = as.data.table(maximinLHS(n = p, k = nofparams, dup = 5))\n",
    "\n",
    "if(model == \"basic\"){\n",
    "    training_set_Ad$V1 = qunif(training_set_Ad$V1, 10, 90) \n",
    "    training_set_Ad$V2 = qunif(training_set_Ad$V2, 10, 90)  \n",
    "}else if(model != \"basic\"){  \n",
    "    training_set_Ad$V1 = qunif(training_set_Ad$V1, 10, 90) \n",
    "    training_set_Ad$V2 = qunif(training_set_Ad$V2, 10, 90)\n",
    "    training_set_Ad$V3 = qunif(training_set_Ad$V3, 1, 10) \n",
    "    training_set_Ad$V4 = qunif(training_set_Ad$V4, 0.01, 1)    \n",
    "    training_set_Ad$V5 = qunif(training_set_Ad$V5, 0.00001, 0.0001) \n",
    "    training_set_Ad$V6 = qunif(training_set_Ad$V6, 90, 110) \n",
    "    \n",
    "}\n",
    "    setnames(training_set_Ad, c(paste0(\"V\",1:nofparams)), feature_names)\n",
    "    training_set_Ad$output <- 0.00\n",
    "  \n",
    "    training_Ad_start = paste0(\"ABM run start time : \",Sys.time())\n",
    "    print(training_Ad_start)\n",
    "    write(paste0(\"training_Ad_set\",\"_\",model,\"_\",p,\"   \",training_Ad_start),logFile, append=TRUE, sep = \"\\n\" )    \n",
    "\n",
    "    training_set_Ad = run_ABM(nofrep,p,training_set_Ad) %>% as.data.table()\n",
    "\n",
    "    training_Ad_end = paste0(\"ABM run end time : \",Sys.time())\n",
    "    print(training_Ad_end)\n",
    "    write(paste0(\"training_Ad_set\",\"_\",model,\"_\",p,\"   \",training_Ad_end),logFile, append=TRUE, sep = \"\\n\" )    \n",
    "\n",
    "fwrite(training_set_Ad, paste0(data.path,\"training_Ad_set\",\"_\",model,\"_\",p,\"_\",Sys.Date(),\".csv\"))\n",
    "}"
   ]
  },
  {
   "cell_type": "code",
   "execution_count": null,
   "metadata": {},
   "outputs": [],
   "source": [
    "NLQuit(all = TRUE)"
   ]
  }
 ],
 "metadata": {
  "kernelspec": {
   "display_name": "R 3.6",
   "language": "R",
   "name": "ir36"
  },
  "language_info": {
   "codemirror_mode": "r",
   "file_extension": ".r",
   "mimetype": "text/x-r-source",
   "name": "R",
   "pygments_lexer": "r",
   "version": "3.6.1"
  },
  "toc": {
   "base_numbering": 1,
   "nav_menu": {},
   "number_sections": true,
   "sideBar": true,
   "skip_h1_title": false,
   "title_cell": "Table of Contents",
   "title_sidebar": "Contents",
   "toc_cell": false,
   "toc_position": {},
   "toc_section_display": true,
   "toc_window_display": false
  }
 },
 "nbformat": 4,
 "nbformat_minor": 2
}
