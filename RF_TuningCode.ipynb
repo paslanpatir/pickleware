{
 "cells": [
  {
   "cell_type": "code",
   "execution_count": null,
   "metadata": {},
   "outputs": [],
   "source": [
    "rm(list = ls())\n",
    "\n",
    "library(data.table)\n",
    "library(tidyverse)\n",
    "library(rJava)\n",
    "library(RNetLogo)\n",
    "\n",
    "library(lhs)  # For maximin Latin hypercube sampling\n",
    "library(ggplot2)\n",
    "library(plotly)  # For beautiful plotting\n",
    "library(caret)\n",
    "library(randomForest)\n",
    "library(factoextra)\n",
    "library(e1071)\n",
    "library(TSrepr)  # for evaluating predictive power\n",
    "\n",
    "require(gridExtra)\n",
    "\n",
    "options(warn = -1)"
   ]
  },
  {
   "cell_type": "code",
   "execution_count": null,
   "metadata": {},
   "outputs": [],
   "source": [
    "nl.model <- \"Segregation\"\n",
    "folder.path = \"C:/Users/paslanpatir/Desktop/TEZ_v2/\"\n",
    "\n",
    "model.type = ifelse(nl.model == \"Segregation\", \"basic\", \"dummy\")\n",
    "# the path of data folder\n",
    "data.path = paste0(folder.path,\"data/\")\n"
   ]
  },
  {
   "cell_type": "code",
   "execution_count": null,
   "metadata": {},
   "outputs": [],
   "source": [
    "train_ins_oneshot = 100\n",
    "metarep = c(1,2,3,4,5)\n",
    "seed.oneshot = c(0,1,2,3,4,5,6,7,8,20)"
   ]
  },
  {
   "cell_type": "code",
   "execution_count": null,
   "metadata": {},
   "outputs": [],
   "source": [
    "#### Data Set ####\n",
    "training_set_all = data.table()\n",
    "\n",
    "for( i in seed.oneshot){\n",
    "    \n",
    "    training_set.name= paste0(data.path,\"training_set\",\"_\",model.type,\"_\",train_ins_oneshot,\"_seed\",i,\".csv\")\n",
    "    training_set <- fread(training_set.name) \n",
    "    \n",
    "    assign(paste0(\"training_set_\",i),training_set)\n",
    "    \n",
    "    training_set_all = rbind(training_set_all,data.table(training_set, \"seed\" = i))\n",
    "    rm(training_set,training_set.name)    \n",
    "}\n",
    "\n",
    "one_shot_data = copy(training_set_all)"
   ]
  },
  {
   "cell_type": "markdown",
   "metadata": {},
   "source": [
    "# e1071"
   ]
  },
  {
   "cell_type": "markdown",
   "metadata": {},
   "source": [
    "## Leave-one-out"
   ]
  },
  {
   "cell_type": "code",
   "execution_count": null,
   "metadata": {},
   "outputs": [],
   "source": [
    "## tune.RandomForest ( e1071 )\n",
    " print(paste0(\" Tuning start time : \", Sys.time()))\n",
    "       \n",
    "for (i in seed.oneshot) {\n",
    "    \n",
    "    training_set = copy(one_shot_data[seed == i, .SD, .SDcols = -c(\"seed\")])\n",
    "    for (r in metarep) {\n",
    "\n",
    "    training_set.name= paste0(data.path,\"training_set\",\"_\",model.type,\"_\",train_ins_oneshot,\"_seed\",i,\".csv\")\n",
    "    training_set <- fread(training_set.name) \n",
    "\n",
    "    tuning = tune.randomForest(x = training_set[, -c(\"output\")]\n",
    "                             , y = training_set$output\n",
    "                             , ntree = c(10,50,100,200,300,400)\n",
    "                             , mtry = c(1,2)\n",
    "                             , tunecontrol = tune.control(sampling = \"cross\", cross = length(training_set$output)))\n",
    "\n",
    "tune = data.table(\"seed\" = i ,\"rep\" = r\n",
    ", ntree = tuning$best.parameters$ntree \n",
    ", mtry = tuning$best.parameters$mtry \n",
    ", best_perf = tuning$best.performance ) \n",
    "\n",
    "            fwrite(tune,paste0(folder.path,model.type,\"_train\",train_ins_oneshot,\"_tune\",\".csv\") ,append = TRUE)\n",
    "\n",
    "print(paste0(\"seed = \",i,\"    rep = \",r))\n",
    "\n",
    "}\n",
    "}\n",
    "print(paste0(\" Tuning end time : \", Sys.time()))"
   ]
  },
  {
   "cell_type": "markdown",
   "metadata": {},
   "source": [
    "# 10-fold CrossValidation\n"
   ]
  },
  {
   "cell_type": "code",
   "execution_count": null,
   "metadata": {},
   "outputs": [],
   "source": [
    "## tune.RandomForest ( e1071 )\n",
    " print(paste0(\" Tuning start time : \", Sys.time()))\n",
    "       \n",
    "for (i in seed.oneshot) {\n",
    "    \n",
    "    training_set = copy(one_shot_data[seed == i, .SD, .SDcols = -c(\"seed\")])\n",
    "    for (r in metarep) {\n",
    "\n",
    "    training_set.name= paste0(data.path,\"training_set\",\"_\",model.type,\"_\",train_ins_oneshot,\"_seed\",i,\".csv\")\n",
    "    training_set <- fread(training_set.name) \n",
    "\n",
    "    tuning = tune.randomForest(x = training_set[, -c(\"output\")]\n",
    "                             , y = training_set$output\n",
    "                             , ntree = c(10,50,100,200,300,400)\n",
    "                             , mtry = c(1,2)\n",
    "                             , tunecontrol = tune.control(sampling = \"cross\", cross = 10))\n",
    "\n",
    "tune = data.table(\"seed\" = i ,\"rep\" = r\n",
    ", ntree = tuning$best.parameters$ntree \n",
    ", mtry = tuning$best.parameters$mtry \n",
    ", best_perf = tuning$best.performance ) \n",
    "\n",
    "            fwrite(tune,paste0(folder.path,model.type,\"_10Fold_train\",train_ins_oneshot,\"_tune\",\".csv\") ,append = TRUE)\n",
    "\n",
    "print(paste0(\"seed = \",i,\"    rep = \",r))\n",
    "\n",
    "}\n",
    "}\n",
    "print(paste0(\" Tuning end time : \", Sys.time()))"
   ]
  },
  {
   "cell_type": "markdown",
   "metadata": {},
   "source": [
    "# randomForest "
   ]
  },
  {
   "cell_type": "code",
   "execution_count": null,
   "metadata": {},
   "outputs": [],
   "source": [
    "# print(paste0(\" Tuning start time : \", Sys.time()))\n",
    "#       \n",
    "#for (i in seed.oneshot) {\n",
    "#    \n",
    "#    training_set = copy(one_shot_data[seed == i, .SD, .SDcols = -c(\"seed\")])\n",
    "#    for (r in metarep) {\n",
    "#\n",
    "#    training_set.name= paste0(data.path,\"training_set\",\"_\",model.type,\"_\",train_ins_oneshot,\"_seed\",i,\".csv\")\n",
    "#    training_set <- fread(training_set.name) \n",
    "#\n",
    "#    tuning = tune.randomForest(x = training_set[, -c(\"output\")]\n",
    "#                             , y = training_set$output\n",
    "#                             , mtryStart = 2\n",
    "#                             , ntreeTry=50\n",
    "#                             , stepFactor=2\n",
    "#                             , improve=0.05\n",
    "#                             ,trace=TRUE, plot=FALSE, doBest=TRUE)\n",
    "#\n",
    "#tune = data.table(\"seed\" = i ,\"rep\" = r\n",
    "#, ntree = tuning$best.parameters$ntree \n",
    "#, mtry = tuning$best.parameters$mtry \n",
    "#, best_perf = tuning$best.performance ) \n",
    "#\n",
    "#            fwrite(tune,paste0(folder.path,model.type,\"_train100_tune\",\".csv\") ,append = TRUE)\n",
    "#\n",
    "#print(paste0(\"seed = \",i,\"    rep = \",r))\n",
    "#\n",
    "#}\n",
    "#}\n",
    "#print(paste0(\" Tuning end time : \", Sys.time()))"
   ]
  }
 ],
 "metadata": {
  "kernelspec": {
   "display_name": "R 3.6",
   "language": "R",
   "name": "ir36"
  },
  "language_info": {
   "codemirror_mode": "r",
   "file_extension": ".r",
   "mimetype": "text/x-r-source",
   "name": "R",
   "pygments_lexer": "r",
   "version": "3.6.1"
  },
  "toc": {
   "base_numbering": 1,
   "nav_menu": {},
   "number_sections": true,
   "sideBar": true,
   "skip_h1_title": false,
   "title_cell": "Table of Contents",
   "title_sidebar": "Contents",
   "toc_cell": false,
   "toc_position": {},
   "toc_section_display": true,
   "toc_window_display": false
  }
 },
 "nbformat": 4,
 "nbformat_minor": 2
}
