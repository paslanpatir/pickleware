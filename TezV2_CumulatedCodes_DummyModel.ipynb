{
 "cells": [
  {
   "cell_type": "markdown",
   "metadata": {},
   "source": [
    "# Loading Packages & Initialization"
   ]
  },
  {
   "cell_type": "markdown",
   "metadata": {},
   "source": [
    "reference : https://gist.github.com/mertedali/ab7078b9c29dea18c72525239d636b96"
   ]
  },
  {
   "cell_type": "code",
   "execution_count": 2,
   "metadata": {},
   "outputs": [],
   "source": [
    "rm(list=ls())\n",
    "\n",
    "library(data.table)\n",
    "library(tidyverse)\n",
    "library(rJava)\n",
    "library(RNetLogo)\n",
    "\n",
    "library(lhs) # For maximin Latin hypercube sampling\n",
    "library(ggplot2)\n",
    "library(caret)\n",
    "library(randomForest)\n",
    "library(factoextra)\n",
    "library(e1071)\n",
    "library(TSrepr) # for evaluating predictive power\n",
    "\n",
    "options(warn = -1)"
   ]
  },
  {
   "cell_type": "code",
   "execution_count": 5,
   "metadata": {},
   "outputs": [],
   "source": [
    "# Select if data generation is wanted\n",
    "GenerateTTData <- 1"
   ]
  },
  {
   "cell_type": "code",
   "execution_count": 4,
   "metadata": {},
   "outputs": [],
   "source": [
    "Is_Headless <- 1\n",
    "nl.model <- \"Segregation_Dummy\"\n",
    "\n",
    "nl.path <- \"C:/Program Files/NetLogo 6.0.4/app\"\n",
    "model.path <- paste0(\"C:/Users/paslanpatir/Desktop/TEZ_v2/\",nl.model,\".nlogo\")\n",
    "\n",
    "if (Is_Headless == 0){\n",
    "    NLStart(nl.path, gui = TRUE,nl.jarname='netlogo-6.0.4.jar')\n",
    "    NLLoadModel (model.path)\n",
    "    } else {\n",
    "    NLStart(nl.path, gui = FALSE,nl.jarname='netlogo-6.0.4.jar')\n",
    "    NLLoadModel (model.path)\n",
    "    \n",
    "    #NLStart(nl.path, gui = FALSE,nl.jarname='netlogo-6.0.4.jar', nl.obj = nl.model)\n",
    "    #NLLoadModel (model.path, nl.obj = nl.model )\n",
    "    }"
   ]
  },
  {
   "cell_type": "markdown",
   "metadata": {},
   "source": [
    "# Model Parameters & Functions"
   ]
  },
  {
   "cell_type": "markdown",
   "metadata": {},
   "source": [
    "## Set model parameters"
   ]
  },
  {
   "cell_type": "code",
   "execution_count": 6,
   "metadata": {},
   "outputs": [],
   "source": [
    "set.seed(1)\n",
    "\n",
    "## Set model parameters\n",
    " # Number of replications for each instance\n",
    "nofrep = 1     \n",
    "\n",
    "# Number of iterations\n",
    "numiter = 10\n",
    " # order feature names according to their definition order in run_model\n",
    "feature_names = c(\"density\",\"%-similar-wanted\",\"budget-multiplier-dummy\",\"density-multiplier-dummy\",\"noise-dummy\",\"tick-limit\")  \n",
    " # \n",
    "output_name = c(\"percent-similar\")\n",
    "\n",
    " # Number of input parameters of the agent-based model\n",
    "nofparams = length(feature_names)      \n",
    "\n",
    "# set RF parameters\n",
    "ntree = 400\n",
    "mtry = 2"
   ]
  },
  {
   "cell_type": "markdown",
   "metadata": {},
   "source": [
    "## Set user parameters"
   ]
  },
  {
   "cell_type": "code",
   "execution_count": 7,
   "metadata": {},
   "outputs": [],
   "source": [
    "error_type = \"RMSE\" # MAPE, BIAS\n",
    "\n",
    "# choose the uncertainty measure\n",
    "selection_metric <- \"sd\" #, \"range\" \n",
    "\n",
    "unlabeled_ins = 700 \n",
    "test_ins = 400\n",
    "train_ins_oneshot = 700\n",
    "train_ins_Ad = 200\n",
    "\n",
    "# Set selection parameters\n",
    "selected_ins = 5 #nofinstancesWillbeSelected in each step\n",
    "\n",
    "# Set elimination parameters\n",
    "h <- 1 # number of variables eliminated in each step\n"
   ]
  },
  {
   "cell_type": "markdown",
   "metadata": {},
   "source": [
    "## Define functions"
   ]
  },
  {
   "cell_type": "code",
   "execution_count": 8,
   "metadata": {},
   "outputs": [],
   "source": [
    "#run_model <- function(feature_names,feature_values){ # both should be in character list format\n",
    "run_model <- function(feature_values){ # both should be in character list format\n",
    "\n",
    "    \n",
    "    k = length(feature_names)    \n",
    "    for(i in 1:k){\n",
    "        NLCommand(paste0(\"set \",feature_names[i],\" \",feature_values[i]))      \n",
    "    }\n",
    "    NLCommand(\"setup\")\n",
    "    NLDoCommand(100, \"go\") \n",
    "    result <- NLReport(output_name)\n",
    "    return(result)   \n",
    "}"
   ]
  },
  {
   "cell_type": "code",
   "execution_count": 9,
   "metadata": {},
   "outputs": [],
   "source": [
    "#run_replicas <- function(nofrep,feature_names,feature_values) {\n",
    "run_replicas <- function(nofrep,feature_values) {\n",
    "    replicas = matrix(NA, ncol = nofrep, nrow = 1) # Save the result of each replication\n",
    "    for(i in 1:nofrep){\n",
    "     #   replicas[i]= run_model(feature_names,feature_values)\n",
    "        replicas[i]= run_model(feature_values)\n",
    "    }\n",
    "    aggregated_result = mean(replicas)\n",
    "    return(aggregated_result)\n",
    "}"
   ]
  },
  {
   "cell_type": "code",
   "execution_count": 10,
   "metadata": {},
   "outputs": [],
   "source": [
    "#run_ABM = function(nofrep,nofinstances,unlabeledset,featurenames = feature_names){\n",
    "run_ABM = function(nofrep,nofinstances,unlabeledset){\n",
    "   #unlabeledset = setcolorder(unlabeledset,featurenames) \n",
    "   unlabeledset = setcolorder(unlabeledset,feature_names) \n",
    "   for(i in 1:nofinstances){\n",
    "        #unlabeledset[i, output :=  run_replicas(nofrep,featurenames, as.matrix(unlabeledset[i,]))]    \n",
    "        unlabeledset[i, output :=  run_replicas(nofrep, as.matrix(unlabeledset[i,]))] \n",
    "    } \n",
    "    return(unlabeledset)\n",
    "}\n"
   ]
  },
  {
   "cell_type": "code",
   "execution_count": 11,
   "metadata": {},
   "outputs": [],
   "source": [
    "#error functions on test data\n",
    "rmse_func <- function(actual, predicted){\n",
    "    error = predicted - actual\n",
    "    return(sqrt(mean(error^2)))\n",
    "}\n",
    "\n",
    "mape_func <- function(actual,predicted){\n",
    "    return( (abs(actual - predicted)/ actual)*100 )\n",
    "}\n",
    "\n",
    "bias_func <- function(actual,predicted){\n",
    "    return( (actual - predicted)/ actual )\n",
    "}\n",
    "\n",
    "#error functions on train data\n",
    "obb_error_func <- function(model){\n",
    "   if(model$type == \"regression\"){\n",
    "        oob_error = model$mse[model$ntree] \n",
    "    }else if(model$type == \"classification\"){\n",
    "        oob_error = model$err.rate \n",
    "    } \n",
    "    return(oob_error)\n",
    "}\n"
   ]
  },
  {
   "cell_type": "code",
   "execution_count": 12,
   "metadata": {},
   "outputs": [],
   "source": [
    "# prediction functions\n",
    "get_test_predictions <- function(model,testset,errortype){\n",
    "    \n",
    "    predictedLabels <- predict(model, testset)\n",
    "    predictedLabels <- cbind(testset,predictedLabels)\n",
    "    setnames(predictedLabels, \"predictedLabels\",\"pred_output\")\n",
    "\n",
    "    output_variables = colnames(select(predictedLabels, contains(\"output\")))\n",
    "    # output_variables[1] = true output\n",
    "    # output_variables[2] = predicted output\n",
    "    \n",
    "    #output_variables = colnames(predictedLabels[,1:(ncol(predictedLabels) - 2)])\n",
    "    \n",
    "    if(error_type == \"MAPE\"){\n",
    "        predictedLabels[,MAPE := mapply(function(x,y) mape_func(x,y),get(output_variables[1]),get(output_variables[2]))]\n",
    "          }\n",
    "    if(error_type == \"RMSE\"){\n",
    "        predictedLabels[,RMSE := mapply(function(x,y) rmse_func(x,y),get(output_variables[1]),get(output_variables[2]))]\n",
    "          }\n",
    "    if(error_type == \"BIAS\"){\n",
    "        predictedLabels[,BIAS := mapply(function(x,y) bias_func(x,y),get(output_variables[1]),get(output_variables[2]))]\n",
    "           } \n",
    "                                  \n",
    "     output_variables_1 = predictedLabels[,get(output_variables[1]), with = TRUE]\n",
    "     output_variables_2 = predictedLabels[,get(output_variables[2]), with = TRUE]\n",
    "    \n",
    "     performance_temp = matrix(c(1:4), nrow = 1, ncol = 4)\n",
    "     performance_temp[1] = 1 #t ################\n",
    "     performance_temp[2] =  mae(output_variables_1 , output_variables_2)\n",
    "     performance_temp[3] = rmse(output_variables_1 , output_variables_2)\n",
    "     performance_temp[4] = mape(output_variables_1 , output_variables_2)\n",
    "    \n",
    "    return(list(predictedLabels,performance_temp,output_variables))\n",
    "    \n",
    "} "
   ]
  },
  {
   "cell_type": "code",
   "execution_count": 13,
   "metadata": {},
   "outputs": [],
   "source": [
    "# Adaptive sample selection function with an uncertainty measure depending on \"selection_metric\"\n",
    "sample_selection <- function(selected_ins,unlabeled_set,datax,datay){\n",
    "\n",
    "    rf <- randomForest(x = datax, y = datay, importance = TRUE ,ntree = ntree, mtry = mtry )\n",
    "    ind_pred <- t(predict(rf, unlabeled_set,predict.all = TRUE)$individual) %>% data.table() # predictions by each tree in the forest\n",
    "    \n",
    "    ind_pred_eval = data.table()\n",
    "    \n",
    "    # standard deviation calculation\n",
    "    s_dev = sapply(ind_pred, sd) %>% data.table()\n",
    "    setnames(s_dev,\".\",\"sd\")\n",
    "    ind_pred_eval = cbind(ind_pred_eval,s_dev)\n",
    "    \n",
    "    # range calculation\n",
    "    range = sapply(ind_pred, range) %>% t() %>% data.table()\n",
    "    range = range[,.(range = abs(range[,1] - range[,2]))]\n",
    "    setnames(range,\"range.V1\",\"range\")\n",
    "    ind_pred_eval = cbind(ind_pred_eval,range)\n",
    "        \n",
    "    ind_pred_eval[,idx := 1:.N]\n",
    "    \n",
    "    if(selection_metric == \"sd\") {\n",
    "      ind_pred_eval = ind_pred_eval[order(-sd)][1:selected_ins]\n",
    "    }else if(selection_metric == \"range\"){\n",
    "      ind_pred_eval = ind_pred_eval[order(-range)][1:selected_ins]\n",
    "    }\n",
    "    \n",
    "    unlabeled_set[,idx := 1:.N]    \n",
    "    train_candidates = unlabeled_set[ind_pred_eval$idx]\n",
    "    \n",
    "    return(train_candidates)\n",
    "}\n"
   ]
  },
  {
   "cell_type": "code",
   "execution_count": 14,
   "metadata": {},
   "outputs": [],
   "source": [
    "# Random sample selection\n",
    "random_sample_selection <- function(selected_ins,unlabeled_set){\n",
    "  \n",
    "    unlabeled_set[,idx := 1:.N]\n",
    "    \n",
    "    train_candidate_idx = sample(unlabeled_set$idx, selected_ins, replace = FALSE, prob = NULL)   \n",
    "    train_candidates = unlabeled_set[idx %in% train_candidate_idx]\n",
    "    \n",
    "    return(train_candidates)\n",
    "}"
   ]
  },
  {
   "cell_type": "code",
   "execution_count": 15,
   "metadata": {},
   "outputs": [],
   "source": [
    "get_variable_importance <- function(model){\n",
    "    importances <- importance(model, type = 1, scale = FALSE)\n",
    "    selected.vars <- order(importances, decreasing = TRUE)\n",
    "    ranked_features = feature_names[selected.vars]\n",
    "    ordered.importances <- importances[selected.vars]\n",
    "    \n",
    "    return(ranked_features)\n",
    "}                      "
   ]
  },
  {
   "cell_type": "code",
   "execution_count": 81,
   "metadata": {},
   "outputs": [],
   "source": [
    "# Define functions\n",
    "### make sure run this line only once, or in odd numbers (3,5,7..) ###\n",
    "feature_elimination <- function(h,nofEliminatedVariables,data,variableorder){ \n",
    "   # feature number\n",
    "    setcolorder(data,variableorder)\n",
    "    p <- ncol(data[,-c(\"output\")]) \n",
    "    columns_left = colnames(data[, .SD, .SDcols = c(1:(p - nofEliminatedVariables - h))])\n",
    "           \n",
    "    return(list(columns_left, h + nofEliminatedVariables))  \n",
    "}"
   ]
  },
  {
   "cell_type": "markdown",
   "metadata": {},
   "source": [
    "# Generate Unlabeled Data Pool"
   ]
  },
  {
   "cell_type": "markdown",
   "metadata": {},
   "source": [
    "## Latin hyper cube sampling"
   ]
  },
  {
   "cell_type": "code",
   "execution_count": 17,
   "metadata": {},
   "outputs": [],
   "source": [
    "if(GenerateTTData == 1){\n",
    "    unlabeled_pool = as.data.table(maximinLHS(n = unlabeled_ins, k = nofparams, dup = 5))\n",
    "    \n",
    "    unlabeled_pool$V1 = qunif(unlabeled_pool$V1, 10, 90) \n",
    "    unlabeled_pool$V2 = qunif(unlabeled_pool$V2, 10, 90)\n",
    "    unlabeled_pool$V3 = qunif(unlabeled_pool$V3, 1, 10) \n",
    "    unlabeled_pool$V4 = qunif(unlabeled_pool$V4, 0.01, 1)    \n",
    "    unlabeled_pool$V5 = qunif(unlabeled_pool$V5, 0.00001, 0.0001) \n",
    "    unlabeled_pool$V6 = qunif(unlabeled_pool$V6, 90, 110)  \n",
    "    \n",
    "    setnames(unlabeled_pool, c(paste0(\"V\",1:nofparams)), feature_names)\n",
    "    \n",
    "    unlabeled_pool[,idx := 1:.N]\n",
    "        \n",
    "    fwrite(unlabeled_pool, paste0(\"C:/Users/paslanpatir/Desktop/TEZ_v2/unlabeled_pool_\",Sys.Date(),\".csv\"))\n",
    "}else{\n",
    "    unlabeled_pool <- fread(\"C:/Users/paslanpatir/Desktop/TEZ_v2/unlabeled_pool_04122019.csv\")   \n",
    "}"
   ]
  },
  {
   "cell_type": "code",
   "execution_count": 18,
   "metadata": {},
   "outputs": [
    {
     "data": {
      "image/png": "[encoded data removed]",
      "text/plain": [
       "plot without title"
      ]
     },
     "metadata": {},
     "output_type": "display_data"
    }
   ],
   "source": [
    "pca_unlabeled_pool <- princomp(unlabeled_pool[,-c(\"idx\")], cor = TRUE, scores = TRUE)\n",
    "pca_unlabeled_pool_components <- get_pca_ind(pca_unlabeled_pool)\n",
    "p_unlabeled_pool <- ggplot(data = data.table(pca_unlabeled_pool_components$coord[,1:2]), aes(x = Dim.1, y = Dim.2)) +\n",
    "                    geom_point() +\n",
    "                    labs( title = \"\") \n",
    "p_unlabeled_pool\n"
   ]
  },
  {
   "cell_type": "markdown",
   "metadata": {},
   "source": [
    "# Generate Test Set"
   ]
  },
  {
   "cell_type": "code",
   "execution_count": 19,
   "metadata": {
    "scrolled": true
   },
   "outputs": [
    {
     "name": "stdout",
     "output_type": "stream",
     "text": [
      "[1] \"ABM run start time : 2019-12-20 09:29:58\"\n",
      "[1] \"ABM run end time : 2019-12-20 09:36:00\"\n"
     ]
    }
   ],
   "source": [
    "if(GenerateTTData == 1){\n",
    "    test_set <- head(unlabeled_pool,test_ins)\n",
    "    \n",
    "    ################## Buraya variale'ların datatipine göre bir şeyler yazılabilir\n",
    "    test_set$density                    = runif(test_ins, 10, 90) \n",
    "    test_set$`%-similar-wanted`         = runif(test_ins, 10, 90) \n",
    "    test_set$`budget-multiplier-dummy`  = runif(test_ins, 1, 10) \n",
    "    test_set$`density-multiplier-dummy` = runif(test_ins, 0.01, 1) \n",
    "    test_set$`noise-dummy`              = runif(test_ins, 0.00001, 0.0001) \n",
    "    test_set$`tick-limit`               = runif(test_ins, 90, 110) \n",
    "    \n",
    "    test_set[,c(\"idx\"):= NULL]\n",
    "      \n",
    "    print(paste0(\"ABM run start time : \",Sys.time()))\n",
    "    test_set = run_ABM(nofrep,test_ins,test_set) %>% as.data.table()\n",
    "    print(paste0(\"ABM run end time : \",Sys.time()))\n",
    "    \n",
    "    fwrite(test_set, paste0(\"C:/Users/paslanpatir/Desktop/TEZ_v2/test_set_\",Sys.Date(),\".csv\"))\n",
    "}else{\n",
    "    test_set <- fread(\"C:/Users/paslanpatir/Desktop/TEZ_v2/test_set_04122019.csv\")  \n",
    "}"
   ]
  },
  {
   "cell_type": "markdown",
   "metadata": {},
   "source": [
    "10 * 10 ~ 1 min\n",
    "100 * 10 ~ 14 min\n",
    "900 * 10 ~ 09:16 -- 2019-12-03 07:54:10 +03\""
   ]
  },
  {
   "cell_type": "code",
   "execution_count": 21,
   "metadata": {},
   "outputs": [
    {
     "data": {
      "image/png": "[encoded data removed]",
      "text/plain": [
       "plot without title"
      ]
     },
     "metadata": {},
     "output_type": "display_data"
    }
   ],
   "source": [
    "pca_test_set <- princomp(test_set, cor = TRUE, scores = TRUE)\n",
    "pca_test_set_components <- get_pca_ind(pca_test_set)\n",
    "p_test_set <- ggplot(data = data.table(pca_test_set_components$coord[,1:2]), aes(x = Dim.1, y = Dim.2)) +\n",
    "                    geom_point() +\n",
    "                    labs( title = \"\") \n",
    "p_test_set"
   ]
  },
  {
   "cell_type": "markdown",
   "metadata": {},
   "source": [
    "# Benchmark : One-shot sampling, No feature elimination"
   ]
  },
  {
   "cell_type": "markdown",
   "metadata": {},
   "source": [
    "## Generate Training Set"
   ]
  },
  {
   "cell_type": "markdown",
   "metadata": {},
   "source": [
    "Select a very big data pool ( nofinstances should be very high ) , like 1000"
   ]
  },
  {
   "cell_type": "code",
   "execution_count": 23,
   "metadata": {},
   "outputs": [
    {
     "name": "stdout",
     "output_type": "stream",
     "text": [
      "[1] \"ABM run start time : 2019-12-20 09:37:14\"\n",
      "[1] \"ABM run end time : 2019-12-20 09:44:53\"\n"
     ]
    }
   ],
   "source": [
    "if(GenerateTTData == 1){\n",
    "    LHSample = as.data.table(maximinLHS(n = train_ins_oneshot, k = nofparams, dup = 5))\n",
    "    \n",
    "    LHSample$V1 = qunif(LHSample$V1, 10, 90) \n",
    "    LHSample$V2 = qunif(LHSample$V2, 10, 90) \n",
    "    LHSample$V3 = qunif(LHSample$V3, 1, 10) \n",
    "    LHSample$V4 = qunif(LHSample$V4, 0.01, 1)    \n",
    "    LHSample$V5 = qunif(LHSample$V5, 0.00001, 0.0001) \n",
    "    LHSample$V6 = qunif(LHSample$V6, 90, 110)  \n",
    "    \n",
    "    setnames(LHSample, c(paste0(\"V\",1:nofparams)), feature_names)\n",
    "   \n",
    "    LHSample$output <- 0.00\n",
    "    \n",
    "    print(paste0(\"ABM run start time : \",Sys.time()))\n",
    "    LHSample = run_ABM(nofrep,train_ins_oneshot,LHSample) %>% as.data.table()\n",
    "    print(paste0(\"ABM run end time : \",Sys.time()))\n",
    "    \n",
    "    fwrite(LHSample, paste0(\"C:/Users/paslanpatir/Desktop/TEZ_v2/LHSample_Data\",Sys.Date(),\".csv\"))\n",
    "    \n",
    "}else{\n",
    "    LHSample <- fread(\"C:/Users/paslanpatir/Desktop/TEZ_v2/LHSample_Data_04122019.csv\")\n",
    "}"
   ]
  },
  {
   "cell_type": "code",
   "execution_count": 24,
   "metadata": {},
   "outputs": [],
   "source": [
    "one_shot_data = copy(LHSample)"
   ]
  },
  {
   "cell_type": "markdown",
   "metadata": {},
   "source": [
    "### Visualization"
   ]
  },
  {
   "cell_type": "code",
   "execution_count": 26,
   "metadata": {},
   "outputs": [
    {
     "data": {
      "image/png": "[encoded data removed]",
      "text/plain": [
       "plot without title"
      ]
     },
     "metadata": {},
     "output_type": "display_data"
    }
   ],
   "source": [
    "pca_LHSample <- princomp(LHSample[,.SD, .SDcols = !c(\"output\")], cor = TRUE, scores = TRUE)\n",
    "\n",
    "#fviz_pca_ind(pca_LHSample,\n",
    "#             col.ind = \"cos2\", # Color by the quality of representation\n",
    "#             gradient.cols = c(\"#00AFBB\", \"#E7B800\", \"#FC4E07\"),\n",
    "#              geom=\"point\"\n",
    "#             )\n",
    "\n",
    "pca_LHSample_components <- get_pca_ind(pca_LHSample)\n",
    "pca_LHSample_components <-cbind(pca_LHSample_components$coord[,1:2],LHSample[,.SD, .SDcols = c(\"output\")])\n",
    "p_LHSample <- ggplot(data = pca_LHSample_components, aes(x = Dim.1, y = Dim.2)) +\n",
    "             geom_point(aes(colour = output)) +\n",
    "             labs( title = \"\", legend = \"output\") \n",
    "p_LHSample"
   ]
  },
  {
   "cell_type": "markdown",
   "metadata": {},
   "source": [
    "## Train & Test Metamodel"
   ]
  },
  {
   "cell_type": "code",
   "execution_count": 27,
   "metadata": {},
   "outputs": [
    {
     "data": {
      "text/plain": [
       "\n",
       "Call:\n",
       " randomForest(x = LHSample[, -c(\"output\")], y = LHSample$output,      ntree = ntree, mtry = mtry, importance = TRUE) \n",
       "               Type of random forest: regression\n",
       "                     Number of trees: 400\n",
       "No. of variables tried at each split: 2\n",
       "\n",
       "          Mean of squared residuals: 29.47793\n",
       "                    % Var explained: 90.3"
      ]
     },
     "metadata": {},
     "output_type": "display_data"
    }
   ],
   "source": [
    "model_oneshot <- randomForest(x = LHSample[, -c(\"output\")], y = LHSample$output, importance = TRUE,ntree = ntree, mtry = mtry)\n",
    "model_oneshot"
   ]
  },
  {
   "cell_type": "code",
   "execution_count": 28,
   "metadata": {},
   "outputs": [],
   "source": [
    "obb_error_oneshot <- obb_error_func(model_oneshot)"
   ]
  },
  {
   "cell_type": "code",
   "execution_count": null,
   "metadata": {},
   "outputs": [],
   "source": [
    "#OBB_pred = cbind(LHSample$output,model_oneshot$predicted)\n",
    "#names(OBB_pred) <- c(\"actual\",\"predicted\")"
   ]
  },
  {
   "cell_type": "code",
   "execution_count": 29,
   "metadata": {},
   "outputs": [
    {
     "data": {
      "image/png": "[encoded data removed]",
      "text/plain": [
       "plot without title"
      ]
     },
     "metadata": {},
     "output_type": "display_data"
    }
   ],
   "source": [
    "plot(model_oneshot$mse, type=\"l\")"
   ]
  },
  {
   "cell_type": "code",
   "execution_count": 30,
   "metadata": {},
   "outputs": [],
   "source": [
    "test_prediction_oneshot = get_test_predictions(model_oneshot,test_set,error_type)\n",
    "predictedLabels_oneshot = test_prediction_oneshot[[1]]\n",
    "\n",
    "performance_table_oneshot = data.table(iter = numeric(), mae= numeric(),rmse= numeric(), mape = numeric())\n",
    "\n",
    "performance_table_temp = test_prediction_oneshot[[2]]\n",
    "performance_table_oneshot = rbind(performance_table_oneshot,performance_table_temp, use.names = FALSE)\n",
    "rm(performance_table_temp)   \n",
    "\n",
    "output_variables = test_prediction_oneshot[[3]]    \n"
   ]
  },
  {
   "cell_type": "code",
   "execution_count": 31,
   "metadata": {},
   "outputs": [
    {
     "data": {
      "image/png": "[encoded data removed]",
      "text/plain": [
       "plot without title"
      ]
     },
     "metadata": {},
     "output_type": "display_data"
    }
   ],
   "source": [
    "p_oneshot <- ggplot(predictedLabels_oneshot,aes(x = get(output_variables[1]), y = get(output_variables[2]), color = (get(output_variables[2]) - get(output_variables[1])))) +\n",
    "            geom_point() +\n",
    "            geom_abline() +\n",
    "            xlab(\"actual values\") +\n",
    "            ylab(\"fitted values\")\n",
    "\n",
    "p_oneshot"
   ]
  },
  {
   "cell_type": "markdown",
   "metadata": {},
   "source": [
    "# Random Sampling & No Feature Elimination"
   ]
  },
  {
   "cell_type": "markdown",
   "metadata": {},
   "source": [
    "## Generate Training Set"
   ]
  },
  {
   "cell_type": "markdown",
   "metadata": {},
   "source": [
    "Select a relatively big data pool ( nofinstances should be medium) , like 400"
   ]
  },
  {
   "cell_type": "code",
   "execution_count": 34,
   "metadata": {},
   "outputs": [
    {
     "name": "stdout",
     "output_type": "stream",
     "text": [
      "[1] \"ABM run start time : 2019-12-20 09:48:09\"\n",
      "[1] \"ABM run end time : 2019-12-20 09:50:26\"\n"
     ]
    }
   ],
   "source": [
    "if(GenerateTTData == 1){\n",
    "   \n",
    "    LHSample_Ad = as.data.table(maximinLHS(n = train_ins_Ad, k = nofparams, dup = 5))\n",
    "    \n",
    "    LHSample_Ad$V1 = qunif(LHSample_Ad$V1, 10, 90) \n",
    "    LHSample_Ad$V2 = qunif(LHSample_Ad$V2, 10, 90)\n",
    "    LHSample_Ad$V3 = qunif(LHSample_Ad$V3, 1, 10) \n",
    "    LHSample_Ad$V4 = qunif(LHSample_Ad$V4, 0.01, 1)    \n",
    "    LHSample_Ad$V5 = qunif(LHSample_Ad$V5, 0.00001, 0.0001) \n",
    "    LHSample_Ad$V6 = qunif(LHSample_Ad$V6, 90, 110) \n",
    "    \n",
    "    setnames(LHSample_Ad, c(paste0(\"V\",1:nofparams)), feature_names)\n",
    "    LHSample_Ad$output <- 0.00\n",
    "    \n",
    "    print(paste0(\"ABM run start time : \",Sys.time()))\n",
    "    LHSample_Ad = run_ABM(nofrep,train_ins_Ad,LHSample_Ad) %>% as.data.table()\n",
    "    print(paste0(\"ABM run end time : \",Sys.time()))\n",
    "    \n",
    "    fwrite(LHSample_Ad, paste0(\"C:/Users/paslanpatir/Desktop/TEZ_v2/LHSample_Ad_Data\",Sys.Date(),\".csv\"))\n",
    "\n",
    "}else{\n",
    "    LHSample_Ad <- fread(\"C:/Users/paslanpatir/Desktop/TEZ_v2/LHSample_Ad_Data_04122019.csv\")\n",
    "}"
   ]
  },
  {
   "cell_type": "code",
   "execution_count": 35,
   "metadata": {},
   "outputs": [],
   "source": [
    "adaptive_initial_data = copy(LHSample_Ad)"
   ]
  },
  {
   "cell_type": "markdown",
   "metadata": {},
   "source": [
    "## Train & Test Metamodel"
   ]
  },
  {
   "cell_type": "code",
   "execution_count": 36,
   "metadata": {},
   "outputs": [],
   "source": [
    "# Record train candidates\n",
    "train_candidates_table = matrix(c(1:ncol(LHSample_Ad) ), nrow = 0, ncol = ncol(LHSample_Ad) )\n",
    "colnames(train_candidates_table) <- colnames(LHSample_Ad)\n",
    "colnames(train_candidates_table)[colnames(train_candidates_table) == \"output\"] <- \"idx\"\n",
    "\n",
    "# Record model performances\n",
    "performance_table = data.table(iter = numeric(), mae= numeric(),rmse= numeric(), mape = numeric()  )\n",
    "\n",
    "#error_type = \"mape\"  \n",
    "predictedLabels_table = copy(test_set)"
   ]
  },
  {
   "cell_type": "code",
   "execution_count": 37,
   "metadata": {},
   "outputs": [
    {
     "name": "stdout",
     "output_type": "stream",
     "text": [
      "[1] 1\n",
      "[1] 2\n",
      "[1] 3\n",
      "[1] 4\n",
      "[1] 5\n",
      "[1] 6\n",
      "[1] 7\n",
      "[1] 8\n",
      "[1] 9\n"
     ]
    }
   ],
   "source": [
    "iter = 1\n",
    "\n",
    "while(iter < numiter){ \n",
    "    \n",
    "    print(iter)\n",
    "\n",
    "    trainx = LHSample_Ad[,.SD, .SDcols = feature_names]\n",
    "    trainy = LHSample_Ad$output\n",
    "    \n",
    "    # Train the model\n",
    "    model_Sub <- randomForest( x = trainx, y =  trainy,importance = TRUE,ntree = ntree, mtry = mtry)\n",
    "    assign(paste0(\"model_Sub_\",iter),model_Sub)\n",
    "    \n",
    "     if(iter == 1){ # keep just as info\n",
    "         ranked_features = get_variable_importance(model_Sub)\n",
    "     }                      \n",
    "         \n",
    "    \n",
    "    if(iter == 1){\n",
    "        obb_error <- as.data.table(obb_error_func(model_Sub)) \n",
    "        obb_error$iter <- 1 \n",
    "        setnames(obb_error,\"V1\",\"obb_error\")\n",
    "    }else{\n",
    "         ## OOB Error & Test Error \n",
    "        obb_error_Sub <- as.data.table(obb_error_func(model_Sub)) \n",
    "        obb_error_Sub$iter <- iter \n",
    "        obb_error <- rbind(obb_error,obb_error_Sub, use.names = FALSE)\n",
    "        rm(obb_error_Sub)\n",
    "    }\n",
    " \n",
    "    # test the model on test set\n",
    "    test_predictions_Sub = get_test_predictions(model_Sub,test_set,error_type)\n",
    "    predictedLabels_Sub = test_predictions_Sub[[1]]\n",
    "    setnames(predictedLabels_Sub,c(\"pred_output\",error_type), c(paste0(\"pred_output_\",iter),paste0(error_type,\"_\",iter)))    \n",
    "    predictedLabels_table = cbind(predictedLabels_table,predictedLabels_Sub[,.SD, .SDcols = c(paste0(\"pred_output_\",iter),paste0(error_type,\"_\",iter))])\n",
    "    \n",
    "    # record the general test errors\n",
    "    performance_table_temp = test_predictions_Sub[[2]]\n",
    "    performance_table_temp[[1]] = iter\n",
    "    performance_table = rbind(performance_table,performance_table_temp, use.names = FALSE)\n",
    "    rm(performance_table_temp)   \n",
    "    \n",
    "    output_variables = test_predictions_Sub[[3]]          \n",
    "\n",
    "    # Sample from unlabeled data\n",
    "    unlabeled_set <- copy(unlabeled_pool)\n",
    "    train_candidates = random_sample_selection(selected_ins,unlabeled_set)\n",
    "    # Eliminate train candidates from the unlabeled pool\n",
    "    unlabeled_pool = unlabeled_pool[- train_candidates$idx]\n",
    "    rm(unlabeled_set)\n",
    "    \n",
    "    # Run ABM to label train candidates\n",
    "#  train_candidates = as.data.table(train_candidates) \n",
    "    paste0(\"ABM train_candidate run start time : \",Sys.time())\n",
    "    train_candidates = run_ABM(nofrep,selected_ins,train_candidates)\n",
    "    paste0(\"ABM train_candidate run end time : \",Sys.time())\n",
    "    \n",
    "    if(iter == 1){\n",
    "        train_candidates_table <- copy(train_candidates)\n",
    "        train_candidates_table$iter <- iter\n",
    "    }else{\n",
    "        train_candidates_temp <- copy(train_candidates)\n",
    "        train_candidates_temp$iter <- iter\n",
    "        \n",
    "        train_candidates_table <- rbindlist(list(train_candidates_table,train_candidates_temp), use.names=TRUE)\n",
    "        rm(train_candidates_temp)\n",
    "    }\n",
    "\n",
    "    # Add new data to train data\n",
    "    LHSample_Ad = rbind(LHSample_Ad,train_candidates[,-c(\"idx\")])\n",
    "\n",
    "    iter = iter + 1\n",
    "}\n",
    "\n",
    "# plot koy her iteration'da göstersin.\n",
    "#setcolorder(data,variableorder) ################# bunu bi yerlere koyman gerekebilir, dikkat!!\n"
   ]
  },
  {
   "cell_type": "code",
   "execution_count": 38,
   "metadata": {},
   "outputs": [],
   "source": [
    "# Final records\n",
    "FinalTrainData_Rd = copy(LHSample_Ad)\n",
    "performance_table_Rd = copy(performance_table)\n",
    "train_candidates_table_Rd  = copy(train_candidates_table)\n",
    "predictedLabels_table_Rd = copy(predictedLabels_table)\n",
    "obb_error_Rd = copy(obb_error)"
   ]
  },
  {
   "cell_type": "code",
   "execution_count": 39,
   "metadata": {},
   "outputs": [
    {
     "data": {
      "text/html": [
       "245"
      ],
      "text/latex": [
       "245"
      ],
      "text/markdown": [
       "245"
      ],
      "text/plain": [
       "[1] 245"
      ]
     },
     "metadata": {},
     "output_type": "display_data"
    },
    {
     "data": {
      "text/html": [
       "<table>\n",
       "<caption>A data.table: 9 × 4</caption>\n",
       "<thead>\n",
       "\t<tr><th scope=col>iter</th><th scope=col>mae</th><th scope=col>rmse</th><th scope=col>mape</th></tr>\n",
       "\t<tr><th scope=col>&lt;dbl&gt;</th><th scope=col>&lt;dbl&gt;</th><th scope=col>&lt;dbl&gt;</th><th scope=col>&lt;dbl&gt;</th></tr>\n",
       "</thead>\n",
       "<tbody>\n",
       "\t<tr><td>1</td><td>6.291519</td><td>7.841760</td><td>8.841208</td></tr>\n",
       "\t<tr><td>2</td><td>6.335307</td><td>7.953274</td><td>8.928276</td></tr>\n",
       "\t<tr><td>3</td><td>6.205703</td><td>7.740418</td><td>8.679382</td></tr>\n",
       "\t<tr><td>4</td><td>6.288596</td><td>8.017836</td><td>8.875839</td></tr>\n",
       "\t<tr><td>5</td><td>6.317495</td><td>8.001207</td><td>8.847310</td></tr>\n",
       "\t<tr><td>6</td><td>6.083180</td><td>7.670087</td><td>8.463658</td></tr>\n",
       "\t<tr><td>7</td><td>5.862838</td><td>7.405753</td><td>8.200228</td></tr>\n",
       "\t<tr><td>8</td><td>6.210699</td><td>7.889548</td><td>8.719571</td></tr>\n",
       "\t<tr><td>9</td><td>6.040424</td><td>7.739631</td><td>8.465459</td></tr>\n",
       "</tbody>\n",
       "</table>\n"
      ],
      "text/latex": [
       "A data.table: 9 × 4\n",
       "\\begin{tabular}{r|llll}\n",
       " iter & mae & rmse & mape\\\\\n",
       " <dbl> & <dbl> & <dbl> & <dbl>\\\\\n",
       "\\hline\n",
       "\t 1 & 6.291519 & 7.841760 & 8.841208\\\\\n",
       "\t 2 & 6.335307 & 7.953274 & 8.928276\\\\\n",
       "\t 3 & 6.205703 & 7.740418 & 8.679382\\\\\n",
       "\t 4 & 6.288596 & 8.017836 & 8.875839\\\\\n",
       "\t 5 & 6.317495 & 8.001207 & 8.847310\\\\\n",
       "\t 6 & 6.083180 & 7.670087 & 8.463658\\\\\n",
       "\t 7 & 5.862838 & 7.405753 & 8.200228\\\\\n",
       "\t 8 & 6.210699 & 7.889548 & 8.719571\\\\\n",
       "\t 9 & 6.040424 & 7.739631 & 8.465459\\\\\n",
       "\\end{tabular}\n"
      ],
      "text/markdown": [
       "\n",
       "A data.table: 9 × 4\n",
       "\n",
       "| iter &lt;dbl&gt; | mae &lt;dbl&gt; | rmse &lt;dbl&gt; | mape &lt;dbl&gt; |\n",
       "|---|---|---|---|\n",
       "| 1 | 6.291519 | 7.841760 | 8.841208 |\n",
       "| 2 | 6.335307 | 7.953274 | 8.928276 |\n",
       "| 3 | 6.205703 | 7.740418 | 8.679382 |\n",
       "| 4 | 6.288596 | 8.017836 | 8.875839 |\n",
       "| 5 | 6.317495 | 8.001207 | 8.847310 |\n",
       "| 6 | 6.083180 | 7.670087 | 8.463658 |\n",
       "| 7 | 5.862838 | 7.405753 | 8.200228 |\n",
       "| 8 | 6.210699 | 7.889548 | 8.719571 |\n",
       "| 9 | 6.040424 | 7.739631 | 8.465459 |\n",
       "\n"
      ],
      "text/plain": [
       "  iter mae      rmse     mape    \n",
       "1 1    6.291519 7.841760 8.841208\n",
       "2 2    6.335307 7.953274 8.928276\n",
       "3 3    6.205703 7.740418 8.679382\n",
       "4 4    6.288596 8.017836 8.875839\n",
       "5 5    6.317495 8.001207 8.847310\n",
       "6 6    6.083180 7.670087 8.463658\n",
       "7 7    5.862838 7.405753 8.200228\n",
       "8 8    6.210699 7.889548 8.719571\n",
       "9 9    6.040424 7.739631 8.465459"
      ]
     },
     "metadata": {},
     "output_type": "display_data"
    },
    {
     "data": {
      "text/html": [
       "<table>\n",
       "<caption>A data.table: 45 × 9</caption>\n",
       "<thead>\n",
       "\t<tr><th scope=col>density</th><th scope=col>%-similar-wanted</th><th scope=col>budget-multiplier-dummy</th><th scope=col>density-multiplier-dummy</th><th scope=col>noise-dummy</th><th scope=col>tick-limit</th><th scope=col>idx</th><th scope=col>output</th><th scope=col>iter</th></tr>\n",
       "\t<tr><th scope=col>&lt;dbl&gt;</th><th scope=col>&lt;dbl&gt;</th><th scope=col>&lt;dbl&gt;</th><th scope=col>&lt;dbl&gt;</th><th scope=col>&lt;dbl&gt;</th><th scope=col>&lt;dbl&gt;</th><th scope=col>&lt;int&gt;</th><th scope=col>&lt;dbl&gt;</th><th scope=col>&lt;dbl&gt;</th></tr>\n",
       "</thead>\n",
       "<tbody>\n",
       "\t<tr><td>72.44172</td><td>72.98883</td><td>3.616621</td><td>0.27565631</td><td>5.339539e-05</td><td>107.93101</td><td>169</td><td> 99.96838</td><td>1</td></tr>\n",
       "\t<tr><td>80.02325</td><td>29.29841</td><td>5.109416</td><td>0.88015383</td><td>5.261599e-05</td><td>100.26068</td><td>203</td><td> 72.85066</td><td>1</td></tr>\n",
       "\t<tr><td>82.73710</td><td>24.24204</td><td>7.310549</td><td>0.34468246</td><td>3.728506e-05</td><td>104.36580</td><td>254</td><td> 59.71393</td><td>1</td></tr>\n",
       "\t<tr><td>54.31753</td><td>19.00496</td><td>9.117432</td><td>0.90169032</td><td>2.125501e-05</td><td>108.20355</td><td>487</td><td> 58.17454</td><td>1</td></tr>\n",
       "\t<tr><td>86.68350</td><td>21.00685</td><td>7.707449</td><td>0.51560132</td><td>1.995261e-05</td><td> 99.25120</td><td>490</td><td> 56.75368</td><td>1</td></tr>\n",
       "\t<tr><td>73.17690</td><td>64.44834</td><td>4.250951</td><td>0.85338974</td><td>3.975319e-05</td><td>104.56023</td><td> 13</td><td> 98.53800</td><td>2</td></tr>\n",
       "\t<tr><td>25.87072</td><td>71.93649</td><td>7.551367</td><td>0.59146457</td><td>2.936624e-05</td><td>101.52524</td><td>114</td><td>100.00000</td><td>2</td></tr>\n",
       "\t<tr><td>87.06451</td><td>29.96296</td><td>2.746519</td><td>0.12427393</td><td>9.421870e-05</td><td>108.18142</td><td>444</td><td> 74.15641</td><td>2</td></tr>\n",
       "\t<tr><td>67.66227</td><td>42.67276</td><td>7.066681</td><td>0.87167987</td><td>4.496824e-05</td><td>109.97553</td><td>531</td><td> 86.31692</td><td>2</td></tr>\n",
       "\t<tr><td>56.73112</td><td>12.93321</td><td>1.558125</td><td>0.93349677</td><td>9.366109e-05</td><td> 95.99689</td><td>681</td><td> 54.69201</td><td>2</td></tr>\n",
       "\t<tr><td>46.42147</td><td>45.86108</td><td>5.229121</td><td>0.50455026</td><td>8.826550e-05</td><td>103.38010</td><td> 37</td><td> 92.17261</td><td>3</td></tr>\n",
       "\t<tr><td>48.99200</td><td>32.83535</td><td>4.385374</td><td>0.20689204</td><td>4.827443e-05</td><td> 97.02261</td><td>106</td><td> 77.19796</td><td>3</td></tr>\n",
       "\t<tr><td>16.29988</td><td>63.72713</td><td>4.985289</td><td>0.33773829</td><td>9.075988e-05</td><td>106.08868</td><td>434</td><td> 99.72612</td><td>3</td></tr>\n",
       "\t<tr><td>57.79777</td><td>23.98939</td><td>5.828104</td><td>0.76834484</td><td>1.339958e-05</td><td>100.61245</td><td>452</td><td> 63.13030</td><td>3</td></tr>\n",
       "\t<tr><td>88.16727</td><td>83.15976</td><td>7.189873</td><td>0.98536418</td><td>1.119586e-05</td><td> 95.50861</td><td>482</td><td> 50.62388</td><td>3</td></tr>\n",
       "\t<tr><td>32.40267</td><td>56.16818</td><td>8.581783</td><td>0.46562065</td><td>4.020143e-05</td><td>106.17969</td><td>163</td><td> 97.82760</td><td>4</td></tr>\n",
       "\t<tr><td>69.90079</td><td>47.66634</td><td>2.085524</td><td>0.81229119</td><td>8.060414e-05</td><td> 92.41776</td><td>260</td><td> 89.09525</td><td>4</td></tr>\n",
       "\t<tr><td>77.17800</td><td>71.76448</td><td>1.168927</td><td>0.11021792</td><td>8.985509e-05</td><td> 92.04914</td><td>407</td><td> 76.58237</td><td>4</td></tr>\n",
       "\t<tr><td>69.17189</td><td>38.36123</td><td>6.827343</td><td>0.56680846</td><td>8.698257e-05</td><td>106.03029</td><td>411</td><td> 81.94921</td><td>4</td></tr>\n",
       "\t<tr><td>89.99518</td><td>88.35341</td><td>1.972641</td><td>0.26263694</td><td>7.523847e-05</td><td> 98.07414</td><td>631</td><td> 50.40918</td><td>4</td></tr>\n",
       "\t<tr><td>41.19438</td><td>43.54557</td><td>8.544398</td><td>0.22709024</td><td>7.378919e-05</td><td>100.53919</td><td> 92</td><td> 90.44660</td><td>5</td></tr>\n",
       "\t<tr><td>16.15666</td><td>51.76087</td><td>2.030278</td><td>0.30224829</td><td>8.717692e-05</td><td> 92.20431</td><td>234</td><td>100.00000</td><td>5</td></tr>\n",
       "\t<tr><td>23.92933</td><td>67.09771</td><td>8.226302</td><td>0.45942196</td><td>5.512715e-05</td><td>100.43955</td><td>254</td><td> 99.88894</td><td>5</td></tr>\n",
       "\t<tr><td>74.05655</td><td>78.22053</td><td>6.502894</td><td>0.75772238</td><td>2.507659e-05</td><td>102.41128</td><td>275</td><td> 52.51343</td><td>5</td></tr>\n",
       "\t<tr><td>20.21995</td><td>59.95109</td><td>3.930966</td><td>0.69009830</td><td>3.746131e-05</td><td>102.33889</td><td>410</td><td> 99.47830</td><td>5</td></tr>\n",
       "\t<tr><td>73.69178</td><td>29.06721</td><td>6.166273</td><td>0.49442648</td><td>5.565008e-05</td><td> 97.93101</td><td> 33</td><td> 75.43513</td><td>6</td></tr>\n",
       "\t<tr><td>74.48530</td><td>26.43332</td><td>5.645337</td><td>0.52594143</td><td>7.794575e-05</td><td>101.39957</td><td> 37</td><td> 63.86704</td><td>6</td></tr>\n",
       "\t<tr><td>28.36469</td><td>50.49854</td><td>7.875063</td><td>0.94634928</td><td>5.330491e-05</td><td> 92.76241</td><td>223</td><td> 99.08262</td><td>6</td></tr>\n",
       "\t<tr><td>60.19862</td><td>10.97358</td><td>9.129848</td><td>0.88500425</td><td>7.897853e-05</td><td> 91.82593</td><td>428</td><td> 55.14696</td><td>6</td></tr>\n",
       "\t<tr><td>38.14693</td><td>18.36427</td><td>4.285229</td><td>0.05320112</td><td>2.038089e-05</td><td> 97.60585</td><td>453</td><td> 64.66043</td><td>6</td></tr>\n",
       "\t<tr><td>68.99963</td><td>73.33900</td><td>3.464260</td><td>0.75493803</td><td>8.389796e-05</td><td> 98.76016</td><td> 85</td><td> 99.82504</td><td>7</td></tr>\n",
       "\t<tr><td>18.96432</td><td>16.70582</td><td>8.920428</td><td>0.13312226</td><td>3.172072e-05</td><td>103.28502</td><td>334</td><td> 78.52764</td><td>7</td></tr>\n",
       "\t<tr><td>51.19807</td><td>66.97898</td><td>8.708158</td><td>0.21290024</td><td>2.709581e-05</td><td> 90.88679</td><td>380</td><td> 99.81063</td><td>7</td></tr>\n",
       "\t<tr><td>68.17453</td><td>51.62541</td><td>9.939586</td><td>0.28236382</td><td>2.592262e-05</td><td>100.91219</td><td>446</td><td> 95.88423</td><td>7</td></tr>\n",
       "\t<tr><td>55.70598</td><td>18.76695</td><td>4.732831</td><td>0.05180680</td><td>9.828154e-05</td><td> 97.41939</td><td>559</td><td> 60.85922</td><td>7</td></tr>\n",
       "\t<tr><td>28.76580</td><td>69.18821</td><td>8.070210</td><td>0.25338908</td><td>4.247539e-05</td><td>104.47307</td><td> 15</td><td> 99.85790</td><td>8</td></tr>\n",
       "\t<tr><td>45.92085</td><td>49.68794</td><td>8.686154</td><td>0.50907161</td><td>5.228215e-05</td><td> 96.37032</td><td> 40</td><td> 91.22002</td><td>8</td></tr>\n",
       "\t<tr><td>61.56932</td><td>61.20995</td><td>2.404617</td><td>0.10595463</td><td>5.543293e-05</td><td> 96.99484</td><td>188</td><td> 98.88776</td><td>8</td></tr>\n",
       "\t<tr><td>66.59337</td><td>43.00119</td><td>2.293253</td><td>0.94931807</td><td>8.568716e-05</td><td>101.82634</td><td>347</td><td> 87.97107</td><td>8</td></tr>\n",
       "\t<tr><td>52.77261</td><td>74.38122</td><td>9.310490</td><td>0.43777360</td><td>5.293214e-05</td><td>108.28870</td><td>482</td><td> 99.77272</td><td>8</td></tr>\n",
       "\t<tr><td>27.33887</td><td>21.35180</td><td>3.646838</td><td>0.91038311</td><td>8.314155e-05</td><td>102.66706</td><td>148</td><td> 74.85250</td><td>9</td></tr>\n",
       "\t<tr><td>71.40152</td><td>35.60143</td><td>4.804727</td><td>0.20228035</td><td>9.299863e-05</td><td> 94.20292</td><td>160</td><td> 82.02356</td><td>9</td></tr>\n",
       "\t<tr><td>47.75949</td><td>32.98761</td><td>8.941049</td><td>0.22842086</td><td>9.668308e-05</td><td>109.20428</td><td>432</td><td> 79.75718</td><td>9</td></tr>\n",
       "\t<tr><td>15.20113</td><td>65.78011</td><td>8.805077</td><td>0.22179342</td><td>8.176221e-05</td><td>109.70041</td><td>445</td><td> 99.64166</td><td>9</td></tr>\n",
       "\t<tr><td>14.00271</td><td>17.46800</td><td>4.477340</td><td>0.92786604</td><td>1.233885e-05</td><td> 99.97632</td><td>488</td><td> 81.50945</td><td>9</td></tr>\n",
       "</tbody>\n",
       "</table>\n"
      ],
      "text/latex": [
       "A data.table: 45 × 9\n",
       "\\begin{tabular}{r|lllllllll}\n",
       " density & \\%-similar-wanted & budget-multiplier-dummy & density-multiplier-dummy & noise-dummy & tick-limit & idx & output & iter\\\\\n",
       " <dbl> & <dbl> & <dbl> & <dbl> & <dbl> & <dbl> & <int> & <dbl> & <dbl>\\\\\n",
       "\\hline\n",
       "\t 72.44172 & 72.98883 & 3.616621 & 0.27565631 & 5.339539e-05 & 107.93101 & 169 &  99.96838 & 1\\\\\n",
       "\t 80.02325 & 29.29841 & 5.109416 & 0.88015383 & 5.261599e-05 & 100.26068 & 203 &  72.85066 & 1\\\\\n",
       "\t 82.73710 & 24.24204 & 7.310549 & 0.34468246 & 3.728506e-05 & 104.36580 & 254 &  59.71393 & 1\\\\\n",
       "\t 54.31753 & 19.00496 & 9.117432 & 0.90169032 & 2.125501e-05 & 108.20355 & 487 &  58.17454 & 1\\\\\n",
       "\t 86.68350 & 21.00685 & 7.707449 & 0.51560132 & 1.995261e-05 &  99.25120 & 490 &  56.75368 & 1\\\\\n",
       "\t 73.17690 & 64.44834 & 4.250951 & 0.85338974 & 3.975319e-05 & 104.56023 &  13 &  98.53800 & 2\\\\\n",
       "\t 25.87072 & 71.93649 & 7.551367 & 0.59146457 & 2.936624e-05 & 101.52524 & 114 & 100.00000 & 2\\\\\n",
       "\t 87.06451 & 29.96296 & 2.746519 & 0.12427393 & 9.421870e-05 & 108.18142 & 444 &  74.15641 & 2\\\\\n",
       "\t 67.66227 & 42.67276 & 7.066681 & 0.87167987 & 4.496824e-05 & 109.97553 & 531 &  86.31692 & 2\\\\\n",
       "\t 56.73112 & 12.93321 & 1.558125 & 0.93349677 & 9.366109e-05 &  95.99689 & 681 &  54.69201 & 2\\\\\n",
       "\t 46.42147 & 45.86108 & 5.229121 & 0.50455026 & 8.826550e-05 & 103.38010 &  37 &  92.17261 & 3\\\\\n",
       "\t 48.99200 & 32.83535 & 4.385374 & 0.20689204 & 4.827443e-05 &  97.02261 & 106 &  77.19796 & 3\\\\\n",
       "\t 16.29988 & 63.72713 & 4.985289 & 0.33773829 & 9.075988e-05 & 106.08868 & 434 &  99.72612 & 3\\\\\n",
       "\t 57.79777 & 23.98939 & 5.828104 & 0.76834484 & 1.339958e-05 & 100.61245 & 452 &  63.13030 & 3\\\\\n",
       "\t 88.16727 & 83.15976 & 7.189873 & 0.98536418 & 1.119586e-05 &  95.50861 & 482 &  50.62388 & 3\\\\\n",
       "\t 32.40267 & 56.16818 & 8.581783 & 0.46562065 & 4.020143e-05 & 106.17969 & 163 &  97.82760 & 4\\\\\n",
       "\t 69.90079 & 47.66634 & 2.085524 & 0.81229119 & 8.060414e-05 &  92.41776 & 260 &  89.09525 & 4\\\\\n",
       "\t 77.17800 & 71.76448 & 1.168927 & 0.11021792 & 8.985509e-05 &  92.04914 & 407 &  76.58237 & 4\\\\\n",
       "\t 69.17189 & 38.36123 & 6.827343 & 0.56680846 & 8.698257e-05 & 106.03029 & 411 &  81.94921 & 4\\\\\n",
       "\t 89.99518 & 88.35341 & 1.972641 & 0.26263694 & 7.523847e-05 &  98.07414 & 631 &  50.40918 & 4\\\\\n",
       "\t 41.19438 & 43.54557 & 8.544398 & 0.22709024 & 7.378919e-05 & 100.53919 &  92 &  90.44660 & 5\\\\\n",
       "\t 16.15666 & 51.76087 & 2.030278 & 0.30224829 & 8.717692e-05 &  92.20431 & 234 & 100.00000 & 5\\\\\n",
       "\t 23.92933 & 67.09771 & 8.226302 & 0.45942196 & 5.512715e-05 & 100.43955 & 254 &  99.88894 & 5\\\\\n",
       "\t 74.05655 & 78.22053 & 6.502894 & 0.75772238 & 2.507659e-05 & 102.41128 & 275 &  52.51343 & 5\\\\\n",
       "\t 20.21995 & 59.95109 & 3.930966 & 0.69009830 & 3.746131e-05 & 102.33889 & 410 &  99.47830 & 5\\\\\n",
       "\t 73.69178 & 29.06721 & 6.166273 & 0.49442648 & 5.565008e-05 &  97.93101 &  33 &  75.43513 & 6\\\\\n",
       "\t 74.48530 & 26.43332 & 5.645337 & 0.52594143 & 7.794575e-05 & 101.39957 &  37 &  63.86704 & 6\\\\\n",
       "\t 28.36469 & 50.49854 & 7.875063 & 0.94634928 & 5.330491e-05 &  92.76241 & 223 &  99.08262 & 6\\\\\n",
       "\t 60.19862 & 10.97358 & 9.129848 & 0.88500425 & 7.897853e-05 &  91.82593 & 428 &  55.14696 & 6\\\\\n",
       "\t 38.14693 & 18.36427 & 4.285229 & 0.05320112 & 2.038089e-05 &  97.60585 & 453 &  64.66043 & 6\\\\\n",
       "\t 68.99963 & 73.33900 & 3.464260 & 0.75493803 & 8.389796e-05 &  98.76016 &  85 &  99.82504 & 7\\\\\n",
       "\t 18.96432 & 16.70582 & 8.920428 & 0.13312226 & 3.172072e-05 & 103.28502 & 334 &  78.52764 & 7\\\\\n",
       "\t 51.19807 & 66.97898 & 8.708158 & 0.21290024 & 2.709581e-05 &  90.88679 & 380 &  99.81063 & 7\\\\\n",
       "\t 68.17453 & 51.62541 & 9.939586 & 0.28236382 & 2.592262e-05 & 100.91219 & 446 &  95.88423 & 7\\\\\n",
       "\t 55.70598 & 18.76695 & 4.732831 & 0.05180680 & 9.828154e-05 &  97.41939 & 559 &  60.85922 & 7\\\\\n",
       "\t 28.76580 & 69.18821 & 8.070210 & 0.25338908 & 4.247539e-05 & 104.47307 &  15 &  99.85790 & 8\\\\\n",
       "\t 45.92085 & 49.68794 & 8.686154 & 0.50907161 & 5.228215e-05 &  96.37032 &  40 &  91.22002 & 8\\\\\n",
       "\t 61.56932 & 61.20995 & 2.404617 & 0.10595463 & 5.543293e-05 &  96.99484 & 188 &  98.88776 & 8\\\\\n",
       "\t 66.59337 & 43.00119 & 2.293253 & 0.94931807 & 8.568716e-05 & 101.82634 & 347 &  87.97107 & 8\\\\\n",
       "\t 52.77261 & 74.38122 & 9.310490 & 0.43777360 & 5.293214e-05 & 108.28870 & 482 &  99.77272 & 8\\\\\n",
       "\t 27.33887 & 21.35180 & 3.646838 & 0.91038311 & 8.314155e-05 & 102.66706 & 148 &  74.85250 & 9\\\\\n",
       "\t 71.40152 & 35.60143 & 4.804727 & 0.20228035 & 9.299863e-05 &  94.20292 & 160 &  82.02356 & 9\\\\\n",
       "\t 47.75949 & 32.98761 & 8.941049 & 0.22842086 & 9.668308e-05 & 109.20428 & 432 &  79.75718 & 9\\\\\n",
       "\t 15.20113 & 65.78011 & 8.805077 & 0.22179342 & 8.176221e-05 & 109.70041 & 445 &  99.64166 & 9\\\\\n",
       "\t 14.00271 & 17.46800 & 4.477340 & 0.92786604 & 1.233885e-05 &  99.97632 & 488 &  81.50945 & 9\\\\\n",
       "\\end{tabular}\n"
      ],
      "text/markdown": [
       "\n",
       "A data.table: 45 × 9\n",
       "\n",
       "| density &lt;dbl&gt; | %-similar-wanted &lt;dbl&gt; | budget-multiplier-dummy &lt;dbl&gt; | density-multiplier-dummy &lt;dbl&gt; | noise-dummy &lt;dbl&gt; | tick-limit &lt;dbl&gt; | idx &lt;int&gt; | output &lt;dbl&gt; | iter &lt;dbl&gt; |\n",
       "|---|---|---|---|---|---|---|---|---|\n",
       "| 72.44172 | 72.98883 | 3.616621 | 0.27565631 | 5.339539e-05 | 107.93101 | 169 |  99.96838 | 1 |\n",
       "| 80.02325 | 29.29841 | 5.109416 | 0.88015383 | 5.261599e-05 | 100.26068 | 203 |  72.85066 | 1 |\n",
       "| 82.73710 | 24.24204 | 7.310549 | 0.34468246 | 3.728506e-05 | 104.36580 | 254 |  59.71393 | 1 |\n",
       "| 54.31753 | 19.00496 | 9.117432 | 0.90169032 | 2.125501e-05 | 108.20355 | 487 |  58.17454 | 1 |\n",
       "| 86.68350 | 21.00685 | 7.707449 | 0.51560132 | 1.995261e-05 |  99.25120 | 490 |  56.75368 | 1 |\n",
       "| 73.17690 | 64.44834 | 4.250951 | 0.85338974 | 3.975319e-05 | 104.56023 |  13 |  98.53800 | 2 |\n",
       "| 25.87072 | 71.93649 | 7.551367 | 0.59146457 | 2.936624e-05 | 101.52524 | 114 | 100.00000 | 2 |\n",
       "| 87.06451 | 29.96296 | 2.746519 | 0.12427393 | 9.421870e-05 | 108.18142 | 444 |  74.15641 | 2 |\n",
       "| 67.66227 | 42.67276 | 7.066681 | 0.87167987 | 4.496824e-05 | 109.97553 | 531 |  86.31692 | 2 |\n",
       "| 56.73112 | 12.93321 | 1.558125 | 0.93349677 | 9.366109e-05 |  95.99689 | 681 |  54.69201 | 2 |\n",
       "| 46.42147 | 45.86108 | 5.229121 | 0.50455026 | 8.826550e-05 | 103.38010 |  37 |  92.17261 | 3 |\n",
       "| 48.99200 | 32.83535 | 4.385374 | 0.20689204 | 4.827443e-05 |  97.02261 | 106 |  77.19796 | 3 |\n",
       "| 16.29988 | 63.72713 | 4.985289 | 0.33773829 | 9.075988e-05 | 106.08868 | 434 |  99.72612 | 3 |\n",
       "| 57.79777 | 23.98939 | 5.828104 | 0.76834484 | 1.339958e-05 | 100.61245 | 452 |  63.13030 | 3 |\n",
       "| 88.16727 | 83.15976 | 7.189873 | 0.98536418 | 1.119586e-05 |  95.50861 | 482 |  50.62388 | 3 |\n",
       "| 32.40267 | 56.16818 | 8.581783 | 0.46562065 | 4.020143e-05 | 106.17969 | 163 |  97.82760 | 4 |\n",
       "| 69.90079 | 47.66634 | 2.085524 | 0.81229119 | 8.060414e-05 |  92.41776 | 260 |  89.09525 | 4 |\n",
       "| 77.17800 | 71.76448 | 1.168927 | 0.11021792 | 8.985509e-05 |  92.04914 | 407 |  76.58237 | 4 |\n",
       "| 69.17189 | 38.36123 | 6.827343 | 0.56680846 | 8.698257e-05 | 106.03029 | 411 |  81.94921 | 4 |\n",
       "| 89.99518 | 88.35341 | 1.972641 | 0.26263694 | 7.523847e-05 |  98.07414 | 631 |  50.40918 | 4 |\n",
       "| 41.19438 | 43.54557 | 8.544398 | 0.22709024 | 7.378919e-05 | 100.53919 |  92 |  90.44660 | 5 |\n",
       "| 16.15666 | 51.76087 | 2.030278 | 0.30224829 | 8.717692e-05 |  92.20431 | 234 | 100.00000 | 5 |\n",
       "| 23.92933 | 67.09771 | 8.226302 | 0.45942196 | 5.512715e-05 | 100.43955 | 254 |  99.88894 | 5 |\n",
       "| 74.05655 | 78.22053 | 6.502894 | 0.75772238 | 2.507659e-05 | 102.41128 | 275 |  52.51343 | 5 |\n",
       "| 20.21995 | 59.95109 | 3.930966 | 0.69009830 | 3.746131e-05 | 102.33889 | 410 |  99.47830 | 5 |\n",
       "| 73.69178 | 29.06721 | 6.166273 | 0.49442648 | 5.565008e-05 |  97.93101 |  33 |  75.43513 | 6 |\n",
       "| 74.48530 | 26.43332 | 5.645337 | 0.52594143 | 7.794575e-05 | 101.39957 |  37 |  63.86704 | 6 |\n",
       "| 28.36469 | 50.49854 | 7.875063 | 0.94634928 | 5.330491e-05 |  92.76241 | 223 |  99.08262 | 6 |\n",
       "| 60.19862 | 10.97358 | 9.129848 | 0.88500425 | 7.897853e-05 |  91.82593 | 428 |  55.14696 | 6 |\n",
       "| 38.14693 | 18.36427 | 4.285229 | 0.05320112 | 2.038089e-05 |  97.60585 | 453 |  64.66043 | 6 |\n",
       "| 68.99963 | 73.33900 | 3.464260 | 0.75493803 | 8.389796e-05 |  98.76016 |  85 |  99.82504 | 7 |\n",
       "| 18.96432 | 16.70582 | 8.920428 | 0.13312226 | 3.172072e-05 | 103.28502 | 334 |  78.52764 | 7 |\n",
       "| 51.19807 | 66.97898 | 8.708158 | 0.21290024 | 2.709581e-05 |  90.88679 | 380 |  99.81063 | 7 |\n",
       "| 68.17453 | 51.62541 | 9.939586 | 0.28236382 | 2.592262e-05 | 100.91219 | 446 |  95.88423 | 7 |\n",
       "| 55.70598 | 18.76695 | 4.732831 | 0.05180680 | 9.828154e-05 |  97.41939 | 559 |  60.85922 | 7 |\n",
       "| 28.76580 | 69.18821 | 8.070210 | 0.25338908 | 4.247539e-05 | 104.47307 |  15 |  99.85790 | 8 |\n",
       "| 45.92085 | 49.68794 | 8.686154 | 0.50907161 | 5.228215e-05 |  96.37032 |  40 |  91.22002 | 8 |\n",
       "| 61.56932 | 61.20995 | 2.404617 | 0.10595463 | 5.543293e-05 |  96.99484 | 188 |  98.88776 | 8 |\n",
       "| 66.59337 | 43.00119 | 2.293253 | 0.94931807 | 8.568716e-05 | 101.82634 | 347 |  87.97107 | 8 |\n",
       "| 52.77261 | 74.38122 | 9.310490 | 0.43777360 | 5.293214e-05 | 108.28870 | 482 |  99.77272 | 8 |\n",
       "| 27.33887 | 21.35180 | 3.646838 | 0.91038311 | 8.314155e-05 | 102.66706 | 148 |  74.85250 | 9 |\n",
       "| 71.40152 | 35.60143 | 4.804727 | 0.20228035 | 9.299863e-05 |  94.20292 | 160 |  82.02356 | 9 |\n",
       "| 47.75949 | 32.98761 | 8.941049 | 0.22842086 | 9.668308e-05 | 109.20428 | 432 |  79.75718 | 9 |\n",
       "| 15.20113 | 65.78011 | 8.805077 | 0.22179342 | 8.176221e-05 | 109.70041 | 445 |  99.64166 | 9 |\n",
       "| 14.00271 | 17.46800 | 4.477340 | 0.92786604 | 1.233885e-05 |  99.97632 | 488 |  81.50945 | 9 |\n",
       "\n"
      ],
      "text/plain": [
       "   density  %-similar-wanted budget-multiplier-dummy density-multiplier-dummy\n",
       "1  72.44172 72.98883         3.616621                0.27565631              \n",
       "2  80.02325 29.29841         5.109416                0.88015383              \n",
       "3  82.73710 24.24204         7.310549                0.34468246              \n",
       "4  54.31753 19.00496         9.117432                0.90169032              \n",
       "5  86.68350 21.00685         7.707449                0.51560132              \n",
       "6  73.17690 64.44834         4.250951                0.85338974              \n",
       "7  25.87072 71.93649         7.551367                0.59146457              \n",
       "8  87.06451 29.96296         2.746519                0.12427393              \n",
       "9  67.66227 42.67276         7.066681                0.87167987              \n",
       "10 56.73112 12.93321         1.558125                0.93349677              \n",
       "11 46.42147 45.86108         5.229121                0.50455026              \n",
       "12 48.99200 32.83535         4.385374                0.20689204              \n",
       "13 16.29988 63.72713         4.985289                0.33773829              \n",
       "14 57.79777 23.98939         5.828104                0.76834484              \n",
       "15 88.16727 83.15976         7.189873                0.98536418              \n",
       "16 32.40267 56.16818         8.581783                0.46562065              \n",
       "17 69.90079 47.66634         2.085524                0.81229119              \n",
       "18 77.17800 71.76448         1.168927                0.11021792              \n",
       "19 69.17189 38.36123         6.827343                0.56680846              \n",
       "20 89.99518 88.35341         1.972641                0.26263694              \n",
       "21 41.19438 43.54557         8.544398                0.22709024              \n",
       "22 16.15666 51.76087         2.030278                0.30224829              \n",
       "23 23.92933 67.09771         8.226302                0.45942196              \n",
       "24 74.05655 78.22053         6.502894                0.75772238              \n",
       "25 20.21995 59.95109         3.930966                0.69009830              \n",
       "26 73.69178 29.06721         6.166273                0.49442648              \n",
       "27 74.48530 26.43332         5.645337                0.52594143              \n",
       "28 28.36469 50.49854         7.875063                0.94634928              \n",
       "29 60.19862 10.97358         9.129848                0.88500425              \n",
       "30 38.14693 18.36427         4.285229                0.05320112              \n",
       "31 68.99963 73.33900         3.464260                0.75493803              \n",
       "32 18.96432 16.70582         8.920428                0.13312226              \n",
       "33 51.19807 66.97898         8.708158                0.21290024              \n",
       "34 68.17453 51.62541         9.939586                0.28236382              \n",
       "35 55.70598 18.76695         4.732831                0.05180680              \n",
       "36 28.76580 69.18821         8.070210                0.25338908              \n",
       "37 45.92085 49.68794         8.686154                0.50907161              \n",
       "38 61.56932 61.20995         2.404617                0.10595463              \n",
       "39 66.59337 43.00119         2.293253                0.94931807              \n",
       "40 52.77261 74.38122         9.310490                0.43777360              \n",
       "41 27.33887 21.35180         3.646838                0.91038311              \n",
       "42 71.40152 35.60143         4.804727                0.20228035              \n",
       "43 47.75949 32.98761         8.941049                0.22842086              \n",
       "44 15.20113 65.78011         8.805077                0.22179342              \n",
       "45 14.00271 17.46800         4.477340                0.92786604              \n",
       "   noise-dummy  tick-limit idx output    iter\n",
       "1  5.339539e-05 107.93101  169  99.96838 1   \n",
       "2  5.261599e-05 100.26068  203  72.85066 1   \n",
       "3  3.728506e-05 104.36580  254  59.71393 1   \n",
       "4  2.125501e-05 108.20355  487  58.17454 1   \n",
       "5  1.995261e-05  99.25120  490  56.75368 1   \n",
       "6  3.975319e-05 104.56023   13  98.53800 2   \n",
       "7  2.936624e-05 101.52524  114 100.00000 2   \n",
       "8  9.421870e-05 108.18142  444  74.15641 2   \n",
       "9  4.496824e-05 109.97553  531  86.31692 2   \n",
       "10 9.366109e-05  95.99689  681  54.69201 2   \n",
       "11 8.826550e-05 103.38010   37  92.17261 3   \n",
       "12 4.827443e-05  97.02261  106  77.19796 3   \n",
       "13 9.075988e-05 106.08868  434  99.72612 3   \n",
       "14 1.339958e-05 100.61245  452  63.13030 3   \n",
       "15 1.119586e-05  95.50861  482  50.62388 3   \n",
       "16 4.020143e-05 106.17969  163  97.82760 4   \n",
       "17 8.060414e-05  92.41776  260  89.09525 4   \n",
       "18 8.985509e-05  92.04914  407  76.58237 4   \n",
       "19 8.698257e-05 106.03029  411  81.94921 4   \n",
       "20 7.523847e-05  98.07414  631  50.40918 4   \n",
       "21 7.378919e-05 100.53919   92  90.44660 5   \n",
       "22 8.717692e-05  92.20431  234 100.00000 5   \n",
       "23 5.512715e-05 100.43955  254  99.88894 5   \n",
       "24 2.507659e-05 102.41128  275  52.51343 5   \n",
       "25 3.746131e-05 102.33889  410  99.47830 5   \n",
       "26 5.565008e-05  97.93101   33  75.43513 6   \n",
       "27 7.794575e-05 101.39957   37  63.86704 6   \n",
       "28 5.330491e-05  92.76241  223  99.08262 6   \n",
       "29 7.897853e-05  91.82593  428  55.14696 6   \n",
       "30 2.038089e-05  97.60585  453  64.66043 6   \n",
       "31 8.389796e-05  98.76016   85  99.82504 7   \n",
       "32 3.172072e-05 103.28502  334  78.52764 7   \n",
       "33 2.709581e-05  90.88679  380  99.81063 7   \n",
       "34 2.592262e-05 100.91219  446  95.88423 7   \n",
       "35 9.828154e-05  97.41939  559  60.85922 7   \n",
       "36 4.247539e-05 104.47307   15  99.85790 8   \n",
       "37 5.228215e-05  96.37032   40  91.22002 8   \n",
       "38 5.543293e-05  96.99484  188  98.88776 8   \n",
       "39 8.568716e-05 101.82634  347  87.97107 8   \n",
       "40 5.293214e-05 108.28870  482  99.77272 8   \n",
       "41 8.314155e-05 102.66706  148  74.85250 9   \n",
       "42 9.299863e-05  94.20292  160  82.02356 9   \n",
       "43 9.668308e-05 109.20428  432  79.75718 9   \n",
       "44 8.176221e-05 109.70041  445  99.64166 9   \n",
       "45 1.233885e-05  99.97632  488  81.50945 9   "
      ]
     },
     "metadata": {},
     "output_type": "display_data"
    },
    {
     "data": {
      "text/html": [
       "<table>\n",
       "<caption>A data.table: 6 × 25</caption>\n",
       "<thead>\n",
       "\t<tr><th scope=col>density</th><th scope=col>%-similar-wanted</th><th scope=col>budget-multiplier-dummy</th><th scope=col>density-multiplier-dummy</th><th scope=col>noise-dummy</th><th scope=col>tick-limit</th><th scope=col>output</th><th scope=col>pred_output_1</th><th scope=col>RMSE_1</th><th scope=col>pred_output_2</th><th scope=col>...</th><th scope=col>pred_output_5</th><th scope=col>RMSE_5</th><th scope=col>pred_output_6</th><th scope=col>RMSE_6</th><th scope=col>pred_output_7</th><th scope=col>RMSE_7</th><th scope=col>pred_output_8</th><th scope=col>RMSE_8</th><th scope=col>pred_output_9</th><th scope=col>RMSE_9</th></tr>\n",
       "\t<tr><th scope=col>&lt;dbl&gt;</th><th scope=col>&lt;dbl&gt;</th><th scope=col>&lt;dbl&gt;</th><th scope=col>&lt;dbl&gt;</th><th scope=col>&lt;dbl&gt;</th><th scope=col>&lt;dbl&gt;</th><th scope=col>&lt;dbl&gt;</th><th scope=col>&lt;dbl&gt;</th><th scope=col>&lt;dbl&gt;</th><th scope=col>&lt;dbl&gt;</th><th scope=col>...</th><th scope=col>&lt;dbl&gt;</th><th scope=col>&lt;dbl&gt;</th><th scope=col>&lt;dbl&gt;</th><th scope=col>&lt;dbl&gt;</th><th scope=col>&lt;dbl&gt;</th><th scope=col>&lt;dbl&gt;</th><th scope=col>&lt;dbl&gt;</th><th scope=col>&lt;dbl&gt;</th><th scope=col>&lt;dbl&gt;</th><th scope=col>&lt;dbl&gt;</th></tr>\n",
       "</thead>\n",
       "<tbody>\n",
       "\t<tr><td>89.80781</td><td>63.22101</td><td>9.559364</td><td>0.7183232</td><td>9.772682e-05</td><td> 94.85461</td><td>98.62087</td><td>80.66245</td><td>17.958421</td><td>78.75847</td><td>...</td><td>78.83793</td><td>19.782938</td><td>77.75237</td><td>20.868500</td><td>81.11030</td><td>17.510569</td><td>79.87838</td><td>18.742488</td><td>77.67927</td><td>20.941598</td></tr>\n",
       "\t<tr><td>65.95304</td><td>27.51730</td><td>1.113979</td><td>0.4611830</td><td>4.533282e-05</td><td> 91.35383</td><td>66.09090</td><td>74.70719</td><td> 8.616290</td><td>75.54323</td><td>...</td><td>73.46857</td><td> 7.377670</td><td>73.89223</td><td> 7.801331</td><td>72.66571</td><td> 6.574810</td><td>75.15347</td><td> 9.062575</td><td>72.98141</td><td> 6.890518</td></tr>\n",
       "\t<tr><td>65.63748</td><td>42.72006</td><td>7.460221</td><td>0.2498248</td><td>4.748342e-05</td><td>106.60832</td><td>86.53810</td><td>89.83889</td><td> 3.300789</td><td>89.86361</td><td>...</td><td>89.31337</td><td> 2.775271</td><td>89.30619</td><td> 2.768085</td><td>89.05033</td><td> 2.512234</td><td>89.13834</td><td> 2.600240</td><td>89.43755</td><td> 2.899446</td></tr>\n",
       "\t<tr><td>49.08474</td><td>53.36187</td><td>1.029111</td><td>0.3209241</td><td>2.648540e-05</td><td> 95.31602</td><td>97.06720</td><td>92.53078</td><td> 4.536418</td><td>90.83740</td><td>...</td><td>90.95209</td><td> 6.115109</td><td>92.19373</td><td> 4.873470</td><td>91.59741</td><td> 5.469785</td><td>91.87484</td><td> 5.192353</td><td>92.66884</td><td> 4.398354</td></tr>\n",
       "\t<tr><td>82.31666</td><td>32.86349</td><td>9.937437</td><td>0.7424780</td><td>9.336225e-05</td><td> 91.00066</td><td>73.99356</td><td>72.20164</td><td> 1.791921</td><td>73.37479</td><td>...</td><td>72.42276</td><td> 1.570800</td><td>72.43687</td><td> 1.556690</td><td>72.86920</td><td> 1.124364</td><td>72.65812</td><td> 1.335442</td><td>72.89494</td><td> 1.098620</td></tr>\n",
       "\t<tr><td>59.08719</td><td>22.26741</td><td>5.281372</td><td>0.7351098</td><td>1.573031e-05</td><td> 98.78114</td><td>63.67668</td><td>70.27061</td><td> 6.593935</td><td>68.90321</td><td>...</td><td>66.78620</td><td> 3.109520</td><td>66.40192</td><td> 2.725243</td><td>66.44336</td><td> 2.766685</td><td>65.60483</td><td> 1.928153</td><td>65.77978</td><td> 2.103105</td></tr>\n",
       "</tbody>\n",
       "</table>\n"
      ],
      "text/latex": [
       "A data.table: 6 × 25\n",
       "\\begin{tabular}{r|lllllllllllllllllllllllll}\n",
       " density & \\%-similar-wanted & budget-multiplier-dummy & density-multiplier-dummy & noise-dummy & tick-limit & output & pred\\_output\\_1 & RMSE\\_1 & pred\\_output\\_2 & RMSE\\_2 & pred\\_output\\_3 & RMSE\\_3 & pred\\_output\\_4 & RMSE\\_4 & pred\\_output\\_5 & RMSE\\_5 & pred\\_output\\_6 & RMSE\\_6 & pred\\_output\\_7 & RMSE\\_7 & pred\\_output\\_8 & RMSE\\_8 & pred\\_output\\_9 & RMSE\\_9\\\\\n",
       " <dbl> & <dbl> & <dbl> & <dbl> & <dbl> & <dbl> & <dbl> & <dbl> & <dbl> & <dbl> & <dbl> & <dbl> & <dbl> & <dbl> & <dbl> & <dbl> & <dbl> & <dbl> & <dbl> & <dbl> & <dbl> & <dbl> & <dbl> & <dbl> & <dbl>\\\\\n",
       "\\hline\n",
       "\t 89.80781 & 63.22101 & 9.559364 & 0.7183232 & 9.772682e-05 &  94.85461 & 98.62087 & 80.66245 & 17.958421 & 78.75847 & 19.862397 & 79.55535 & 19.065513 & 78.25615 & 20.364721 & 78.83793 & 19.782938 & 77.75237 & 20.868500 & 81.11030 & 17.510569 & 79.87838 & 18.742488 & 77.67927 & 20.941598\\\\\n",
       "\t 65.95304 & 27.51730 & 1.113979 & 0.4611830 & 4.533282e-05 &  91.35383 & 66.09090 & 74.70719 &  8.616290 & 75.54323 &  9.452331 & 74.54536 &  8.454465 & 74.72376 &  8.632860 & 73.46857 &  7.377670 & 73.89223 &  7.801331 & 72.66571 &  6.574810 & 75.15347 &  9.062575 & 72.98141 &  6.890518\\\\\n",
       "\t 65.63748 & 42.72006 & 7.460221 & 0.2498248 & 4.748342e-05 & 106.60832 & 86.53810 & 89.83889 &  3.300789 & 89.86361 &  3.325508 & 89.33601 &  2.797911 & 89.15854 &  2.620438 & 89.31337 &  2.775271 & 89.30619 &  2.768085 & 89.05033 &  2.512234 & 89.13834 &  2.600240 & 89.43755 &  2.899446\\\\\n",
       "\t 49.08474 & 53.36187 & 1.029111 & 0.3209241 & 2.648540e-05 &  95.31602 & 97.06720 & 92.53078 &  4.536418 & 90.83740 &  6.229793 & 92.22842 &  4.838773 & 91.72924 &  5.337962 & 90.95209 &  6.115109 & 92.19373 &  4.873470 & 91.59741 &  5.469785 & 91.87484 &  5.192353 & 92.66884 &  4.398354\\\\\n",
       "\t 82.31666 & 32.86349 & 9.937437 & 0.7424780 & 9.336225e-05 &  91.00066 & 73.99356 & 72.20164 &  1.791921 & 73.37479 &  0.618777 & 72.09930 &  1.894264 & 72.14183 &  1.851738 & 72.42276 &  1.570800 & 72.43687 &  1.556690 & 72.86920 &  1.124364 & 72.65812 &  1.335442 & 72.89494 &  1.098620\\\\\n",
       "\t 59.08719 & 22.26741 & 5.281372 & 0.7351098 & 1.573031e-05 &  98.78114 & 63.67668 & 70.27061 &  6.593935 & 68.90321 &  5.226533 & 68.22732 &  4.550647 & 67.27272 &  3.596042 & 66.78620 &  3.109520 & 66.40192 &  2.725243 & 66.44336 &  2.766685 & 65.60483 &  1.928153 & 65.77978 &  2.103105\\\\\n",
       "\\end{tabular}\n"
      ],
      "text/markdown": [
       "\n",
       "A data.table: 6 × 25\n",
       "\n",
       "| density &lt;dbl&gt; | %-similar-wanted &lt;dbl&gt; | budget-multiplier-dummy &lt;dbl&gt; | density-multiplier-dummy &lt;dbl&gt; | noise-dummy &lt;dbl&gt; | tick-limit &lt;dbl&gt; | output &lt;dbl&gt; | pred_output_1 &lt;dbl&gt; | RMSE_1 &lt;dbl&gt; | pred_output_2 &lt;dbl&gt; | ... ... | pred_output_5 &lt;dbl&gt; | RMSE_5 &lt;dbl&gt; | pred_output_6 &lt;dbl&gt; | RMSE_6 &lt;dbl&gt; | pred_output_7 &lt;dbl&gt; | RMSE_7 &lt;dbl&gt; | pred_output_8 &lt;dbl&gt; | RMSE_8 &lt;dbl&gt; | pred_output_9 &lt;dbl&gt; | RMSE_9 &lt;dbl&gt; |\n",
       "|---|---|---|---|---|---|---|---|---|---|---|---|---|---|---|---|---|---|---|---|---|\n",
       "| 89.80781 | 63.22101 | 9.559364 | 0.7183232 | 9.772682e-05 |  94.85461 | 98.62087 | 80.66245 | 17.958421 | 78.75847 | ... | 78.83793 | 19.782938 | 77.75237 | 20.868500 | 81.11030 | 17.510569 | 79.87838 | 18.742488 | 77.67927 | 20.941598 |\n",
       "| 65.95304 | 27.51730 | 1.113979 | 0.4611830 | 4.533282e-05 |  91.35383 | 66.09090 | 74.70719 |  8.616290 | 75.54323 | ... | 73.46857 |  7.377670 | 73.89223 |  7.801331 | 72.66571 |  6.574810 | 75.15347 |  9.062575 | 72.98141 |  6.890518 |\n",
       "| 65.63748 | 42.72006 | 7.460221 | 0.2498248 | 4.748342e-05 | 106.60832 | 86.53810 | 89.83889 |  3.300789 | 89.86361 | ... | 89.31337 |  2.775271 | 89.30619 |  2.768085 | 89.05033 |  2.512234 | 89.13834 |  2.600240 | 89.43755 |  2.899446 |\n",
       "| 49.08474 | 53.36187 | 1.029111 | 0.3209241 | 2.648540e-05 |  95.31602 | 97.06720 | 92.53078 |  4.536418 | 90.83740 | ... | 90.95209 |  6.115109 | 92.19373 |  4.873470 | 91.59741 |  5.469785 | 91.87484 |  5.192353 | 92.66884 |  4.398354 |\n",
       "| 82.31666 | 32.86349 | 9.937437 | 0.7424780 | 9.336225e-05 |  91.00066 | 73.99356 | 72.20164 |  1.791921 | 73.37479 | ... | 72.42276 |  1.570800 | 72.43687 |  1.556690 | 72.86920 |  1.124364 | 72.65812 |  1.335442 | 72.89494 |  1.098620 |\n",
       "| 59.08719 | 22.26741 | 5.281372 | 0.7351098 | 1.573031e-05 |  98.78114 | 63.67668 | 70.27061 |  6.593935 | 68.90321 | ... | 66.78620 |  3.109520 | 66.40192 |  2.725243 | 66.44336 |  2.766685 | 65.60483 |  1.928153 | 65.77978 |  2.103105 |\n",
       "\n"
      ],
      "text/plain": [
       "  density  %-similar-wanted budget-multiplier-dummy density-multiplier-dummy\n",
       "1 89.80781 63.22101         9.559364                0.7183232               \n",
       "2 65.95304 27.51730         1.113979                0.4611830               \n",
       "3 65.63748 42.72006         7.460221                0.2498248               \n",
       "4 49.08474 53.36187         1.029111                0.3209241               \n",
       "5 82.31666 32.86349         9.937437                0.7424780               \n",
       "6 59.08719 22.26741         5.281372                0.7351098               \n",
       "  noise-dummy  tick-limit output   pred_output_1 RMSE_1    pred_output_2 ...\n",
       "1 9.772682e-05  94.85461  98.62087 80.66245      17.958421 78.75847      ...\n",
       "2 4.533282e-05  91.35383  66.09090 74.70719       8.616290 75.54323      ...\n",
       "3 4.748342e-05 106.60832  86.53810 89.83889       3.300789 89.86361      ...\n",
       "4 2.648540e-05  95.31602  97.06720 92.53078       4.536418 90.83740      ...\n",
       "5 9.336225e-05  91.00066  73.99356 72.20164       1.791921 73.37479      ...\n",
       "6 1.573031e-05  98.78114  63.67668 70.27061       6.593935 68.90321      ...\n",
       "  pred_output_5 RMSE_5    pred_output_6 RMSE_6    pred_output_7 RMSE_7   \n",
       "1 78.83793      19.782938 77.75237      20.868500 81.11030      17.510569\n",
       "2 73.46857       7.377670 73.89223       7.801331 72.66571       6.574810\n",
       "3 89.31337       2.775271 89.30619       2.768085 89.05033       2.512234\n",
       "4 90.95209       6.115109 92.19373       4.873470 91.59741       5.469785\n",
       "5 72.42276       1.570800 72.43687       1.556690 72.86920       1.124364\n",
       "6 66.78620       3.109520 66.40192       2.725243 66.44336       2.766685\n",
       "  pred_output_8 RMSE_8    pred_output_9 RMSE_9   \n",
       "1 79.87838      18.742488 77.67927      20.941598\n",
       "2 75.15347       9.062575 72.98141       6.890518\n",
       "3 89.13834       2.600240 89.43755       2.899446\n",
       "4 91.87484       5.192353 92.66884       4.398354\n",
       "5 72.65812       1.335442 72.89494       1.098620\n",
       "6 65.60483       1.928153 65.77978       2.103105"
      ]
     },
     "metadata": {},
     "output_type": "display_data"
    },
    {
     "data": {
      "text/html": [
       "<table>\n",
       "<caption>A data.table: 9 × 2</caption>\n",
       "<thead>\n",
       "\t<tr><th scope=col>obb_error</th><th scope=col>iter</th></tr>\n",
       "\t<tr><th scope=col>&lt;dbl&gt;</th><th scope=col>&lt;dbl&gt;</th></tr>\n",
       "</thead>\n",
       "<tbody>\n",
       "\t<tr><td>67.75845</td><td>1</td></tr>\n",
       "\t<tr><td>70.72702</td><td>2</td></tr>\n",
       "\t<tr><td>65.96399</td><td>3</td></tr>\n",
       "\t<tr><td>66.29503</td><td>4</td></tr>\n",
       "\t<tr><td>65.65416</td><td>5</td></tr>\n",
       "\t<tr><td>60.61544</td><td>6</td></tr>\n",
       "\t<tr><td>58.30798</td><td>7</td></tr>\n",
       "\t<tr><td>63.18628</td><td>8</td></tr>\n",
       "\t<tr><td>59.99245</td><td>9</td></tr>\n",
       "</tbody>\n",
       "</table>\n"
      ],
      "text/latex": [
       "A data.table: 9 × 2\n",
       "\\begin{tabular}{r|ll}\n",
       " obb\\_error & iter\\\\\n",
       " <dbl> & <dbl>\\\\\n",
       "\\hline\n",
       "\t 67.75845 & 1\\\\\n",
       "\t 70.72702 & 2\\\\\n",
       "\t 65.96399 & 3\\\\\n",
       "\t 66.29503 & 4\\\\\n",
       "\t 65.65416 & 5\\\\\n",
       "\t 60.61544 & 6\\\\\n",
       "\t 58.30798 & 7\\\\\n",
       "\t 63.18628 & 8\\\\\n",
       "\t 59.99245 & 9\\\\\n",
       "\\end{tabular}\n"
      ],
      "text/markdown": [
       "\n",
       "A data.table: 9 × 2\n",
       "\n",
       "| obb_error &lt;dbl&gt; | iter &lt;dbl&gt; |\n",
       "|---|---|\n",
       "| 67.75845 | 1 |\n",
       "| 70.72702 | 2 |\n",
       "| 65.96399 | 3 |\n",
       "| 66.29503 | 4 |\n",
       "| 65.65416 | 5 |\n",
       "| 60.61544 | 6 |\n",
       "| 58.30798 | 7 |\n",
       "| 63.18628 | 8 |\n",
       "| 59.99245 | 9 |\n",
       "\n"
      ],
      "text/plain": [
       "  obb_error iter\n",
       "1 67.75845  1   \n",
       "2 70.72702  2   \n",
       "3 65.96399  3   \n",
       "4 66.29503  4   \n",
       "5 65.65416  5   \n",
       "6 60.61544  6   \n",
       "7 58.30798  7   \n",
       "8 63.18628  8   \n",
       "9 59.99245  9   "
      ]
     },
     "metadata": {},
     "output_type": "display_data"
    }
   ],
   "source": [
    "# show results\n",
    "nrow(FinalTrainData_Rd)\n",
    "performance_table_Rd \n",
    "train_candidates_table_Rd  \n",
    "head(predictedLabels_table_Rd)\n",
    "obb_error_Rd"
   ]
  },
  {
   "cell_type": "code",
   "execution_count": 45,
   "metadata": {},
   "outputs": [
    {
     "data": {
      "image/png": "[encoded data removed]",
      "text/plain": [
       "plot without title"
      ]
     },
     "metadata": {},
     "output_type": "display_data"
    }
   ],
   "source": [
    "performance_molten_Rd <- melt(data = performance_table_Rd\n",
    "                             , id.vars = 'iter')\n",
    "setnames(performance_molten_Rd, c(\"variable\",\"value\"),c(\"errortype\",\"errorvalue\"))\n",
    "p_Rd = ggplot(performance_molten_Rd, aes(x = iter, y = errorvalue, group=errortype, col=errortype)) + \n",
    "          geom_line(lwd=1)\n",
    "p_Rd"
   ]
  },
  {
   "cell_type": "markdown",
   "metadata": {},
   "source": [
    "# Adaptive Sampling & No Feature Elimination"
   ]
  },
  {
   "cell_type": "markdown",
   "metadata": {},
   "source": [
    "## Generate Training Set"
   ]
  },
  {
   "cell_type": "markdown",
   "metadata": {},
   "source": [
    "Select a relatively big data pool ( nofinstances should be medium) , like 400"
   ]
  },
  {
   "cell_type": "code",
   "execution_count": 40,
   "metadata": {},
   "outputs": [],
   "source": [
    "LHSample_Ad = copy(adaptive_initial_data)"
   ]
  },
  {
   "cell_type": "code",
   "execution_count": null,
   "metadata": {},
   "outputs": [],
   "source": [
    "#if(GenerateTTData == 1){\n",
    "#   \n",
    "#    LHSample_Ad = as.data.table(maximinLHS(n = train_ins_Ad, k = nofparams, dup = 5))\n",
    "#    \n",
    "#    LHSample_Ad$V1 = qunif(LHSample_Ad$V1, 10, 90) \n",
    "#    LHSample_Ad$V2 = qunif(LHSample_Ad$V2, 10, 90) \n",
    "#    setnames(LHSample_Ad, c(\"V1\",\"V2\"), feature_names)\n",
    "#    LHSample_Ad$output <- 0.00\n",
    "#    \n",
    "#    paste0(\"ABM run start time : \",Sys.time())\n",
    "#    LHSample_Ad = run_ABM(nofrep,train_ins_Ad,LHSample_Ad) %>% as.data.table()\n",
    "#    paste0(\"ABM run end time : \",Sys.time())\n",
    "#    \n",
    "#    fwrite(LHSample_Ad, paste0(\"C:/Users/paslanpatir/Desktop/TEZ_v2/LHSample_Ad_Data\",Sys.Date(),\".csv\"))\n",
    "#\n",
    "#}else{\n",
    "#    LHSample_Ad <- fread(\"C:/Users/paslanpatir/Desktop/TEZ_v2/LHSample_Ad_Data_04122019.csv\")\n",
    "#    LHSample_Ad <- head(LHSample_Ad[`%-similar-wanted` < 90],300)\n",
    "#\n",
    "#}"
   ]
  },
  {
   "cell_type": "markdown",
   "metadata": {},
   "source": [
    "### Visualization"
   ]
  },
  {
   "cell_type": "code",
   "execution_count": null,
   "metadata": {},
   "outputs": [],
   "source": [
    "pca_LHSample_Ad <- princomp(LHSample_Ad[,-c(\"output\")], cor = TRUE, scores = TRUE)"
   ]
  },
  {
   "cell_type": "code",
   "execution_count": null,
   "metadata": {},
   "outputs": [],
   "source": [
    "#fviz_pca_ind(pca_LHSample,\n",
    "#             col.ind = \"cos2\", # Color by the quality of representation\n",
    "#             gradient.cols = c(\"#00AFBB\", \"#E7B800\", \"#FC4E07\"),\n",
    "#              geom=\"point\"\n",
    "#             )\n",
    "\n",
    "pca_LHSample_Ad_components <- get_pca_ind(pca_LHSample_Ad)\n",
    "pca_LHSample_Ad_components <-cbind(pca_LHSample_Ad_components$coord[,1:2],LHSample_Ad[,c(\"output\")])\n",
    "p_LHSample_Ad <- ggplot(data = pca_LHSample_Ad_components, aes(x = Dim.1, y = Dim.2)) +\n",
    "                     geom_point(aes(colour = output)) +\n",
    "                     labs( title = \"\", legend = \"output\") \n",
    "p_LHSample_Ad"
   ]
  },
  {
   "cell_type": "markdown",
   "metadata": {},
   "source": [
    "## Train & Test Metamodel"
   ]
  },
  {
   "cell_type": "code",
   "execution_count": 41,
   "metadata": {},
   "outputs": [],
   "source": [
    "# Record train candidates\n",
    "train_candidates_table = matrix(c(1:ncol(LHSample_Ad) ), nrow = 0, ncol = ncol(LHSample_Ad) )\n",
    "colnames(train_candidates_table) <- colnames(LHSample_Ad)\n",
    "colnames(train_candidates_table)[colnames(train_candidates_table) == \"output\"] <- \"idx\"\n",
    "\n",
    "# Record model performances\n",
    "performance_table = data.table(iter = numeric(), mae= numeric(),rmse= numeric(), mape = numeric()  )\n",
    "\n",
    "#error_type = \"mape\"  \n",
    "predictedLabels_table = copy(test_set)"
   ]
  },
  {
   "cell_type": "code",
   "execution_count": 42,
   "metadata": {},
   "outputs": [
    {
     "name": "stdout",
     "output_type": "stream",
     "text": [
      "[1] 1\n",
      "[1] 2\n",
      "[1] 3\n",
      "[1] 4\n",
      "[1] 5\n",
      "[1] 6\n",
      "[1] 7\n",
      "[1] 8\n",
      "[1] 9\n"
     ]
    }
   ],
   "source": [
    "\n",
    "iter = 1\n",
    "\n",
    "while(iter < numiter){ \n",
    "    \n",
    "    print(iter)\n",
    "\n",
    "    trainx = LHSample_Ad[,.SD, .SDcols = feature_names]\n",
    "    trainy = LHSample_Ad$output\n",
    "    \n",
    "    # Train the model\n",
    "    model_Sub <- randomForest( x = trainx, y =  trainy,importance = TRUE,ntree = ntree, mtry = mtry)\n",
    "    assign(paste0(\"model_Sub_\",iter),model_Sub)\n",
    "    \n",
    "     if(iter == 1){ # keep just as info\n",
    "         ranked_features = get_variable_importance(model_Sub)\n",
    "     }                      \n",
    "         \n",
    "    \n",
    "    if(iter == 1){\n",
    "        obb_error <- as.data.table(obb_error_func(model_Sub)) \n",
    "        obb_error$iter <- 1 \n",
    "        setnames(obb_error,\"V1\",\"obb_error\")\n",
    "    }else{\n",
    "         ## OOB Error & Test Error \n",
    "        obb_error_Sub <- as.data.table(obb_error_func(model_Sub)) \n",
    "        obb_error_Sub$iter <- iter \n",
    "        obb_error <- rbind(obb_error,obb_error_Sub, use.names = FALSE)\n",
    "        rm(obb_error_Sub)\n",
    "    }\n",
    " \n",
    "    # test the model on test set\n",
    "    test_predictions_Sub = get_test_predictions(model_Sub,test_set,error_type)\n",
    "    predictedLabels_Sub = test_predictions_Sub[[1]]\n",
    "    setnames(predictedLabels_Sub,c(\"pred_output\",error_type), c(paste0(\"pred_output_\",iter),paste0(error_type,\"_\",iter)))    \n",
    "    predictedLabels_table = cbind(predictedLabels_table,predictedLabels_Sub[,.SD, .SDcols = c(paste0(\"pred_output_\",iter),paste0(error_type,\"_\",iter))])\n",
    "    \n",
    "    # record the general test errors\n",
    "    performance_table_temp = test_predictions_Sub[[2]]\n",
    "    performance_table_temp[[1]] = iter\n",
    "    performance_table = rbind(performance_table,performance_table_temp, use.names = FALSE)\n",
    "    rm(performance_table_temp)   \n",
    "    \n",
    "    output_variables = test_predictions_Sub[[3]]          \n",
    "\n",
    "    # Sample from unlabeled data\n",
    "    unlabeled_set <- copy(unlabeled_pool)\n",
    "    train_candidates = sample_selection(selected_ins,unlabeled_set,trainx,trainy)\n",
    "    # Eliminate train candidates from the unlabeled pool\n",
    "    unlabeled_pool = unlabeled_pool[- train_candidates$idx]\n",
    "    rm(unlabeled_set)\n",
    "    \n",
    "    # Run ABM to label train candidates\n",
    "#  train_candidates = as.data.table(train_candidates) \n",
    "    paste0(\"ABM train_candidate run start time : \",Sys.time())\n",
    "    train_candidates = run_ABM(nofrep,selected_ins,train_candidates)\n",
    "    paste0(\"ABM train_candidate run end time : \",Sys.time())\n",
    "    \n",
    "    if(iter == 1){\n",
    "        train_candidates_table <- copy(train_candidates)\n",
    "        train_candidates_table$iter <- iter\n",
    "    }else{\n",
    "        train_candidates_temp <- copy(train_candidates)\n",
    "        train_candidates_temp$iter <- iter\n",
    "        \n",
    "        train_candidates_table <- rbindlist(list(train_candidates_table,train_candidates_temp), use.names=TRUE)\n",
    "        rm(train_candidates_temp)\n",
    "    }\n",
    "\n",
    "    # Add new data to train data\n",
    "    LHSample_Ad = rbind(LHSample_Ad,train_candidates[,-c(\"idx\")])\n",
    "\n",
    "    iter = iter + 1\n",
    "}\n",
    "\n",
    "# plot koy her iteration'da göstersin.\n",
    "#setcolorder(data,variableorder) ################# bunu bi yerlere koyman gerekebilir, dikkat!!\n"
   ]
  },
  {
   "cell_type": "code",
   "execution_count": 43,
   "metadata": {},
   "outputs": [],
   "source": [
    "# Final records\n",
    "FinalTrainData_Ad = copy(LHSample_Ad)\n",
    "performance_table_Ad = copy(performance_table)\n",
    "train_candidates_table_Ad  = copy(train_candidates_table)\n",
    "predictedLabels_table_Ad = copy(predictedLabels_table)\n",
    "obb_error_Ad = copy(obb_error)"
   ]
  },
  {
   "cell_type": "code",
   "execution_count": 44,
   "metadata": {},
   "outputs": [
    {
     "data": {
      "text/html": [
       "245"
      ],
      "text/latex": [
       "245"
      ],
      "text/markdown": [
       "245"
      ],
      "text/plain": [
       "[1] 245"
      ]
     },
     "metadata": {},
     "output_type": "display_data"
    },
    {
     "data": {
      "text/html": [
       "<table>\n",
       "<caption>A data.table: 9 × 4</caption>\n",
       "<thead>\n",
       "\t<tr><th scope=col>iter</th><th scope=col>mae</th><th scope=col>rmse</th><th scope=col>mape</th></tr>\n",
       "\t<tr><th scope=col>&lt;dbl&gt;</th><th scope=col>&lt;dbl&gt;</th><th scope=col>&lt;dbl&gt;</th><th scope=col>&lt;dbl&gt;</th></tr>\n",
       "</thead>\n",
       "<tbody>\n",
       "\t<tr><td>1</td><td>6.473998</td><td>8.051400</td><td>9.117176</td></tr>\n",
       "\t<tr><td>2</td><td>6.010476</td><td>7.372467</td><td>8.469914</td></tr>\n",
       "\t<tr><td>3</td><td>5.822460</td><td>7.068299</td><td>8.185086</td></tr>\n",
       "\t<tr><td>4</td><td>5.732522</td><td>6.923471</td><td>8.067059</td></tr>\n",
       "\t<tr><td>5</td><td>5.646021</td><td>6.827035</td><td>7.982707</td></tr>\n",
       "\t<tr><td>6</td><td>5.324718</td><td>6.491564</td><td>7.533510</td></tr>\n",
       "\t<tr><td>7</td><td>5.482723</td><td>6.638891</td><td>7.659495</td></tr>\n",
       "\t<tr><td>8</td><td>5.266617</td><td>6.400851</td><td>7.340456</td></tr>\n",
       "\t<tr><td>9</td><td>5.310154</td><td>6.470364</td><td>7.425208</td></tr>\n",
       "</tbody>\n",
       "</table>\n"
      ],
      "text/latex": [
       "A data.table: 9 × 4\n",
       "\\begin{tabular}{r|llll}\n",
       " iter & mae & rmse & mape\\\\\n",
       " <dbl> & <dbl> & <dbl> & <dbl>\\\\\n",
       "\\hline\n",
       "\t 1 & 6.473998 & 8.051400 & 9.117176\\\\\n",
       "\t 2 & 6.010476 & 7.372467 & 8.469914\\\\\n",
       "\t 3 & 5.822460 & 7.068299 & 8.185086\\\\\n",
       "\t 4 & 5.732522 & 6.923471 & 8.067059\\\\\n",
       "\t 5 & 5.646021 & 6.827035 & 7.982707\\\\\n",
       "\t 6 & 5.324718 & 6.491564 & 7.533510\\\\\n",
       "\t 7 & 5.482723 & 6.638891 & 7.659495\\\\\n",
       "\t 8 & 5.266617 & 6.400851 & 7.340456\\\\\n",
       "\t 9 & 5.310154 & 6.470364 & 7.425208\\\\\n",
       "\\end{tabular}\n"
      ],
      "text/markdown": [
       "\n",
       "A data.table: 9 × 4\n",
       "\n",
       "| iter &lt;dbl&gt; | mae &lt;dbl&gt; | rmse &lt;dbl&gt; | mape &lt;dbl&gt; |\n",
       "|---|---|---|---|\n",
       "| 1 | 6.473998 | 8.051400 | 9.117176 |\n",
       "| 2 | 6.010476 | 7.372467 | 8.469914 |\n",
       "| 3 | 5.822460 | 7.068299 | 8.185086 |\n",
       "| 4 | 5.732522 | 6.923471 | 8.067059 |\n",
       "| 5 | 5.646021 | 6.827035 | 7.982707 |\n",
       "| 6 | 5.324718 | 6.491564 | 7.533510 |\n",
       "| 7 | 5.482723 | 6.638891 | 7.659495 |\n",
       "| 8 | 5.266617 | 6.400851 | 7.340456 |\n",
       "| 9 | 5.310154 | 6.470364 | 7.425208 |\n",
       "\n"
      ],
      "text/plain": [
       "  iter mae      rmse     mape    \n",
       "1 1    6.473998 8.051400 9.117176\n",
       "2 2    6.010476 7.372467 8.469914\n",
       "3 3    5.822460 7.068299 8.185086\n",
       "4 4    5.732522 6.923471 8.067059\n",
       "5 5    5.646021 6.827035 7.982707\n",
       "6 6    5.324718 6.491564 7.533510\n",
       "7 7    5.482723 6.638891 7.659495\n",
       "8 8    5.266617 6.400851 7.340456\n",
       "9 9    5.310154 6.470364 7.425208"
      ]
     },
     "metadata": {},
     "output_type": "display_data"
    },
    {
     "data": {
      "text/html": [
       "<table>\n",
       "<caption>A data.table: 45 × 9</caption>\n",
       "<thead>\n",
       "\t<tr><th scope=col>density</th><th scope=col>%-similar-wanted</th><th scope=col>budget-multiplier-dummy</th><th scope=col>density-multiplier-dummy</th><th scope=col>noise-dummy</th><th scope=col>tick-limit</th><th scope=col>idx</th><th scope=col>output</th><th scope=col>iter</th></tr>\n",
       "\t<tr><th scope=col>&lt;dbl&gt;</th><th scope=col>&lt;dbl&gt;</th><th scope=col>&lt;dbl&gt;</th><th scope=col>&lt;dbl&gt;</th><th scope=col>&lt;dbl&gt;</th><th scope=col>&lt;dbl&gt;</th><th scope=col>&lt;int&gt;</th><th scope=col>&lt;dbl&gt;</th><th scope=col>&lt;dbl&gt;</th></tr>\n",
       "</thead>\n",
       "<tbody>\n",
       "\t<tr><td>13.16295</td><td>81.92370</td><td>4.918442</td><td>0.90748670</td><td>5.156864e-05</td><td>108.65117</td><td>326</td><td>100.00000</td><td>1</td></tr>\n",
       "\t<tr><td>10.41457</td><td>89.91221</td><td>1.036082</td><td>0.57597604</td><td>7.662668e-05</td><td>109.04119</td><td>635</td><td>100.00000</td><td>1</td></tr>\n",
       "\t<tr><td>13.37395</td><td>88.40317</td><td>3.449100</td><td>0.07868366</td><td>8.048873e-05</td><td>108.15717</td><td>506</td><td>100.00000</td><td>1</td></tr>\n",
       "\t<tr><td>44.57960</td><td>74.76277</td><td>5.121159</td><td>0.99222654</td><td>4.274789e-05</td><td>106.00483</td><td>311</td><td> 99.92818</td><td>1</td></tr>\n",
       "\t<tr><td>59.26529</td><td>75.16035</td><td>2.470868</td><td>0.39089915</td><td>3.816702e-05</td><td>105.17168</td><td> 57</td><td> 56.06910</td><td>1</td></tr>\n",
       "\t<tr><td>66.01900</td><td>88.67981</td><td>1.050862</td><td>0.05744754</td><td>9.129029e-05</td><td>109.94240</td><td>627</td><td> 49.36024</td><td>2</td></tr>\n",
       "\t<tr><td>56.28091</td><td>82.52071</td><td>2.074132</td><td>0.06706306</td><td>5.985505e-05</td><td> 92.17322</td><td>544</td><td> 52.52708</td><td>2</td></tr>\n",
       "\t<tr><td>34.11864</td><td>89.13136</td><td>1.133751</td><td>0.34217479</td><td>2.966778e-05</td><td>107.82599</td><td>364</td><td> 52.83168</td><td>2</td></tr>\n",
       "\t<tr><td>54.74058</td><td>75.14188</td><td>3.014332</td><td>0.33424647</td><td>8.527155e-05</td><td>107.89151</td><td>129</td><td> 56.09169</td><td>2</td></tr>\n",
       "\t<tr><td>13.28657</td><td>82.76549</td><td>2.911650</td><td>0.85907750</td><td>9.799145e-05</td><td> 93.38701</td><td>644</td><td>100.00000</td><td>2</td></tr>\n",
       "\t<tr><td>54.16357</td><td>69.35888</td><td>4.615526</td><td>0.74936027</td><td>1.294256e-05</td><td>109.73904</td><td>459</td><td> 99.82751</td><td>3</td></tr>\n",
       "\t<tr><td>89.29542</td><td>60.67241</td><td>3.282788</td><td>0.47527160</td><td>1.300112e-05</td><td>109.27348</td><td>425</td><td> 98.02940</td><td>3</td></tr>\n",
       "\t<tr><td>25.10400</td><td>89.86008</td><td>6.943183</td><td>0.42823181</td><td>3.879462e-05</td><td>107.34111</td><td>611</td><td> 60.16651</td><td>3</td></tr>\n",
       "\t<tr><td>20.52996</td><td>85.40441</td><td>8.907893</td><td>0.07090394</td><td>4.997140e-05</td><td>107.09321</td><td>328</td><td> 77.28160</td><td>3</td></tr>\n",
       "\t<tr><td>40.57738</td><td>61.18147</td><td>6.457281</td><td>0.05880791</td><td>6.655425e-05</td><td>109.86849</td><td>566</td><td> 99.13525</td><td>3</td></tr>\n",
       "\t<tr><td>59.86070</td><td>74.54927</td><td>3.691402</td><td>0.69880877</td><td>4.577660e-05</td><td>102.02923</td><td>344</td><td> 99.68976</td><td>4</td></tr>\n",
       "\t<tr><td>10.08989</td><td>89.72063</td><td>7.821748</td><td>0.01511266</td><td>9.711906e-05</td><td> 99.29901</td><td>615</td><td>100.00000</td><td>4</td></tr>\n",
       "\t<tr><td>17.65146</td><td>87.75965</td><td>9.991725</td><td>0.77122305</td><td>9.810188e-05</td><td>109.43065</td><td>628</td><td> 86.28059</td><td>4</td></tr>\n",
       "\t<tr><td>32.65635</td><td>83.59349</td><td>1.500916</td><td>0.82644292</td><td>2.757660e-05</td><td> 97.81133</td><td>246</td><td> 54.83075</td><td>4</td></tr>\n",
       "\t<tr><td>41.78735</td><td>81.11210</td><td>9.098219</td><td>0.03894432</td><td>8.960522e-05</td><td> 90.34374</td><td>568</td><td> 52.69160</td><td>4</td></tr>\n",
       "\t<tr><td>81.18129</td><td>89.35270</td><td>5.360046</td><td>0.96122071</td><td>1.060612e-05</td><td>108.52618</td><td>604</td><td> 50.33633</td><td>5</td></tr>\n",
       "\t<tr><td>14.81359</td><td>82.82359</td><td>1.658946</td><td>0.12973607</td><td>1.528109e-05</td><td> 90.46378</td><td>577</td><td> 92.36365</td><td>5</td></tr>\n",
       "\t<tr><td>10.16303</td><td>82.64590</td><td>2.024885</td><td>0.83996194</td><td>1.261315e-05</td><td> 90.10762</td><td>618</td><td>100.00000</td><td>5</td></tr>\n",
       "\t<tr><td>88.98960</td><td>70.72140</td><td>2.415472</td><td>0.90393739</td><td>7.395235e-05</td><td>109.41013</td><td>624</td><td> 98.52271</td><td>5</td></tr>\n",
       "\t<tr><td>26.10155</td><td>82.08375</td><td>6.385449</td><td>0.89947890</td><td>7.456322e-05</td><td> 93.94113</td><td>168</td><td> 61.75306</td><td>5</td></tr>\n",
       "\t<tr><td>63.00298</td><td>81.34150</td><td>2.600712</td><td>0.01894983</td><td>1.420594e-05</td><td>105.24563</td><td>622</td><td> 51.86753</td><td>6</td></tr>\n",
       "\t<tr><td>88.91473</td><td>88.13865</td><td>1.199805</td><td>0.23764711</td><td>1.016428e-05</td><td> 94.09069</td><td>560</td><td> 49.40455</td><td>6</td></tr>\n",
       "\t<tr><td>18.41358</td><td>79.44374</td><td>1.429013</td><td>0.70765225</td><td>6.009265e-05</td><td> 92.43321</td><td>440</td><td> 91.70513</td><td>6</td></tr>\n",
       "\t<tr><td>65.08803</td><td>85.78178</td><td>1.090953</td><td>0.60755411</td><td>1.204409e-05</td><td>101.28025</td><td>367</td><td> 50.61730</td><td>6</td></tr>\n",
       "\t<tr><td>17.79450</td><td>88.78540</td><td>8.748711</td><td>0.58115326</td><td>2.481000e-05</td><td> 96.59253</td><td>454</td><td> 77.33000</td><td>6</td></tr>\n",
       "\t<tr><td>39.33963</td><td>75.30847</td><td>4.234503</td><td>0.21680350</td><td>4.563585e-05</td><td> 96.63710</td><td> 53</td><td> 71.86533</td><td>7</td></tr>\n",
       "\t<tr><td>87.93168</td><td>56.61975</td><td>8.119324</td><td>0.83164489</td><td>1.761321e-05</td><td> 98.61217</td><td>345</td><td> 94.95243</td><td>7</td></tr>\n",
       "\t<tr><td>77.26383</td><td>74.11363</td><td>1.483539</td><td>0.93134739</td><td>9.585848e-05</td><td> 93.74967</td><td>600</td><td> 92.25589</td><td>7</td></tr>\n",
       "\t<tr><td>38.37974</td><td>89.54565</td><td>9.964524</td><td>0.25821075</td><td>9.453912e-05</td><td>106.31509</td><td>538</td><td> 52.86128</td><td>7</td></tr>\n",
       "\t<tr><td>25.00549</td><td>83.04796</td><td>9.955246</td><td>0.04240944</td><td>1.583640e-05</td><td> 90.27822</td><td>623</td><td> 66.45867</td><td>7</td></tr>\n",
       "\t<tr><td>44.17005</td><td>66.60832</td><td>2.773269</td><td>0.02100842</td><td>8.929845e-05</td><td>107.76953</td><td>353</td><td> 98.93495</td><td>8</td></tr>\n",
       "\t<tr><td>24.90759</td><td>79.30742</td><td>6.450080</td><td>0.77739668</td><td>2.313542e-05</td><td>108.46347</td><td>247</td><td> 80.23671</td><td>8</td></tr>\n",
       "\t<tr><td>80.60269</td><td>26.67567</td><td>4.527837</td><td>0.08631670</td><td>1.599206e-05</td><td>109.94317</td><td>574</td><td> 63.47966</td><td>8</td></tr>\n",
       "\t<tr><td>23.39878</td><td>88.52455</td><td>3.319604</td><td>0.94216180</td><td>2.161405e-05</td><td>104.85606</td><td>585</td><td> 63.84745</td><td>8</td></tr>\n",
       "\t<tr><td>68.58101</td><td>48.68384</td><td>1.144712</td><td>0.42675965</td><td>9.054583e-05</td><td>109.67926</td><td>409</td><td> 87.86587</td><td>8</td></tr>\n",
       "\t<tr><td>78.39866</td><td>62.85233</td><td>9.871782</td><td>0.02612820</td><td>6.563588e-05</td><td> 96.78891</td><td>471</td><td> 98.57029</td><td>9</td></tr>\n",
       "\t<tr><td>16.54027</td><td>83.84235</td><td>2.367807</td><td>0.46169576</td><td>1.351160e-05</td><td>101.72344</td><td>405</td><td> 87.56758</td><td>9</td></tr>\n",
       "\t<tr><td>75.00166</td><td>78.83613</td><td>6.600177</td><td>0.72421638</td><td>5.722509e-05</td><td> 90.66363</td><td>565</td><td> 52.65792</td><td>9</td></tr>\n",
       "\t<tr><td>87.72025</td><td>55.36544</td><td>5.986764</td><td>0.22323925</td><td>9.922546e-05</td><td>109.31221</td><td>521</td><td> 95.00613</td><td>9</td></tr>\n",
       "\t<tr><td>72.86232</td><td>76.50495</td><td>1.840288</td><td>0.79187022</td><td>3.485970e-05</td><td> 96.02683</td><td>219</td><td> 54.36283</td><td>9</td></tr>\n",
       "</tbody>\n",
       "</table>\n"
      ],
      "text/latex": [
       "A data.table: 45 × 9\n",
       "\\begin{tabular}{r|lllllllll}\n",
       " density & \\%-similar-wanted & budget-multiplier-dummy & density-multiplier-dummy & noise-dummy & tick-limit & idx & output & iter\\\\\n",
       " <dbl> & <dbl> & <dbl> & <dbl> & <dbl> & <dbl> & <int> & <dbl> & <dbl>\\\\\n",
       "\\hline\n",
       "\t 13.16295 & 81.92370 & 4.918442 & 0.90748670 & 5.156864e-05 & 108.65117 & 326 & 100.00000 & 1\\\\\n",
       "\t 10.41457 & 89.91221 & 1.036082 & 0.57597604 & 7.662668e-05 & 109.04119 & 635 & 100.00000 & 1\\\\\n",
       "\t 13.37395 & 88.40317 & 3.449100 & 0.07868366 & 8.048873e-05 & 108.15717 & 506 & 100.00000 & 1\\\\\n",
       "\t 44.57960 & 74.76277 & 5.121159 & 0.99222654 & 4.274789e-05 & 106.00483 & 311 &  99.92818 & 1\\\\\n",
       "\t 59.26529 & 75.16035 & 2.470868 & 0.39089915 & 3.816702e-05 & 105.17168 &  57 &  56.06910 & 1\\\\\n",
       "\t 66.01900 & 88.67981 & 1.050862 & 0.05744754 & 9.129029e-05 & 109.94240 & 627 &  49.36024 & 2\\\\\n",
       "\t 56.28091 & 82.52071 & 2.074132 & 0.06706306 & 5.985505e-05 &  92.17322 & 544 &  52.52708 & 2\\\\\n",
       "\t 34.11864 & 89.13136 & 1.133751 & 0.34217479 & 2.966778e-05 & 107.82599 & 364 &  52.83168 & 2\\\\\n",
       "\t 54.74058 & 75.14188 & 3.014332 & 0.33424647 & 8.527155e-05 & 107.89151 & 129 &  56.09169 & 2\\\\\n",
       "\t 13.28657 & 82.76549 & 2.911650 & 0.85907750 & 9.799145e-05 &  93.38701 & 644 & 100.00000 & 2\\\\\n",
       "\t 54.16357 & 69.35888 & 4.615526 & 0.74936027 & 1.294256e-05 & 109.73904 & 459 &  99.82751 & 3\\\\\n",
       "\t 89.29542 & 60.67241 & 3.282788 & 0.47527160 & 1.300112e-05 & 109.27348 & 425 &  98.02940 & 3\\\\\n",
       "\t 25.10400 & 89.86008 & 6.943183 & 0.42823181 & 3.879462e-05 & 107.34111 & 611 &  60.16651 & 3\\\\\n",
       "\t 20.52996 & 85.40441 & 8.907893 & 0.07090394 & 4.997140e-05 & 107.09321 & 328 &  77.28160 & 3\\\\\n",
       "\t 40.57738 & 61.18147 & 6.457281 & 0.05880791 & 6.655425e-05 & 109.86849 & 566 &  99.13525 & 3\\\\\n",
       "\t 59.86070 & 74.54927 & 3.691402 & 0.69880877 & 4.577660e-05 & 102.02923 & 344 &  99.68976 & 4\\\\\n",
       "\t 10.08989 & 89.72063 & 7.821748 & 0.01511266 & 9.711906e-05 &  99.29901 & 615 & 100.00000 & 4\\\\\n",
       "\t 17.65146 & 87.75965 & 9.991725 & 0.77122305 & 9.810188e-05 & 109.43065 & 628 &  86.28059 & 4\\\\\n",
       "\t 32.65635 & 83.59349 & 1.500916 & 0.82644292 & 2.757660e-05 &  97.81133 & 246 &  54.83075 & 4\\\\\n",
       "\t 41.78735 & 81.11210 & 9.098219 & 0.03894432 & 8.960522e-05 &  90.34374 & 568 &  52.69160 & 4\\\\\n",
       "\t 81.18129 & 89.35270 & 5.360046 & 0.96122071 & 1.060612e-05 & 108.52618 & 604 &  50.33633 & 5\\\\\n",
       "\t 14.81359 & 82.82359 & 1.658946 & 0.12973607 & 1.528109e-05 &  90.46378 & 577 &  92.36365 & 5\\\\\n",
       "\t 10.16303 & 82.64590 & 2.024885 & 0.83996194 & 1.261315e-05 &  90.10762 & 618 & 100.00000 & 5\\\\\n",
       "\t 88.98960 & 70.72140 & 2.415472 & 0.90393739 & 7.395235e-05 & 109.41013 & 624 &  98.52271 & 5\\\\\n",
       "\t 26.10155 & 82.08375 & 6.385449 & 0.89947890 & 7.456322e-05 &  93.94113 & 168 &  61.75306 & 5\\\\\n",
       "\t 63.00298 & 81.34150 & 2.600712 & 0.01894983 & 1.420594e-05 & 105.24563 & 622 &  51.86753 & 6\\\\\n",
       "\t 88.91473 & 88.13865 & 1.199805 & 0.23764711 & 1.016428e-05 &  94.09069 & 560 &  49.40455 & 6\\\\\n",
       "\t 18.41358 & 79.44374 & 1.429013 & 0.70765225 & 6.009265e-05 &  92.43321 & 440 &  91.70513 & 6\\\\\n",
       "\t 65.08803 & 85.78178 & 1.090953 & 0.60755411 & 1.204409e-05 & 101.28025 & 367 &  50.61730 & 6\\\\\n",
       "\t 17.79450 & 88.78540 & 8.748711 & 0.58115326 & 2.481000e-05 &  96.59253 & 454 &  77.33000 & 6\\\\\n",
       "\t 39.33963 & 75.30847 & 4.234503 & 0.21680350 & 4.563585e-05 &  96.63710 &  53 &  71.86533 & 7\\\\\n",
       "\t 87.93168 & 56.61975 & 8.119324 & 0.83164489 & 1.761321e-05 &  98.61217 & 345 &  94.95243 & 7\\\\\n",
       "\t 77.26383 & 74.11363 & 1.483539 & 0.93134739 & 9.585848e-05 &  93.74967 & 600 &  92.25589 & 7\\\\\n",
       "\t 38.37974 & 89.54565 & 9.964524 & 0.25821075 & 9.453912e-05 & 106.31509 & 538 &  52.86128 & 7\\\\\n",
       "\t 25.00549 & 83.04796 & 9.955246 & 0.04240944 & 1.583640e-05 &  90.27822 & 623 &  66.45867 & 7\\\\\n",
       "\t 44.17005 & 66.60832 & 2.773269 & 0.02100842 & 8.929845e-05 & 107.76953 & 353 &  98.93495 & 8\\\\\n",
       "\t 24.90759 & 79.30742 & 6.450080 & 0.77739668 & 2.313542e-05 & 108.46347 & 247 &  80.23671 & 8\\\\\n",
       "\t 80.60269 & 26.67567 & 4.527837 & 0.08631670 & 1.599206e-05 & 109.94317 & 574 &  63.47966 & 8\\\\\n",
       "\t 23.39878 & 88.52455 & 3.319604 & 0.94216180 & 2.161405e-05 & 104.85606 & 585 &  63.84745 & 8\\\\\n",
       "\t 68.58101 & 48.68384 & 1.144712 & 0.42675965 & 9.054583e-05 & 109.67926 & 409 &  87.86587 & 8\\\\\n",
       "\t 78.39866 & 62.85233 & 9.871782 & 0.02612820 & 6.563588e-05 &  96.78891 & 471 &  98.57029 & 9\\\\\n",
       "\t 16.54027 & 83.84235 & 2.367807 & 0.46169576 & 1.351160e-05 & 101.72344 & 405 &  87.56758 & 9\\\\\n",
       "\t 75.00166 & 78.83613 & 6.600177 & 0.72421638 & 5.722509e-05 &  90.66363 & 565 &  52.65792 & 9\\\\\n",
       "\t 87.72025 & 55.36544 & 5.986764 & 0.22323925 & 9.922546e-05 & 109.31221 & 521 &  95.00613 & 9\\\\\n",
       "\t 72.86232 & 76.50495 & 1.840288 & 0.79187022 & 3.485970e-05 &  96.02683 & 219 &  54.36283 & 9\\\\\n",
       "\\end{tabular}\n"
      ],
      "text/markdown": [
       "\n",
       "A data.table: 45 × 9\n",
       "\n",
       "| density &lt;dbl&gt; | %-similar-wanted &lt;dbl&gt; | budget-multiplier-dummy &lt;dbl&gt; | density-multiplier-dummy &lt;dbl&gt; | noise-dummy &lt;dbl&gt; | tick-limit &lt;dbl&gt; | idx &lt;int&gt; | output &lt;dbl&gt; | iter &lt;dbl&gt; |\n",
       "|---|---|---|---|---|---|---|---|---|\n",
       "| 13.16295 | 81.92370 | 4.918442 | 0.90748670 | 5.156864e-05 | 108.65117 | 326 | 100.00000 | 1 |\n",
       "| 10.41457 | 89.91221 | 1.036082 | 0.57597604 | 7.662668e-05 | 109.04119 | 635 | 100.00000 | 1 |\n",
       "| 13.37395 | 88.40317 | 3.449100 | 0.07868366 | 8.048873e-05 | 108.15717 | 506 | 100.00000 | 1 |\n",
       "| 44.57960 | 74.76277 | 5.121159 | 0.99222654 | 4.274789e-05 | 106.00483 | 311 |  99.92818 | 1 |\n",
       "| 59.26529 | 75.16035 | 2.470868 | 0.39089915 | 3.816702e-05 | 105.17168 |  57 |  56.06910 | 1 |\n",
       "| 66.01900 | 88.67981 | 1.050862 | 0.05744754 | 9.129029e-05 | 109.94240 | 627 |  49.36024 | 2 |\n",
       "| 56.28091 | 82.52071 | 2.074132 | 0.06706306 | 5.985505e-05 |  92.17322 | 544 |  52.52708 | 2 |\n",
       "| 34.11864 | 89.13136 | 1.133751 | 0.34217479 | 2.966778e-05 | 107.82599 | 364 |  52.83168 | 2 |\n",
       "| 54.74058 | 75.14188 | 3.014332 | 0.33424647 | 8.527155e-05 | 107.89151 | 129 |  56.09169 | 2 |\n",
       "| 13.28657 | 82.76549 | 2.911650 | 0.85907750 | 9.799145e-05 |  93.38701 | 644 | 100.00000 | 2 |\n",
       "| 54.16357 | 69.35888 | 4.615526 | 0.74936027 | 1.294256e-05 | 109.73904 | 459 |  99.82751 | 3 |\n",
       "| 89.29542 | 60.67241 | 3.282788 | 0.47527160 | 1.300112e-05 | 109.27348 | 425 |  98.02940 | 3 |\n",
       "| 25.10400 | 89.86008 | 6.943183 | 0.42823181 | 3.879462e-05 | 107.34111 | 611 |  60.16651 | 3 |\n",
       "| 20.52996 | 85.40441 | 8.907893 | 0.07090394 | 4.997140e-05 | 107.09321 | 328 |  77.28160 | 3 |\n",
       "| 40.57738 | 61.18147 | 6.457281 | 0.05880791 | 6.655425e-05 | 109.86849 | 566 |  99.13525 | 3 |\n",
       "| 59.86070 | 74.54927 | 3.691402 | 0.69880877 | 4.577660e-05 | 102.02923 | 344 |  99.68976 | 4 |\n",
       "| 10.08989 | 89.72063 | 7.821748 | 0.01511266 | 9.711906e-05 |  99.29901 | 615 | 100.00000 | 4 |\n",
       "| 17.65146 | 87.75965 | 9.991725 | 0.77122305 | 9.810188e-05 | 109.43065 | 628 |  86.28059 | 4 |\n",
       "| 32.65635 | 83.59349 | 1.500916 | 0.82644292 | 2.757660e-05 |  97.81133 | 246 |  54.83075 | 4 |\n",
       "| 41.78735 | 81.11210 | 9.098219 | 0.03894432 | 8.960522e-05 |  90.34374 | 568 |  52.69160 | 4 |\n",
       "| 81.18129 | 89.35270 | 5.360046 | 0.96122071 | 1.060612e-05 | 108.52618 | 604 |  50.33633 | 5 |\n",
       "| 14.81359 | 82.82359 | 1.658946 | 0.12973607 | 1.528109e-05 |  90.46378 | 577 |  92.36365 | 5 |\n",
       "| 10.16303 | 82.64590 | 2.024885 | 0.83996194 | 1.261315e-05 |  90.10762 | 618 | 100.00000 | 5 |\n",
       "| 88.98960 | 70.72140 | 2.415472 | 0.90393739 | 7.395235e-05 | 109.41013 | 624 |  98.52271 | 5 |\n",
       "| 26.10155 | 82.08375 | 6.385449 | 0.89947890 | 7.456322e-05 |  93.94113 | 168 |  61.75306 | 5 |\n",
       "| 63.00298 | 81.34150 | 2.600712 | 0.01894983 | 1.420594e-05 | 105.24563 | 622 |  51.86753 | 6 |\n",
       "| 88.91473 | 88.13865 | 1.199805 | 0.23764711 | 1.016428e-05 |  94.09069 | 560 |  49.40455 | 6 |\n",
       "| 18.41358 | 79.44374 | 1.429013 | 0.70765225 | 6.009265e-05 |  92.43321 | 440 |  91.70513 | 6 |\n",
       "| 65.08803 | 85.78178 | 1.090953 | 0.60755411 | 1.204409e-05 | 101.28025 | 367 |  50.61730 | 6 |\n",
       "| 17.79450 | 88.78540 | 8.748711 | 0.58115326 | 2.481000e-05 |  96.59253 | 454 |  77.33000 | 6 |\n",
       "| 39.33963 | 75.30847 | 4.234503 | 0.21680350 | 4.563585e-05 |  96.63710 |  53 |  71.86533 | 7 |\n",
       "| 87.93168 | 56.61975 | 8.119324 | 0.83164489 | 1.761321e-05 |  98.61217 | 345 |  94.95243 | 7 |\n",
       "| 77.26383 | 74.11363 | 1.483539 | 0.93134739 | 9.585848e-05 |  93.74967 | 600 |  92.25589 | 7 |\n",
       "| 38.37974 | 89.54565 | 9.964524 | 0.25821075 | 9.453912e-05 | 106.31509 | 538 |  52.86128 | 7 |\n",
       "| 25.00549 | 83.04796 | 9.955246 | 0.04240944 | 1.583640e-05 |  90.27822 | 623 |  66.45867 | 7 |\n",
       "| 44.17005 | 66.60832 | 2.773269 | 0.02100842 | 8.929845e-05 | 107.76953 | 353 |  98.93495 | 8 |\n",
       "| 24.90759 | 79.30742 | 6.450080 | 0.77739668 | 2.313542e-05 | 108.46347 | 247 |  80.23671 | 8 |\n",
       "| 80.60269 | 26.67567 | 4.527837 | 0.08631670 | 1.599206e-05 | 109.94317 | 574 |  63.47966 | 8 |\n",
       "| 23.39878 | 88.52455 | 3.319604 | 0.94216180 | 2.161405e-05 | 104.85606 | 585 |  63.84745 | 8 |\n",
       "| 68.58101 | 48.68384 | 1.144712 | 0.42675965 | 9.054583e-05 | 109.67926 | 409 |  87.86587 | 8 |\n",
       "| 78.39866 | 62.85233 | 9.871782 | 0.02612820 | 6.563588e-05 |  96.78891 | 471 |  98.57029 | 9 |\n",
       "| 16.54027 | 83.84235 | 2.367807 | 0.46169576 | 1.351160e-05 | 101.72344 | 405 |  87.56758 | 9 |\n",
       "| 75.00166 | 78.83613 | 6.600177 | 0.72421638 | 5.722509e-05 |  90.66363 | 565 |  52.65792 | 9 |\n",
       "| 87.72025 | 55.36544 | 5.986764 | 0.22323925 | 9.922546e-05 | 109.31221 | 521 |  95.00613 | 9 |\n",
       "| 72.86232 | 76.50495 | 1.840288 | 0.79187022 | 3.485970e-05 |  96.02683 | 219 |  54.36283 | 9 |\n",
       "\n"
      ],
      "text/plain": [
       "   density  %-similar-wanted budget-multiplier-dummy density-multiplier-dummy\n",
       "1  13.16295 81.92370         4.918442                0.90748670              \n",
       "2  10.41457 89.91221         1.036082                0.57597604              \n",
       "3  13.37395 88.40317         3.449100                0.07868366              \n",
       "4  44.57960 74.76277         5.121159                0.99222654              \n",
       "5  59.26529 75.16035         2.470868                0.39089915              \n",
       "6  66.01900 88.67981         1.050862                0.05744754              \n",
       "7  56.28091 82.52071         2.074132                0.06706306              \n",
       "8  34.11864 89.13136         1.133751                0.34217479              \n",
       "9  54.74058 75.14188         3.014332                0.33424647              \n",
       "10 13.28657 82.76549         2.911650                0.85907750              \n",
       "11 54.16357 69.35888         4.615526                0.74936027              \n",
       "12 89.29542 60.67241         3.282788                0.47527160              \n",
       "13 25.10400 89.86008         6.943183                0.42823181              \n",
       "14 20.52996 85.40441         8.907893                0.07090394              \n",
       "15 40.57738 61.18147         6.457281                0.05880791              \n",
       "16 59.86070 74.54927         3.691402                0.69880877              \n",
       "17 10.08989 89.72063         7.821748                0.01511266              \n",
       "18 17.65146 87.75965         9.991725                0.77122305              \n",
       "19 32.65635 83.59349         1.500916                0.82644292              \n",
       "20 41.78735 81.11210         9.098219                0.03894432              \n",
       "21 81.18129 89.35270         5.360046                0.96122071              \n",
       "22 14.81359 82.82359         1.658946                0.12973607              \n",
       "23 10.16303 82.64590         2.024885                0.83996194              \n",
       "24 88.98960 70.72140         2.415472                0.90393739              \n",
       "25 26.10155 82.08375         6.385449                0.89947890              \n",
       "26 63.00298 81.34150         2.600712                0.01894983              \n",
       "27 88.91473 88.13865         1.199805                0.23764711              \n",
       "28 18.41358 79.44374         1.429013                0.70765225              \n",
       "29 65.08803 85.78178         1.090953                0.60755411              \n",
       "30 17.79450 88.78540         8.748711                0.58115326              \n",
       "31 39.33963 75.30847         4.234503                0.21680350              \n",
       "32 87.93168 56.61975         8.119324                0.83164489              \n",
       "33 77.26383 74.11363         1.483539                0.93134739              \n",
       "34 38.37974 89.54565         9.964524                0.25821075              \n",
       "35 25.00549 83.04796         9.955246                0.04240944              \n",
       "36 44.17005 66.60832         2.773269                0.02100842              \n",
       "37 24.90759 79.30742         6.450080                0.77739668              \n",
       "38 80.60269 26.67567         4.527837                0.08631670              \n",
       "39 23.39878 88.52455         3.319604                0.94216180              \n",
       "40 68.58101 48.68384         1.144712                0.42675965              \n",
       "41 78.39866 62.85233         9.871782                0.02612820              \n",
       "42 16.54027 83.84235         2.367807                0.46169576              \n",
       "43 75.00166 78.83613         6.600177                0.72421638              \n",
       "44 87.72025 55.36544         5.986764                0.22323925              \n",
       "45 72.86232 76.50495         1.840288                0.79187022              \n",
       "   noise-dummy  tick-limit idx output    iter\n",
       "1  5.156864e-05 108.65117  326 100.00000 1   \n",
       "2  7.662668e-05 109.04119  635 100.00000 1   \n",
       "3  8.048873e-05 108.15717  506 100.00000 1   \n",
       "4  4.274789e-05 106.00483  311  99.92818 1   \n",
       "5  3.816702e-05 105.17168   57  56.06910 1   \n",
       "6  9.129029e-05 109.94240  627  49.36024 2   \n",
       "7  5.985505e-05  92.17322  544  52.52708 2   \n",
       "8  2.966778e-05 107.82599  364  52.83168 2   \n",
       "9  8.527155e-05 107.89151  129  56.09169 2   \n",
       "10 9.799145e-05  93.38701  644 100.00000 2   \n",
       "11 1.294256e-05 109.73904  459  99.82751 3   \n",
       "12 1.300112e-05 109.27348  425  98.02940 3   \n",
       "13 3.879462e-05 107.34111  611  60.16651 3   \n",
       "14 4.997140e-05 107.09321  328  77.28160 3   \n",
       "15 6.655425e-05 109.86849  566  99.13525 3   \n",
       "16 4.577660e-05 102.02923  344  99.68976 4   \n",
       "17 9.711906e-05  99.29901  615 100.00000 4   \n",
       "18 9.810188e-05 109.43065  628  86.28059 4   \n",
       "19 2.757660e-05  97.81133  246  54.83075 4   \n",
       "20 8.960522e-05  90.34374  568  52.69160 4   \n",
       "21 1.060612e-05 108.52618  604  50.33633 5   \n",
       "22 1.528109e-05  90.46378  577  92.36365 5   \n",
       "23 1.261315e-05  90.10762  618 100.00000 5   \n",
       "24 7.395235e-05 109.41013  624  98.52271 5   \n",
       "25 7.456322e-05  93.94113  168  61.75306 5   \n",
       "26 1.420594e-05 105.24563  622  51.86753 6   \n",
       "27 1.016428e-05  94.09069  560  49.40455 6   \n",
       "28 6.009265e-05  92.43321  440  91.70513 6   \n",
       "29 1.204409e-05 101.28025  367  50.61730 6   \n",
       "30 2.481000e-05  96.59253  454  77.33000 6   \n",
       "31 4.563585e-05  96.63710   53  71.86533 7   \n",
       "32 1.761321e-05  98.61217  345  94.95243 7   \n",
       "33 9.585848e-05  93.74967  600  92.25589 7   \n",
       "34 9.453912e-05 106.31509  538  52.86128 7   \n",
       "35 1.583640e-05  90.27822  623  66.45867 7   \n",
       "36 8.929845e-05 107.76953  353  98.93495 8   \n",
       "37 2.313542e-05 108.46347  247  80.23671 8   \n",
       "38 1.599206e-05 109.94317  574  63.47966 8   \n",
       "39 2.161405e-05 104.85606  585  63.84745 8   \n",
       "40 9.054583e-05 109.67926  409  87.86587 8   \n",
       "41 6.563588e-05  96.78891  471  98.57029 9   \n",
       "42 1.351160e-05 101.72344  405  87.56758 9   \n",
       "43 5.722509e-05  90.66363  565  52.65792 9   \n",
       "44 9.922546e-05 109.31221  521  95.00613 9   \n",
       "45 3.485970e-05  96.02683  219  54.36283 9   "
      ]
     },
     "metadata": {},
     "output_type": "display_data"
    },
    {
     "data": {
      "text/html": [
       "<table>\n",
       "<caption>A data.table: 6 × 25</caption>\n",
       "<thead>\n",
       "\t<tr><th scope=col>density</th><th scope=col>%-similar-wanted</th><th scope=col>budget-multiplier-dummy</th><th scope=col>density-multiplier-dummy</th><th scope=col>noise-dummy</th><th scope=col>tick-limit</th><th scope=col>output</th><th scope=col>pred_output_1</th><th scope=col>RMSE_1</th><th scope=col>pred_output_2</th><th scope=col>...</th><th scope=col>pred_output_5</th><th scope=col>RMSE_5</th><th scope=col>pred_output_6</th><th scope=col>RMSE_6</th><th scope=col>pred_output_7</th><th scope=col>RMSE_7</th><th scope=col>pred_output_8</th><th scope=col>RMSE_8</th><th scope=col>pred_output_9</th><th scope=col>RMSE_9</th></tr>\n",
       "\t<tr><th scope=col>&lt;dbl&gt;</th><th scope=col>&lt;dbl&gt;</th><th scope=col>&lt;dbl&gt;</th><th scope=col>&lt;dbl&gt;</th><th scope=col>&lt;dbl&gt;</th><th scope=col>&lt;dbl&gt;</th><th scope=col>&lt;dbl&gt;</th><th scope=col>&lt;dbl&gt;</th><th scope=col>&lt;dbl&gt;</th><th scope=col>&lt;dbl&gt;</th><th scope=col>...</th><th scope=col>&lt;dbl&gt;</th><th scope=col>&lt;dbl&gt;</th><th scope=col>&lt;dbl&gt;</th><th scope=col>&lt;dbl&gt;</th><th scope=col>&lt;dbl&gt;</th><th scope=col>&lt;dbl&gt;</th><th scope=col>&lt;dbl&gt;</th><th scope=col>&lt;dbl&gt;</th><th scope=col>&lt;dbl&gt;</th><th scope=col>&lt;dbl&gt;</th></tr>\n",
       "</thead>\n",
       "<tbody>\n",
       "\t<tr><td>89.80781</td><td>63.22101</td><td>9.559364</td><td>0.7183232</td><td>9.772682e-05</td><td> 94.85461</td><td>98.62087</td><td>78.35281</td><td>20.268062</td><td>78.96059</td><td>...</td><td>81.47461</td><td>17.146256</td><td>83.49891</td><td>15.121954</td><td>84.52328</td><td>14.097588</td><td>84.56667</td><td>14.0541979</td><td>82.68739</td><td>15.933478</td></tr>\n",
       "\t<tr><td>65.95304</td><td>27.51730</td><td>1.113979</td><td>0.4611830</td><td>4.533282e-05</td><td> 91.35383</td><td>66.09090</td><td>76.09316</td><td>10.002260</td><td>75.18056</td><td>...</td><td>75.48555</td><td> 9.394654</td><td>74.45856</td><td> 8.367660</td><td>74.33545</td><td> 8.244557</td><td>74.13676</td><td> 8.0458589</td><td>74.20070</td><td> 8.109802</td></tr>\n",
       "\t<tr><td>65.63748</td><td>42.72006</td><td>7.460221</td><td>0.2498248</td><td>4.748342e-05</td><td>106.60832</td><td>86.53810</td><td>89.33985</td><td> 2.801754</td><td>89.82723</td><td>...</td><td>89.48956</td><td> 2.951463</td><td>89.25989</td><td> 2.721792</td><td>89.73851</td><td> 3.200407</td><td>89.86278</td><td> 3.3246804</td><td>89.43928</td><td> 2.901177</td></tr>\n",
       "\t<tr><td>49.08474</td><td>53.36187</td><td>1.029111</td><td>0.3209241</td><td>2.648540e-05</td><td> 95.31602</td><td>97.06720</td><td>91.93041</td><td> 5.136791</td><td>91.98127</td><td>...</td><td>90.85816</td><td> 6.209038</td><td>92.24697</td><td> 4.820225</td><td>89.19557</td><td> 7.871626</td><td>90.38601</td><td> 6.6811927</td><td>89.22773</td><td> 7.839467</td></tr>\n",
       "\t<tr><td>82.31666</td><td>32.86349</td><td>9.937437</td><td>0.7424780</td><td>9.336225e-05</td><td> 91.00066</td><td>73.99356</td><td>72.78441</td><td> 1.209153</td><td>72.06061</td><td>...</td><td>72.70397</td><td> 1.289594</td><td>72.49009</td><td> 1.503473</td><td>72.39703</td><td> 1.596530</td><td>73.70981</td><td> 0.2837503</td><td>72.76296</td><td> 1.230604</td></tr>\n",
       "\t<tr><td>59.08719</td><td>22.26741</td><td>5.281372</td><td>0.7351098</td><td>1.573031e-05</td><td> 98.78114</td><td>63.67668</td><td>70.93045</td><td> 7.253769</td><td>69.94231</td><td>...</td><td>71.16496</td><td> 7.488280</td><td>70.58823</td><td> 6.911551</td><td>71.88659</td><td> 8.209909</td><td>71.11941</td><td> 7.4427329</td><td>70.24052</td><td> 6.563844</td></tr>\n",
       "</tbody>\n",
       "</table>\n"
      ],
      "text/latex": [
       "A data.table: 6 × 25\n",
       "\\begin{tabular}{r|lllllllllllllllllllllllll}\n",
       " density & \\%-similar-wanted & budget-multiplier-dummy & density-multiplier-dummy & noise-dummy & tick-limit & output & pred\\_output\\_1 & RMSE\\_1 & pred\\_output\\_2 & RMSE\\_2 & pred\\_output\\_3 & RMSE\\_3 & pred\\_output\\_4 & RMSE\\_4 & pred\\_output\\_5 & RMSE\\_5 & pred\\_output\\_6 & RMSE\\_6 & pred\\_output\\_7 & RMSE\\_7 & pred\\_output\\_8 & RMSE\\_8 & pred\\_output\\_9 & RMSE\\_9\\\\\n",
       " <dbl> & <dbl> & <dbl> & <dbl> & <dbl> & <dbl> & <dbl> & <dbl> & <dbl> & <dbl> & <dbl> & <dbl> & <dbl> & <dbl> & <dbl> & <dbl> & <dbl> & <dbl> & <dbl> & <dbl> & <dbl> & <dbl> & <dbl> & <dbl> & <dbl>\\\\\n",
       "\\hline\n",
       "\t 89.80781 & 63.22101 & 9.559364 & 0.7183232 & 9.772682e-05 &  94.85461 & 98.62087 & 78.35281 & 20.268062 & 78.96059 & 19.660280 & 81.93228 & 16.688589 & 80.07317 & 18.547699 & 81.47461 & 17.146256 & 83.49891 & 15.121954 & 84.52328 & 14.097588 & 84.56667 & 14.0541979 & 82.68739 & 15.933478\\\\\n",
       "\t 65.95304 & 27.51730 & 1.113979 & 0.4611830 & 4.533282e-05 &  91.35383 & 66.09090 & 76.09316 & 10.002260 & 75.18056 &  9.089667 & 75.50506 &  9.414163 & 74.63390 &  8.543001 & 75.48555 &  9.394654 & 74.45856 &  8.367660 & 74.33545 &  8.244557 & 74.13676 &  8.0458589 & 74.20070 &  8.109802\\\\\n",
       "\t 65.63748 & 42.72006 & 7.460221 & 0.2498248 & 4.748342e-05 & 106.60832 & 86.53810 & 89.33985 &  2.801754 & 89.82723 &  3.289125 & 90.05717 &  3.519068 & 89.06512 &  2.527018 & 89.48956 &  2.951463 & 89.25989 &  2.721792 & 89.73851 &  3.200407 & 89.86278 &  3.3246804 & 89.43928 &  2.901177\\\\\n",
       "\t 49.08474 & 53.36187 & 1.029111 & 0.3209241 & 2.648540e-05 &  95.31602 & 97.06720 & 91.93041 &  5.136791 & 91.98127 &  5.085930 & 90.77712 &  6.290076 & 91.32095 &  5.746244 & 90.85816 &  6.209038 & 92.24697 &  4.820225 & 89.19557 &  7.871626 & 90.38601 &  6.6811927 & 89.22773 &  7.839467\\\\\n",
       "\t 82.31666 & 32.86349 & 9.937437 & 0.7424780 & 9.336225e-05 &  91.00066 & 73.99356 & 72.78441 &  1.209153 & 72.06061 &  1.932956 & 72.09691 &  1.896656 & 71.88456 &  2.109001 & 72.70397 &  1.289594 & 72.49009 &  1.503473 & 72.39703 &  1.596530 & 73.70981 &  0.2837503 & 72.76296 &  1.230604\\\\\n",
       "\t 59.08719 & 22.26741 & 5.281372 & 0.7351098 & 1.573031e-05 &  98.78114 & 63.67668 & 70.93045 &  7.253769 & 69.94231 &  6.265627 & 70.31234 &  6.635662 & 71.58784 &  7.911166 & 71.16496 &  7.488280 & 70.58823 &  6.911551 & 71.88659 &  8.209909 & 71.11941 &  7.4427329 & 70.24052 &  6.563844\\\\\n",
       "\\end{tabular}\n"
      ],
      "text/markdown": [
       "\n",
       "A data.table: 6 × 25\n",
       "\n",
       "| density &lt;dbl&gt; | %-similar-wanted &lt;dbl&gt; | budget-multiplier-dummy &lt;dbl&gt; | density-multiplier-dummy &lt;dbl&gt; | noise-dummy &lt;dbl&gt; | tick-limit &lt;dbl&gt; | output &lt;dbl&gt; | pred_output_1 &lt;dbl&gt; | RMSE_1 &lt;dbl&gt; | pred_output_2 &lt;dbl&gt; | ... ... | pred_output_5 &lt;dbl&gt; | RMSE_5 &lt;dbl&gt; | pred_output_6 &lt;dbl&gt; | RMSE_6 &lt;dbl&gt; | pred_output_7 &lt;dbl&gt; | RMSE_7 &lt;dbl&gt; | pred_output_8 &lt;dbl&gt; | RMSE_8 &lt;dbl&gt; | pred_output_9 &lt;dbl&gt; | RMSE_9 &lt;dbl&gt; |\n",
       "|---|---|---|---|---|---|---|---|---|---|---|---|---|---|---|---|---|---|---|---|---|\n",
       "| 89.80781 | 63.22101 | 9.559364 | 0.7183232 | 9.772682e-05 |  94.85461 | 98.62087 | 78.35281 | 20.268062 | 78.96059 | ... | 81.47461 | 17.146256 | 83.49891 | 15.121954 | 84.52328 | 14.097588 | 84.56667 | 14.0541979 | 82.68739 | 15.933478 |\n",
       "| 65.95304 | 27.51730 | 1.113979 | 0.4611830 | 4.533282e-05 |  91.35383 | 66.09090 | 76.09316 | 10.002260 | 75.18056 | ... | 75.48555 |  9.394654 | 74.45856 |  8.367660 | 74.33545 |  8.244557 | 74.13676 |  8.0458589 | 74.20070 |  8.109802 |\n",
       "| 65.63748 | 42.72006 | 7.460221 | 0.2498248 | 4.748342e-05 | 106.60832 | 86.53810 | 89.33985 |  2.801754 | 89.82723 | ... | 89.48956 |  2.951463 | 89.25989 |  2.721792 | 89.73851 |  3.200407 | 89.86278 |  3.3246804 | 89.43928 |  2.901177 |\n",
       "| 49.08474 | 53.36187 | 1.029111 | 0.3209241 | 2.648540e-05 |  95.31602 | 97.06720 | 91.93041 |  5.136791 | 91.98127 | ... | 90.85816 |  6.209038 | 92.24697 |  4.820225 | 89.19557 |  7.871626 | 90.38601 |  6.6811927 | 89.22773 |  7.839467 |\n",
       "| 82.31666 | 32.86349 | 9.937437 | 0.7424780 | 9.336225e-05 |  91.00066 | 73.99356 | 72.78441 |  1.209153 | 72.06061 | ... | 72.70397 |  1.289594 | 72.49009 |  1.503473 | 72.39703 |  1.596530 | 73.70981 |  0.2837503 | 72.76296 |  1.230604 |\n",
       "| 59.08719 | 22.26741 | 5.281372 | 0.7351098 | 1.573031e-05 |  98.78114 | 63.67668 | 70.93045 |  7.253769 | 69.94231 | ... | 71.16496 |  7.488280 | 70.58823 |  6.911551 | 71.88659 |  8.209909 | 71.11941 |  7.4427329 | 70.24052 |  6.563844 |\n",
       "\n"
      ],
      "text/plain": [
       "  density  %-similar-wanted budget-multiplier-dummy density-multiplier-dummy\n",
       "1 89.80781 63.22101         9.559364                0.7183232               \n",
       "2 65.95304 27.51730         1.113979                0.4611830               \n",
       "3 65.63748 42.72006         7.460221                0.2498248               \n",
       "4 49.08474 53.36187         1.029111                0.3209241               \n",
       "5 82.31666 32.86349         9.937437                0.7424780               \n",
       "6 59.08719 22.26741         5.281372                0.7351098               \n",
       "  noise-dummy  tick-limit output   pred_output_1 RMSE_1    pred_output_2 ...\n",
       "1 9.772682e-05  94.85461  98.62087 78.35281      20.268062 78.96059      ...\n",
       "2 4.533282e-05  91.35383  66.09090 76.09316      10.002260 75.18056      ...\n",
       "3 4.748342e-05 106.60832  86.53810 89.33985       2.801754 89.82723      ...\n",
       "4 2.648540e-05  95.31602  97.06720 91.93041       5.136791 91.98127      ...\n",
       "5 9.336225e-05  91.00066  73.99356 72.78441       1.209153 72.06061      ...\n",
       "6 1.573031e-05  98.78114  63.67668 70.93045       7.253769 69.94231      ...\n",
       "  pred_output_5 RMSE_5    pred_output_6 RMSE_6    pred_output_7 RMSE_7   \n",
       "1 81.47461      17.146256 83.49891      15.121954 84.52328      14.097588\n",
       "2 75.48555       9.394654 74.45856       8.367660 74.33545       8.244557\n",
       "3 89.48956       2.951463 89.25989       2.721792 89.73851       3.200407\n",
       "4 90.85816       6.209038 92.24697       4.820225 89.19557       7.871626\n",
       "5 72.70397       1.289594 72.49009       1.503473 72.39703       1.596530\n",
       "6 71.16496       7.488280 70.58823       6.911551 71.88659       8.209909\n",
       "  pred_output_8 RMSE_8     pred_output_9 RMSE_9   \n",
       "1 84.56667      14.0541979 82.68739      15.933478\n",
       "2 74.13676       8.0458589 74.20070       8.109802\n",
       "3 89.86278       3.3246804 89.43928       2.901177\n",
       "4 90.38601       6.6811927 89.22773       7.839467\n",
       "5 73.70981       0.2837503 72.76296       1.230604\n",
       "6 71.11941       7.4427329 70.24052       6.563844"
      ]
     },
     "metadata": {},
     "output_type": "display_data"
    },
    {
     "data": {
      "text/html": [
       "<table>\n",
       "<caption>A data.table: 9 × 2</caption>\n",
       "<thead>\n",
       "\t<tr><th scope=col>obb_error</th><th scope=col>iter</th></tr>\n",
       "\t<tr><th scope=col>&lt;dbl&gt;</th><th scope=col>&lt;dbl&gt;</th></tr>\n",
       "</thead>\n",
       "<tbody>\n",
       "\t<tr><td>69.89621</td><td>1</td></tr>\n",
       "\t<tr><td>68.99560</td><td>2</td></tr>\n",
       "\t<tr><td>69.56955</td><td>3</td></tr>\n",
       "\t<tr><td>66.64179</td><td>4</td></tr>\n",
       "\t<tr><td>68.72637</td><td>5</td></tr>\n",
       "\t<tr><td>62.23706</td><td>6</td></tr>\n",
       "\t<tr><td>65.13324</td><td>7</td></tr>\n",
       "\t<tr><td>61.09306</td><td>8</td></tr>\n",
       "\t<tr><td>60.82295</td><td>9</td></tr>\n",
       "</tbody>\n",
       "</table>\n"
      ],
      "text/latex": [
       "A data.table: 9 × 2\n",
       "\\begin{tabular}{r|ll}\n",
       " obb\\_error & iter\\\\\n",
       " <dbl> & <dbl>\\\\\n",
       "\\hline\n",
       "\t 69.89621 & 1\\\\\n",
       "\t 68.99560 & 2\\\\\n",
       "\t 69.56955 & 3\\\\\n",
       "\t 66.64179 & 4\\\\\n",
       "\t 68.72637 & 5\\\\\n",
       "\t 62.23706 & 6\\\\\n",
       "\t 65.13324 & 7\\\\\n",
       "\t 61.09306 & 8\\\\\n",
       "\t 60.82295 & 9\\\\\n",
       "\\end{tabular}\n"
      ],
      "text/markdown": [
       "\n",
       "A data.table: 9 × 2\n",
       "\n",
       "| obb_error &lt;dbl&gt; | iter &lt;dbl&gt; |\n",
       "|---|---|\n",
       "| 69.89621 | 1 |\n",
       "| 68.99560 | 2 |\n",
       "| 69.56955 | 3 |\n",
       "| 66.64179 | 4 |\n",
       "| 68.72637 | 5 |\n",
       "| 62.23706 | 6 |\n",
       "| 65.13324 | 7 |\n",
       "| 61.09306 | 8 |\n",
       "| 60.82295 | 9 |\n",
       "\n"
      ],
      "text/plain": [
       "  obb_error iter\n",
       "1 69.89621  1   \n",
       "2 68.99560  2   \n",
       "3 69.56955  3   \n",
       "4 66.64179  4   \n",
       "5 68.72637  5   \n",
       "6 62.23706  6   \n",
       "7 65.13324  7   \n",
       "8 61.09306  8   \n",
       "9 60.82295  9   "
      ]
     },
     "metadata": {},
     "output_type": "display_data"
    }
   ],
   "source": [
    "nrow(FinalTrainData_Ad)\n",
    "performance_table_Ad\n",
    "train_candidates_table_Ad\n",
    "head(predictedLabels_table_Ad)\n",
    "obb_error_Ad"
   ]
  },
  {
   "cell_type": "code",
   "execution_count": 46,
   "metadata": {},
   "outputs": [
    {
     "data": {
      "image/png": "[encoded data removed]",
      "text/plain": [
       "plot without title"
      ]
     },
     "metadata": {},
     "output_type": "display_data"
    }
   ],
   "source": [
    "performance_molten_Ad <- melt(data = performance_table_Ad\n",
    "                             , id.vars = 'iter')\n",
    "setnames(performance_molten_Ad, c(\"variable\",\"value\"),c(\"errortype\",\"errorvalue\"))\n",
    "p_Ad = ggplot(performance_molten_Ad, aes(x = iter, y = errorvalue, group=errortype, col=errortype)) + \n",
    "            geom_line(lwd=1)\n",
    "p_Ad"
   ]
  },
  {
   "cell_type": "markdown",
   "metadata": {},
   "source": [
    "# Random Sampling vs Uncertainty Sampling"
   ]
  },
  {
   "cell_type": "code",
   "execution_count": 52,
   "metadata": {},
   "outputs": [
    {
     "name": "stderr",
     "output_type": "stream",
     "text": [
      "Loading required package: gridExtra\n",
      "\n",
      "Attaching package: 'gridExtra'\n",
      "\n",
      "The following object is masked from 'package:randomForest':\n",
      "\n",
      "    combine\n",
      "\n",
      "The following object is masked from 'package:dplyr':\n",
      "\n",
      "    combine\n",
      "\n"
     ]
    }
   ],
   "source": [
    "require(gridExtra)"
   ]
  },
  {
   "cell_type": "code",
   "execution_count": 53,
   "metadata": {},
   "outputs": [
    {
     "data": {
      "image/png": "[encoded data removed]",
      "text/plain": [
       "plot without title"
      ]
     },
     "metadata": {},
     "output_type": "display_data"
    }
   ],
   "source": [
    "grid.arrange(p_Rd, p_Ad, ncol=2)"
   ]
  },
  {
   "cell_type": "markdown",
   "metadata": {},
   "source": [
    "# Adaptive Sampling & Feature Elimination "
   ]
  },
  {
   "cell_type": "markdown",
   "metadata": {},
   "source": [
    "## Generate Training Set"
   ]
  },
  {
   "cell_type": "markdown",
   "metadata": {},
   "source": [
    "Select a relatively big data pool ( nofinstances should be medium) , like 400"
   ]
  },
  {
   "cell_type": "code",
   "execution_count": 127,
   "metadata": {},
   "outputs": [],
   "source": [
    "LHSample_Ad = copy(adaptive_initial_data)"
   ]
  },
  {
   "cell_type": "code",
   "execution_count": null,
   "metadata": {},
   "outputs": [],
   "source": [
    "#if(GenerateTTData == 1){\n",
    "#   \n",
    "#    LHSample_Ad = as.data.table(maximinLHS(n = train_ins_Ad, k = nofparams, dup = 5))\n",
    "#    \n",
    "#    LHSample_Ad$V1 = qunif(LHSample_Ad$V1, 10, 90) \n",
    "#    LHSample_Ad$V2 = qunif(LHSample_Ad$V2, 10, 90) \n",
    "#    setnames(LHSample_Ad, c(\"V1\",\"V2\"), feature_names)\n",
    "#    LHSample_Ad$output <- 0.00\n",
    "#    \n",
    "#    paste0(\"ABM run start time : \",Sys.time())\n",
    "#    LHSample_Ad = run_ABM(nofrep,train_ins_Ad,LHSample_Ad) %>% as.data.table()\n",
    "#    paste0(\"ABM run end time : \",Sys.time())\n",
    "#    \n",
    "#    fwrite(LHSample_Ad, paste0(\"C:/Users/paslanpatir/Desktop/TEZ_v2/LHSample_Ad_Data\",Sys.Date(),\".csv\"))\n",
    "#\n",
    "#}else{\n",
    "#    LHSample_Ad <- fread(\"C:/Users/paslanpatir/Desktop/TEZ_v2/LHSample_Ad_Data_04122019.csv\")\n",
    "#    LHSample_Ad <- head(LHSample_Ad[`%-similar-wanted` < 90],300)\n",
    "#\n",
    "#}"
   ]
  },
  {
   "cell_type": "markdown",
   "metadata": {},
   "source": [
    "### Visualization"
   ]
  },
  {
   "cell_type": "code",
   "execution_count": null,
   "metadata": {},
   "outputs": [],
   "source": [
    "pca_LHSample_Ad <- princomp(LHSample_Ad[,-c(\"output\")], cor = TRUE, scores = TRUE)"
   ]
  },
  {
   "cell_type": "code",
   "execution_count": null,
   "metadata": {
    "scrolled": false
   },
   "outputs": [],
   "source": [
    "#fviz_pca_ind(pca_LHSample,\n",
    "#             col.ind = \"cos2\", # Color by the quality of representation\n",
    "#             gradient.cols = c(\"#00AFBB\", \"#E7B800\", \"#FC4E07\"),\n",
    "#              geom=\"point\"\n",
    "#             )\n",
    "\n",
    "pca_LHSample_Ad_components <- get_pca_ind(pca_LHSample_Ad)\n",
    "pca_LHSample_Ad_components <-cbind(pca_LHSample_Ad_components$coord[,1:2],LHSample_Ad[,c(\"output\")])\n",
    "p_LHSample_Ad <- ggplot(data = pca_LHSample_Ad_components, aes(x = Dim.1, y = Dim.2)) +\n",
    "                     geom_point(aes(colour = output)) +\n",
    "                     labs( title = \"\", legend = \"output\") \n",
    "p_LHSample_Ad"
   ]
  },
  {
   "cell_type": "markdown",
   "metadata": {},
   "source": [
    "## Train and Test Metamodel"
   ]
  },
  {
   "cell_type": "code",
   "execution_count": 128,
   "metadata": {},
   "outputs": [],
   "source": [
    "# Record train candidates\n",
    "train_candidates_table = matrix(c(1:ncol(LHSample_Ad) ), nrow = 0, ncol = ncol(LHSample_Ad) )\n",
    "colnames(train_candidates_table) <- colnames(LHSample_Ad)\n",
    "colnames(train_candidates_table)[colnames(train_candidates_table) == \"output\"] <- \"idx\"\n",
    "\n",
    "# Record model performances\n",
    "performance_table = data.table(iter = numeric(), mae= numeric(),rmse= numeric(), mape = numeric()  )\n"
   ]
  },
  {
   "cell_type": "code",
   "execution_count": 108,
   "metadata": {},
   "outputs": [
    {
     "data": {
      "text/html": [
       "<ol class=list-inline>\n",
       "\t<li>'%-similar-wanted'</li>\n",
       "\t<li>'density'</li>\n",
       "\t<li>'noise-dummy'</li>\n",
       "\t<li>'tick-limit'</li>\n",
       "\t<li>'density-multiplier-dummy'</li>\n",
       "\t<li>'budget-multiplier-dummy'</li>\n",
       "</ol>\n"
      ],
      "text/latex": [
       "\\begin{enumerate*}\n",
       "\\item '\\%-similar-wanted'\n",
       "\\item 'density'\n",
       "\\item 'noise-dummy'\n",
       "\\item 'tick-limit'\n",
       "\\item 'density-multiplier-dummy'\n",
       "\\item 'budget-multiplier-dummy'\n",
       "\\end{enumerate*}\n"
      ],
      "text/markdown": [
       "1. '%-similar-wanted'\n",
       "2. 'density'\n",
       "3. 'noise-dummy'\n",
       "4. 'tick-limit'\n",
       "5. 'density-multiplier-dummy'\n",
       "6. 'budget-multiplier-dummy'\n",
       "\n",
       "\n"
      ],
      "text/plain": [
       "[1] \"%-similar-wanted\"         \"density\"                 \n",
       "[3] \"noise-dummy\"              \"tick-limit\"              \n",
       "[5] \"density-multiplier-dummy\" \"budget-multiplier-dummy\" "
      ]
     },
     "metadata": {},
     "output_type": "display_data"
    }
   ],
   "source": [
    "ranked_features"
   ]
  },
  {
   "cell_type": "code",
   "execution_count": 129,
   "metadata": {},
   "outputs": [
    {
     "name": "stdout",
     "output_type": "stream",
     "text": [
      "[1] 1\n",
      "[1] 2\n",
      "[1] 3\n",
      "[1] 4\n",
      "[1] 5\n",
      "[1] 6\n",
      "[1] 6\n",
      "[1] 6\n",
      "[1] 6\n",
      "[1] 6\n",
      "[1] 6\n",
      "[1] 6\n",
      "[1] 6\n",
      "[1] 6\n",
      "[1] 6\n",
      "[1] 6\n",
      "[1] 6\n",
      "[1] 6\n",
      "[1] 6\n",
      "[1] 6\n",
      "[1] 6\n",
      "[1] 6\n",
      "[1] 6\n",
      "[1] 6\n",
      "[1] 6\n",
      "[1] 6\n",
      "[1] 6\n",
      "[1] 6\n",
      "[1] 6\n",
      "[1] 6\n",
      "[1] 6\n",
      "[1] 6\n",
      "[1] 6\n",
      "[1] 6\n",
      "[1] 6\n",
      "[1] 6\n",
      "[1] 6\n",
      "[1] 6\n",
      "[1] 6\n",
      "[1] 6\n",
      "[1] 6\n",
      "[1] 6\n",
      "[1] 6\n",
      "[1] 6\n",
      "[1] 6\n",
      "[1] 6\n",
      "[1] 6\n",
      "[1] 6\n",
      "[1] 6\n",
      "[1] 6\n",
      "[1] 6\n",
      "[1] 6\n",
      "[1] 6\n",
      "[1] 6\n",
      "[1] 6\n",
      "[1] 6\n",
      "[1] 6\n",
      "[1] 6\n",
      "[1] 6\n",
      "[1] 6\n",
      "[1] 6\n",
      "[1] 6\n",
      "[1] 6\n",
      "[1] 6\n",
      "[1] 6\n",
      "[1] 6\n",
      "[1] 6\n",
      "[1] 6\n",
      "[1] 6\n",
      "[1] 6\n",
      "[1] 6\n",
      "[1] 6\n",
      "[1] 6\n",
      "[1] 6\n",
      "[1] 6\n",
      "[1] 6\n",
      "[1] 6\n",
      "[1] 6\n",
      "[1] 6\n",
      "[1] 6\n",
      "[1] 6\n",
      "[1] 6\n",
      "[1] 6\n",
      "[1] 6\n",
      "[1] 6\n",
      "[1] 6\n",
      "[1] 6\n",
      "[1] 6\n",
      "[1] 6\n",
      "[1] 6\n",
      "[1] 6\n",
      "[1] 6\n",
      "[1] 6\n",
      "[1] 6\n",
      "[1] 6\n",
      "[1] 6\n",
      "[1] 6\n",
      "[1] 6\n",
      "[1] 6\n",
      "[1] 6\n",
      "[1] 6\n",
      "[1] 6\n",
      "[1] 6\n",
      "[1] 6\n",
      "[1] 6\n",
      "[1] 6\n",
      "[1] 6\n",
      "[1] 6\n",
      "[1] 6\n",
      "[1] 6\n",
      "[1] 6\n",
      "[1] 6\n",
      "[1] 6\n",
      "[1] 6\n",
      "[1] 6\n"
     ]
    },
    {
     "ename": "ERROR",
     "evalue": "Error in predict.randomForest(rf, unlabeled_set, predict.all = TRUE): newdata has 0 rows\n",
     "output_type": "error",
     "traceback": [
      "Error in predict.randomForest(rf, unlabeled_set, predict.all = TRUE): newdata has 0 rows\nTraceback:\n",
      "1. sample_selection(selected_ins, unlabeled_set, trainx, trainy)",
      "2. t(predict(rf, unlabeled_set, predict.all = TRUE)$individual) %>% \n .     data.table()   # at line 5 of file <text>",
      "3. eval(lhs, parent, parent)",
      "4. eval(lhs, parent, parent)",
      "5. t(predict(rf, unlabeled_set, predict.all = TRUE)$individual)",
      "6. predict(rf, unlabeled_set, predict.all = TRUE)",
      "7. predict.randomForest(rf, unlabeled_set, predict.all = TRUE)",
      "8. stop(\"newdata has 0 rows\")"
     ]
    }
   ],
   "source": [
    "#error_type = \"mape\"  \n",
    "predictedLabels_table_AdFe = copy(test_set)\n",
    "\n",
    "loop = 0\n",
    "iter = 1\n",
    "columns_left = feature_names\n",
    "nofEliminatedVariables <- 0 # initial\n",
    "\n",
    "while(nofEliminatedVariables < nofparams & iter < numiter ){ # 1 is reponse v., another 1 is the last feature\n",
    "    \n",
    "    print(iter)\n",
    "    loop =  loop + 1\n",
    "    trainx = LHSample_Ad[,.SD, .SDcols = columns_left]\n",
    "    trainy = LHSample_Ad$output\n",
    "    \n",
    "    # Train the model\n",
    "    model_Sub <- randomForest( x = trainx, y =  trainy,importance = TRUE,ntree = ntree, mtry = mtry)\n",
    "    assign(paste0(\"model_Sub_\",iter),model_Sub)\n",
    "    \n",
    "     if(iter == 1){\n",
    "  #      importances <- importance(model_Sub, type = 1, scale = FALSE)\n",
    "  #      selected.vars <- order(importances, decreasing = TRUE)\n",
    "  #      ranked_features = feature_names[selected.vars]\n",
    "         ranked_features = get_variable_importance(model_Sub)\n",
    "     }                      \n",
    "         \n",
    "    \n",
    "    if(iter == 1){\n",
    "        obb_error <- as.data.table(obb_error_func(model_Sub)) \n",
    "        obb_error$iter <- 1 \n",
    "        setnames(obb_error,\"V1\",\"obb_error\")\n",
    "    }else{\n",
    "         ## OOB Error & Test Error \n",
    "        obb_error_Sub <- as.data.table(obb_error_func(model_Sub)) \n",
    "        obb_error_Sub$iter <- iter \n",
    "        obb_error <- rbind(obb_error,obb_error_Sub, use.names = FALSE)\n",
    "        rm(obb_error_Sub)\n",
    "    }\n",
    " \n",
    "\n",
    "    \n",
    " #  ## OOB Error & Test Error \n",
    " #  obb_error_Sub <- as.data.table(obb_error(model_Sub)) \n",
    " #  obb_error_Sub$iter <- iter \n",
    " #  obb_error_AdFe <- rbind(obb_error_AdFe,obb_error_Sub, use.names = FALSE)\n",
    " #  rm(obb_error_Sub)\n",
    "  \n",
    "    # test the model on test set\n",
    "    test_predictions_Sub = get_test_predictions(model_Sub,test_set,error_type)\n",
    "    predictedLabels_Sub = test_predictions_Sub[[1]]\n",
    "    setnames(predictedLabels_Sub,c(\"pred_output\",error_type), c(paste0(\"pred_output_\",iter),paste0(error_type,\"_\",iter)))  \n",
    "    predictedLabels_table_AdFe = cbind(predictedLabels_table_AdFe,predictedLabels_Sub[,.SD, .SDcols = c(paste0(\"pred_output_\",iter),paste0(error_type,\"_\",iter))])\n",
    "    \n",
    "    # record the general test errors\n",
    "    performance_table_temp = test_predictions_Sub[[2]]\n",
    "    performance_table_temp[[1]] = iter\n",
    "    performance_table = rbind(performance_table,performance_table_temp, use.names = FALSE)\n",
    "    rm(performance_table_temp)   \n",
    "    \n",
    "    output_variables = test_predictions_Sub[[3]]          \n",
    "\n",
    "     # Sample from unlabeled data\n",
    "    unlabeled_set <- copy(unlabeled_pool)\n",
    "    train_candidates = sample_selection(selected_ins,unlabeled_set,trainx,trainy)\n",
    "    # Eliminate train candidates from the unlabeled pool\n",
    "    unlabeled_pool = unlabeled_pool[- train_candidates$idx]\n",
    "    rm(unlabeled_set)\n",
    "    # Run ABM to label train candidates\n",
    "#  train_candidates = as.data.table(train_candidates) \n",
    "    paste0(\"ABM train_candidate run start time : \",Sys.time())\n",
    "    train_candidates = run_ABM(nofrep,selected_ins,train_candidates)\n",
    "    paste0(\"ABM train_candidate run end time : \",Sys.time())\n",
    "    \n",
    "    # Add new data to train data\n",
    "    LHSample_Ad = rbind(LHSample_Ad,train_candidates[,-c(\"idx\")])\n",
    "    \n",
    "if(nofEliminatedVariables < (nofparams - 1) ){ # 1 for output , \n",
    "            \n",
    "    # order columns according to importances\n",
    "    id_variables = colnames(select(LHSample_Ad, -starts_with(\"pred_\"))) # pred_ouput is always at the end\n",
    "    LHSample_Ad = setcolorder(LHSample_Ad[,.SD, .SDcols = id_variables],ranked_features)\n",
    "    \n",
    "    # Apply feature elimination\n",
    "    feature_elimination_result = feature_elimination(h,nofEliminatedVariables,LHSample_Ad,ranked_features)\n",
    "\n",
    "    columns_left_iter = feature_elimination_result[[1]]# \n",
    "    eliminated_columns = setdiff(columns_left,columns_left_iter) ## bunu historik tut\n",
    "    columns_left = copy(columns_left_iter)\n",
    "    rm(columns_left_iter)\n",
    "    \n",
    "    nofEliminatedVariables = as.numeric(feature_elimination_result[2])                  \n",
    "\n",
    "    \n",
    "#   setcolorder(LHSample_Ad,selected.vars)\n",
    "#    feature_elimination_result = feature_elimination(h,nofEliminatedVariables,LHSample_Ad,selected.vars)\n",
    "    iter = iter + 1\n",
    "    loop = loop + 1\n",
    "  }\n",
    "    \n",
    "#   if(loop > iter ){ break }   \n",
    "}\n",
    "\n",
    "# plot koy her iteration'da göstersin.\n",
    "#setcolorder(data,variableorder) ################# bunu bi yerlere koyman gerekebilir, dikkat!!"
   ]
  },
  {
   "cell_type": "code",
   "execution_count": 50,
   "metadata": {},
   "outputs": [],
   "source": [
    "# Final records\n",
    "FinalTrainData_AdFe = copy(LHSample_Ad)\n",
    "performance_table_AdFe = copy(performance_table)\n",
    "train_candidates_table_AdFe  = copy(train_candidates_table)\n",
    "predictedLabels_table_AdFe = copy(predictedLabels_table)\n",
    "obb_error_AdFe = copy(obb_error)"
   ]
  },
  {
   "cell_type": "code",
   "execution_count": 51,
   "metadata": {},
   "outputs": [
    {
     "data": {
      "text/html": [
       "210"
      ],
      "text/latex": [
       "210"
      ],
      "text/markdown": [
       "210"
      ],
      "text/plain": [
       "[1] 210"
      ]
     },
     "metadata": {},
     "output_type": "display_data"
    },
    {
     "data": {
      "text/html": [
       "<table>\n",
       "<caption>A data.table: 2 × 4</caption>\n",
       "<thead>\n",
       "\t<tr><th scope=col>iter</th><th scope=col>mae</th><th scope=col>rmse</th><th scope=col>mape</th></tr>\n",
       "\t<tr><th scope=col>&lt;dbl&gt;</th><th scope=col>&lt;dbl&gt;</th><th scope=col>&lt;dbl&gt;</th><th scope=col>&lt;dbl&gt;</th></tr>\n",
       "</thead>\n",
       "<tbody>\n",
       "\t<tr><td>1</td><td>6.275319</td><td>7.784578</td><td>8.812498</td></tr>\n",
       "\t<tr><td>2</td><td>6.040740</td><td>9.631544</td><td>8.663305</td></tr>\n",
       "</tbody>\n",
       "</table>\n"
      ],
      "text/latex": [
       "A data.table: 2 × 4\n",
       "\\begin{tabular}{r|llll}\n",
       " iter & mae & rmse & mape\\\\\n",
       " <dbl> & <dbl> & <dbl> & <dbl>\\\\\n",
       "\\hline\n",
       "\t 1 & 6.275319 & 7.784578 & 8.812498\\\\\n",
       "\t 2 & 6.040740 & 9.631544 & 8.663305\\\\\n",
       "\\end{tabular}\n"
      ],
      "text/markdown": [
       "\n",
       "A data.table: 2 × 4\n",
       "\n",
       "| iter &lt;dbl&gt; | mae &lt;dbl&gt; | rmse &lt;dbl&gt; | mape &lt;dbl&gt; |\n",
       "|---|---|---|---|\n",
       "| 1 | 6.275319 | 7.784578 | 8.812498 |\n",
       "| 2 | 6.040740 | 9.631544 | 8.663305 |\n",
       "\n"
      ],
      "text/plain": [
       "  iter mae      rmse     mape    \n",
       "1 1    6.275319 7.784578 8.812498\n",
       "2 2    6.040740 9.631544 8.663305"
      ]
     },
     "metadata": {},
     "output_type": "display_data"
    },
    {
     "data": {
      "text/html": [
       "<table>\n",
       "<caption>A data.table: 10 × 9</caption>\n",
       "<thead>\n",
       "\t<tr><th scope=col>density</th><th scope=col>%-similar-wanted</th><th scope=col>budget-multiplier-dummy</th><th scope=col>density-multiplier-dummy</th><th scope=col>noise-dummy</th><th scope=col>tick-limit</th><th scope=col>idx</th><th scope=col>output</th><th scope=col>iter</th></tr>\n",
       "\t<tr><th scope=col>&lt;dbl&gt;</th><th scope=col>&lt;dbl&gt;</th><th scope=col>&lt;dbl&gt;</th><th scope=col>&lt;dbl&gt;</th><th scope=col>&lt;dbl&gt;</th><th scope=col>&lt;dbl&gt;</th><th scope=col>&lt;int&gt;</th><th scope=col>&lt;dbl&gt;</th><th scope=col>&lt;dbl&gt;</th></tr>\n",
       "</thead>\n",
       "<tbody>\n",
       "\t<tr><td>49.90584</td><td>75.01995</td><td>7.645617</td><td>0.54757642</td><td>7.311075e-05</td><td>104.21166</td><td>140</td><td>65.60240</td><td>1</td></tr>\n",
       "\t<tr><td>76.30828</td><td>64.27350</td><td>8.800393</td><td>0.29069505</td><td>3.300021e-05</td><td>108.87203</td><td>192</td><td>98.78165</td><td>1</td></tr>\n",
       "\t<tr><td>50.40119</td><td>66.54958</td><td>1.710772</td><td>0.34678774</td><td>5.129994e-05</td><td>109.54256</td><td>540</td><td>99.25029</td><td>1</td></tr>\n",
       "\t<tr><td>46.82448</td><td>75.41933</td><td>3.675221</td><td>0.36221238</td><td>7.882518e-05</td><td>100.95472</td><td> 17</td><td>65.14403</td><td>1</td></tr>\n",
       "\t<tr><td>65.45693</td><td>81.72564</td><td>2.350712</td><td>0.59976302</td><td>6.169758e-05</td><td> 90.92102</td><td>458</td><td>51.18063</td><td>1</td></tr>\n",
       "\t<tr><td>55.49370</td><td>89.49027</td><td>6.655675</td><td>0.01826037</td><td>5.203562e-05</td><td> 97.66010</td><td>563</td><td>50.58617</td><td>2</td></tr>\n",
       "\t<tr><td>31.04869</td><td>84.71331</td><td>1.998367</td><td>0.14277711</td><td>2.764362e-05</td><td> 98.63503</td><td>307</td><td>56.30746</td><td>2</td></tr>\n",
       "\t<tr><td>87.16152</td><td>84.62849</td><td>6.498112</td><td>0.08645300</td><td>1.809380e-05</td><td> 97.18913</td><td>440</td><td>49.77249</td><td>2</td></tr>\n",
       "\t<tr><td>84.95888</td><td>85.01924</td><td>9.499964</td><td>0.13605858</td><td>3.362309e-05</td><td> 90.59966</td><td>530</td><td>52.07240</td><td>2</td></tr>\n",
       "\t<tr><td>37.47229</td><td>84.86259</td><td>2.588634</td><td>0.36421477</td><td>9.087981e-05</td><td> 91.60638</td><td>292</td><td>55.62836</td><td>2</td></tr>\n",
       "</tbody>\n",
       "</table>\n"
      ],
      "text/latex": [
       "A data.table: 10 × 9\n",
       "\\begin{tabular}{r|lllllllll}\n",
       " density & \\%-similar-wanted & budget-multiplier-dummy & density-multiplier-dummy & noise-dummy & tick-limit & idx & output & iter\\\\\n",
       " <dbl> & <dbl> & <dbl> & <dbl> & <dbl> & <dbl> & <int> & <dbl> & <dbl>\\\\\n",
       "\\hline\n",
       "\t 49.90584 & 75.01995 & 7.645617 & 0.54757642 & 7.311075e-05 & 104.21166 & 140 & 65.60240 & 1\\\\\n",
       "\t 76.30828 & 64.27350 & 8.800393 & 0.29069505 & 3.300021e-05 & 108.87203 & 192 & 98.78165 & 1\\\\\n",
       "\t 50.40119 & 66.54958 & 1.710772 & 0.34678774 & 5.129994e-05 & 109.54256 & 540 & 99.25029 & 1\\\\\n",
       "\t 46.82448 & 75.41933 & 3.675221 & 0.36221238 & 7.882518e-05 & 100.95472 &  17 & 65.14403 & 1\\\\\n",
       "\t 65.45693 & 81.72564 & 2.350712 & 0.59976302 & 6.169758e-05 &  90.92102 & 458 & 51.18063 & 1\\\\\n",
       "\t 55.49370 & 89.49027 & 6.655675 & 0.01826037 & 5.203562e-05 &  97.66010 & 563 & 50.58617 & 2\\\\\n",
       "\t 31.04869 & 84.71331 & 1.998367 & 0.14277711 & 2.764362e-05 &  98.63503 & 307 & 56.30746 & 2\\\\\n",
       "\t 87.16152 & 84.62849 & 6.498112 & 0.08645300 & 1.809380e-05 &  97.18913 & 440 & 49.77249 & 2\\\\\n",
       "\t 84.95888 & 85.01924 & 9.499964 & 0.13605858 & 3.362309e-05 &  90.59966 & 530 & 52.07240 & 2\\\\\n",
       "\t 37.47229 & 84.86259 & 2.588634 & 0.36421477 & 9.087981e-05 &  91.60638 & 292 & 55.62836 & 2\\\\\n",
       "\\end{tabular}\n"
      ],
      "text/markdown": [
       "\n",
       "A data.table: 10 × 9\n",
       "\n",
       "| density &lt;dbl&gt; | %-similar-wanted &lt;dbl&gt; | budget-multiplier-dummy &lt;dbl&gt; | density-multiplier-dummy &lt;dbl&gt; | noise-dummy &lt;dbl&gt; | tick-limit &lt;dbl&gt; | idx &lt;int&gt; | output &lt;dbl&gt; | iter &lt;dbl&gt; |\n",
       "|---|---|---|---|---|---|---|---|---|\n",
       "| 49.90584 | 75.01995 | 7.645617 | 0.54757642 | 7.311075e-05 | 104.21166 | 140 | 65.60240 | 1 |\n",
       "| 76.30828 | 64.27350 | 8.800393 | 0.29069505 | 3.300021e-05 | 108.87203 | 192 | 98.78165 | 1 |\n",
       "| 50.40119 | 66.54958 | 1.710772 | 0.34678774 | 5.129994e-05 | 109.54256 | 540 | 99.25029 | 1 |\n",
       "| 46.82448 | 75.41933 | 3.675221 | 0.36221238 | 7.882518e-05 | 100.95472 |  17 | 65.14403 | 1 |\n",
       "| 65.45693 | 81.72564 | 2.350712 | 0.59976302 | 6.169758e-05 |  90.92102 | 458 | 51.18063 | 1 |\n",
       "| 55.49370 | 89.49027 | 6.655675 | 0.01826037 | 5.203562e-05 |  97.66010 | 563 | 50.58617 | 2 |\n",
       "| 31.04869 | 84.71331 | 1.998367 | 0.14277711 | 2.764362e-05 |  98.63503 | 307 | 56.30746 | 2 |\n",
       "| 87.16152 | 84.62849 | 6.498112 | 0.08645300 | 1.809380e-05 |  97.18913 | 440 | 49.77249 | 2 |\n",
       "| 84.95888 | 85.01924 | 9.499964 | 0.13605858 | 3.362309e-05 |  90.59966 | 530 | 52.07240 | 2 |\n",
       "| 37.47229 | 84.86259 | 2.588634 | 0.36421477 | 9.087981e-05 |  91.60638 | 292 | 55.62836 | 2 |\n",
       "\n"
      ],
      "text/plain": [
       "   density  %-similar-wanted budget-multiplier-dummy density-multiplier-dummy\n",
       "1  49.90584 75.01995         7.645617                0.54757642              \n",
       "2  76.30828 64.27350         8.800393                0.29069505              \n",
       "3  50.40119 66.54958         1.710772                0.34678774              \n",
       "4  46.82448 75.41933         3.675221                0.36221238              \n",
       "5  65.45693 81.72564         2.350712                0.59976302              \n",
       "6  55.49370 89.49027         6.655675                0.01826037              \n",
       "7  31.04869 84.71331         1.998367                0.14277711              \n",
       "8  87.16152 84.62849         6.498112                0.08645300              \n",
       "9  84.95888 85.01924         9.499964                0.13605858              \n",
       "10 37.47229 84.86259         2.588634                0.36421477              \n",
       "   noise-dummy  tick-limit idx output   iter\n",
       "1  7.311075e-05 104.21166  140 65.60240 1   \n",
       "2  3.300021e-05 108.87203  192 98.78165 1   \n",
       "3  5.129994e-05 109.54256  540 99.25029 1   \n",
       "4  7.882518e-05 100.95472   17 65.14403 1   \n",
       "5  6.169758e-05  90.92102  458 51.18063 1   \n",
       "6  5.203562e-05  97.66010  563 50.58617 2   \n",
       "7  2.764362e-05  98.63503  307 56.30746 2   \n",
       "8  1.809380e-05  97.18913  440 49.77249 2   \n",
       "9  3.362309e-05  90.59966  530 52.07240 2   \n",
       "10 9.087981e-05  91.60638  292 55.62836 2   "
      ]
     },
     "metadata": {},
     "output_type": "display_data"
    },
    {
     "data": {
      "text/html": [
       "<table>\n",
       "<caption>A data.table: 6 × 25</caption>\n",
       "<thead>\n",
       "\t<tr><th scope=col>density</th><th scope=col>%-similar-wanted</th><th scope=col>budget-multiplier-dummy</th><th scope=col>density-multiplier-dummy</th><th scope=col>noise-dummy</th><th scope=col>tick-limit</th><th scope=col>output</th><th scope=col>pred_output_1</th><th scope=col>RMSE_1</th><th scope=col>pred_output_2</th><th scope=col>...</th><th scope=col>pred_output_5</th><th scope=col>RMSE_5</th><th scope=col>pred_output_6</th><th scope=col>RMSE_6</th><th scope=col>pred_output_7</th><th scope=col>RMSE_7</th><th scope=col>pred_output_8</th><th scope=col>RMSE_8</th><th scope=col>pred_output_9</th><th scope=col>RMSE_9</th></tr>\n",
       "\t<tr><th scope=col>&lt;dbl&gt;</th><th scope=col>&lt;dbl&gt;</th><th scope=col>&lt;dbl&gt;</th><th scope=col>&lt;dbl&gt;</th><th scope=col>&lt;dbl&gt;</th><th scope=col>&lt;dbl&gt;</th><th scope=col>&lt;dbl&gt;</th><th scope=col>&lt;dbl&gt;</th><th scope=col>&lt;dbl&gt;</th><th scope=col>&lt;dbl&gt;</th><th scope=col>...</th><th scope=col>&lt;dbl&gt;</th><th scope=col>&lt;dbl&gt;</th><th scope=col>&lt;dbl&gt;</th><th scope=col>&lt;dbl&gt;</th><th scope=col>&lt;dbl&gt;</th><th scope=col>&lt;dbl&gt;</th><th scope=col>&lt;dbl&gt;</th><th scope=col>&lt;dbl&gt;</th><th scope=col>&lt;dbl&gt;</th><th scope=col>&lt;dbl&gt;</th></tr>\n",
       "</thead>\n",
       "<tbody>\n",
       "\t<tr><td>89.80781</td><td>63.22101</td><td>9.559364</td><td>0.7183232</td><td>9.772682e-05</td><td> 94.85461</td><td>98.62087</td><td>78.35281</td><td>20.268062</td><td>78.96059</td><td>...</td><td>81.47461</td><td>17.146256</td><td>83.49891</td><td>15.121954</td><td>84.52328</td><td>14.097588</td><td>84.56667</td><td>14.0541979</td><td>82.68739</td><td>15.933478</td></tr>\n",
       "\t<tr><td>65.95304</td><td>27.51730</td><td>1.113979</td><td>0.4611830</td><td>4.533282e-05</td><td> 91.35383</td><td>66.09090</td><td>76.09316</td><td>10.002260</td><td>75.18056</td><td>...</td><td>75.48555</td><td> 9.394654</td><td>74.45856</td><td> 8.367660</td><td>74.33545</td><td> 8.244557</td><td>74.13676</td><td> 8.0458589</td><td>74.20070</td><td> 8.109802</td></tr>\n",
       "\t<tr><td>65.63748</td><td>42.72006</td><td>7.460221</td><td>0.2498248</td><td>4.748342e-05</td><td>106.60832</td><td>86.53810</td><td>89.33985</td><td> 2.801754</td><td>89.82723</td><td>...</td><td>89.48956</td><td> 2.951463</td><td>89.25989</td><td> 2.721792</td><td>89.73851</td><td> 3.200407</td><td>89.86278</td><td> 3.3246804</td><td>89.43928</td><td> 2.901177</td></tr>\n",
       "\t<tr><td>49.08474</td><td>53.36187</td><td>1.029111</td><td>0.3209241</td><td>2.648540e-05</td><td> 95.31602</td><td>97.06720</td><td>91.93041</td><td> 5.136791</td><td>91.98127</td><td>...</td><td>90.85816</td><td> 6.209038</td><td>92.24697</td><td> 4.820225</td><td>89.19557</td><td> 7.871626</td><td>90.38601</td><td> 6.6811927</td><td>89.22773</td><td> 7.839467</td></tr>\n",
       "\t<tr><td>82.31666</td><td>32.86349</td><td>9.937437</td><td>0.7424780</td><td>9.336225e-05</td><td> 91.00066</td><td>73.99356</td><td>72.78441</td><td> 1.209153</td><td>72.06061</td><td>...</td><td>72.70397</td><td> 1.289594</td><td>72.49009</td><td> 1.503473</td><td>72.39703</td><td> 1.596530</td><td>73.70981</td><td> 0.2837503</td><td>72.76296</td><td> 1.230604</td></tr>\n",
       "\t<tr><td>59.08719</td><td>22.26741</td><td>5.281372</td><td>0.7351098</td><td>1.573031e-05</td><td> 98.78114</td><td>63.67668</td><td>70.93045</td><td> 7.253769</td><td>69.94231</td><td>...</td><td>71.16496</td><td> 7.488280</td><td>70.58823</td><td> 6.911551</td><td>71.88659</td><td> 8.209909</td><td>71.11941</td><td> 7.4427329</td><td>70.24052</td><td> 6.563844</td></tr>\n",
       "</tbody>\n",
       "</table>\n"
      ],
      "text/latex": [
       "A data.table: 6 × 25\n",
       "\\begin{tabular}{r|lllllllllllllllllllllllll}\n",
       " density & \\%-similar-wanted & budget-multiplier-dummy & density-multiplier-dummy & noise-dummy & tick-limit & output & pred\\_output\\_1 & RMSE\\_1 & pred\\_output\\_2 & RMSE\\_2 & pred\\_output\\_3 & RMSE\\_3 & pred\\_output\\_4 & RMSE\\_4 & pred\\_output\\_5 & RMSE\\_5 & pred\\_output\\_6 & RMSE\\_6 & pred\\_output\\_7 & RMSE\\_7 & pred\\_output\\_8 & RMSE\\_8 & pred\\_output\\_9 & RMSE\\_9\\\\\n",
       " <dbl> & <dbl> & <dbl> & <dbl> & <dbl> & <dbl> & <dbl> & <dbl> & <dbl> & <dbl> & <dbl> & <dbl> & <dbl> & <dbl> & <dbl> & <dbl> & <dbl> & <dbl> & <dbl> & <dbl> & <dbl> & <dbl> & <dbl> & <dbl> & <dbl>\\\\\n",
       "\\hline\n",
       "\t 89.80781 & 63.22101 & 9.559364 & 0.7183232 & 9.772682e-05 &  94.85461 & 98.62087 & 78.35281 & 20.268062 & 78.96059 & 19.660280 & 81.93228 & 16.688589 & 80.07317 & 18.547699 & 81.47461 & 17.146256 & 83.49891 & 15.121954 & 84.52328 & 14.097588 & 84.56667 & 14.0541979 & 82.68739 & 15.933478\\\\\n",
       "\t 65.95304 & 27.51730 & 1.113979 & 0.4611830 & 4.533282e-05 &  91.35383 & 66.09090 & 76.09316 & 10.002260 & 75.18056 &  9.089667 & 75.50506 &  9.414163 & 74.63390 &  8.543001 & 75.48555 &  9.394654 & 74.45856 &  8.367660 & 74.33545 &  8.244557 & 74.13676 &  8.0458589 & 74.20070 &  8.109802\\\\\n",
       "\t 65.63748 & 42.72006 & 7.460221 & 0.2498248 & 4.748342e-05 & 106.60832 & 86.53810 & 89.33985 &  2.801754 & 89.82723 &  3.289125 & 90.05717 &  3.519068 & 89.06512 &  2.527018 & 89.48956 &  2.951463 & 89.25989 &  2.721792 & 89.73851 &  3.200407 & 89.86278 &  3.3246804 & 89.43928 &  2.901177\\\\\n",
       "\t 49.08474 & 53.36187 & 1.029111 & 0.3209241 & 2.648540e-05 &  95.31602 & 97.06720 & 91.93041 &  5.136791 & 91.98127 &  5.085930 & 90.77712 &  6.290076 & 91.32095 &  5.746244 & 90.85816 &  6.209038 & 92.24697 &  4.820225 & 89.19557 &  7.871626 & 90.38601 &  6.6811927 & 89.22773 &  7.839467\\\\\n",
       "\t 82.31666 & 32.86349 & 9.937437 & 0.7424780 & 9.336225e-05 &  91.00066 & 73.99356 & 72.78441 &  1.209153 & 72.06061 &  1.932956 & 72.09691 &  1.896656 & 71.88456 &  2.109001 & 72.70397 &  1.289594 & 72.49009 &  1.503473 & 72.39703 &  1.596530 & 73.70981 &  0.2837503 & 72.76296 &  1.230604\\\\\n",
       "\t 59.08719 & 22.26741 & 5.281372 & 0.7351098 & 1.573031e-05 &  98.78114 & 63.67668 & 70.93045 &  7.253769 & 69.94231 &  6.265627 & 70.31234 &  6.635662 & 71.58784 &  7.911166 & 71.16496 &  7.488280 & 70.58823 &  6.911551 & 71.88659 &  8.209909 & 71.11941 &  7.4427329 & 70.24052 &  6.563844\\\\\n",
       "\\end{tabular}\n"
      ],
      "text/markdown": [
       "\n",
       "A data.table: 6 × 25\n",
       "\n",
       "| density &lt;dbl&gt; | %-similar-wanted &lt;dbl&gt; | budget-multiplier-dummy &lt;dbl&gt; | density-multiplier-dummy &lt;dbl&gt; | noise-dummy &lt;dbl&gt; | tick-limit &lt;dbl&gt; | output &lt;dbl&gt; | pred_output_1 &lt;dbl&gt; | RMSE_1 &lt;dbl&gt; | pred_output_2 &lt;dbl&gt; | ... ... | pred_output_5 &lt;dbl&gt; | RMSE_5 &lt;dbl&gt; | pred_output_6 &lt;dbl&gt; | RMSE_6 &lt;dbl&gt; | pred_output_7 &lt;dbl&gt; | RMSE_7 &lt;dbl&gt; | pred_output_8 &lt;dbl&gt; | RMSE_8 &lt;dbl&gt; | pred_output_9 &lt;dbl&gt; | RMSE_9 &lt;dbl&gt; |\n",
       "|---|---|---|---|---|---|---|---|---|---|---|---|---|---|---|---|---|---|---|---|---|\n",
       "| 89.80781 | 63.22101 | 9.559364 | 0.7183232 | 9.772682e-05 |  94.85461 | 98.62087 | 78.35281 | 20.268062 | 78.96059 | ... | 81.47461 | 17.146256 | 83.49891 | 15.121954 | 84.52328 | 14.097588 | 84.56667 | 14.0541979 | 82.68739 | 15.933478 |\n",
       "| 65.95304 | 27.51730 | 1.113979 | 0.4611830 | 4.533282e-05 |  91.35383 | 66.09090 | 76.09316 | 10.002260 | 75.18056 | ... | 75.48555 |  9.394654 | 74.45856 |  8.367660 | 74.33545 |  8.244557 | 74.13676 |  8.0458589 | 74.20070 |  8.109802 |\n",
       "| 65.63748 | 42.72006 | 7.460221 | 0.2498248 | 4.748342e-05 | 106.60832 | 86.53810 | 89.33985 |  2.801754 | 89.82723 | ... | 89.48956 |  2.951463 | 89.25989 |  2.721792 | 89.73851 |  3.200407 | 89.86278 |  3.3246804 | 89.43928 |  2.901177 |\n",
       "| 49.08474 | 53.36187 | 1.029111 | 0.3209241 | 2.648540e-05 |  95.31602 | 97.06720 | 91.93041 |  5.136791 | 91.98127 | ... | 90.85816 |  6.209038 | 92.24697 |  4.820225 | 89.19557 |  7.871626 | 90.38601 |  6.6811927 | 89.22773 |  7.839467 |\n",
       "| 82.31666 | 32.86349 | 9.937437 | 0.7424780 | 9.336225e-05 |  91.00066 | 73.99356 | 72.78441 |  1.209153 | 72.06061 | ... | 72.70397 |  1.289594 | 72.49009 |  1.503473 | 72.39703 |  1.596530 | 73.70981 |  0.2837503 | 72.76296 |  1.230604 |\n",
       "| 59.08719 | 22.26741 | 5.281372 | 0.7351098 | 1.573031e-05 |  98.78114 | 63.67668 | 70.93045 |  7.253769 | 69.94231 | ... | 71.16496 |  7.488280 | 70.58823 |  6.911551 | 71.88659 |  8.209909 | 71.11941 |  7.4427329 | 70.24052 |  6.563844 |\n",
       "\n"
      ],
      "text/plain": [
       "  density  %-similar-wanted budget-multiplier-dummy density-multiplier-dummy\n",
       "1 89.80781 63.22101         9.559364                0.7183232               \n",
       "2 65.95304 27.51730         1.113979                0.4611830               \n",
       "3 65.63748 42.72006         7.460221                0.2498248               \n",
       "4 49.08474 53.36187         1.029111                0.3209241               \n",
       "5 82.31666 32.86349         9.937437                0.7424780               \n",
       "6 59.08719 22.26741         5.281372                0.7351098               \n",
       "  noise-dummy  tick-limit output   pred_output_1 RMSE_1    pred_output_2 ...\n",
       "1 9.772682e-05  94.85461  98.62087 78.35281      20.268062 78.96059      ...\n",
       "2 4.533282e-05  91.35383  66.09090 76.09316      10.002260 75.18056      ...\n",
       "3 4.748342e-05 106.60832  86.53810 89.33985       2.801754 89.82723      ...\n",
       "4 2.648540e-05  95.31602  97.06720 91.93041       5.136791 91.98127      ...\n",
       "5 9.336225e-05  91.00066  73.99356 72.78441       1.209153 72.06061      ...\n",
       "6 1.573031e-05  98.78114  63.67668 70.93045       7.253769 69.94231      ...\n",
       "  pred_output_5 RMSE_5    pred_output_6 RMSE_6    pred_output_7 RMSE_7   \n",
       "1 81.47461      17.146256 83.49891      15.121954 84.52328      14.097588\n",
       "2 75.48555       9.394654 74.45856       8.367660 74.33545       8.244557\n",
       "3 89.48956       2.951463 89.25989       2.721792 89.73851       3.200407\n",
       "4 90.85816       6.209038 92.24697       4.820225 89.19557       7.871626\n",
       "5 72.70397       1.289594 72.49009       1.503473 72.39703       1.596530\n",
       "6 71.16496       7.488280 70.58823       6.911551 71.88659       8.209909\n",
       "  pred_output_8 RMSE_8     pred_output_9 RMSE_9   \n",
       "1 84.56667      14.0541979 82.68739      15.933478\n",
       "2 74.13676       8.0458589 74.20070       8.109802\n",
       "3 89.86278       3.3246804 89.43928       2.901177\n",
       "4 90.38601       6.6811927 89.22773       7.839467\n",
       "5 73.70981       0.2837503 72.76296       1.230604\n",
       "6 71.11941       7.4427329 70.24052       6.563844"
      ]
     },
     "metadata": {},
     "output_type": "display_data"
    },
    {
     "data": {
      "text/html": [
       "<table>\n",
       "<caption>A data.table: 2 × 2</caption>\n",
       "<thead>\n",
       "\t<tr><th scope=col>obb_error</th><th scope=col>iter</th></tr>\n",
       "\t<tr><th scope=col>&lt;dbl&gt;</th><th scope=col>&lt;dbl&gt;</th></tr>\n",
       "</thead>\n",
       "<tbody>\n",
       "\t<tr><td> 68.47979</td><td>1</td></tr>\n",
       "\t<tr><td>111.12935</td><td>2</td></tr>\n",
       "</tbody>\n",
       "</table>\n"
      ],
      "text/latex": [
       "A data.table: 2 × 2\n",
       "\\begin{tabular}{r|ll}\n",
       " obb\\_error & iter\\\\\n",
       " <dbl> & <dbl>\\\\\n",
       "\\hline\n",
       "\t  68.47979 & 1\\\\\n",
       "\t 111.12935 & 2\\\\\n",
       "\\end{tabular}\n"
      ],
      "text/markdown": [
       "\n",
       "A data.table: 2 × 2\n",
       "\n",
       "| obb_error &lt;dbl&gt; | iter &lt;dbl&gt; |\n",
       "|---|---|\n",
       "|  68.47979 | 1 |\n",
       "| 111.12935 | 2 |\n",
       "\n"
      ],
      "text/plain": [
       "  obb_error iter\n",
       "1  68.47979 1   \n",
       "2 111.12935 2   "
      ]
     },
     "metadata": {},
     "output_type": "display_data"
    }
   ],
   "source": [
    "nrow(FinalTrainData_AdFe)\n",
    "performance_table_AdFe\n",
    "train_candidates_table_AdFe\n",
    "head(predictedLabels_table_AdFe)\n",
    "obb_error_AdFe"
   ]
  },
  {
   "cell_type": "code",
   "execution_count": null,
   "metadata": {},
   "outputs": [],
   "source": [
    "#varImpPlot(model_Ad)"
   ]
  },
  {
   "cell_type": "code",
   "execution_count": null,
   "metadata": {},
   "outputs": [],
   "source": [
    "NLQuit()"
   ]
  }
 ],
 "metadata": {
  "kernelspec": {
   "display_name": "R 3.6",
   "language": "R",
   "name": "ir36"
  },
  "language_info": {
   "codemirror_mode": "r",
   "file_extension": ".r",
   "mimetype": "text/x-r-source",
   "name": "R",
   "pygments_lexer": "r",
   "version": "3.6.1"
  },
  "toc": {
   "base_numbering": 1,
   "nav_menu": {
    "height": "80.9983px",
    "width": "167.995px"
   },
   "number_sections": true,
   "sideBar": true,
   "skip_h1_title": false,
   "title_cell": "Table of Contents",
   "title_sidebar": "Contents",
   "toc_cell": false,
   "toc_position": {
    "height": "calc(100% - 180px)",
    "left": "10px",
    "top": "150px",
    "width": "400px"
   },
   "toc_section_display": true,
   "toc_window_display": true
  }
 },
 "nbformat": 4,
 "nbformat_minor": 2
}
