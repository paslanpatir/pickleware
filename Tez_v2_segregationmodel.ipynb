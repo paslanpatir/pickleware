{
 "cells": [
  {
   "cell_type": "markdown",
   "metadata": {},
   "source": [
    "# Loading Packages & Initialization"
   ]
  },
  {
   "cell_type": "markdown",
   "metadata": {},
   "source": [
    "reference : https://gist.github.com/mertedali/ab7078b9c29dea18c72525239d636b96"
   ]
  },
  {
   "cell_type": "code",
   "execution_count": 2,
   "metadata": {},
   "outputs": [],
   "source": [
    "library(data.table)\n",
    "library(tidyverse)\n",
    "library(rJava)\n",
    "library(RNetLogo)\n",
    "\n",
    "library(lhs) # For maximin Latin hypercube sampling\n",
    "library(ggplot2)\n",
    "library(caret)\n",
    "library(randomForest)\n",
    "library(factoextra)\n",
    "library(e1071)\n",
    "library(TSrepr) # for evaluating predictive power\n",
    "\n",
    "options(warn = -1)"
   ]
  },
  {
   "cell_type": "code",
   "execution_count": 3,
   "metadata": {},
   "outputs": [],
   "source": [
    "Is_Headless <- 0\n",
    "\n",
    "nl.path <- \"C:/Program Files/NetLogo 6.0.4/app\"\n",
    "model.path <- \"C:/Users/paslanpatir/Desktop/TEZ_v2/Segregation.nlogo\"\n",
    "\n",
    "if (Is_Headless == 0){\n",
    "    NLStart(nl.path, gui = TRUE,nl.jarname='netlogo-6.0.4.jar')\n",
    "    NLLoadModel (model.path)\n",
    "    } else {\n",
    "    NLStart(nl.path, gui = FALSE,nl.jarname='netlogo-6.0.4.jar', nl.obj = netlogo_model_1)\n",
    "    NLLoadModel (model.path, nl.obj = netlogo_model_1 )\n",
    "    }"
   ]
  },
  {
   "cell_type": "markdown",
   "metadata": {},
   "source": [
    "# Model Functions"
   ]
  },
  {
   "cell_type": "code",
   "execution_count": 4,
   "metadata": {},
   "outputs": [],
   "source": [
    "set.seed(385)\n",
    "\n",
    "#Set model parameters\n",
    "nofrep = 10         # Number of replications for each instance\n",
    "nofparams = 2       # Number of input parameters of the agent-based model"
   ]
  },
  {
   "cell_type": "code",
   "execution_count": 5,
   "metadata": {},
   "outputs": [],
   "source": [
    "run_model <- function(d,s) { #d: density, s: similar_wanted\n",
    "    #list the parameters\n",
    "    NLCommand( paste(\"set density\", d))\n",
    "    NLCommand( paste(\"set %-similar-wanted\", s))\n",
    "    NLCommand(\"setup\")\n",
    "    NLDoCommand(100, \"go\") \n",
    " #   NLDoCommandWhile(\"any? turtles [not happy?]\", \"go\")\n",
    "    result <- NLReport(\"percent-similar\")\n",
    "    return(result)\n",
    "}"
   ]
  },
  {
   "cell_type": "code",
   "execution_count": 6,
   "metadata": {},
   "outputs": [],
   "source": [
    "run_replicas <- function(nofrep,d,s) {\n",
    "    replicas = matrix(NA, ncol = nofrep, nrow = 1) # Save the result of each replication\n",
    "    for(i in 1:nofrep){\n",
    "        replicas[i]= run_model(d,s)\n",
    "    }\n",
    "    aggregated_result = mean(replicas)\n",
    "    return(aggregated_result)\n",
    "}\n"
   ]
  },
  {
   "cell_type": "code",
   "execution_count": 7,
   "metadata": {},
   "outputs": [],
   "source": [
    "#error functions\n",
    "rmse_func <- function(actual, predicted){\n",
    "    error = predicted - actual\n",
    "    return(sqrt(mean(error^2)))\n",
    "}\n",
    "\n",
    "mape_func <- function(actual,predicted){\n",
    "    return( (abs(actual - predicted)/ actual)*100 )\n",
    "}\n",
    "\n",
    "bias_func <- function(actual,predicted){\n",
    "    return( (actual - predicted)/ actual )\n",
    "}"
   ]
  },
  {
   "cell_type": "code",
   "execution_count": null,
   "metadata": {},
   "outputs": [],
   "source": [
    "#eliminate_variable <- function(){}"
   ]
  },
  {
   "cell_type": "markdown",
   "metadata": {},
   "source": [
    "# Generate Training Set"
   ]
  },
  {
   "cell_type": "markdown",
   "metadata": {},
   "source": [
    "## Training set with stepped inputs"
   ]
  },
  {
   "cell_type": "code",
   "execution_count": null,
   "metadata": {},
   "outputs": [],
   "source": [
    "#d <- seq(10,100,20) #density values btn  1 and 100, stepsize: 20\n",
    "#s <- seq(10,100,20) #density values btn  1 and 100, stepsize: 20\n",
    "#\n",
    "#sample = tidyr::crossing(s, d) %>% as.data.table()"
   ]
  },
  {
   "cell_type": "code",
   "execution_count": null,
   "metadata": {},
   "outputs": [],
   "source": [
    "#input_result = c()  \n",
    "##m = c()\n",
    "#for (j in 1:length(s)) {\n",
    "#        input_vector <- as.vector(sapply(d, function(d) run_replicas(nofrep,d,s[j])) ) ## as.vector(sapply(d, function(d) run_model(d,s[j])) ) ## run_replicas\n",
    "#        input_result <- rbind(input_result,t(t(input_vector)))\n",
    "#    #     m = rbind(m,input_vector)\n",
    "#    #    as.data.table(as.vector(t(m)))\n",
    "#    }\n",
    "#sample <- cbind(sample,input_result)\n",
    "#setnames(sample,\"V1\",\"perc_similar\")\n",
    "#setcolorder(sample, c(\"d\", \"s\", \"perc_similar\"))"
   ]
  },
  {
   "cell_type": "code",
   "execution_count": null,
   "metadata": {},
   "outputs": [],
   "source": [
    "#fwrite(sample, \"C:/Users/paslanpatir/Desktop/TEZ_v2/sample_Data_21112019.csv\")"
   ]
  },
  {
   "cell_type": "code",
   "execution_count": null,
   "metadata": {},
   "outputs": [],
   "source": [
    "#head(sample)"
   ]
  },
  {
   "cell_type": "markdown",
   "metadata": {},
   "source": [
    "### Visualization"
   ]
  },
  {
   "cell_type": "code",
   "execution_count": null,
   "metadata": {},
   "outputs": [],
   "source": [
    "#pca_sample <- princomp(sample[,.SD, .SDcols = !c(\"perc_similar\")], cor = TRUE, scores = TRUE)\n",
    "#cor = TRUE takes care of scaling"
   ]
  },
  {
   "cell_type": "code",
   "execution_count": null,
   "metadata": {},
   "outputs": [],
   "source": [
    "#fviz_pca_ind(pca_sample,\n",
    "#             col.ind = \"cos2\", # Color by the quality of representation\n",
    "#             gradient.cols = c(\"#00AFBB\", \"#E7B800\", \"#FC4E07\"),\n",
    "#              geom=\"point\"\n",
    "#             )"
   ]
  },
  {
   "cell_type": "code",
   "execution_count": null,
   "metadata": {},
   "outputs": [],
   "source": [
    "#pca_sample_components <- get_pca_ind(pca_sample)\n",
    "#pca_sample_components <-cbind(pca_sample_components$coord[,1:2],sample[,.(perc_similar)])\n",
    "#p_sample <- ggplot(data = pca_sample_components, aes(x = Dim.1, y = Dim.2)) +\n",
    "#             geom_point(aes(colour = perc_similar)) +\n",
    "#             labs( title = \"\", legend = \"perc_similar\") \n",
    "#p_sample"
   ]
  },
  {
   "cell_type": "markdown",
   "metadata": {},
   "source": [
    "## Training set with maximinLHS"
   ]
  },
  {
   "cell_type": "code",
   "execution_count": null,
   "metadata": {},
   "outputs": [],
   "source": [
    "nofinstances = 25 #length(d)* length(s)\n",
    "LHSample = as.data.table(maximinLHS(n = nofinstances, k = nofparams, dup = 5))\n",
    "\n",
    "LHSample$V1 = qunif(LHSample$V1, 10, 100) \n",
    "LHSample$V2 = qunif(LHSample$V2, 10, 100) \n",
    "setnames(LHSample, c(\"V1\",\"V2\"), c(\"d\",\"s\"))\n",
    "LHSample$perc_similar <- 0.00"
   ]
  },
  {
   "cell_type": "code",
   "execution_count": null,
   "metadata": {},
   "outputs": [],
   "source": [
    "for(i in 1:nofinstances){\n",
    "        LHSample[i, perc_similar :=  run_replicas(nofrep,LHSample[i,1],LHSample[i,2])]         \n",
    "}"
   ]
  },
  {
   "cell_type": "code",
   "execution_count": null,
   "metadata": {},
   "outputs": [],
   "source": [
    "#fwrite(LHSample, \"C:/Users/paslanpatir/Desktop/TEZ_v2/LHSample_Data_20112019.csv\")"
   ]
  },
  {
   "cell_type": "code",
   "execution_count": 8,
   "metadata": {
    "scrolled": true
   },
   "outputs": [
    {
     "data": {
      "text/html": [
       "<table>\n",
       "<caption>A data.table: 6 × 3</caption>\n",
       "<thead>\n",
       "\t<tr><th scope=col>d</th><th scope=col>s</th><th scope=col>perc_similar</th></tr>\n",
       "\t<tr><th scope=col>&lt;dbl&gt;</th><th scope=col>&lt;dbl&gt;</th><th scope=col>&lt;dbl&gt;</th></tr>\n",
       "</thead>\n",
       "<tbody>\n",
       "\t<tr><td>80.58390</td><td>34.47527</td><td>77.15161</td></tr>\n",
       "\t<tr><td>49.25209</td><td>69.05979</td><td>99.69152</td></tr>\n",
       "\t<tr><td>68.20054</td><td>49.77449</td><td>88.07650</td></tr>\n",
       "\t<tr><td>88.91601</td><td>79.76180</td><td>51.45689</td></tr>\n",
       "\t<tr><td>28.51136</td><td>27.25650</td><td>80.41930</td></tr>\n",
       "\t<tr><td>26.82334</td><td>58.22569</td><td>98.65376</td></tr>\n",
       "</tbody>\n",
       "</table>\n"
      ],
      "text/latex": [
       "A data.table: 6 × 3\n",
       "\\begin{tabular}{r|lll}\n",
       " d & s & perc\\_similar\\\\\n",
       " <dbl> & <dbl> & <dbl>\\\\\n",
       "\\hline\n",
       "\t 80.58390 & 34.47527 & 77.15161\\\\\n",
       "\t 49.25209 & 69.05979 & 99.69152\\\\\n",
       "\t 68.20054 & 49.77449 & 88.07650\\\\\n",
       "\t 88.91601 & 79.76180 & 51.45689\\\\\n",
       "\t 28.51136 & 27.25650 & 80.41930\\\\\n",
       "\t 26.82334 & 58.22569 & 98.65376\\\\\n",
       "\\end{tabular}\n"
      ],
      "text/markdown": [
       "\n",
       "A data.table: 6 × 3\n",
       "\n",
       "| d &lt;dbl&gt; | s &lt;dbl&gt; | perc_similar &lt;dbl&gt; |\n",
       "|---|---|---|\n",
       "| 80.58390 | 34.47527 | 77.15161 |\n",
       "| 49.25209 | 69.05979 | 99.69152 |\n",
       "| 68.20054 | 49.77449 | 88.07650 |\n",
       "| 88.91601 | 79.76180 | 51.45689 |\n",
       "| 28.51136 | 27.25650 | 80.41930 |\n",
       "| 26.82334 | 58.22569 | 98.65376 |\n",
       "\n"
      ],
      "text/plain": [
       "  d        s        perc_similar\n",
       "1 80.58390 34.47527 77.15161    \n",
       "2 49.25209 69.05979 99.69152    \n",
       "3 68.20054 49.77449 88.07650    \n",
       "4 88.91601 79.76180 51.45689    \n",
       "5 28.51136 27.25650 80.41930    \n",
       "6 26.82334 58.22569 98.65376    "
      ]
     },
     "metadata": {},
     "output_type": "display_data"
    }
   ],
   "source": [
    "LHSample <- fread(\"C:/Users/paslanpatir/Desktop/TEZ_v2/LHSample_Data_20112019.csv\")\n",
    "head(LHSample)"
   ]
  },
  {
   "cell_type": "markdown",
   "metadata": {},
   "source": [
    "### Visualization"
   ]
  },
  {
   "cell_type": "code",
   "execution_count": 9,
   "metadata": {},
   "outputs": [],
   "source": [
    "pca_LHSample <- princomp(LHSample[,.SD, .SDcols = !c(\"perc_similar\")], cor = TRUE, scores = TRUE)"
   ]
  },
  {
   "cell_type": "code",
   "execution_count": 10,
   "metadata": {},
   "outputs": [
    {
     "data": {
      "image/png": "[encoded data removed]",
      "text/plain": [
       "plot without title"
      ]
     },
     "metadata": {},
     "output_type": "display_data"
    }
   ],
   "source": [
    "fviz_pca_ind(pca_LHSample,\n",
    "             col.ind = \"cos2\", # Color by the quality of representation\n",
    "             gradient.cols = c(\"#00AFBB\", \"#E7B800\", \"#FC4E07\"),\n",
    "              geom=\"point\"\n",
    "             )"
   ]
  },
  {
   "cell_type": "code",
   "execution_count": 11,
   "metadata": {},
   "outputs": [
    {
     "data": {
      "image/png": "[encoded data removed]",
      "text/plain": [
       "plot without title"
      ]
     },
     "metadata": {},
     "output_type": "display_data"
    }
   ],
   "source": [
    "pca_LHSample_components <- get_pca_ind(pca_LHSample)\n",
    "pca_LHSample_components <-cbind(pca_LHSample_components$coord[,1:2],LHSample[,.(perc_similar)])\n",
    "p_LHSample <- ggplot(data = pca_LHSample_components, aes(x = Dim.1, y = Dim.2)) +\n",
    "             geom_point(aes(colour = perc_similar)) +\n",
    "             labs( title = \"\", legend = \"perc_similar\") \n",
    "p_LHSample"
   ]
  },
  {
   "cell_type": "markdown",
   "metadata": {},
   "source": [
    "# Metamodel"
   ]
  },
  {
   "cell_type": "markdown",
   "metadata": {},
   "source": [
    "Cross validation düşün?\n",
    "Test et yarat"
   ]
  },
  {
   "cell_type": "markdown",
   "metadata": {},
   "source": [
    "## Metamodel : RandomForest"
   ]
  },
  {
   "cell_type": "markdown",
   "metadata": {},
   "source": [
    "Tuning!"
   ]
  },
  {
   "cell_type": "code",
   "execution_count": 28,
   "metadata": {
    "scrolled": true
   },
   "outputs": [
    {
     "data": {
      "text/plain": [
       "\n",
       "Call:\n",
       " randomForest(formula = perc_similar ~ ., data = LHSample, importance = TRUE) \n",
       "               Type of random forest: regression\n",
       "                     Number of trees: 500\n",
       "No. of variables tried at each split: 1\n",
       "\n",
       "          Mean of squared residuals: 227.4964\n",
       "                    % Var explained: 31.92"
      ]
     },
     "metadata": {},
     "output_type": "display_data"
    }
   ],
   "source": [
    "model_rf <- randomForest(perc_similar ~ ., data = LHSample, importance = TRUE)\n",
    "model_rf"
   ]
  },
  {
   "cell_type": "code",
   "execution_count": 32,
   "metadata": {
    "scrolled": false
   },
   "outputs": [
    {
     "data": {
      "text/html": [
       "24"
      ],
      "text/latex": [
       "24"
      ],
      "text/markdown": [
       "24"
      ],
      "text/plain": [
       "[1] 24"
      ]
     },
     "metadata": {},
     "output_type": "display_data"
    },
    {
     "data": {
      "text/html": [
       "13.0453709333959"
      ],
      "text/latex": [
       "13.0453709333959"
      ],
      "text/markdown": [
       "13.0453709333959"
      ],
      "text/plain": [
       "[1] 13.04537"
      ]
     },
     "metadata": {},
     "output_type": "display_data"
    },
    {
     "data": {
      "image/png": "[encoded data removed]",
      "text/plain": [
       "Plot with title \"model_rf\""
      ]
     },
     "metadata": {},
     "output_type": "display_data"
    }
   ],
   "source": [
    "plot(model_rf)\n",
    "# number of trees with lowest MSE\n",
    "which.min(model_rf$mse)\n",
    "## \n",
    "\n",
    "# RMSE of this optimal random forest\n",
    "sqrt(model_rf$mse[which.min(model_rf$mse)])\n",
    "## "
   ]
  },
  {
   "cell_type": "code",
   "execution_count": 14,
   "metadata": {},
   "outputs": [
    {
     "data": {
      "text/html": [
       "390"
      ],
      "text/latex": [
       "390"
      ],
      "text/markdown": [
       "390"
      ],
      "text/plain": [
       "[1] 390"
      ]
     },
     "metadata": {},
     "output_type": "display_data"
    },
    {
     "data": {
      "text/html": [
       "14.3742544629347"
      ],
      "text/latex": [
       "14.3742544629347"
      ],
      "text/markdown": [
       "14.3742544629347"
      ],
      "text/plain": [
       "[1] 14.37425"
      ]
     },
     "metadata": {},
     "output_type": "display_data"
    }
   ],
   "source": [
    "eliminate_variable <- function(){}"
   ]
  },
  {
   "cell_type": "code",
   "execution_count": null,
   "metadata": {},
   "outputs": [],
   "source": [
    "dat = copy(LHSample)\n"
   ]
  },
  {
   "cell_type": "code",
   "execution_count": null,
   "metadata": {},
   "outputs": [],
   "source": [
    "model_rf <- randomForest(perc_similar ~ ., data = LHSample, importance = TRUE)\n",
    "   \n",
    "    importances <- importance(model_rf, type = 1, scale = FALSE)\n",
    "    selected.vars <- order(importances, decreasing = TRUE)\n",
    "    ordered.importances <- importances[selected.vars]\n",
    "    \n",
    "    initialImportances <- importances\n",
    "    initialOrderedImportances <- ordered.importances"
   ]
  },
  {
   "cell_type": "markdown",
   "metadata": {},
   "source": [
    "### Variable Importance"
   ]
  },
  {
   "cell_type": "code",
   "execution_count": 23,
   "metadata": {},
   "outputs": [],
   "source": [
    "    importances <- importance(model_rf, type = 1, scale = FALSE)\n",
    "    selected.vars <- order(importances, decreasing = TRUE)\n",
    "    ordered.importances <- importances[selected.vars]\n",
    "    \n",
    "    initialImportances <- importances\n",
    "    initialOrderedImportances <- ordered.importances"
   ]
  },
  {
   "cell_type": "code",
   "execution_count": 27,
   "metadata": {},
   "outputs": [
    {
     "data": {
      "text/html": [
       "<ol class=list-inline>\n",
       "\t<li>2</li>\n",
       "\t<li>1</li>\n",
       "</ol>\n"
      ],
      "text/latex": [
       "\\begin{enumerate*}\n",
       "\\item 2\n",
       "\\item 1\n",
       "\\end{enumerate*}\n"
      ],
      "text/markdown": [
       "1. 2\n",
       "2. 1\n",
       "\n",
       "\n"
      ],
      "text/plain": [
       "[1] 2 1"
      ]
     },
     "metadata": {},
     "output_type": "display_data"
    }
   ],
   "source": []
  },
  {
   "cell_type": "code",
   "execution_count": null,
   "metadata": {},
   "outputs": [],
   "source": [
    "importance(model_rf)\n",
    "varImpPlot(model_rf)"
   ]
  },
  {
   "cell_type": "code",
   "execution_count": 21,
   "metadata": {},
   "outputs": [
    {
     "data": {
      "text/html": [
       "<table>\n",
       "<caption>A matrix: 2 × 1 of type dbl</caption>\n",
       "<thead>\n",
       "\t<tr><th></th><th scope=col>%IncMSE</th></tr>\n",
       "</thead>\n",
       "<tbody>\n",
       "\t<tr><th scope=row>d</th><td> 1.050175</td></tr>\n",
       "\t<tr><th scope=row>s</th><td>18.341132</td></tr>\n",
       "</tbody>\n",
       "</table>\n"
      ],
      "text/latex": [
       "A matrix: 2 × 1 of type dbl\n",
       "\\begin{tabular}{r|l}\n",
       "  & \\%IncMSE\\\\\n",
       "\\hline\n",
       "\td &  1.050175\\\\\n",
       "\ts & 18.341132\\\\\n",
       "\\end{tabular}\n"
      ],
      "text/markdown": [
       "\n",
       "A matrix: 2 × 1 of type dbl\n",
       "\n",
       "| <!--/--> | %IncMSE |\n",
       "|---|---|\n",
       "| d |  1.050175 |\n",
       "| s | 18.341132 |\n",
       "\n"
      ],
      "text/plain": [
       "  %IncMSE  \n",
       "d  1.050175\n",
       "s 18.341132"
      ]
     },
     "metadata": {},
     "output_type": "display_data"
    }
   ],
   "source": [
    "importance(model_rf, type=1)"
   ]
  },
  {
   "cell_type": "code",
   "execution_count": 15,
   "metadata": {},
   "outputs": [
    {
     "ename": "ERROR",
     "evalue": "Error in tidy(.): could not find function \"tidy\"\n",
     "output_type": "error",
     "traceback": [
      "Error in tidy(.): could not find function \"tidy\"\nTraceback:\n",
      "1. model_rf$variable.importance %>% tidy() %>% dplyr::arrange(desc(x)) %>% \n .     dplyr::top_n(25) %>% ggplot(aes(reorder(names, x), x))",
      "2. withVisible(eval(quote(`_fseq`(`_lhs`)), env, env))",
      "3. eval(quote(`_fseq`(`_lhs`)), env, env)",
      "4. eval(quote(`_fseq`(`_lhs`)), env, env)",
      "5. `_fseq`(`_lhs`)",
      "6. freduce(value, `_function_list`)",
      "7. function_list[[i]](value)"
     ]
    }
   ],
   "source": [
    "#model_rf$variable.importance %>% \n",
    "#  tidy() %>%\n",
    "#  dplyr::arrange(desc(x)) %>%\n",
    "#  dplyr::top_n(25) %>%\n",
    "#  ggplot(aes(reorder(names, x), x)) +\n",
    "#  geom_col() +\n",
    "#  coord_flip() +\n",
    "#  ggtitle(\"Top 25 important variables\")"
   ]
  },
  {
   "cell_type": "markdown",
   "metadata": {},
   "source": [
    "### Predictions"
   ]
  },
  {
   "cell_type": "markdown",
   "metadata": {},
   "source": [
    "#### Predictions on Train Set"
   ]
  },
  {
   "cell_type": "code",
   "execution_count": null,
   "metadata": {},
   "outputs": [],
   "source": [
    "predTrain <- predict(model_rf, LHSample[,.SD, .SDcols = !c(\"perc_similar\")])"
   ]
  },
  {
   "cell_type": "code",
   "execution_count": null,
   "metadata": {},
   "outputs": [],
   "source": [
    "predTrain"
   ]
  },
  {
   "cell_type": "code",
   "execution_count": null,
   "metadata": {},
   "outputs": [],
   "source": [
    "predTrain <- cbind(LHSample,predTrain)\n",
    "setnames(predTrain, \"predTrain\",\"pred_perc_similar\")"
   ]
  },
  {
   "cell_type": "code",
   "execution_count": null,
   "metadata": {
    "scrolled": false
   },
   "outputs": [],
   "source": [
    "p1_test <- ggplot(predTrain,aes(x = perc_similar, y = pred_perc_similar, color = (pred_perc_similar - perc_similar))) +\n",
    "            geom_point() +\n",
    "            geom_abline() +\n",
    "            xlab(\"actual values\") +\n",
    "            ylab(\"fitted values\")\n",
    "\n",
    "p1_test"
   ]
  },
  {
   "cell_type": "code",
   "execution_count": null,
   "metadata": {},
   "outputs": [],
   "source": [
    "TSrepr::mae(predTrain$perc_similar, predTrain$pred_perc_similar)\n",
    "TSrepr::rmse(predTrain$perc_similar, predTrain$pred_perc_similar)\n",
    "TSrepr::mape(predTrain$perc_similar, predTrain$pred_perc_similar)"
   ]
  },
  {
   "cell_type": "markdown",
   "metadata": {},
   "source": [
    "## Unlabeled Set"
   ]
  },
  {
   "cell_type": "code",
   "execution_count": null,
   "metadata": {
    "scrolled": true
   },
   "outputs": [],
   "source": [
    "nofunlabel_ins = 20\n",
    "unlabeled_set <- head(sample,nofunlabel_ins)"
   ]
  },
  {
   "cell_type": "code",
   "execution_count": null,
   "metadata": {},
   "outputs": [],
   "source": [
    "unlabeled_set$d = runif(nofunlabel_ins, 10, 100) \n",
    "unlabeled_set$s = runif(nofunlabel_ins, 10, 100) \n",
    "unlabeled_set[,c(\"perc_similar\"):= NULL]"
   ]
  },
  {
   "cell_type": "markdown",
   "metadata": {},
   "source": [
    "### Run ABM on Test Set"
   ]
  },
  {
   "cell_type": "code",
   "execution_count": null,
   "metadata": {},
   "outputs": [],
   "source": [
    "for(i in 1:nofunlabel_ins){\n",
    "        unlabeled_set[i, perc_similar :=  run_replicas(nofrep,unlabeled_set[i,1],unlabeled_set[i,2])]         \n",
    "}"
   ]
  },
  {
   "cell_type": "code",
   "execution_count": null,
   "metadata": {},
   "outputs": [],
   "source": [
    "#fwrite(unlabeled_set, \"C:/Users/paslanpatir/Desktop/TEZ_v2/unlabeled_set_20112019.csv\")"
   ]
  },
  {
   "cell_type": "code",
   "execution_count": null,
   "metadata": {},
   "outputs": [],
   "source": [
    "unlabeled_set"
   ]
  },
  {
   "cell_type": "markdown",
   "metadata": {},
   "source": [
    "### Predictions on Unlabeled Set"
   ]
  },
  {
   "cell_type": "code",
   "execution_count": null,
   "metadata": {},
   "outputs": [],
   "source": [
    "predUnlabeled <- predict(model_rf, unlabeled_set)"
   ]
  },
  {
   "cell_type": "code",
   "execution_count": null,
   "metadata": {},
   "outputs": [],
   "source": [
    "predUnlabeled <- cbind(unlabeled_set,predUnlabeled)\n",
    "setnames(predUnlabeled, \"predUnlabeled\",\"pred_perc_similar\")"
   ]
  },
  {
   "cell_type": "code",
   "execution_count": null,
   "metadata": {},
   "outputs": [],
   "source": [
    "predUnlabeled"
   ]
  },
  {
   "cell_type": "code",
   "execution_count": null,
   "metadata": {
    "scrolled": false
   },
   "outputs": [],
   "source": [
    "p_unlabeled <- ggplot(predUnlabeled,aes(x = perc_similar, y = pred_perc_similar, color = (pred_perc_similar - perc_similar))) +\n",
    "            geom_point() +\n",
    "            geom_abline() +\n",
    "            xlab(\"actual values\") +\n",
    "            ylab(\"fitted values\")\n",
    "\n",
    "p_unlabeled"
   ]
  },
  {
   "cell_type": "code",
   "execution_count": null,
   "metadata": {},
   "outputs": [],
   "source": [
    "TSrepr::mae(predUnlabeled$perc_similar, predUnlabeled$pred_perc_similar)\n",
    "TSrepr::rmse(predUnlabeled$perc_similar, predUnlabeled$pred_perc_similar)\n",
    "TSrepr::mape(predUnlabeled$perc_similar, predUnlabeled$pred_perc_similar)"
   ]
  },
  {
   "cell_type": "markdown",
   "metadata": {},
   "source": [
    "# Same Parameter Set With Sequential Sampling"
   ]
  },
  {
   "cell_type": "code",
   "execution_count": null,
   "metadata": {},
   "outputs": [],
   "source": [
    "sample_size <- 5\n",
    "seq_LHSample <- copy(LHSample)\n",
    "seq_LHSample$Seq_Group = 0\n",
    "nofsequence = (nrow(seq_LHSample) / sample_size)"
   ]
  },
  {
   "cell_type": "code",
   "execution_count": null,
   "metadata": {
    "scrolled": true
   },
   "outputs": [],
   "source": [
    "# Assign sequence\n",
    "for (s in 1:nofsequence){\n",
    "    train = sample(nrow(seq_LHSample[Seq_Group == 0]), 5, replace = FALSE)\n",
    "    seq_LHSample[Seq_Group == 0][train,]$Seq_Group <- s\n",
    "}"
   ]
  },
  {
   "cell_type": "markdown",
   "metadata": {},
   "source": [
    "## Train Metamodel"
   ]
  },
  {
   "cell_type": "code",
   "execution_count": null,
   "metadata": {},
   "outputs": [],
   "source": [
    "performance_table = data.table(Seq_Group = numeric(), mae= numeric(),rmse= numeric(), mape = numeric()  )\n",
    "t= 1\n",
    "\n",
    "error_type =\"mape\"\n",
    "\n",
    "\n",
    "preunlabeled_set <- copy(unlabeled_set)\n",
    "formula = reformulate( colnames(seq_LHSample[,.SD,.SDcols = -c(\"Seq_Group\",\"perc_similar\")]),\"perc_similar\")\n",
    "while( t <= sample_size){\n",
    "    \n",
    "    model_rf_seq <- randomForest(formula, data = seq_LHSample[Seq_Group <= t], importance = TRUE)\n",
    "    predUnlabeled_seq <- predict(model_rf_seq, unlabeled_set)\n",
    "    preunlabeled_set <- cbind(preunlabeled_set,predUnlabeled_seq)\n",
    "    \n",
    "    if(error_type == \"mape\"){\n",
    "        preunlabeled_set[,MAPE := mapply(function(x,y) mape_func(x,y),perc_similar,predUnlabeled_seq )]\n",
    "        setnames(preunlabeled_set, c(\"predUnlabeled_seq\",\"MAPE\") ,c(paste0(\"pred_perc_similar_\",t),paste0(\"MAPE\",t)))\n",
    "        }\n",
    "\n",
    "    #  setnames(preunlabeled_set, \"predUnlabeled_seq\",paste0(\"pred_perc_similar_\",t))\n",
    "    \n",
    "        c = ((2 * t) - 1)\n",
    "        performance_temp = matrix(c(1:4), nrow = 1, ncol = 4)\n",
    "        performance_temp[1] = t\n",
    "        performance_temp[2] = mae(preunlabeled_set$perc_similar  , preunlabeled_set[[3 + c]])\n",
    "        performance_temp[3] = rmse(preunlabeled_set$perc_similar , preunlabeled_set[[3 + c]])\n",
    "        performance_temp[4] = mape(preunlabeled_set$perc_similar , preunlabeled_set[[3 + c]])\n",
    "\n",
    "\n",
    "    performance_table <- rbind(performance_table, performance_temp,use.names = FALSE )\n",
    "    rm(performance_temp)\n",
    "   \n",
    "#add importance\n",
    "#importance(model_rf)\n",
    "\n",
    "                                         \n",
    "        t = t+1\n",
    "}\n",
    "\n",
    "#setnames(predUnlabeled, \"predUnlabeled\",\"pred_perc_similar\")\n",
    "#importance(model_rf)\n",
    "#varImpPlot(model_rf)"
   ]
  },
  {
   "cell_type": "code",
   "execution_count": null,
   "metadata": {},
   "outputs": [],
   "source": [
    "preunlabeled_set"
   ]
  },
  {
   "cell_type": "code",
   "execution_count": null,
   "metadata": {},
   "outputs": [],
   "source": [
    " ggplot(data = performance_table, aes(x = Seq_Group, y = rmse)) +\n",
    "   geom_line(aes(colour = \"red\"))"
   ]
  },
  {
   "cell_type": "code",
   "execution_count": null,
   "metadata": {},
   "outputs": [],
   "source": [
    "plot_data = copy(preunlabeled_set)\n",
    "plot_data[,idx := 1:.N]\n",
    "measure_vars = c(paste0(\"MAPE\",c(1:sample_size))) ### bunu entegre et\n",
    "\n",
    "plot_data = melt(data = plot_data, id.vars = \"idx\"\n",
    "                   , measure.vars = c(\"MAPE1\", \"MAPE2\",\"MAPE3\",\"MAPE4\",\"MAPE5\"))\n",
    "                 #measure_vars #\n",
    "setnames(plot_data, c(\"variable\",\"value\"),c(\"ModelName\",\"MAPE\"))\n",
    "\n",
    "                 \n",
    "ggplot(plot_data, aes(x=ModelName, y=MAPE, colors = \"blue\", fill = ModelName)) + \n",
    "  geom_boxplot(outlier.colour=\"red\", outlier.shape=8, outlier.size=4) +\n",
    "  labs( title = \"Overall MAPE\", legend = \"ModelName\")\n",
    "#\n",
    "#p3 <- ggplot(data = plot_data, aes(x = idx, y = MAPE)) +\n",
    "#        geom_line(aes(colour = \"red\")) +\n",
    "#        facet_wrap(~ Year, nrow= 4) +\n",
    "#        labs( title = \"Electricity Consumption in 2016\", legend = \"Date\") +\n",
    "#        geom_smooth(method = \"lm\")\n",
    "#p3"
   ]
  },
  {
   "cell_type": "code",
   "execution_count": null,
   "metadata": {},
   "outputs": [],
   "source": [
    " ggplot(data = plot_data, aes(x = idx, y = MAPE)) +\n",
    "   geom_line(aes(colour = \"red\")) +\n",
    "   facet_wrap(~ ModelName, nrow= sample_size) \n",
    "  # labs( title = \"Electricity Consumption in 2016\", legend = \"Date\") +\n",
    "\n"
   ]
  },
  {
   "cell_type": "code",
   "execution_count": null,
   "metadata": {},
   "outputs": [],
   "source": [
    "performance_table;\n",
    "TSrepr::mae(predUnlabeled$perc_similar, predUnlabeled$pred_perc_similar)\n",
    "TSrepr::rmse(predUnlabeled$perc_similar, predUnlabeled$pred_perc_similar)\n",
    "TSrepr::mape(predUnlabeled$perc_similar, predUnlabeled$pred_perc_similar)"
   ]
  },
  {
   "cell_type": "code",
   "execution_count": null,
   "metadata": {},
   "outputs": [],
   "source": []
  },
  {
   "cell_type": "code",
   "execution_count": null,
   "metadata": {},
   "outputs": [],
   "source": []
  },
  {
   "cell_type": "code",
   "execution_count": null,
   "metadata": {},
   "outputs": [],
   "source": []
  },
  {
   "cell_type": "code",
   "execution_count": null,
   "metadata": {},
   "outputs": [],
   "source": []
  },
  {
   "cell_type": "code",
   "execution_count": null,
   "metadata": {},
   "outputs": [],
   "source": []
  },
  {
   "cell_type": "code",
   "execution_count": null,
   "metadata": {},
   "outputs": [],
   "source": []
  },
  {
   "cell_type": "code",
   "execution_count": null,
   "metadata": {},
   "outputs": [],
   "source": []
  },
  {
   "cell_type": "code",
   "execution_count": null,
   "metadata": {},
   "outputs": [],
   "source": []
  },
  {
   "cell_type": "code",
   "execution_count": null,
   "metadata": {},
   "outputs": [],
   "source": [
    "  fita <- randomForest(formula, data = seq_LHSample[Seq_Group <= 5], importance = TRUE)\n",
    "    preda <- predict(fita, unlabeled_set)\n",
    "\n",
    "  fitb <- randomForest(formula, data = seq_LHSample, importance = TRUE)\n",
    "    predb <- predict(fitb, unlabeled_set)"
   ]
  },
  {
   "cell_type": "code",
   "execution_count": null,
   "metadata": {},
   "outputs": [],
   "source": [
    "preda;predb"
   ]
  },
  {
   "cell_type": "code",
   "execution_count": null,
   "metadata": {},
   "outputs": [],
   "source": [
    "preda;predb"
   ]
  },
  {
   "cell_type": "code",
   "execution_count": null,
   "metadata": {},
   "outputs": [],
   "source": []
  },
  {
   "cell_type": "code",
   "execution_count": null,
   "metadata": {},
   "outputs": [],
   "source": []
  },
  {
   "cell_type": "code",
   "execution_count": null,
   "metadata": {},
   "outputs": [],
   "source": []
  },
  {
   "cell_type": "code",
   "execution_count": null,
   "metadata": {},
   "outputs": [],
   "source": [
    "\n",
    "model_rf_seq <- randomForest(perc_similar ~ ., data = LHSample[], importance = TRUE)\n",
    "model_rf\n",
    "importance(model_rf)\n",
    "varImpPlot(model_rf)"
   ]
  },
  {
   "cell_type": "code",
   "execution_count": null,
   "metadata": {},
   "outputs": [],
   "source": []
  },
  {
   "cell_type": "markdown",
   "metadata": {},
   "source": [
    "## ghf"
   ]
  },
  {
   "cell_type": "code",
   "execution_count": null,
   "metadata": {},
   "outputs": [],
   "source": [
    "d <- seq(1,100,5) #density values btn  1 and 100, stepsize: 5\n",
    "pb <- sapply(d, function(dens) run_model(dens,30))\n",
    "plot(d, pb, xlab = \"density\")"
   ]
  },
  {
   "cell_type": "markdown",
   "metadata": {},
   "source": [
    "hepsi iye aynı bak bakalım."
   ]
  },
  {
   "cell_type": "code",
   "execution_count": null,
   "metadata": {},
   "outputs": [],
   "source": [
    "run_model(100,30)"
   ]
  },
  {
   "cell_type": "code",
   "execution_count": null,
   "metadata": {},
   "outputs": [],
   "source": [
    "h <- run_model(70,30)\n",
    "#plot (0:1010, h)\n",
    "h"
   ]
  },
  {
   "cell_type": "markdown",
   "metadata": {},
   "source": [
    "# Finish the session"
   ]
  },
  {
   "cell_type": "code",
   "execution_count": null,
   "metadata": {},
   "outputs": [],
   "source": [
    "NLQuit()"
   ]
  }
 ],
 "metadata": {
  "kernelspec": {
   "display_name": "R 3.6",
   "language": "R",
   "name": "ir36"
  },
  "language_info": {
   "codemirror_mode": "r",
   "file_extension": ".r",
   "mimetype": "text/x-r-source",
   "name": "R",
   "pygments_lexer": "r",
   "version": "3.6.1"
  },
  "toc": {
   "base_numbering": 1,
   "nav_menu": {},
   "number_sections": true,
   "sideBar": true,
   "skip_h1_title": false,
   "title_cell": "Table of Contents",
   "title_sidebar": "Contents",
   "toc_cell": false,
   "toc_position": {
    "height": "calc(100% - 180px)",
    "left": "10px",
    "top": "150px",
    "width": "212.783px"
   },
   "toc_section_display": true,
   "toc_window_display": true
  }
 },
 "nbformat": 4,
 "nbformat_minor": 2
}
