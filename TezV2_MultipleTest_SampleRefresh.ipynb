{
 "cells": [
  {
   "cell_type": "markdown",
   "metadata": {},
   "source": [
    "# Loading Packages & Initialization"
   ]
  },
  {
   "cell_type": "markdown",
   "metadata": {},
   "source": [
    "be sure to set:\n",
    "* nl.model\n",
    "* model.type\n",
    "* output_folder\n",
    "* iteration_budget\n",
    "* selected_ins"
   ]
  },
  {
   "cell_type": "code",
   "execution_count": 2,
   "metadata": {},
   "outputs": [],
   "source": [
    "#### Initializiton ####\n",
    "rm(list = ls())\n",
    "\n",
    "library(data.table)\n",
    "library(tidyverse)\n",
    "library(rJava)\n",
    "library(RNetLogo)\n",
    "\n",
    "library(lhs)  # For maximin Latin hypercube sampling\n",
    "library(ggplot2)\n",
    "library(plotly)  # For beautiful plotting\n",
    "library(caret)\n",
    "library(randomForest)\n",
    "library(factoextra)\n",
    "library(e1071)\n",
    "library(TSrepr)  # for evaluating predictive power\n",
    "\n",
    "require(gridExtra)\n",
    "\n",
    "options(warn = -1)"
   ]
  },
  {
   "cell_type": "code",
   "execution_count": 3,
   "metadata": {},
   "outputs": [],
   "source": [
    "Is_Headless <- 1\n",
    "nl.model <- \"Segregation\"\n",
    "\n",
    "nl.path <- \"C:/Program Files/NetLogo 6.0.4/app\"\n",
    "folder.path = \"C:/Users/paslanpatir/Desktop/TEZ_v2/\"\n",
    "model.path <- paste0(folder.path, nl.model, \".nlogo\")\n",
    "\n",
    "if (Is_Headless == 0) {\n",
    "    NLStart(nl.path, gui = TRUE, nl.jarname = \"netlogo-6.0.4.jar\")\n",
    "    NLLoadModel(model.path)\n",
    "} else {\n",
    "    NLStart(nl.path, gui = FALSE, nl.jarname = \"netlogo-6.0.4.jar\", nl.obj = nl.model)\n",
    "    NLLoadModel(model.path, nl.obj = nl.model)\n",
    "}"
   ]
  },
  {
   "cell_type": "code",
   "execution_count": 80,
   "metadata": {},
   "outputs": [],
   "source": [
    "model.type = ifelse(nl.model == \"Segregation\", \"basic\", \"dummy\")\n",
    "# the path of data folder\n",
    "data.path = paste0(folder.path,\"data/\")\n",
    "# the path for outputs to be record\n",
    "output.folder = paste0(\"refreshunlabeled_\",Sys.Date())\n",
    "dir.create(file.path(folder.path, output.folder), showWarnings = FALSE)\n",
    "\n",
    "outputs.path = paste0(folder.path,output.folder,\"/\")"
   ]
  },
  {
   "cell_type": "code",
   "execution_count": 81,
   "metadata": {},
   "outputs": [],
   "source": [
    "# Read Me File to keep info about the output folder\n",
    "ReadMe = paste0(outputs.path,\"ReadMe_\",model.type,\".txt\")"
   ]
  },
  {
   "cell_type": "markdown",
   "metadata": {},
   "source": [
    "# Model Parameters & Functions"
   ]
  },
  {
   "cell_type": "markdown",
   "metadata": {},
   "source": [
    "## Set model parameters"
   ]
  },
  {
   "cell_type": "code",
   "execution_count": 82,
   "metadata": {},
   "outputs": [],
   "source": [
    "#### Model Parameters ####\n",
    "## Set model parameters Number of replications for each instance\n",
    "nofrep = 10\n",
    "\n",
    "# order feature names according to their definition order in run_model\n",
    "if (model.type == \"basic\") {\n",
    "    feature_names = c(\"density\", \"%-similar-wanted\")\n",
    "} else if (model.type == \"dummy\") {\n",
    "    feature_names = c(\"density\", \"%-similar-wanted\", \"budget-multiplier-dummy\", \"density-multiplier-dummy\", \n",
    "        \"noise-dummy\", \"tick-limit\")\n",
    "}  \n",
    "# \n",
    "output_name = c(\"percent-similar\")\n",
    "\n",
    "# Number of input parameters of the agent-based model\n",
    "nofparams = length(feature_names)\n",
    "\n",
    "# set RF parameters\n",
    "ntree = 300\n",
    "mtry = 2"
   ]
  },
  {
   "cell_type": "markdown",
   "metadata": {},
   "source": [
    "## Set user parameters"
   ]
  },
  {
   "cell_type": "code",
   "execution_count": 83,
   "metadata": {},
   "outputs": [],
   "source": [
    "#### User parameters ####\n",
    "error_type = \"RMSE\"  # MAPE, BIAS\n",
    "\n",
    "# choose the uncertainty measure\n",
    "selection_metric <- \"sd\"  #, 'range' \n",
    "\n",
    "# Number of iterations\n",
    "iteration_budget = 11\n",
    "metarep = 10\n",
    "\n",
    "# Number of instances\n",
    "unlabeled_ins = 100\n",
    "test_ins = 100\n",
    "train_ins_oneshot = 100\n",
    "train_ins_Ad = 50\n",
    "\n",
    "# Set selection parameters\n",
    "selected_ins = 5  #nofinstancesWillbeSelected in each step\n",
    "\n",
    "# Set elimination parameters\n",
    "h <- 1  # number of variables eliminated in each step\n",
    "\n",
    "seed.oneshot = c(0,1)\n",
    "seed.Ad = c(0,1)\n",
    "\n",
    "## !!!\n",
    "size.test = c(100,200,300,400)\n",
    "unlabeled.type = \"refresh\""
   ]
  },
  {
   "cell_type": "code",
   "execution_count": 84,
   "metadata": {},
   "outputs": [],
   "source": [
    "write(paste0( \"model =\",nl.model,\"\\n\"\n",
    "             ,\"nofrep =\",nofrep,\"\\n\"\n",
    "             ,\"metarep =\",metarep,\"\\n\"\n",
    "             ,\"ntree =\",ntree,\"\\n\"\n",
    "             ,\"mtry =\",mtry,\"\\n\"\n",
    "             ,\"iteration_budget =\",iteration_budget,\"\\n\"\n",
    "             ,\"unlabeled_ins =\",unlabeled_ins,\"\\n\"\n",
    "             ,\"unlabeled.type =\",unlabeled.type,\"\\n\"\n",
    "             ,\"test_ins =\",test_ins,\"\\n\"\n",
    "             ,\"train_ins_Ad =\",train_ins_Ad,\"\\n\"\n",
    "             ,\"selected_ins =\",selected_ins,\"\\n\"\n",
    "             ,\"h =\",h,\"\\n\"\n",
    "             ,paste0(c(\"seed.oneshot =\",seed.oneshot),collapse = \" \"),\"\\n\"\n",
    "             ,paste0(c(\"seed.Ad =\",seed.Ad),collapse = \" \"),\"\\n\"\n",
    "             ,paste0(c(\"size.test =\",size.test),collapse = \" \"),\"\\n\"\n",
    "             ,\"error_type =\",error_type,\"\\n\" \n",
    "             ,\"selection_metric =\",selection_metric,\"\\n\" \n",
    "             ,\"Date =\", Sys.Date()\n",
    "             )\n",
    "      ,ReadMe, append=TRUE, sep = \"\\n\" )    "
   ]
  },
  {
   "cell_type": "markdown",
   "metadata": {},
   "source": [
    "## Define functions"
   ]
  },
  {
   "cell_type": "code",
   "execution_count": null,
   "metadata": {},
   "outputs": [],
   "source": [
    "#### functions ####"
   ]
  },
  {
   "cell_type": "markdown",
   "metadata": {},
   "source": [
    "### run_model"
   ]
  },
  {
   "cell_type": "code",
   "execution_count": 9,
   "metadata": {},
   "outputs": [],
   "source": [
    "# run_model <- function(feature_names,feature_values){ # both should be in character list format both should be in character list format\n",
    "run_model <- function(feature_values) {\n",
    "    k = length(feature_names)\n",
    "    for (i in 1:k) {\n",
    "        NLCommand(paste0(\"set \", feature_names[i], \" \", feature_values[i]), nl.obj = nl.model)\n",
    "    }\n",
    "    NLCommand(\"setup\", nl.obj = nl.model)\n",
    "    NLDoCommand(100, \"go\", nl.obj = nl.model)\n",
    "    result <- NLReport(output_name, nl.obj = nl.model)\n",
    "    return(result)\n",
    "}"
   ]
  },
  {
   "cell_type": "markdown",
   "metadata": {},
   "source": [
    "### run_replicas"
   ]
  },
  {
   "cell_type": "code",
   "execution_count": 10,
   "metadata": {},
   "outputs": [],
   "source": [
    "# run_replicas <- function(nofrep,feature_names,feature_values) {\n",
    "run_replicas <- function(nofrep, feature_values) {\n",
    "    replicas = matrix(NA, ncol = nofrep, nrow = 1)  # Save the result of each replication\n",
    "    for (i in 1:nofrep) {\n",
    "        # replicas[i]= run_model(feature_names,feature_values)\n",
    "        replicas[i] = run_model(feature_values)\n",
    "    }\n",
    "    aggregated_result = mean(replicas)\n",
    "    return(aggregated_result)\n",
    "}"
   ]
  },
  {
   "cell_type": "markdown",
   "metadata": {},
   "source": [
    "### run_ABM"
   ]
  },
  {
   "cell_type": "code",
   "execution_count": 11,
   "metadata": {},
   "outputs": [],
   "source": [
    "# run_ABM = function(nofrep,nofinstances,unlabeledset,featurenames = feature_names){\n",
    "run_ABM = function(nofrep, nofinstances, unlabeledset) {\n",
    "    # unlabeledset = setcolorder(unlabeledset,featurenames)\n",
    "    unlabeledset = setcolorder(unlabeledset, feature_names)\n",
    "    for (i in 1:nofinstances) {\n",
    "        # unlabeledset[i, output := run_replicas(nofrep,featurenames,\n",
    "        # as.matrix(unlabeledset[i,]))]\n",
    "        unlabeledset[i, `:=`(output, run_replicas(nofrep, as.matrix(unlabeledset[i,])))]\n",
    "    }\n",
    "    return(unlabeledset)\n",
    "}"
   ]
  },
  {
   "cell_type": "markdown",
   "metadata": {},
   "source": [
    "### error functions"
   ]
  },
  {
   "cell_type": "code",
   "execution_count": 12,
   "metadata": {},
   "outputs": [],
   "source": [
    "# error functions on test data\n",
    "rmse_func <- function(actual, predicted) {\n",
    "    error = predicted - actual\n",
    "    return(sqrt(mean(error^2)))\n",
    "}\n",
    "\n",
    "mape_func <- function(actual, predicted) {\n",
    "    return((abs(actual - predicted)/actual) * 100)\n",
    "}\n",
    "\n",
    "bias_func <- function(actual, predicted) {\n",
    "    return((actual - predicted)/actual)\n",
    "}\n",
    "\n",
    "# error functions on train data\n",
    "obb_error_func <- function(model) {\n",
    "    if (model$type == \"regression\") {\n",
    "        oob_error = model$mse[model$ntree]\n",
    "    } else if (model$type == \"classification\") {\n",
    "        oob_error = model$err.rate\n",
    "    }\n",
    "    return(oob_error)\n",
    "}"
   ]
  },
  {
   "cell_type": "markdown",
   "metadata": {},
   "source": [
    "### get_test_predictions"
   ]
  },
  {
   "cell_type": "code",
   "execution_count": 13,
   "metadata": {},
   "outputs": [],
   "source": [
    "# prediction functions\n",
    "get_test_predictions <- function(model, testset, errortype) {\n",
    "    \n",
    "    predictedLabels <- predict(model, testset)\n",
    "    predictedLabels <- cbind(testset, predictedLabels)\n",
    "    setnames(predictedLabels, \"predictedLabels\", \"pred_output\")\n",
    "    \n",
    "    output_variables = colnames(select(predictedLabels, contains(\"output\")))\n",
    "    # output_variables[1] = true output output_variables[2] = predicted output\n",
    "    \n",
    "    # output_variables = colnames(predictedLabels[,1:(ncol(predictedLabels) - 2)])\n",
    "    \n",
    "    if (error_type == \"MAPE\") {\n",
    "        predictedLabels[, `:=`(MAPE, mapply(function(x, y) mape_func(x, y), get(output_variables[1]), \n",
    "            get(output_variables[2])))]\n",
    "    }\n",
    "    if (error_type == \"RMSE\") {\n",
    "        predictedLabels[, `:=`(RMSE, mapply(function(x, y) rmse_func(x, y), get(output_variables[1]), \n",
    "            get(output_variables[2])))]\n",
    "    }\n",
    "    if (error_type == \"BIAS\") {\n",
    "        predictedLabels[, `:=`(BIAS, mapply(function(x, y) bias_func(x, y), get(output_variables[1]), \n",
    "            get(output_variables[2])))]\n",
    "    }\n",
    "    \n",
    "    output_variables_1 = predictedLabels[, get(output_variables[1]), with = TRUE]\n",
    "    output_variables_2 = predictedLabels[, get(output_variables[2]), with = TRUE]\n",
    "    \n",
    "    performance_temp = matrix(c(1:3), nrow = 1, ncol = 3)\n",
    "    performance_temp[1] = mae(output_variables_1, output_variables_2)\n",
    "    performance_temp[2] = rmse(output_variables_1, output_variables_2)\n",
    "    performance_temp[3] = mape(output_variables_1, output_variables_2)\n",
    "    \n",
    "    return(list(predictedLabels, performance_temp, output_variables))\n",
    "    \n",
    "}"
   ]
  },
  {
   "cell_type": "markdown",
   "metadata": {},
   "source": [
    "### sample_selection"
   ]
  },
  {
   "cell_type": "code",
   "execution_count": 14,
   "metadata": {},
   "outputs": [],
   "source": [
    "# Adaptive sample selection function with an uncertainty measure depending on 'selection_metric'\n",
    "sample_selection <- function(selected_ins, unlabeled_set, model) {\n",
    "    ind_pred <- t(predict(model, unlabeled_set, predict.all = TRUE)$individual) %>% \n",
    "        data.table()  # predictions by each tree in the forest\n",
    "    ind_pred_eval = data.table()\n",
    "    \n",
    "    # standard deviation calculation\n",
    "    s_dev = sapply(ind_pred, sd) %>% data.table()\n",
    "    setnames(s_dev, \".\", \"sd\")\n",
    "    ind_pred_eval = cbind(ind_pred_eval, s_dev)\n",
    "    \n",
    "    # range calculation\n",
    "    range = sapply(ind_pred, range) %>% t() %>% data.table()\n",
    "    range = range[, .(range = abs(range[, 1] - range[, 2]))]\n",
    "    setnames(range, \"range.V1\", \"range\")\n",
    "    ind_pred_eval = cbind(ind_pred_eval, range)\n",
    "    \n",
    "    #coeff variance calculation\n",
    "    s_dev = sapply(ind_pred, sd) %>% data.table()\n",
    "    setnames(s_dev, \".\", \"sd\")\n",
    "    s_mean = sapply(ind_pred, mean) %>% data.table()\n",
    "    setnames(s_mean, \".\", \"mean\")\n",
    "    coeff_var = cbind(s_dev,s_mean) \n",
    "    coeff_var = coeff_var[,.(c_var = (sd / mean)* 100)]\n",
    "    ind_pred_eval = cbind(ind_pred_eval, coeff_var)\n",
    "    \n",
    "    ind_pred_eval[, `:=`(idx, 1:.N)]\n",
    "    \n",
    "    if (selection_metric == \"sd\") {\n",
    "        ind_pred_eval = ind_pred_eval[order(-sd)][1:selected_ins]\n",
    "    } else if (selection_metric == \"range\") {\n",
    "        ind_pred_eval = ind_pred_eval[order(-range)][1:selected_ins]\n",
    "    } else if (selection_metric == \"coefvar\") {\n",
    "        ind_pred_eval = ind_pred_eval[order(-coeff_var)][1:selected_ins]\n",
    "    }\n",
    "    \n",
    "    unlabeled_set[, `:=`(idx, 1:.N)]\n",
    "    train_candidates = unlabeled_set[ind_pred_eval$idx]\n",
    "    \n",
    "    return(train_candidates)\n",
    "}"
   ]
  },
  {
   "cell_type": "markdown",
   "metadata": {},
   "source": [
    "### random_sample_selection"
   ]
  },
  {
   "cell_type": "code",
   "execution_count": 15,
   "metadata": {},
   "outputs": [],
   "source": [
    "# Random sample selection\n",
    "random_sample_selection <- function(selected_ins, unlabeled_set) {\n",
    "    \n",
    "    unlabeled_set[, `:=`(idx, 1:.N)]\n",
    "    \n",
    "    train_candidate_idx = sample(unlabeled_set$idx, selected_ins, replace = FALSE, prob = NULL)\n",
    "    train_candidates = unlabeled_set[idx %in% train_candidate_idx]\n",
    "    \n",
    "    return(train_candidates)\n",
    "}"
   ]
  },
  {
   "cell_type": "markdown",
   "metadata": {},
   "source": [
    "### get_variable_importance"
   ]
  },
  {
   "cell_type": "code",
   "execution_count": 16,
   "metadata": {},
   "outputs": [],
   "source": [
    "get_variable_importance <- function(model) {\n",
    "    importances <- importance(model, type = 1, scale = FALSE)\n",
    "    selected.vars <- order(importances, decreasing = TRUE)\n",
    "    ranked_features = feature_names[selected.vars]\n",
    "    ordered.importances <- importances[selected.vars]\n",
    "    \n",
    "    return(ranked_features)\n",
    "}"
   ]
  },
  {
   "cell_type": "markdown",
   "metadata": {},
   "source": [
    "### feature_elimination"
   ]
  },
  {
   "cell_type": "code",
   "execution_count": 17,
   "metadata": {},
   "outputs": [],
   "source": [
    "feature_elimination <- function(h, total_numof_eliminated_vars, ranked_features) {\n",
    "    numof_columns_left = length(ranked_features) - (total_numof_eliminated_vars + h)\n",
    "    columns_left = ranked_features[1:numof_columns_left]\n",
    "    \n",
    "    eliminated_columns = setdiff((length(ranked_features) - total_numof_eliminated_vars),numof_columns_left)\n",
    "    eliminated_columns = ranked_features[eliminated_columns]\n",
    "    \n",
    "    # update total_numof_eliminated_vars\n",
    "    total_numof_eliminated_vars = length(ranked_features) - length(columns_left)\n",
    "    \n",
    "    return(list(columns_left, total_numof_eliminated_vars, h, eliminated_columns))\n",
    "}"
   ]
  },
  {
   "cell_type": "markdown",
   "metadata": {},
   "source": [
    "### refresh_sample_pool"
   ]
  },
  {
   "cell_type": "code",
   "execution_count": 85,
   "metadata": {},
   "outputs": [],
   "source": [
    "refresh_sample_pool <- function(selected.seed) {\n",
    "    set.seed(selected.seed)\n",
    "        \n",
    "    unlabeled_pool = as.data.table(maximinLHS(n = unlabeled_ins, k = nofparams, dup = 5))\n",
    "    \n",
    "    if(model.type == \"basic\"){\n",
    "        unlabeled_pool$V1 = qunif(unlabeled_pool$V1, 10, 90) \n",
    "        unlabeled_pool$V2 = qunif(unlabeled_pool$V2, 10, 90)   \n",
    "     }else if(model.type != \"basic\"){   \n",
    "        unlabeled_pool$V1 = qunif(unlabeled_pool$V1, 10, 90) \n",
    "        unlabeled_pool$V2 = qunif(unlabeled_pool$V2, 10, 90)\n",
    "        unlabeled_pool$V3 = qunif(unlabeled_pool$V3, 1, 10) \n",
    "        unlabeled_pool$V4 = qunif(unlabeled_pool$V4, 0.01, 1)    \n",
    "        unlabeled_pool$V5 = qunif(unlabeled_pool$V5, 0.00001, 0.0001) \n",
    "        unlabeled_pool$V6 = qunif(unlabeled_pool$V6, 90, 110)  \n",
    "    }  \n",
    "    setnames(unlabeled_pool, c(paste0(\"V\",1:nofparams)), feature_names)\n",
    "    \n",
    "return(unlabeled_pool)       \n",
    "}"
   ]
  },
  {
   "cell_type": "markdown",
   "metadata": {},
   "source": [
    "# Test Set"
   ]
  },
  {
   "cell_type": "code",
   "execution_count": 86,
   "metadata": {},
   "outputs": [],
   "source": [
    "#### Test Sets ####\n",
    "for( t in size.test){\n",
    "    test_set.name= paste0(data.path,\"test_set\",\"_\",model.type,\"_\",t,\".csv\")\n",
    "    test_set <- fread(test_set.name)  \n",
    "    \n",
    "    assign(paste0(\"test_set_\",t),test_set)\n",
    "}"
   ]
  },
  {
   "cell_type": "markdown",
   "metadata": {},
   "source": [
    "# One-Shot Training Set"
   ]
  },
  {
   "cell_type": "code",
   "execution_count": 87,
   "metadata": {},
   "outputs": [],
   "source": [
    "#### One-shot training ####\n",
    "training_set_all = data.table()\n",
    "\n",
    "for( i in seed.oneshot){\n",
    "    \n",
    "    training_set.name= paste0(data.path,\"training_set\",\"_\",model.type,\"_\",train_ins_oneshot,\"_seed\",i,\".csv\")\n",
    "    training_set <- fread(training_set.name) \n",
    "    \n",
    "    assign(paste0(\"training_set_\",i),training_set)\n",
    "    \n",
    "    training_set_all = rbind(training_set_all,data.table(training_set, \"seed\" = i))\n",
    "    rm(training_set,training_set.name)    \n",
    "}"
   ]
  },
  {
   "cell_type": "code",
   "execution_count": 88,
   "metadata": {},
   "outputs": [],
   "source": [
    "one_shot_data = copy(training_set_all)"
   ]
  },
  {
   "cell_type": "markdown",
   "metadata": {},
   "source": [
    "## One-shot Train & Test Metamodel"
   ]
  },
  {
   "cell_type": "code",
   "execution_count": 89,
   "metadata": {},
   "outputs": [],
   "source": [
    "#### OneShot Metamodel ####\n",
    "performance_table_oneshot = data.table(iter = numeric(),seed = numeric(),rep = numeric(),size = numeric(), mae= numeric(),rmse= numeric(), mape = numeric())\n",
    "predictedLabels_oneshot_all = data.table()\n",
    "obb_error_oneshot_all = data.table(obb_error = numeric(),seed = numeric(),rep = numeric())"
   ]
  },
  {
   "cell_type": "code",
   "execution_count": 90,
   "metadata": {},
   "outputs": [],
   "source": [
    "for (i in seed.oneshot) {\n",
    "    \n",
    "    training_set = copy(one_shot_data[seed == i, .SD, .SDcols = -c(\"seed\")])\n",
    "    for (r in 1:metarep) {\n",
    "\n",
    "        model_oneshot <- randomForest(x = training_set[, -c(\"output\")], y = training_set$output, importance = TRUE, ntree = ntree, mtry = mtry)\n",
    "        model_Sub.path = paste0(outputs.path, \"model_oneshot_seed_\", i, \"_rep_\", r,\"_size_\",train_ins_oneshot,\".rds\")\n",
    "        saveRDS(model_oneshot, model_Sub.path)\n",
    "        \n",
    "        obb_error_oneshot <- obb_error_func(model_oneshot)\n",
    "        obb_error_oneshot_all = rbind(obb_error_oneshot_all, data.table(obb_error_oneshot,seed = i, rep = r), use.names = FALSE)\n",
    "        \n",
    "        for (t in size.test) {\n",
    "            test_set = get(paste0(\"test_set_\", t))\n",
    "            \n",
    "            test_prediction_oneshot = get_test_predictions(model_oneshot, test_set,error_type)\n",
    "            predictedLabels_oneshot = test_prediction_oneshot[[1]]\n",
    "            \n",
    "            predictedLabels_oneshot_all = rbind(predictedLabels_oneshot_all, data.table(predictedLabels_oneshot,seed = i, rep = r, size = t))\n",
    "            performance_table_oneshot = rbind(performance_table_oneshot, data.table(1,i, r, t, test_prediction_oneshot[[2]]), use.names = FALSE)\n",
    "            output_variables = test_prediction_oneshot[[3]]               \n",
    "        }\n",
    "        \n",
    "        #assign(paste0(\"model_oneshot_\", i, \"_rep_\", r), model_oneshot)\n",
    "        #assign(paste0(\"obb_error_oneshot_\", i, \"_rep_\", r), obb_error_oneshot)\n",
    "        #assign(paste0(\"test_prediction_oneshot_\", i, \"_rep_\", r), test_prediction_oneshot)\n",
    "        #assign(paste0(\"predictedLabels_oneshot_\", i, \"_rep_\", r), predictedLabels_oneshot)\n",
    "        \n",
    "        rm(model_oneshot, obb_error_oneshot, test_prediction_oneshot, predictedLabels_oneshot)\n",
    "    }\n",
    "}"
   ]
  },
  {
   "cell_type": "code",
   "execution_count": 91,
   "metadata": {},
   "outputs": [],
   "source": [
    "fwrite(predictedLabels_oneshot_all, paste0(outputs.path,model.type,\"_\",\"predictedLabels_oneshot_all\",\".csv\"))\n",
    "fwrite(performance_table_oneshot, paste0(outputs.path,model.type,\"_\",\"performance_table_oneshot\",\".csv\"))\n",
    "fwrite(obb_error_oneshot_all, paste0(outputs.path,model.type,\"_\",\"obb_error_oneshot_all\",\".csv\"))"
   ]
  },
  {
   "cell_type": "code",
   "execution_count": 92,
   "metadata": {},
   "outputs": [],
   "source": [
    "rm(predictedLabels_oneshot_all,performance_table_oneshot,obb_error_oneshot_all)"
   ]
  },
  {
   "cell_type": "markdown",
   "metadata": {},
   "source": [
    "# Adaptive Training Set"
   ]
  },
  {
   "cell_type": "code",
   "execution_count": 93,
   "metadata": {},
   "outputs": [],
   "source": [
    "#### Adaptive Set ####\n",
    "training_set_Ad_all = data.table()\n",
    "for (i in seed.Ad) {\n",
    "    \n",
    "    training_set.name = paste0(data.path, \"training_set\", \"_\", model.type, \"_\", train_ins_Ad, \"_seed\", i, \".csv\")\n",
    "    training_set <- fread(training_set.name)\n",
    "    \n",
    "    assign(paste0(\"training_set_Ad_\", i), training_set)\n",
    "    \n",
    "    training_set_Ad_all = rbind(training_set_Ad_all, data.table(training_set, seed = i))\n",
    "    rm(training_set, training_set.name)\n",
    "}"
   ]
  },
  {
   "cell_type": "code",
   "execution_count": 94,
   "metadata": {},
   "outputs": [],
   "source": [
    "adaptive_initial_data = copy(training_set_Ad_all)"
   ]
  },
  {
   "cell_type": "markdown",
   "metadata": {},
   "source": [
    "## Random Sampling Train & Test Metamodel"
   ]
  },
  {
   "cell_type": "code",
   "execution_count": 123,
   "metadata": {},
   "outputs": [],
   "source": [
    "#### Random Sampling ####\n",
    "\n",
    "# Record model performances\n",
    "performance_table = data.table(iter = numeric(),seed = numeric(),rep = numeric(),size = numeric(), mae = numeric(), rmse = numeric(), mape = numeric())\n",
    "# Record obb_error table\n",
    "obb_error = data.table(iter = numeric() ,obb_error = numeric(),seed = numeric(),rep = numeric())\n",
    "# Initialize record tables\n",
    "predictedLabels_all = data.table()\n",
    "train_candidates_all = data.table()\n",
    "training_set_Ad_final = data.table()"
   ]
  },
  {
   "cell_type": "code",
   "execution_count": 124,
   "metadata": {
    "scrolled": true
   },
   "outputs": [
    {
     "name": "stdout",
     "output_type": "stream",
     "text": [
      "[1] \"seed : 0  Random Sampling section start time : 2020-02-14 20:31:23\"\n",
      "[1] \"seed : 0   rep : 1  Random Sampling section start time : 2020-02-14 20:31:23\"\n",
      "[1] 1\n",
      "[1] \"ABM train_candidate run start time : 2020-02-14 20:31:23\"\n",
      "[1] \"ABM train_candidate run end time : 2020-02-14 20:31:26\"\n",
      "[1] 2\n",
      "[1] \"ABM train_candidate run start time : 2020-02-14 20:31:26\"\n",
      "[1] \"ABM train_candidate run end time : 2020-02-14 20:31:30\"\n",
      "[1] 3\n",
      "[1] \"seed : 0   rep : 1  Random Sampling section end time : 2020-02-14 20:31:30\"\n",
      "[1] \"seed : 0   rep : 2  Random Sampling section start time : 2020-02-14 20:31:30\"\n",
      "[1] 1\n",
      "[1] \"ABM train_candidate run start time : 2020-02-14 20:31:30\"\n",
      "[1] \"ABM train_candidate run end time : 2020-02-14 20:31:34\"\n",
      "[1] 2\n",
      "[1] \"ABM train_candidate run start time : 2020-02-14 20:31:34\"\n",
      "[1] \"ABM train_candidate run end time : 2020-02-14 20:31:39\"\n",
      "[1] 3\n",
      "[1] \"seed : 0   rep : 2  Random Sampling section end time : 2020-02-14 20:31:39\"\n",
      "[1] \"seed : 0  Random Sampling section end time : 2020-02-14 20:31:39\"\n",
      "[1] \"seed : 1  Random Sampling section start time : 2020-02-14 20:31:39\"\n",
      "[1] \"seed : 1   rep : 1  Random Sampling section start time : 2020-02-14 20:31:39\"\n",
      "[1] 1\n",
      "[1] \"ABM train_candidate run start time : 2020-02-14 20:31:39\"\n",
      "[1] \"ABM train_candidate run end time : 2020-02-14 20:31:43\"\n",
      "[1] 2\n",
      "[1] \"ABM train_candidate run start time : 2020-02-14 20:31:43\"\n",
      "[1] \"ABM train_candidate run end time : 2020-02-14 20:31:47\"\n",
      "[1] 3\n",
      "[1] \"seed : 1   rep : 1  Random Sampling section end time : 2020-02-14 20:31:47\"\n",
      "[1] \"seed : 1   rep : 2  Random Sampling section start time : 2020-02-14 20:31:47\"\n",
      "[1] 1\n",
      "[1] \"ABM train_candidate run start time : 2020-02-14 20:31:47\"\n",
      "[1] \"ABM train_candidate run end time : 2020-02-14 20:31:51\"\n",
      "[1] 2\n",
      "[1] \"ABM train_candidate run start time : 2020-02-14 20:31:51\"\n",
      "[1] \"ABM train_candidate run end time : 2020-02-14 20:31:54\"\n",
      "[1] 3\n",
      "[1] \"seed : 1   rep : 2  Random Sampling section end time : 2020-02-14 20:31:54\"\n",
      "[1] \"seed : 1  Random Sampling section end time : 2020-02-14 20:31:54\"\n"
     ]
    }
   ],
   "source": [
    "for (i in seed.Ad) {\n",
    "    print(paste0(\"seed : \", i, \"  Random Sampling section start time : \", Sys.time()))\n",
    "    \n",
    "    for (r in 1:metarep) { #replications\n",
    "        set.seed(i + r)\n",
    "        print(paste0(\"seed : \", i,\"   rep : \", r, \"  Random Sampling section start time : \", Sys.time()))\n",
    "        \n",
    "        training_set_Ad = copy(adaptive_initial_data[seed == i, .SD, .SDcols = -c(\"seed\")])\n",
    "        \n",
    "        train_candidates_table = data.table()\n",
    "            \n",
    "        iter = 1\n",
    "        while(iter <= iteration_budget){\n",
    "            print(iter)\n",
    "            \n",
    "            trainx = training_set_Ad[, .SD, .SDcols = feature_names]\n",
    "            trainy = training_set_Ad$output\n",
    "            \n",
    "            # Train the model\n",
    "            model_Sub <- randomForest(x = trainx, y = trainy, importance = TRUE,ntree = ntree, mtry = mtry)\n",
    "            model_Sub.name = paste0(\"model_Rd_\", iter, \"_seed_\", i, \"_rep_\",r)\n",
    "                assign(model_Sub.name, model_Sub)\n",
    "            model_Sub.path = paste0(outputs.path, paste0(model_Sub.name,\"_size_\",train_ins_Ad, \".rds\"))\n",
    "                saveRDS(model_Sub, model_Sub.path)\n",
    "            \n",
    "            #to append\n",
    "            obb_err = rbind( data.table(iter = numeric() ,obb_error = numeric(),seed = numeric(),rep = numeric())\n",
    "                            ,data.table(iter, obb_error_func(model_Sub), i, r), use.names = FALSE)            \n",
    "            fwrite(obb_err,paste0(outputs.path,model.type,\"_Append_\",\"obb_error_Rd\",\".csv\") ,append = TRUE)\n",
    "            ##\n",
    "            obb_error = rbind(obb_error, data.table(iter, obb_error_func(model_Sub), i, r), use.names = FALSE)\n",
    "            \n",
    "            # test the model on test set\n",
    "            predictedLabels_Comb = data.table()\n",
    "            for (t in size.test) {\n",
    "               test_set = get(paste0(\"test_set_\", t))\n",
    "               \n",
    "               test_predictions_Sub = get_test_predictions(model_Sub, test_set,error_type)\n",
    "               predictedLabels_Sub = test_predictions_Sub[[1]]\n",
    "               setnames(predictedLabels_Sub, c(\"pred_output\", error_type), c(paste0(\"pred_output_\", iter), paste0(error_type, \"_\", iter)))\n",
    "\n",
    "               fwrite(predictedLabels_Sub\n",
    "                   ,paste0(outputs.path,model.type,\"_\",\"predictedLabels.Rd_seed_\",i,\"_iter_\",i,\"_rep_\",r,\"_size_\",t,\".csv\") ) \n",
    "               \n",
    "               predictedLabels_Comb = rbind(predictedLabels_Comb, data.table(size = t,predictedLabels_Sub))   \n",
    "                \n",
    "            # Keep test set error records\n",
    "            #to append\n",
    "            perf_table = rbind(data.table(iter = numeric(),seed = numeric(),rep = numeric(),size = numeric(), mae = numeric(), rmse = numeric(), mape = numeric())\n",
    "                              ,data.table(iter, i, r, t, test_predictions_Sub[[2]]),use.names = FALSE )\n",
    "            fwrite(perf_table,paste0(outputs.path,model.type,\"_Append_\",\"performance_table_Rd\",\".csv\"),append = TRUE )    \n",
    "            ##\n",
    "            performance_table = rbind(performance_table, data.table(iter, i, r, t, test_predictions_Sub[[2]]),use.names = FALSE)\n",
    "            \n",
    "            }\n",
    "        \n",
    "            if(iter == 1){\n",
    "               predictedLabels_table = copy(predictedLabels_Comb[,1:4])\n",
    "            }\n",
    "            \n",
    "            predictedLabels_table = cbind(predictedLabels_table, predictedLabels_Comb[,.SD ,.SDcols = c(paste0(\"pred_output_\", iter), paste0(error_type, \"_\", iter))])\n",
    "             \n",
    "           \n",
    "            if (iter != iteration_budget) {\n",
    "                ## sample selection from unlabeled data select candidates\n",
    "                 \n",
    "                unlabeled_set <- refresh_sample_pool(i + r + iter)\n",
    "                train_candidates = random_sample_selection(selected_ins, unlabeled_set)\n",
    "                                \n",
    "                # run ABM to find outputs of train candidates\n",
    "                print(paste0(\"ABM train_candidate run start time : \", Sys.time()))\n",
    "                train_candidates = run_ABM(nofrep, selected_ins, train_candidates)\n",
    "                print(paste0(\"ABM train_candidate run end time : \", Sys.time()))\n",
    "                fwrite(train_candidates,paste0(outputs.path,model.type,\"_\",\"train_candidates.Rd_seed_\",i,\"_iter_\",i,\"_rep_\",r,\"_size_\",t,\".csv\") )\n",
    "                \n",
    "                train_candidates_table = rbind(train_candidates_table, data.table(train_candidates, iter = iter))\n",
    "                \n",
    "                # Add new data to train data\n",
    "                training_set_Ad = rbind(training_set_Ad, train_candidates[, -c(\"idx\")])\n",
    "            }\n",
    "            iter = iter + 1\n",
    "        }  \n",
    "        \n",
    "    #assign(paste0(\"predictedLabels_table_\", i,\"_rep_\", r), predictedLabels_table)\n",
    "    #to append\n",
    "    fwrite(data.table(training_set_Ad, seed = i,rep = r),paste0(outputs.path,model.type,\"_Append_\",\"FinalTrainData_Rd\",\".csv\") ,append = TRUE)\n",
    "    ##\n",
    "    training_set_Ad_final = rbind(training_set_Ad_final, data.table(training_set_Ad, seed = i,rep = r))  \n",
    "    #assign(paste0(\"train_candidates_table_\", i,\"_rep_\", r), train_candidates_table)\n",
    "    #to append\n",
    "    fwrite(data.table(predictedLabels_table, seed = i, rep = r),paste0(outputs.path,model.type,\"_Append_\",\"predictedLabels_table_Rd\",\".csv\"),append = TRUE )               \n",
    "    ##\n",
    "        \n",
    "    predictedLabels_all = rbind(predictedLabels_all, data.table(predictedLabels_table, seed = i, rep = r))\n",
    "   \n",
    "    #to append               \n",
    "    fwrite(data.table(train_candidates_table, seed = i, rep = r),paste0(outputs.path,model.type,\"_Append_\",\"train_candidates_table_Rd\",\".csv\"),append = TRUE )               \n",
    "    ##\n",
    "        \n",
    "    train_candidates_all = rbind(train_candidates_all, data.table(train_candidates_table, seed = i, rep = r))\n",
    "    \n",
    "    print(paste0(\"seed : \", i,\"   rep : \", r, \"  Random Sampling section end time : \", Sys.time()))        \n",
    "  }  \n",
    "         \n",
    "    print(paste0(\"seed : \", i, \"  Random Sampling section end time : \", Sys.time()))\n",
    "    #rm(training_set_Ad, predictedLabels_table, train_candidates_table)\n",
    "}"
   ]
  },
  {
   "cell_type": "code",
   "execution_count": 97,
   "metadata": {},
   "outputs": [],
   "source": [
    "# Final records\n",
    "FinalTrainData_Rd = copy(training_set_Ad_final)\n",
    "obb_error_Rd = copy(obb_error)\n",
    "performance_table_Rd = copy(performance_table)\n",
    "predictedLabels_table_Rd = copy(predictedLabels_all)\n",
    "train_candidates_table_Rd = copy(train_candidates_all)"
   ]
  },
  {
   "cell_type": "code",
   "execution_count": null,
   "metadata": {},
   "outputs": [],
   "source": [
    "rm(training_set_Ad_final,obb_error,performance_table,predictedLabels_all,train_candidates_all)"
   ]
  },
  {
   "cell_type": "code",
   "execution_count": 98,
   "metadata": {},
   "outputs": [],
   "source": [
    "fwrite(FinalTrainData_Rd,paste0(outputs.path,model.type,\"_\",\"FinalTrainData_Rd\",\".csv\") )\n",
    "fwrite(performance_table_Rd,paste0(outputs.path,model.type,\"_\",\"performance_table_Rd\",\".csv\") )\n",
    "fwrite(train_candidates_table_Rd,paste0(outputs.path,model.type,\"_\",\"train_candidates_table_Rd\",\".csv\") )\n",
    "fwrite(predictedLabels_table_Rd,paste0(outputs.path,model.type,\"_\",\"predictedLabels_table_Rd\",\".csv\") )\n",
    "fwrite(obb_error_Rd,paste0(outputs.path,model.type,\"_\",\"obb_error_Rd\",\".csv\") )"
   ]
  },
  {
   "cell_type": "code",
   "execution_count": null,
   "metadata": {},
   "outputs": [],
   "source": [
    "rm(FinalTrainData_Rd,performance_table_Rd,train_candidates_table_Rd,predictedLabels_table_Rd,obb_error_Rd)"
   ]
  },
  {
   "cell_type": "markdown",
   "metadata": {},
   "source": [
    "## Adaptive Train & Test Metamodel"
   ]
  },
  {
   "cell_type": "code",
   "execution_count": 125,
   "metadata": {},
   "outputs": [],
   "source": [
    "#### Adaptive Training ####\n",
    "# Record model performances\n",
    "performance_table = data.table(iter = numeric(),seed = numeric(),rep = numeric(),size = numeric(), mae = numeric(), rmse = numeric(), mape = numeric())\n",
    "# Record obb_error table\n",
    "obb_error = data.table(iter = numeric() ,obb_error = numeric(),seed = numeric(),rep = numeric())\n",
    "\n",
    "## initialize variables\n",
    "predictedLabels_all = data.table()\n",
    "train_candidates_all = data.table()\n",
    "training_set_Ad_final = data.table()\n",
    "importance_table_Ad = data.table()"
   ]
  },
  {
   "cell_type": "code",
   "execution_count": 126,
   "metadata": {},
   "outputs": [
    {
     "name": "stdout",
     "output_type": "stream",
     "text": [
      "[1] \"seed : 0  Adaptive Sampling section start time : 2020-02-14 20:40:43\"\n",
      "[1] \"seed : 0   rep : 1  Adaptive Sampling section start time : 2020-02-14 20:40:43\"\n",
      "[1] 1\n",
      "[1] \"ABM train_candidate run start time : 2020-02-14 20:40:43\"\n",
      "[1] \"ABM train_candidate run end time : 2020-02-14 20:40:45\"\n",
      "[1] 2\n",
      "[1] \"ABM train_candidate run start time : 2020-02-14 20:40:45\"\n",
      "[1] \"ABM train_candidate run end time : 2020-02-14 20:40:51\"\n",
      "[1] 3\n",
      "[1] \"seed : 0   rep : 1  Adaptive Sampling section end time : 2020-02-14 20:40:51\"\n",
      "[1] \"seed : 0   rep : 2  Adaptive Sampling section start time : 2020-02-14 20:40:51\"\n",
      "[1] 1\n",
      "[1] \"ABM train_candidate run start time : 2020-02-14 20:40:51\"\n",
      "[1] \"ABM train_candidate run end time : 2020-02-14 20:40:55\"\n",
      "[1] 2\n",
      "[1] \"ABM train_candidate run start time : 2020-02-14 20:40:55\"\n",
      "[1] \"ABM train_candidate run end time : 2020-02-14 20:40:57\"\n",
      "[1] 3\n",
      "[1] \"seed : 0   rep : 2  Adaptive Sampling section end time : 2020-02-14 20:40:58\"\n",
      "[1] \"seed : 0  Adaptive Sampling section end time : 2020-02-14 20:40:58\"\n",
      "[1] \"seed : 1  Adaptive Sampling section start time : 2020-02-14 20:40:58\"\n",
      "[1] \"seed : 1   rep : 1  Adaptive Sampling section start time : 2020-02-14 20:40:58\"\n",
      "[1] 1\n",
      "[1] \"ABM train_candidate run start time : 2020-02-14 20:40:58\"\n",
      "[1] \"ABM train_candidate run end time : 2020-02-14 20:41:04\"\n",
      "[1] 2\n",
      "[1] \"ABM train_candidate run start time : 2020-02-14 20:41:04\"\n",
      "[1] \"ABM train_candidate run end time : 2020-02-14 20:41:06\"\n",
      "[1] 3\n",
      "[1] \"seed : 1   rep : 1  Adaptive Sampling section end time : 2020-02-14 20:41:06\"\n",
      "[1] \"seed : 1   rep : 2  Adaptive Sampling section start time : 2020-02-14 20:41:06\"\n",
      "[1] 1\n",
      "[1] \"ABM train_candidate run start time : 2020-02-14 20:41:07\"\n",
      "[1] \"ABM train_candidate run end time : 2020-02-14 20:41:11\"\n",
      "[1] 2\n",
      "[1] \"ABM train_candidate run start time : 2020-02-14 20:41:11\"\n",
      "[1] \"ABM train_candidate run end time : 2020-02-14 20:41:16\"\n",
      "[1] 3\n",
      "[1] \"seed : 1   rep : 2  Adaptive Sampling section end time : 2020-02-14 20:41:16\"\n",
      "[1] \"seed : 1  Adaptive Sampling section end time : 2020-02-14 20:41:16\"\n"
     ]
    }
   ],
   "source": [
    "for(i in seed.Ad){\n",
    "\n",
    "print(paste0(\"seed : \",i,\"  Adaptive Sampling section start time : \",Sys.time()))\n",
    "    \n",
    "for (r in 1:metarep){ #replications\n",
    "    set.seed(i + r)\n",
    "        print(paste0(\"seed : \", i,\"   rep : \", r, \"  Adaptive Sampling section start time : \", Sys.time()))\n",
    "    \n",
    "        training_set_Ad = copy(adaptive_initial_data[seed == i, .SD, .SDcols = -c(\"seed\")])\n",
    "        train_candidates_table = data.table()\n",
    "    \n",
    "    iter = 1\n",
    "    while(iter <= iteration_budget){   \n",
    "        print(iter)\n",
    "    \n",
    "        trainx = training_set_Ad[,.SD, .SDcols = feature_names]\n",
    "        trainy = training_set_Ad$output\n",
    "        \n",
    "        # Train the model\n",
    "        model_Sub <- randomForest( x = trainx, y =  trainy,importance = TRUE,ntree = ntree, mtry = mtry)\n",
    "        model_Sub.name = paste0(\"model_Ad_\",selection_metric,\"_\", iter, \"_seed_\", i, \"_rep_\",r)\n",
    "        assign(model_Sub.name,model_Sub)\n",
    "        model_Sub.path = paste0(outputs.path, paste0(model_Sub.name,\"_size_\",train_ins_Ad,\".rds\"))\n",
    "        saveRDS(model_Sub, model_Sub.path)\n",
    "        \n",
    "        #to append\n",
    "        obb_err = rbind( data.table(iter = numeric() ,obb_error = numeric(),seed = numeric(),rep = numeric())\n",
    "                        ,data.table(iter, obb_error_func(model_Sub), i, r), use.names = FALSE)            \n",
    "        fwrite(obb_err,paste0(outputs.path,model.type,\"_Append_\",\"obb_error_Ad_\",selection_metric,\".csv\") ,append = TRUE)\n",
    "        ##                \n",
    "        obb_error = rbind(obb_error,data.table(iter,obb_error_func(model_Sub),i,r),use.names=FALSE)\n",
    "\n",
    "        # test the model on test set\n",
    "        predictedLabels_Comb = data.table()\n",
    "        for (t in size.test) {\n",
    "               test_set = get(paste0(\"test_set_\", t))\n",
    "               \n",
    "               test_predictions_Sub = get_test_predictions(model_Sub, test_set,error_type)\n",
    "               predictedLabels_Sub = test_predictions_Sub[[1]]\n",
    "               setnames(predictedLabels_Sub, c(\"pred_output\", error_type), c(paste0(\"pred_output_\", iter), paste0(error_type, \"_\", iter)))\n",
    "\n",
    "               fwrite(predictedLabels_Sub\n",
    "                   ,paste0(outputs.path,model.type,\"_\",\"predictedLabels.Ad_\",selection_metric,\"_seed_\",i,\"_iter_\",i,\"_rep_\",r,\"_size_\",t,\".csv\") ) \n",
    "               \n",
    "               predictedLabels_Comb = rbind(predictedLabels_Comb, data.table(size = t,predictedLabels_Sub))   \n",
    "                \n",
    "            # Keep test set error records\n",
    "            performance_table = rbind(performance_table, data.table(iter, i, r, t, test_predictions_Sub[[2]]),use.names = FALSE)\n",
    "            \n",
    "         }\n",
    "        if(iter == 1){\n",
    "            predictedLabels_table = copy(predictedLabels_Comb[,1:4])\n",
    "            }\n",
    "            \n",
    "        predictedLabels_table = cbind(predictedLabels_table, predictedLabels_Comb[,.SD ,.SDcols = c(paste0(\"pred_output_\", iter), paste0(error_type, \"_\", iter))])\n",
    "\n",
    "        if(iter != iteration_budget){ # below efforts are unnecessary when the budget is reached.    \n",
    "        ## sample selection from unlabeled data select candidates\n",
    "            unlabeled_set <- refresh_sample_pool(i + r + iter)\n",
    "            train_candidates = sample_selection(selected_ins, unlabeled_set, model_Sub)\n",
    "            \n",
    "            # run ABM to find outputs of train candidates\n",
    "            print(paste0(\"ABM train_candidate run start time : \",Sys.time()))\n",
    "            train_candidates = run_ABM(nofrep, selected_ins, train_candidates)\n",
    "            print(paste0(\"ABM train_candidate run end time : \",Sys.time()))\n",
    "            fwrite(train_candidates\n",
    "                           ,paste0(outputs.path,model.type,\"_\",\"train_candidates.Ad_\",selection_metric,\"_seed_\",i,\"_iter_\",i,\"_rep_\",r,\"_size_\",t,\".csv\") )\n",
    "            train_candidates_table = rbind(train_candidates_table, data.table(train_candidates,iter = iter))\n",
    "            \n",
    "            # add labeled candidates to the train data\n",
    "            training_set_Ad = rbind(training_set_Ad, train_candidates[, -c(\"idx\")])\n",
    "        }\n",
    "        \n",
    "        importance_table_Ad = rbind(importance_table_Ad, data.table(seed = i, rep = r, iter_no = iter, \n",
    "            t(importance(get(model_Sub.name), type = 1, scale = FALSE))))\n",
    "    \n",
    "        iter = iter + 1\n",
    "    }\n",
    "      \n",
    "    #assign(paste0(\"predictedLabels_table_\",i,\"_rep_\", r),predictedLabels_table)\n",
    "    #to append\n",
    "    fwrite(data.table(training_set_Ad, seed = i,rep = r),paste0(outputs.path,model.type,\"_Append_\",\"FinalTrainData_Ad_\",selection_metric,\".csv\") ,append = TRUE)\n",
    "    ##\n",
    "    training_set_Ad_final = rbind(training_set_Ad_final, data.table(training_set_Ad, \"seed\" = i,rep = r))\n",
    "    #assign(paste0(\"train_candidates_table_\",i,\"_rep_\", r),train_candidates_table)\n",
    "    #to append\n",
    "    fwrite(data.table(predictedLabels_table, seed = i, rep = r),paste0(outputs.path,model.type,\"_Append_\",\"predictedLabels_table_Ad_\",selection_metric,\".csv\"),append = TRUE )               \n",
    "    ##\n",
    "    \n",
    "    predictedLabels_all = rbind(predictedLabels_all,data.table(predictedLabels_table,\"seed\" = i,rep = r))\n",
    "    #to append               \n",
    "    fwrite(data.table(train_candidates_table, seed = i, rep = r),paste0(outputs.path,model.type,\"_Append_\",\"train_candidates_table_Ad_\",selection_metric,\".csv\"),append = TRUE )               \n",
    "    ##    \n",
    "    train_candidates_all = rbind(train_candidates_all,data.table(train_candidates_table,\"seed\" = i,rep = r))\n",
    "        \n",
    "    print(paste0(\"seed : \",i,\"   rep : \", r,\"  Adaptive Sampling section end time : \",Sys.time()))\n",
    "    }\n",
    "        \n",
    "    print(paste0(\"seed : \",i,\"  Adaptive Sampling section end time : \",Sys.time()))\n",
    "    #rm(training_set_Ad,predictedLabels_table,train_candidates_table)      \n",
    "}"
   ]
  },
  {
   "cell_type": "code",
   "execution_count": 101,
   "metadata": {},
   "outputs": [],
   "source": [
    "# Final records\n",
    "FinalTrainData_Ad = copy(training_set_Ad_final)\n",
    "obb_error_Ad = copy(obb_error)\n",
    "performance_table_Ad = copy(performance_table)\n",
    "predictedLabels_table_Ad = copy(predictedLabels_all)\n",
    "train_candidates_table_Ad  = copy(train_candidates_all)"
   ]
  },
  {
   "cell_type": "code",
   "execution_count": null,
   "metadata": {},
   "outputs": [],
   "source": [
    "rm(training_set_Ad_final,obb_error,performance_table,predictedLabels_all,train_candidates_all)"
   ]
  },
  {
   "cell_type": "code",
   "execution_count": 102,
   "metadata": {},
   "outputs": [],
   "source": [
    "fwrite(importance_table_Ad,paste0(outputs.path,model.type,\"_\",\"importance_table_Ad\",\"_\",selection_metric,\".csv\") )\n",
    "fwrite(FinalTrainData_Ad,paste0(outputs.path,model.type,\"_\",\"FinalTrainData_Ad\",\"_\",selection_metric,\".csv\") )\n",
    "fwrite(performance_table_Ad,paste0(outputs.path,model.type,\"_\",\"performance_table_Ad\",\"_\",selection_metric,\".csv\") )\n",
    "fwrite(train_candidates_table_Ad,paste0(outputs.path,model.type,\"_\",\"train_candidates_table_Ad\",\"_\",selection_metric,\".csv\") )\n",
    "fwrite(predictedLabels_table_Ad,paste0(outputs.path,model.type,\"_\",\"predictedLabels_table_Ad\",\"_\",selection_metric,\".csv\") )\n",
    "fwrite(obb_error_Ad,paste0(outputs.path,model.type,\"_\",\"obb_error_Ad\",\"_\",selection_metric,\".csv\") )"
   ]
  },
  {
   "cell_type": "code",
   "execution_count": null,
   "metadata": {
    "scrolled": true
   },
   "outputs": [],
   "source": [
    "rm(importance_table_Ad,FinalTrainData_Ad,performance_table_Ad,train_candidates_table_Ad,predictedLabels_table_Ad,obb_error_Ad)"
   ]
  },
  {
   "cell_type": "markdown",
   "metadata": {},
   "source": [
    "# Quit NL"
   ]
  },
  {
   "cell_type": "code",
   "execution_count": null,
   "metadata": {},
   "outputs": [],
   "source": [
    "NLQuit(nl.obj = nl.model)\n",
    "#NLQuit(all=TRUE)"
   ]
  }
 ],
 "metadata": {
  "kernelspec": {
   "display_name": "R 3.6",
   "language": "R",
   "name": "ir36"
  },
  "language_info": {
   "codemirror_mode": "r",
   "file_extension": ".r",
   "mimetype": "text/x-r-source",
   "name": "R",
   "pygments_lexer": "r",
   "version": "3.6.1"
  },
  "toc": {
   "base_numbering": 1,
   "nav_menu": {
    "height": "80.9983px",
    "width": "167.995px"
   },
   "number_sections": true,
   "sideBar": true,
   "skip_h1_title": false,
   "title_cell": "Table of Contents",
   "title_sidebar": "Contents",
   "toc_cell": false,
   "toc_position": {
    "height": "calc(100% - 180px)",
    "left": "10px",
    "top": "150px",
    "width": "320.156px"
   },
   "toc_section_display": true,
   "toc_window_display": true
  }
 },
 "nbformat": 4,
 "nbformat_minor": 2
}
