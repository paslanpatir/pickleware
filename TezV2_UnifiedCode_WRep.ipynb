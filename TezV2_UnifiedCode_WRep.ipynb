{
 "cells": [
  {
   "cell_type": "markdown",
   "metadata": {},
   "source": [
    "# Loading Packages & Initialization"
   ]
  },
  {
   "cell_type": "markdown",
   "metadata": {},
   "source": [
    "be sure to set:\n",
    "* nl.model\n",
    "* model.type\n",
    "* output_folder\n",
    "* iteration_budget\n",
    "* selected_ins"
   ]
  },
  {
   "cell_type": "markdown",
   "metadata": {},
   "source": [
    "reference : https://gist.github.com/mertedali/ab7078b9c29dea18c72525239d636b96"
   ]
  },
  {
   "cell_type": "code",
   "execution_count": 2,
   "metadata": {},
   "outputs": [],
   "source": [
    "rm(list=ls())\n",
    "\n",
    "library(data.table)\n",
    "library(tidyverse)\n",
    "library(rJava)\n",
    "library(RNetLogo)\n",
    "\n",
    "library(lhs) # For maximin Latin hypercube sampling\n",
    "library(ggplot2)\n",
    "library(plotly) # For beautiful plotting\n",
    "library(caret)\n",
    "library(randomForest)\n",
    "library(factoextra)\n",
    "library(e1071)\n",
    "library(TSrepr) # for evaluating predictive power\n",
    "\n",
    "require(gridExtra)\n",
    "\n",
    "options(warn = -1)"
   ]
  },
  {
   "cell_type": "code",
   "execution_count": 3,
   "metadata": {},
   "outputs": [],
   "source": [
    "Is_Headless <- 1\n",
    "nl.model <- \"Segregation\"\n",
    "\n",
    "nl.path <- \"C:/Program Files/NetLogo 6.0.4/app\"\n",
    "folder.path <- \"C:/Users/paslanpatir/Desktop/TEZ_v2/\"\n",
    "model.path <- paste0(folder.path, nl.model, \".nlogo\")\n",
    "\n",
    "if (Is_Headless == 0) {\n",
    "    NLStart(nl.path, gui = TRUE, nl.jarname = \"netlogo-6.0.4.jar\")\n",
    "    NLLoadModel(model.path)\n",
    "} else {\n",
    "    NLStart(nl.path, gui = FALSE, nl.jarname = \"netlogo-6.0.4.jar\", nl.obj = nl.model)\n",
    "    NLLoadModel(model.path, nl.obj = nl.model)\n",
    "}"
   ]
  },
  {
   "cell_type": "code",
   "execution_count": 5,
   "metadata": {},
   "outputs": [],
   "source": [
    "model.type = ifelse(nl.model == \"Segregation\", \"basic\", \"dummy\")\n",
    "# the path of data folder\n",
    "data.path = paste0(folder.path,\"data/\")\n",
    "# the path for outputs to be record\n",
    "output.folder = paste0(\"outputs_coeff_deneme_\",Sys.Date())\n",
    "dir.create(file.path(folder.path, output.folder), showWarnings = FALSE)\n",
    "\n",
    "outputs.path = paste0(folder.path,output.folder,\"/\")"
   ]
  },
  {
   "cell_type": "code",
   "execution_count": 6,
   "metadata": {},
   "outputs": [],
   "source": [
    "# Read Me File to keep info about the output folder\n",
    "ReadMe = paste0(outputs.path,\"ReadMe_\",model.type,\".txt\")"
   ]
  },
  {
   "cell_type": "markdown",
   "metadata": {},
   "source": [
    "# Model Parameters & Functions"
   ]
  },
  {
   "cell_type": "markdown",
   "metadata": {},
   "source": [
    "## Set model parameters"
   ]
  },
  {
   "cell_type": "code",
   "execution_count": 9,
   "metadata": {},
   "outputs": [],
   "source": [
    "## Set model parameters\n",
    " # Number of replications for each instance\n",
    "nofrep = 10 \n",
    "\n",
    " # order feature names according to their definition order in run_model\n",
    "if (model.type == \"basic\") {\n",
    "    feature_names = c(\"density\", \"%-similar-wanted\")\n",
    "} else if (model.type == \"dummy\") {\n",
    "    feature_names = c(\"density\", \"%-similar-wanted\", \"budget-multiplier-dummy\", \"density-multiplier-dummy\", \n",
    "        \"noise-dummy\", \"tick-limit\")\n",
    "}\n",
    " # \n",
    "output_name = c(\"percent-similar\")\n",
    "\n",
    " # Number of input parameters of the agent-based model\n",
    "nofparams = length(feature_names)      \n",
    "\n",
    "# set RF parameters\n",
    "ntree = 300\n",
    "mtry = 2"
   ]
  },
  {
   "cell_type": "markdown",
   "metadata": {},
   "source": [
    "## Set user parameters"
   ]
  },
  {
   "cell_type": "code",
   "execution_count": 10,
   "metadata": {},
   "outputs": [],
   "source": [
    "error_type = \"RMSE\" # MAPE, BIAS\n",
    "\n",
    "# choose the uncertainty measure\n",
    "selection_metric <- \"coefvar\" #, \"range\" \n",
    "\n",
    "# Number of iterations\n",
    "iteration_budget = 11\n",
    "\n",
    "# Number of instances\n",
    "unlabeled_ins = 100 \n",
    "test_ins = 100\n",
    "train_ins_oneshot = 100\n",
    "train_ins_Ad = 50\n",
    "\n",
    "# Set selection parameters\n",
    "selected_ins = 5 #nofinstancesWillbeSelected in each step\n",
    "\n",
    "# Set elimination parameters\n",
    "h <- 1 # number of variables eliminated in each step\n",
    "\n",
    "seed.oneshot = 0\n",
    "seed.Ad = 0"
   ]
  },
  {
   "cell_type": "code",
   "execution_count": 11,
   "metadata": {},
   "outputs": [],
   "source": [
    "write(paste0( \"model =\",nl.model,\"\\n\"\n",
    "             ,\"nofrep =\",nofrep,\"\\n\"\n",
    "             ,\"ntree =\",ntree,\"\\n\"\n",
    "             ,\"mtry =\",mtry,\"\\n\"\n",
    "             ,\"iteration_budget =\",iteration_budget,\"\\n\"\n",
    "             ,\"unlabeled_ins =\",unlabeled_ins,\"\\n\"\n",
    "             ,\"test_ins =\",test_ins,\"\\n\"\n",
    "             ,\"train_ins_Ad =\",train_ins_Ad,\"\\n\"\n",
    "             ,\"selected_ins =\",selected_ins,\"\\n\"\n",
    "             ,\"h =\",h,\"\\n\"\n",
    "             ,paste0(c(\"seed.oneshot =\",seed.oneshot),collapse = \" \"),\"\\n\"\n",
    "             ,paste0(c(\"seed.Ad =\",seed.Ad),collapse = \" \"),\"\\n\"\n",
    "             ,\"Date =\", Sys.Date()\n",
    "             )\n",
    "      ,ReadMe, append=TRUE, sep = \"\\n\" )    "
   ]
  },
  {
   "cell_type": "markdown",
   "metadata": {},
   "source": [
    "## Define functions"
   ]
  },
  {
   "cell_type": "markdown",
   "metadata": {},
   "source": [
    "### run_model"
   ]
  },
  {
   "cell_type": "code",
   "execution_count": 12,
   "metadata": {},
   "outputs": [],
   "source": [
    "#run_model <- function(feature_names,feature_values){ # both should be in character list format\n",
    "run_model <- function(feature_values){ # both should be in character list format   \n",
    "    k = length(feature_names)    \n",
    "    for(i in 1:k){\n",
    "        NLCommand(paste0(\"set \",feature_names[i],\" \",feature_values[i]), nl.obj = nl.model)      \n",
    "    }\n",
    "    NLCommand(\"setup\", nl.obj = nl.model)\n",
    "    NLDoCommand(100, \"go\", nl.obj = nl.model) \n",
    "    result <- NLReport(output_name, nl.obj = nl.model)\n",
    "    return(result)   \n",
    "}"
   ]
  },
  {
   "cell_type": "markdown",
   "metadata": {},
   "source": [
    "### run_replicas"
   ]
  },
  {
   "cell_type": "code",
   "execution_count": 13,
   "metadata": {},
   "outputs": [],
   "source": [
    "#run_replicas <- function(nofrep,feature_names,feature_values) {\n",
    "run_replicas <- function(nofrep,feature_values) {\n",
    "    replicas = matrix(NA, ncol = nofrep, nrow = 1) # Save the result of each replication\n",
    "    for(i in 1:nofrep){\n",
    "     #   replicas[i]= run_model(feature_names,feature_values)\n",
    "        replicas[i]= run_model(feature_values)\n",
    "    }\n",
    "    aggregated_result = mean(replicas)\n",
    "    return(aggregated_result)\n",
    "}"
   ]
  },
  {
   "cell_type": "markdown",
   "metadata": {},
   "source": [
    "### run_ABM"
   ]
  },
  {
   "cell_type": "code",
   "execution_count": 14,
   "metadata": {},
   "outputs": [],
   "source": [
    "#run_ABM = function(nofrep,nofinstances,unlabeledset,featurenames = feature_names){\n",
    "run_ABM = function(nofrep,nofinstances,unlabeledset){\n",
    "   #unlabeledset = setcolorder(unlabeledset,featurenames) \n",
    "   unlabeledset = setcolorder(unlabeledset,feature_names) \n",
    "   for(i in 1:nofinstances){\n",
    "        #unlabeledset[i, output :=  run_replicas(nofrep,featurenames, as.matrix(unlabeledset[i,]))]    \n",
    "        unlabeledset[i, output :=  run_replicas(nofrep, as.matrix(unlabeledset[i,]))] \n",
    "    } \n",
    "    return(unlabeledset)\n",
    "}\n"
   ]
  },
  {
   "cell_type": "markdown",
   "metadata": {},
   "source": [
    "### error functions"
   ]
  },
  {
   "cell_type": "code",
   "execution_count": 15,
   "metadata": {},
   "outputs": [],
   "source": [
    "#error functions on test data\n",
    "rmse_func <- function(actual, predicted){\n",
    "    error = predicted - actual\n",
    "    return(sqrt(mean(error^2)))\n",
    "}\n",
    "\n",
    "mape_func <- function(actual,predicted){\n",
    "    return( (abs(actual - predicted)/ actual)*100 )\n",
    "}\n",
    "\n",
    "bias_func <- function(actual,predicted){\n",
    "    return( (actual - predicted)/ actual )\n",
    "}\n",
    "\n",
    "#error functions on train data\n",
    "obb_error_func <- function(model){\n",
    "   if(model$type == \"regression\"){\n",
    "        oob_error = model$mse[model$ntree] \n",
    "    }else if(model$type == \"classification\"){\n",
    "        oob_error = model$err.rate \n",
    "    } \n",
    "    return(oob_error)\n",
    "}\n"
   ]
  },
  {
   "cell_type": "markdown",
   "metadata": {},
   "source": [
    "### get_test_predictions"
   ]
  },
  {
   "cell_type": "code",
   "execution_count": 16,
   "metadata": {},
   "outputs": [],
   "source": [
    "# prediction functions\n",
    "get_test_predictions <- function(model,testset,errortype){\n",
    "    \n",
    "    predictedLabels <- predict(model, testset)\n",
    "    predictedLabels <- cbind(testset,predictedLabels)\n",
    "    setnames(predictedLabels, \"predictedLabels\",\"pred_output\")\n",
    "\n",
    "    output_variables = colnames(select(predictedLabels, contains(\"output\")))\n",
    "    # output_variables[1] = true output\n",
    "    # output_variables[2] = predicted output\n",
    "    \n",
    "    #output_variables = colnames(predictedLabels[,1:(ncol(predictedLabels) - 2)])\n",
    "    \n",
    "    if(error_type == \"MAPE\"){\n",
    "        predictedLabels[,MAPE := mapply(function(x,y) mape_func(x,y),get(output_variables[1]),get(output_variables[2]))]\n",
    "          }\n",
    "    if(error_type == \"RMSE\"){\n",
    "        predictedLabels[,RMSE := mapply(function(x,y) rmse_func(x,y),get(output_variables[1]),get(output_variables[2]))]\n",
    "          }\n",
    "    if(error_type == \"BIAS\"){\n",
    "        predictedLabels[,BIAS := mapply(function(x,y) bias_func(x,y),get(output_variables[1]),get(output_variables[2]))]\n",
    "           } \n",
    "                                  \n",
    "     output_variables_1 = predictedLabels[,get(output_variables[1]), with = TRUE]\n",
    "     output_variables_2 = predictedLabels[,get(output_variables[2]), with = TRUE]\n",
    "    \n",
    "     performance_temp = matrix(c(1:3), nrow = 1, ncol = 3)\n",
    "     performance_temp[1] =  mae(output_variables_1 , output_variables_2)\n",
    "     performance_temp[2] = rmse(output_variables_1 , output_variables_2)\n",
    "     performance_temp[3] = mape(output_variables_1 , output_variables_2)\n",
    "    \n",
    "    return(list(predictedLabels,performance_temp,output_variables))\n",
    "    \n",
    "} "
   ]
  },
  {
   "cell_type": "markdown",
   "metadata": {},
   "source": [
    "### sample_selection"
   ]
  },
  {
   "cell_type": "code",
   "execution_count": 17,
   "metadata": {},
   "outputs": [],
   "source": [
    "# Adaptive sample selection function with an uncertainty measure depending on 'selection_metric'\n",
    "sample_selection <- function(selected_ins, unlabeled_set, model) {\n",
    "    ind_pred <- t(predict(model, unlabeled_set, predict.all = TRUE)$individual) %>% \n",
    "        data.table()  # predictions by each tree in the forest\n",
    "    ind_pred_eval = data.table()\n",
    "    \n",
    "    # standard deviation calculation\n",
    "    s_dev = sapply(ind_pred, sd) %>% data.table()\n",
    "    setnames(s_dev, \".\", \"sd\")\n",
    "    ind_pred_eval = cbind(ind_pred_eval, s_dev)\n",
    "    \n",
    "    # range calculation\n",
    "    range = sapply(ind_pred, range) %>% t() %>% data.table()\n",
    "    range = range[, .(range = abs(range[, 1] - range[, 2]))]\n",
    "    setnames(range, \"range.V1\", \"range\")\n",
    "    ind_pred_eval = cbind(ind_pred_eval, range)\n",
    "    \n",
    "    #coeff variance calculation\n",
    "    s_dev = sapply(ind_pred, sd) %>% data.table()\n",
    "    setnames(s_dev, \".\", \"sd\")\n",
    "    s_mean = sapply(ind_pred, mean) %>% data.table()\n",
    "    setnames(s_mean, \".\", \"mean\")\n",
    "    coeff_var = cbind(s_dev,s_mean) \n",
    "    coeff_var = coeff_var[,.(c_var = (sd / mean)* 100)]\n",
    "    ind_pred_eval = cbind(ind_pred_eval, coeff_var)\n",
    "    \n",
    "    ind_pred_eval[, `:=`(idx, 1:.N)]\n",
    "    \n",
    "    if (selection_metric == \"sd\") {\n",
    "        ind_pred_eval = ind_pred_eval[order(-sd)][1:selected_ins]\n",
    "    } else if (selection_metric == \"range\") {\n",
    "        ind_pred_eval = ind_pred_eval[order(-range)][1:selected_ins]\n",
    "    } else if (selection_metric == \"coefvar\") {\n",
    "        ind_pred_eval = ind_pred_eval[order(-coeff_var)][1:selected_ins]\n",
    "    }\n",
    "    \n",
    "    unlabeled_set[, `:=`(idx, 1:.N)]\n",
    "    train_candidates = unlabeled_set[ind_pred_eval$idx]\n",
    "    \n",
    "    return(train_candidates)\n",
    "}"
   ]
  },
  {
   "cell_type": "markdown",
   "metadata": {},
   "source": [
    "### random_sample_selection"
   ]
  },
  {
   "cell_type": "code",
   "execution_count": 18,
   "metadata": {},
   "outputs": [],
   "source": [
    "# Random sample selection\n",
    "random_sample_selection <- function(selected_ins,unlabeled_set){\n",
    "  \n",
    "    unlabeled_set[,idx := 1:.N]\n",
    "    \n",
    "    train_candidate_idx = sample(unlabeled_set$idx, selected_ins, replace = FALSE, prob = NULL)   \n",
    "    train_candidates = unlabeled_set[idx %in% train_candidate_idx]\n",
    "    \n",
    "    return(train_candidates)\n",
    "}"
   ]
  },
  {
   "cell_type": "markdown",
   "metadata": {},
   "source": [
    "### get_variable_importance"
   ]
  },
  {
   "cell_type": "code",
   "execution_count": 19,
   "metadata": {},
   "outputs": [],
   "source": [
    "get_variable_importance <- function(model){\n",
    "    importances <- importance(model, type = 1, scale = FALSE)\n",
    "    selected.vars <- order(importances, decreasing = TRUE)\n",
    "    ranked_features = feature_names[selected.vars]\n",
    "    ordered.importances <- importances[selected.vars]\n",
    "    \n",
    "    return(ranked_features)\n",
    "}                      "
   ]
  },
  {
   "cell_type": "markdown",
   "metadata": {},
   "source": [
    "### feature_elimination"
   ]
  },
  {
   "cell_type": "code",
   "execution_count": 20,
   "metadata": {},
   "outputs": [],
   "source": [
    "feature_elimination <- function(h,total_numof_eliminated_vars,ranked_features){ \n",
    "    numof_columns_left = length(ranked_features) - (total_numof_eliminated_vars + h)\n",
    "    columns_left = ranked_features[1:numof_columns_left]\n",
    "    \n",
    "    eliminated_columns = setdiff((length(ranked_features) - total_numof_eliminated_vars), numof_columns_left)\n",
    "    eliminated_columns = ranked_features[eliminated_columns]\n",
    "    \n",
    "    # update total_numof_eliminated_vars\n",
    "    total_numof_eliminated_vars = length(ranked_features) - length(columns_left)\n",
    "    \n",
    "    return(list(columns_left,total_numof_eliminated_vars,h,eliminated_columns))\n",
    " }"
   ]
  },
  {
   "cell_type": "markdown",
   "metadata": {},
   "source": [
    "# Unlabeled Data Pool"
   ]
  },
  {
   "cell_type": "markdown",
   "metadata": {},
   "source": [
    "## Latin hyper cube sampling"
   ]
  },
  {
   "cell_type": "code",
   "execution_count": 21,
   "metadata": {},
   "outputs": [],
   "source": [
    "unlabeled_pool.name= paste0(data.path,\"unlabeled_pool\",\"_\",model.type,\"_\",unlabeled_ins,\".csv\")\n",
    "unlabeled_pool <- fread(unlabeled_pool.name)  \n",
    "\n",
    "data_candidates = copy(unlabeled_pool)"
   ]
  },
  {
   "cell_type": "code",
   "execution_count": 22,
   "metadata": {},
   "outputs": [
    {
     "name": "stderr",
     "output_type": "stream",
     "text": [
      "Saving 6.67 x 6.67 in image\n"
     ]
    },
    {
     "data": {
      "image/png": "[encoded data removed]",
      "text/plain": [
       "plot without title"
      ]
     },
     "metadata": {},
     "output_type": "display_data"
    }
   ],
   "source": [
    "data_candidates_plot = ggplot(data = data_candidates[,.(density,`%-similar-wanted`)], aes(x = density, y = `%-similar-wanted`)) +\n",
    "                    geom_point() +\n",
    "                    ggtitle(paste0(\"unlabeled data for model_ \", model.type))\n",
    "data_candidates_plot\n",
    "ggsave(paste0(outputs.path,\"unlabeled_\", model.type,\".png\"))\n",
    "\n",
    "#pca_unlabeled_pool <- princomp(data_candidates[,-c(\"idx\")], cor = TRUE, scores = TRUE)\n",
    "#pca_unlabeled_pool_components <- get_pca_ind(pca_unlabeled_pool)\n",
    "#p_unlabeled_pool <- ggplot(data = data.table(pca_unlabeled_pool_components$coord[,1:2]), aes(x = Dim.1, y = Dim.2)) +\n",
    "#                    geom_point() +\n",
    "#                    ggtitle(paste0(\"unlabeled data for model_ \", model.type))\n",
    "#p_unlabeled_pool\n",
    "#ggsave(paste0(outputs.path,\"unlabeled_\", model.type,\".png\"))"
   ]
  },
  {
   "cell_type": "markdown",
   "metadata": {},
   "source": [
    "# Test Set"
   ]
  },
  {
   "cell_type": "code",
   "execution_count": 23,
   "metadata": {
    "scrolled": true
   },
   "outputs": [],
   "source": [
    "test_set.name= paste0(data.path,\"test_set\",\"_\",model.type,\"_\",test_ins,\".csv\")\n",
    "test_set <- fread(test_set.name)  "
   ]
  },
  {
   "cell_type": "code",
   "execution_count": null,
   "metadata": {},
   "outputs": [],
   "source": [
    "test_set_plot = ggplot(data = test_set[,.(density,`%-similar-wanted`)], aes(x = density, y = `%-similar-wanted`)) +\n",
    "                    geom_point() +\n",
    "                    ggtitle(paste0(\"test data for model_ \", model.type))\n",
    "test_set_plot\n",
    "ggsave(paste0(outputs.path,\"test_set_\", model.type,\".png\"))\n",
    "\n",
    "#pca_test_set <- princomp(test_set, cor = TRUE, scores = TRUE)\n",
    "#pca_test_set_components <- get_pca_ind(pca_test_set)\n",
    "#p_test_set <- ggplot(data = data.table(pca_test_set_components$coord[,1:2]), aes(x = Dim.1, y = Dim.2)) +\n",
    "#                    geom_point() +\n",
    "#                    ggtitle(paste0(\"test data for model_ \", model.type)) \n",
    "#p_test_set\n",
    "#ggsave(paste0(outputs.path,\"test_set_\", model.type,\".png\"))"
   ]
  },
  {
   "cell_type": "markdown",
   "metadata": {},
   "source": [
    "# Benchmark : One-shot sampling, No feature elimination"
   ]
  },
  {
   "cell_type": "markdown",
   "metadata": {},
   "source": [
    "## One-Shot Training Set"
   ]
  },
  {
   "cell_type": "code",
   "execution_count": null,
   "metadata": {},
   "outputs": [],
   "source": [
    "training_set.name= paste0(data.path,\"training_set\",\"_\",model.type,\"_\",train_ins_oneshot,\"_seed\",seed.oneshot,\".csv\")\n",
    "training_set <- fread(training_set.name) "
   ]
  },
  {
   "cell_type": "code",
   "execution_count": null,
   "metadata": {},
   "outputs": [],
   "source": [
    "one_shot_data = copy(training_set)"
   ]
  },
  {
   "cell_type": "markdown",
   "metadata": {},
   "source": [
    "### Visualization"
   ]
  },
  {
   "cell_type": "code",
   "execution_count": null,
   "metadata": {},
   "outputs": [],
   "source": [
    "one_shot_plot = ggplot(data = one_shot_data[,.(density,`%-similar-wanted`,output)], aes(x = density, y = `%-similar-wanted`)) +\n",
    "                    geom_point(aes(colour = output)) +\n",
    "                    labs(legend = \"output\") +\n",
    "                    ggtitle(paste0(\"one_shot_data for model_ \", model.type))\n",
    "one_shot_plot\n",
    "ggsave(paste0(outputs.path,\"one_shot_data_\", model.type,\".png\"))\n",
    "\n",
    "#pca_training_set <- princomp(one_shot_data[,.SD, .SDcols = !c(\"output\")], cor = TRUE, scores = TRUE)\n",
    "#\n",
    "#pca_training_set_components <- get_pca_ind(pca_training_set)\n",
    "#pca_training_set_components <-cbind(pca_training_set_components$coord[,1:2],training_set[,.SD, .SDcols = c(\"output\")])\n",
    "#p_training_set <- ggplot(data = pca_training_set_components, aes(x = Dim.1, y = Dim.2)) +\n",
    "#             geom_point(aes(colour = output)) +\n",
    "#             labs(legend = \"output\") +\n",
    "#             ggtitle(paste0(\"one_shot_data for model_ \", model.type)) \n",
    "#\n",
    "#p_training_set\n",
    "#ggsave(paste0(outputs.path,\"one_shot_data_\", model.type,\".png\"))"
   ]
  },
  {
   "cell_type": "markdown",
   "metadata": {},
   "source": [
    "## Train & Test Metamodel"
   ]
  },
  {
   "cell_type": "code",
   "execution_count": null,
   "metadata": {},
   "outputs": [],
   "source": [
    "model_oneshot <- randomForest(x = one_shot_data[, -c(\"output\")], y = one_shot_data$output, importance = TRUE,ntree = ntree, mtry = mtry)\n",
    "model_oneshot"
   ]
  },
  {
   "cell_type": "code",
   "execution_count": null,
   "metadata": {},
   "outputs": [],
   "source": [
    "# save the model for the sake of reproducibility\n",
    "model_Sub.path = paste0(outputs.path,\"model_oneshot.rds\")\n",
    "saveRDS(model_oneshot, model_Sub.path)"
   ]
  },
  {
   "cell_type": "code",
   "execution_count": null,
   "metadata": {},
   "outputs": [],
   "source": [
    "obb_error_oneshot <- obb_error_func(model_oneshot)"
   ]
  },
  {
   "cell_type": "code",
   "execution_count": null,
   "metadata": {},
   "outputs": [],
   "source": [
    "plot(model_oneshot$mse, type=\"l\")"
   ]
  },
  {
   "cell_type": "code",
   "execution_count": null,
   "metadata": {},
   "outputs": [],
   "source": [
    "test_prediction_oneshot = get_test_predictions(model_oneshot,test_set,error_type)\n",
    "predictedLabels_oneshot = test_prediction_oneshot[[1]]\n",
    "\n",
    "performance_table_oneshot = data.table(iter = numeric(), mae= numeric(),rmse= numeric(), mape = numeric())\n",
    "# Keep test set error records\n",
    "performance_table_oneshot = rbind(performance_table_oneshot, data.table(1, test_prediction_oneshot[[2]]), use.names = FALSE)\n",
    "\n",
    "output_variables = test_prediction_oneshot[[3]]    \n"
   ]
  },
  {
   "cell_type": "code",
   "execution_count": null,
   "metadata": {},
   "outputs": [],
   "source": [
    "fwrite(performance_table_oneshot,paste0(outputs.path,model.type,\"_\",\"performance_table_oneshot\",\".csv\") )\n",
    "fwrite(predictedLabels_oneshot,paste0(outputs.path,model.type,\"_\",\"predictedLabels_oneshot\",\".csv\") )\n",
    "fwrite(data.table(\"obb_error_oneshot\",obb_error_oneshot),paste0(outputs.path,model.type,\"_\",\"obb_error_oneshot\",\".csv\") )"
   ]
  },
  {
   "cell_type": "code",
   "execution_count": null,
   "metadata": {},
   "outputs": [],
   "source": [
    "performance_table_oneshot\n",
    "obb_error_oneshot\n",
    "head(predictedLabels_oneshot)"
   ]
  },
  {
   "cell_type": "code",
   "execution_count": null,
   "metadata": {},
   "outputs": [],
   "source": [
    "performance_molten_oneshot <- melt(data = performance_table_oneshot, id.vars = 'iter')\n",
    "setnames(performance_molten_oneshot, c(\"variable\",\"value\"),c(\"errortype\",\"errorvalue\"))"
   ]
  },
  {
   "cell_type": "code",
   "execution_count": null,
   "metadata": {},
   "outputs": [],
   "source": [
    "p_oneshot <- ggplot(predictedLabels_oneshot,aes(x = get(output_variables[1]), y = get(output_variables[2]), color = (get(output_variables[2]) - get(output_variables[1])))) +\n",
    "            geom_point() +\n",
    "            geom_abline() +\n",
    "            xlab(\"actual values\") +\n",
    "            ylab(\"fitted values\") +\n",
    "            ggtitle(paste0(\"one_shot_predictions for model_ \", model.type)) \n",
    "\n",
    "p_oneshot\n",
    "ggsave(paste0(outputs.path,\"one_shot_predictions_\", model.type,\".png\"))\n"
   ]
  },
  {
   "cell_type": "markdown",
   "metadata": {},
   "source": [
    "# Random Sampling & No Feature Elimination"
   ]
  },
  {
   "cell_type": "markdown",
   "metadata": {},
   "source": [
    "## Training Set"
   ]
  },
  {
   "cell_type": "code",
   "execution_count": 24,
   "metadata": {},
   "outputs": [],
   "source": [
    "training_set.name = paste0(data.path, \"training_set\", \"_\", model.type, \"_\", train_ins_Ad, \"_seed\", seed.Ad, \".csv\")\n",
    "training_set_Ad <- fread(training_set.name)"
   ]
  },
  {
   "cell_type": "code",
   "execution_count": 25,
   "metadata": {},
   "outputs": [],
   "source": [
    "adaptive_initial_data = copy(training_set_Ad)"
   ]
  },
  {
   "cell_type": "markdown",
   "metadata": {},
   "source": [
    "## Visualization"
   ]
  },
  {
   "cell_type": "code",
   "execution_count": null,
   "metadata": {},
   "outputs": [],
   "source": [
    "adaptive_initial_plot = ggplot(data = adaptive_initial_data[,.(density,`%-similar-wanted`,output)], aes(x = density, y = `%-similar-wanted`)) +\n",
    "                           geom_point(aes(colour = output)) +\n",
    "                           labs(legend = \"output\") +\n",
    "                           ggtitle(paste0(\"initial_adaptive_data for model_ \", model.type))\n",
    "adaptive_initial_plot\n",
    "ggsave(paste0(outputs.path,\"adaptive_initial_data_\", model.type,\".png\"))\n",
    "\n",
    "#pca_training_set_Ad <- princomp(adaptive_initial_data[,.SD, .SDcols = !c(\"output\")], cor = TRUE, scores = TRUE)\n",
    "#\n",
    "#pca_training_set_Ad_components <- get_pca_ind(pca_training_set_Ad)\n",
    "#pca_training_set_Ad_components <-cbind(pca_training_set_Ad_components$coord[,1:2],adaptive_initial_data[,.SD, .SDcols = c(\"output\")])\n",
    "#p_training_set_Ad <- ggplot(data = pca_training_set_Ad_components, aes(x = Dim.1, y = Dim.2)) +\n",
    "#             geom_point(aes(colour = output)) +\n",
    "#             labs(legend = \"output\") +\n",
    "#             ggtitle(paste0(\"initial_adaptive_data for model_ \", model.type)) \n",
    "#\n",
    "#p_training_set_Ad\n",
    "#ggsave(paste0(outputs.path,\"adaptive_initial_data_\", model.type,\".png\"))"
   ]
  },
  {
   "cell_type": "markdown",
   "metadata": {},
   "source": [
    "## Train & Test Metamodel"
   ]
  },
  {
   "cell_type": "code",
   "execution_count": null,
   "metadata": {},
   "outputs": [],
   "source": [
    "## initialize record tables \n",
    "# Record train candidates\n",
    "train_candidates_table = data.table()\n",
    "# Record model performances\n",
    "performance_table = data.table(iter = numeric(), mae = numeric(), rmse = numeric(), mape = numeric())\n",
    "# Record obb_error table\n",
    "obb_error = data.table(iter = numeric(), obb_error = numeric())\n",
    "## initialize variables\n",
    "# keep test set undistorted\n",
    "predictedLabels_table = copy(test_set)"
   ]
  },
  {
   "cell_type": "code",
   "execution_count": null,
   "metadata": {
    "scrolled": true
   },
   "outputs": [],
   "source": [
    "set.seed(10)\n",
    "print(paste0(\"Random sampling section start time : \",Sys.time()))\n",
    "iter = 1\n",
    "while(iter <= iteration_budget){   \n",
    "    print(iter)\n",
    "\n",
    "    trainx = training_set_Ad[,.SD, .SDcols = feature_names]\n",
    "    trainy = training_set_Ad$output\n",
    "    \n",
    "    # Train the model\n",
    "    model_Sub <- randomForest( x = trainx, y =  trainy,importance = TRUE,ntree = ntree, mtry = mtry)\n",
    "    assign(paste0(\"model_Rd_\",iter),model_Sub)\n",
    "    model_Sub.path = paste0(outputs.path,paste0(\"model_Rd_\",iter),\".rds\")\n",
    "    saveRDS(model_Sub, model_Sub.path)\n",
    "                     \n",
    "    obb_error = rbind(obb_error,data.table(iter,obb_error_func(model_Sub)),use.names=FALSE)\n",
    "    \n",
    "    # test the model on test set\n",
    "    test_predictions_Sub = get_test_predictions(model_Sub,test_set,error_type)\n",
    "    predictedLabels_Sub = test_predictions_Sub[[1]]\n",
    "    setnames(predictedLabels_Sub,c(\"pred_output\",error_type), c(paste0(\"pred_output_\",iter),paste0(error_type,\"_\",iter)))    \n",
    "    predictedLabels_table = cbind(predictedLabels_table,predictedLabels_Sub[,.SD, .SDcols = c(paste0(\"pred_output_\",iter),paste0(error_type,\"_\",iter))])\n",
    "    \n",
    "    # Keep test set error records\n",
    "    performance_table = rbind(performance_table,data.table(iter,test_predictions_Sub[[2]]), use.names = FALSE)    \n",
    "\n",
    "    if(iter != iteration_budget){ # below efforts are unnecessary when the budget is reached.\n",
    "        \n",
    "    ## sample selection from unlabeled data select candidates\n",
    "    unlabeled_set <- copy(unlabeled_pool)\n",
    "    train_candidates = random_sample_selection(selected_ins,unlabeled_set)\n",
    "        \n",
    "    # Eliminate train candidates from the unlabeled pool\n",
    "    unlabeled_pool = unlabeled_pool[- train_candidates$idx]\n",
    "    rm(unlabeled_set)\n",
    "    \n",
    "    # run ABM to find outputs of train candidates\n",
    "    print(paste0(\"ABM train_candidate run start time : \",Sys.time()))\n",
    "    train_candidates = run_ABM(nofrep,selected_ins,train_candidates)\n",
    "    print(paste0(\"ABM train_candidate run end time : \",Sys.time()))\n",
    "    \n",
    "    train_candidates_table = rbind(train_candidates_table, data.table(train_candidates,iter = iter))\n",
    "\n",
    "    # Add new data to train data\n",
    "    training_set_Ad = rbind(training_set_Ad,train_candidates[,-c(\"idx\")])\n",
    "    }\n",
    "    iter = iter + 1\n",
    "}\n",
    "\n",
    "# plot koy her iteration'da göstersin.\n",
    "#setcolorder(data,variableorder) ################# bunu bi yerlere koyman gerekebilir, dikkat!!\n",
    "print(paste0(\"Random sampling section end time : \",Sys.time()))"
   ]
  },
  {
   "cell_type": "code",
   "execution_count": null,
   "metadata": {},
   "outputs": [],
   "source": [
    "#iter = 1\n",
    "#while(iter <= iteration_budget){  \n",
    "#    model_Sub = get(paste0(\"model_Rd_\",iter))\n",
    "#    model_Sub.path = paste0(outputs.path,paste0(\"model_Rd_\",iter),\".rds\")\n",
    "#    \n",
    "#    saveRDS(model_Sub, model_Sub.path)\n",
    "#    \n",
    "#     iter = iter + 1\n",
    "#}\n",
    "#"
   ]
  },
  {
   "cell_type": "code",
   "execution_count": null,
   "metadata": {},
   "outputs": [],
   "source": [
    "# Final records\n",
    "FinalTrainData_Rd = copy(training_set_Ad)\n",
    "performance_table_Rd = copy(performance_table)\n",
    "train_candidates_table_Rd  = copy(train_candidates_table)\n",
    "predictedLabels_table_Rd = copy(predictedLabels_table)\n",
    "obb_error_Rd = copy(obb_error)"
   ]
  },
  {
   "cell_type": "code",
   "execution_count": null,
   "metadata": {},
   "outputs": [],
   "source": [
    "fwrite(FinalTrainData_Rd,paste0(outputs.path,model.type,\"_\",\"FinalTrainData_Rd\",\".csv\") )\n",
    "fwrite(performance_table_Rd,paste0(outputs.path,model.type,\"_\",\"performance_table_Rd\",\".csv\") )\n",
    "fwrite(train_candidates_table_Rd,paste0(outputs.path,model.type,\"_\",\"train_candidates_table_Rd\",\".csv\") )\n",
    "fwrite(predictedLabels_table_Rd,paste0(outputs.path,model.type,\"_\",\"predictedLabels_table_Rd\",\".csv\") )\n",
    "fwrite(obb_error_Rd,paste0(outputs.path,model.type,\"_\",\"obb_error_Rd\",\".csv\") )"
   ]
  },
  {
   "cell_type": "code",
   "execution_count": null,
   "metadata": {
    "scrolled": true
   },
   "outputs": [],
   "source": [
    "# show results\n",
    "nrow(FinalTrainData_Rd)\n",
    "performance_table_Rd \n",
    "train_candidates_table_Rd  \n",
    "head(predictedLabels_table_Rd)\n",
    "obb_error_Rd"
   ]
  },
  {
   "cell_type": "code",
   "execution_count": null,
   "metadata": {},
   "outputs": [],
   "source": [
    "performance_molten_Rd <- melt(data = performance_table_Rd\n",
    "                             , id.vars = 'iter')\n",
    "setnames(performance_molten_Rd, c(\"variable\",\"value\"),c(\"errortype\",\"errorvalue\"))\n",
    "p_Rd = ggplot(performance_molten_Rd, aes(x = iter, y = errorvalue, group=errortype, col=errortype)) + \n",
    "          geom_line(lwd=1)+\n",
    "          geom_hline(data = performance_molten_oneshot, aes(yintercept = errorvalue, group=errortype, col=errortype),stat = \"hline\", linetype = \"dashed\") +\n",
    "          ggtitle(paste0(\"performances with Random Sampling for model_ \", model.type))\n",
    "p_Rd\n",
    "ggsave(paste0(outputs.path,\"performance_table_Rd_\", model.type,\".png\"))\n"
   ]
  },
  {
   "cell_type": "markdown",
   "metadata": {},
   "source": [
    "## Final Visualization"
   ]
  },
  {
   "cell_type": "code",
   "execution_count": null,
   "metadata": {},
   "outputs": [],
   "source": [
    "final_Rd_plot = ggplot(data = FinalTrainData_Rd, aes(x = density, y = `%-similar-wanted`)) +\n",
    "                     geom_point(aes(colour = output)) +\n",
    "                     labs(legend = \"output\") +\n",
    "                     ggtitle(paste0(\"Final Data with Random Sampling for model_ \", model.type))\n",
    "final_Rd_plot\n",
    "ggsave(paste0(outputs.path,\"FinalTrainData_Rd_\", model.type,\".png\"))\n",
    "\n",
    "#pca_final_Rd_training_set <- princomp(FinalTrainData_Rd[,.SD, .SDcols = !c(\"output\")], cor = TRUE, scores = TRUE)\n",
    "#\n",
    "#pca_final_Rd_training_set_components <- get_pca_ind(pca_final_Rd_training_set)\n",
    "#pca_final_Rd_training_set_components <-cbind(pca_final_Rd_training_set_components$coord[,1:2],FinalTrainData_Rd[,.SD, .SDcols = c(\"output\")])\n",
    "#p_final_Rd_training_set <- ggplot(data = pca_final_Rd_training_set_components, aes(x = Dim.1, y = Dim.2)) +\n",
    "#             geom_point(aes(colour = output)) +\n",
    "#             labs(legend = \"output\") +\n",
    "#             ggtitle(paste0(\"Final Data with Random Sampling for model_ \", model.type))\n",
    "#p_final_Rd_training_set\n",
    "#ggsave(paste0(outputs.path,\"FinalTrainData_Rd_\", model.type,\".png\"))"
   ]
  },
  {
   "cell_type": "code",
   "execution_count": null,
   "metadata": {},
   "outputs": [],
   "source": [
    "png(paste0(outputs.path,\"TrainData_Rd_Before_After_\", model.type,\".png\"))\n",
    "grid.arrange(adaptive_initial_plot,final_Rd_plot, ncol=2)\n",
    "dev.off()\n",
    "grid.arrange(adaptive_initial_plot,final_Rd_plot, ncol=2)\n",
    "#ggsave(paste0(outputs.path,\"TrainData_Rd_Before_After_\", model.type,\".png\"))"
   ]
  },
  {
   "cell_type": "markdown",
   "metadata": {},
   "source": [
    "# Adaptive Sampling & No Feature Elimination"
   ]
  },
  {
   "cell_type": "markdown",
   "metadata": {},
   "source": [
    "## Training Set"
   ]
  },
  {
   "cell_type": "code",
   "execution_count": 26,
   "metadata": {},
   "outputs": [],
   "source": [
    "training_set_Ad = copy(adaptive_initial_data)\n",
    "unlabeled_pool =copy(data_candidates)"
   ]
  },
  {
   "cell_type": "markdown",
   "metadata": {},
   "source": [
    "## Train & Test Metamodel"
   ]
  },
  {
   "cell_type": "code",
   "execution_count": 27,
   "metadata": {},
   "outputs": [],
   "source": [
    "## initialize record tables Record train candidates\n",
    "train_candidates_table = data.table()\n",
    "# Record model performances\n",
    "performance_table = data.table(iter = numeric(), mae = numeric(), rmse = numeric(), mape = numeric())\n",
    "# Record obb_error table\n",
    "obb_error = data.table(iter = numeric(), obb_error = numeric())\n",
    "## initialize variables\n",
    "# keep test set undistorted\n",
    "predictedLabels_table = copy(test_set)"
   ]
  },
  {
   "cell_type": "code",
   "execution_count": null,
   "metadata": {},
   "outputs": [
    {
     "name": "stdout",
     "output_type": "stream",
     "text": [
      "[1] \"Adaptive Sampling section start time : 2020-01-25 17:12:01\"\n"
     ]
    }
   ],
   "source": [
    "set.seed(10)\n",
    "print(paste0(\"Adaptive Sampling section start time : \",Sys.time()))\n",
    "\n",
    "importance_table_Ad = data.table()\n",
    "\n",
    "iter = 1\n",
    "while(iter <= iteration_budget){   \n",
    "    print(iter)\n",
    "\n",
    "    trainx = training_set_Ad[,.SD, .SDcols = feature_names]\n",
    "    trainy = training_set_Ad$output\n",
    "    \n",
    "    # Train the model\n",
    "    model_Sub <- randomForest( x = trainx, y =  trainy,importance = TRUE,ntree = ntree, mtry = mtry)\n",
    "    assign(paste0(\"model_Ad_\",iter),model_Sub)\n",
    "    model_Sub.path = paste0(outputs.path,paste0(\"model_Ad_\",iter),\".rds\")\n",
    "    saveRDS(model_Sub, model_Sub.path)\n",
    "                    \n",
    "    obb_error = rbind(obb_error,data.table(iter,obb_error_func(model_Sub)),use.names=FALSE)\n",
    "\n",
    "    # test the model on test set\n",
    "    test_predictions_Sub = get_test_predictions(model_Sub,test_set,error_type)\n",
    "    predictedLabels_Sub = test_predictions_Sub[[1]]\n",
    "    setnames(predictedLabels_Sub,c(\"pred_output\",error_type), c(paste0(\"pred_output_\",iter),paste0(error_type,\"_\",iter)))    \n",
    "    predictedLabels_table = cbind(predictedLabels_table,predictedLabels_Sub[,.SD, .SDcols = c(paste0(\"pred_output_\",iter),paste0(error_type,\"_\",iter))])\n",
    "    \n",
    "    # Keep test set error records\n",
    "    performance_table = rbind(performance_table,data.table(iter,test_predictions_Sub[[2]]), use.names = FALSE)\n",
    "    \n",
    "    if(iter != iteration_budget){ # below efforts are unnecessary when the budget is reached.    \n",
    "    ## sample selection from unlabeled data select candidates\n",
    "        unlabeled_set <- copy(unlabeled_pool)\n",
    "        train_candidates = sample_selection(selected_ins, unlabeled_set, model_Sub)\n",
    "        \n",
    "        # eliminate candidates from the unlabeled pool\n",
    "        unlabeled_pool = unlabeled_pool[-train_candidates$idx]\n",
    "        rm(unlabeled_set)\n",
    "        \n",
    "        # run ABM to find outputs of train candidates\n",
    "        print(paste0(\"ABM train_candidate run start time : \",Sys.time()))\n",
    "        train_candidates = run_ABM(nofrep, selected_ins, train_candidates)\n",
    "        print(paste0(\"ABM train_candidate run end time : \",Sys.time()))\n",
    "        \n",
    "        train_candidates_table = rbind(train_candidates_table, data.table(train_candidates,iter = iter))\n",
    "        \n",
    "        # add labeled candidates to the train data\n",
    "        training_set_Ad = rbind(training_set_Ad, train_candidates[, -c(\"idx\")])\n",
    "    }\n",
    "    \n",
    "    importance_table_Ad = rbind(importance_table_Ad,data.table(\"iter_no\" = iter, t(importance(get(paste0(\"model_Ad_\",iter)), type = 1, scale = FALSE))))\n",
    "    iter = iter + 1\n",
    "}\n",
    "print(paste0(\"Adaptive Sampling section end time : \",Sys.time()))"
   ]
  },
  {
   "cell_type": "code",
   "execution_count": null,
   "metadata": {},
   "outputs": [],
   "source": [
    "# Final records\n",
    "FinalTrainData_Ad = copy(training_set_Ad)\n",
    "performance_table_Ad = copy(performance_table)\n",
    "train_candidates_table_Ad  = copy(train_candidates_table)\n",
    "predictedLabels_table_Ad = copy(predictedLabels_table)\n",
    "obb_error_Ad = copy(obb_error)"
   ]
  },
  {
   "cell_type": "code",
   "execution_count": null,
   "metadata": {},
   "outputs": [],
   "source": [
    "fwrite(importance_table_Ad,paste0(outputs.path,model.type,\"_\",\"importance_table_Ad\",\".csv\") )\n",
    "fwrite(FinalTrainData_Ad,paste0(outputs.path,model.type,\"_\",\"FinalTrainData_Ad\",\".csv\") )\n",
    "fwrite(performance_table_Ad,paste0(outputs.path,model.type,\"_\",\"performance_table_Ad\",\".csv\") )\n",
    "fwrite(train_candidates_table_Ad,paste0(outputs.path,model.type,\"_\",\"train_candidates_table_Ad\",\".csv\") )\n",
    "fwrite(predictedLabels_table_Ad,paste0(outputs.path,model.type,\"_\",\"predictedLabels_table_Ad\",\".csv\") )\n",
    "fwrite(obb_error_Ad,paste0(outputs.path,model.type,\"_\",\"obb_error_Ad\",\".csv\") )"
   ]
  },
  {
   "cell_type": "code",
   "execution_count": null,
   "metadata": {
    "scrolled": false
   },
   "outputs": [],
   "source": [
    "head(importance_table_Ad)\n",
    "nrow(FinalTrainData_Ad)\n",
    "performance_table_Ad\n",
    "train_candidates_table_Ad\n",
    "head(predictedLabels_table_Ad)\n",
    "obb_error_Ad"
   ]
  },
  {
   "cell_type": "code",
   "execution_count": null,
   "metadata": {},
   "outputs": [],
   "source": [
    "performance_molten_Ad <- melt(data = performance_table_Ad\n",
    "                             , id.vars = 'iter')\n",
    "setnames(performance_molten_Ad, c(\"variable\",\"value\"),c(\"errortype\",\"errorvalue\"))\n",
    "p_Ad = ggplot(performance_molten_Ad, aes(x = iter, y = errorvalue, group=errortype, col=errortype)) + \n",
    "            geom_line(lwd=1)+\n",
    "            geom_hline(data = performance_molten_oneshot, aes(yintercept = errorvalue, group=errortype, col=errortype),stat = \"hline\", linetype = \"dashed\") +\n",
    "            ggtitle(paste0(\"Performances with Adaptive Sampling for model_ \", model.type))\n",
    "p_Ad\n",
    "ggsave(paste0(outputs.path,\"performance_table_Ad_\", model.type,\".png\"))"
   ]
  },
  {
   "cell_type": "markdown",
   "metadata": {},
   "source": [
    "## Final Visualization"
   ]
  },
  {
   "cell_type": "code",
   "execution_count": null,
   "metadata": {},
   "outputs": [],
   "source": [
    "final_Ad_plot = ggplot(data = FinalTrainData_Ad, aes(x = density, y = `%-similar-wanted`)) +\n",
    "                     geom_point(aes(colour = output)) +\n",
    "                     labs(legend = \"output\") +\n",
    "                     ggtitle(paste0(\"Final Data with Adaptive Sampling for model_ \", model.type))\n",
    "final_Ad_plot\n",
    "ggsave(paste0(outputs.path,\"FinalTrainData_Ad_\", model.type,\".png\"))\n",
    "\n",
    "#pca_final_Ad_training_set <- princomp(FinalTrainData_Ad[,.SD, .SDcols = !c(\"output\")], cor = TRUE, scores = TRUE)\n",
    "#\n",
    "#pca_final_Ad_training_set_components <- get_pca_ind(pca_final_Ad_training_set)\n",
    "#pca_final_Ad_training_set_components <-cbind(pca_final_Ad_training_set_components$coord[,1:2],FinalTrainData_Ad[,.SD, .SDcols = c(\"output\")])\n",
    "#p_final_Ad_training_set <- ggplot(data = pca_final_Ad_training_set_components, aes(x = Dim.1, y = Dim.2)) +\n",
    "#             geom_point(aes(colour = output)) +\n",
    "#             labs(legend = \"output\") +\n",
    "#             ggtitle(paste0(\"Final Data with Adaptive Sampling for model_ \", model.type)) \n",
    "#p_final_Ad_training_set\n",
    "#ggsave(paste0(outputs.path,\"FinalTrainData_Ad_\", model.type,\".png\"))"
   ]
  },
  {
   "cell_type": "code",
   "execution_count": null,
   "metadata": {},
   "outputs": [],
   "source": [
    "png(paste0(outputs.path,\"TrainData_Ad_Before_After_\", model.type,\".png\"))\n",
    "grid.arrange(adaptive_initial_plot,final_Ad_plot, ncol=2)\n",
    "dev.off()\n",
    "grid.arrange(adaptive_initial_plot,final_Ad_plot, ncol=2)\n",
    "#ggsave(paste0(outputs.path,\"TrainData_Ad_Before_After_\", model.type,\".png\"))"
   ]
  },
  {
   "cell_type": "markdown",
   "metadata": {},
   "source": [
    "# 3 Scenarios"
   ]
  },
  {
   "cell_type": "code",
   "execution_count": null,
   "metadata": {},
   "outputs": [],
   "source": [
    "nrow(FinalTrainData_Ad)\n",
    "nrow(one_shot_data)\n",
    "nrow(FinalTrainData_Rd)"
   ]
  },
  {
   "cell_type": "code",
   "execution_count": null,
   "metadata": {},
   "outputs": [],
   "source": [
    "oneshot_model = randomForest( x = one_shot_data[, -c(\"output\")]\n",
    "                             ,y = one_shot_data$output\n",
    "                             , importance = TRUE,ntree = ntree, mtry = mtry)\n",
    "random_model = randomForest( x = FinalTrainData_Rd[,.SD, .SDcols = feature_names]\n",
    "                              ,y = FinalTrainData_Rd$output\n",
    "                              ,importance = TRUE,ntree = ntree, mtry = mtry)\n",
    "adaptive_model = randomForest( x = FinalTrainData_Ad[,.SD, .SDcols = feature_names]\n",
    "                              ,y = FinalTrainData_Ad$output\n",
    "                              ,importance = TRUE,ntree = ntree, mtry = mtry)\n",
    "\n",
    "oneshot_model\n",
    "random_model\n",
    "adaptive_model"
   ]
  },
  {
   "cell_type": "code",
   "execution_count": null,
   "metadata": {},
   "outputs": [],
   "source": [
    "pred_table = data.table()\n",
    "\n",
    "pred_oneshot <- predict(oneshot_model, test_set)\n",
    "pred_oneshot <- cbind(test_set,pred_oneshot)\n",
    "pred_table = rbind(pred_table,pred_oneshot)\n",
    "\n",
    "pred_rd <- predict(random_model, test_set)\n",
    "pred_rd <- cbind(test_set,pred_rd)\n",
    "pred_table = merge(pred_table,pred_rd\n",
    "                      ,by = c(feature_names,\"output\")\n",
    "                      ,all.x = T)\n",
    "\n",
    "pred_ad <- predict(adaptive_model, test_set)\n",
    "pred_ad <- cbind(test_set,pred_ad)\n",
    "pred_table = merge(pred_table,pred_ad\n",
    "                      ,by = c(feature_names,\"output\")\n",
    "                      ,all.x = T)\n",
    "\n",
    "pred_oneshot[,RMSE := mapply(function(x,y) rmse_func(x,y),output,pred_oneshot)]\n",
    "pred_rd[,RMSE := mapply(function(x,y) rmse_func(x,y),output,pred_rd)]\n",
    "pred_ad[,RMSE := mapply(function(x,y) rmse_func(x,y),output,pred_ad)]                                                          \n",
    "                        \n",
    "rmse(pred_oneshot$output,pred_oneshot$pred_oneshot)\n",
    "rmse(pred_rd$output,pred_rd$pred_rd)\n",
    "rmse(pred_ad$output,pred_ad$pred_ad)"
   ]
  },
  {
   "cell_type": "code",
   "execution_count": null,
   "metadata": {},
   "outputs": [],
   "source": [
    "fwrite(pred_table,paste0(outputs.path,model.type,\"_\",\"3scenario\",\".csv\") )"
   ]
  },
  {
   "cell_type": "code",
   "execution_count": null,
   "metadata": {
    "scrolled": false
   },
   "outputs": [],
   "source": [
    "par(mfrow=c(3,1))\n",
    "plot(oneshot_model$mse, type=\"l\")\n",
    "plot(random_model$mse, type=\"l\")\n",
    "plot(adaptive_model$mse, type=\"l\")"
   ]
  },
  {
   "cell_type": "markdown",
   "metadata": {},
   "source": [
    "# Random Sampling vs Uncertainty Sampling"
   ]
  },
  {
   "cell_type": "markdown",
   "metadata": {},
   "source": [
    "## Final Data Comparison"
   ]
  },
  {
   "cell_type": "code",
   "execution_count": null,
   "metadata": {},
   "outputs": [],
   "source": [
    "png(paste0(outputs.path,\"TrainData_Rd&Ad_Before_After_\", model.type,\".png\"))\n",
    "grid.arrange(one_shot_plot, adaptive_initial_plot,final_Rd_plot,final_Ad_plot,nrow=2, ncol=2)\n",
    "dev.off()\n",
    "grid.arrange(one_shot_plot, adaptive_initial_plot,final_Rd_plot,final_Ad_plot,nrow=2, ncol=2)\n",
    "\n",
    "#ggsave(paste0(outputs.path,\"TrainData_Rd&Ad_Before_After_\", model.type,\".png\"))"
   ]
  },
  {
   "cell_type": "markdown",
   "metadata": {},
   "source": [
    "## Performance Comparison"
   ]
  },
  {
   "cell_type": "code",
   "execution_count": null,
   "metadata": {},
   "outputs": [],
   "source": [
    "grid.arrange(p_Rd, p_Ad, ncol=2)"
   ]
  },
  {
   "cell_type": "code",
   "execution_count": null,
   "metadata": {},
   "outputs": [],
   "source": [
    "performance_Rd_vs_Ad = rbind(performance_molten_Rd[,.(iter,errortype,errorvalue, type = \"Rd\")],performance_molten_Ad[,.(iter,errortype,errorvalue, type = \"Ad\")])\n",
    "p_Rd_vs_Ad = ggplot(performance_Rd_vs_Ad, aes(x = iter, y = errorvalue, group=errortype, col=errortype)) + \n",
    "            geom_line(lwd=1) +\n",
    "            geom_hline(data = performance_molten_oneshot, aes(yintercept = errorvalue, group=errortype, col=errortype),stat = \"hline\", linetype = \"dashed\") +\n",
    "            facet_wrap(~type) +\n",
    "            ggtitle(\"performance_table_Rd&Ad\")\n",
    "p_Rd_vs_Ad\n",
    "ggsave(paste0(outputs.path,\"performance_table_Rd&Ad_\", model.type,\".png\"))"
   ]
  },
  {
   "cell_type": "code",
   "execution_count": null,
   "metadata": {},
   "outputs": [],
   "source": [
    "ggplotly(p_Rd_vs_Ad)"
   ]
  },
  {
   "cell_type": "code",
   "execution_count": null,
   "metadata": {},
   "outputs": [],
   "source": [
    "comp = performance_Rd_vs_Ad[iter == 10 & errortype ==\"rmse\"]\n",
    "comp[, oneshot_error := performance_molten_oneshot[errortype ==\"rmse\"]$errorvalue]      \n",
    "comp[,diff := (errorvalue - oneshot_error) ]\n",
    "comp[,diff_perc := (errorvalue - oneshot_error) / oneshot_error ]\n",
    "comp"
   ]
  },
  {
   "cell_type": "markdown",
   "metadata": {},
   "source": [
    "# Adaptive Sampling & Feature Elimination "
   ]
  },
  {
   "cell_type": "markdown",
   "metadata": {},
   "source": [
    "## Training Set"
   ]
  },
  {
   "cell_type": "code",
   "execution_count": null,
   "metadata": {},
   "outputs": [],
   "source": [
    "training_set_Ad = copy(adaptive_initial_data)\n",
    "unlabeled_pool =copy(data_candidates)"
   ]
  },
  {
   "cell_type": "markdown",
   "metadata": {},
   "source": [
    "## Train and Test Metamodel"
   ]
  },
  {
   "cell_type": "code",
   "execution_count": null,
   "metadata": {},
   "outputs": [],
   "source": [
    "# Decide on strategy:\n",
    "if (model.type == \"basic\") {\n",
    "    sample_selection_iteration_order = c(1:(iteration_budget - 1))\n",
    "    feature_elimination_iteration_order = c(iteration_budget - 1)\n",
    "} else if (model.type == \"dummy\") {\n",
    "    sample_selection_iteration_order = c(1:(iteration_budget - 1))\n",
    "    feature_elimination_iteration_order = c((iteration_budget - 4):(iteration_budget - 1))\n",
    "}"
   ]
  },
  {
   "cell_type": "code",
   "execution_count": null,
   "metadata": {},
   "outputs": [],
   "source": [
    "## initialize record tables Record train candidates\n",
    "train_candidates_table = data.table()\n",
    "\n",
    "# Record model performances\n",
    "performance_table = data.table(iter = numeric(), mae = numeric(), rmse = numeric(), mape = numeric())\n",
    "\n",
    "# Record obb_error table\n",
    "obb_error = data.table(iter = numeric(), obb_error = numeric())\n",
    "\n",
    "# Record iteration history\n",
    "iteration_history = data.table(iter_no = numeric(), IsFeatureEliminated = logical(), IsDataSelected = logical())\n",
    "\n",
    "## initialize variables\n",
    "# keep test set undistorted\n",
    "predictedLabels_table = copy(test_set)\n",
    "\n",
    "# specify variables(columns) to be used initialize\n",
    "columns_left = feature_names\n",
    "total_numof_eliminated_vars <- 0"
   ]
  },
  {
   "cell_type": "code",
   "execution_count": null,
   "metadata": {},
   "outputs": [],
   "source": [
    "set.seed(10)\n",
    "print(paste0(\"AdFe section start time : \",Sys.time()))\n",
    "iter = 1\n",
    "while (iter <= iteration_budget) {\n",
    "    \n",
    "    trainx = training_set_Ad[, .SD, .SDcols = columns_left]\n",
    "    trainy = training_set_Ad$output\n",
    "    \n",
    "    # Train the model\n",
    "    model_Sub <- randomForest(x = trainx, y = trainy, importance = TRUE, ntree = ntree, mtry = mtry)\n",
    "    assign(paste0(\"model_AdFe_\", iter), model_Sub)\n",
    "    model_Sub.path = paste0(outputs.path,paste0(\"model_AdFe_\",iter),\".rds\")\n",
    "    saveRDS(model_Sub, model_Sub.path)\n",
    "    \n",
    "    \n",
    "    if (length(columns_left) == length(feature_names)) {\n",
    "        ranked_features = get_variable_importance(model_Sub)\n",
    "    }\n",
    "    # Keep training set error records\n",
    "    obb_error = rbind(obb_error, data.table(iter, obb_error_func(model_Sub)), use.names = FALSE)\n",
    "    \n",
    "    # Test the model on test set\n",
    "    test_predictions_Sub = get_test_predictions(model_Sub, test_set, error_type)\n",
    "    predictedLabels_Sub = test_predictions_Sub[[1]]\n",
    "    setnames(predictedLabels_Sub, c(\"pred_output\", error_type), c(paste0(\"pred_output_\", iter), paste0(error_type, \"_\", iter)))\n",
    "    predictedLabels_table = cbind(predictedLabels_table, predictedLabels_Sub[,.SD, .SDcols = c(paste0(\"pred_output_\", iter), paste0(error_type, \"_\", iter))])\n",
    "    \n",
    "    # Keep test set error records\n",
    "    performance_table = rbind(performance_table, data.table(iter, test_predictions_Sub[[2]]), use.names = FALSE)\n",
    "    \n",
    "    # update iteration_history\n",
    "    iteration_history = rbind(iteration_history, data.table(iter, 0, 0), use.names = FALSE)\n",
    "    \n",
    "    if(iter != iteration_budget){ # below efforts are unnecessary when the budget is reached.\n",
    "          if (iter %in% sample_selection_iteration_order) {\n",
    "              ## sample selection from unlabeled data select candidates\n",
    "              unlabeled_set <- copy(unlabeled_pool)\n",
    "              train_candidates = sample_selection(selected_ins, unlabeled_set, model_Sub)\n",
    "              \n",
    "              # eliminate candidates from the unlabeled pool\n",
    "              unlabeled_pool = unlabeled_pool[-train_candidates$idx]\n",
    "              rm(unlabeled_set)\n",
    "              \n",
    "              # run ABM to find outputs of train candidates\n",
    "              print(paste0(\"ABM train_candidate run start time : \",Sys.time()))\n",
    "              train_candidates = run_ABM(nofrep, selected_ins, train_candidates)\n",
    "              print(paste0(\"ABM train_candidate run end time : \",Sys.time()))\n",
    "              \n",
    "              train_candidates_table = rbind(train_candidates_table, data.table(train_candidates,iter = iter))\n",
    "              \n",
    "              # add labeled candidates to the train data\n",
    "              training_set_Ad = rbind(training_set_Ad, train_candidates[, -c(\"idx\")])\n",
    "              \n",
    "              # update iteration_history\n",
    "               iteration_history[iter]$IsDataSelected= 1\n",
    "          }\n",
    "          if (iter %in% feature_elimination_iteration_order) {\n",
    "              ## feature elimination apply feature elimination\n",
    "              feature_elimination_result = feature_elimination(h, total_numof_eliminated_vars, ranked_features)\n",
    "              \n",
    "              columns_left = feature_elimination_result[[1]]  # \n",
    "              eliminated_columns = feature_elimination_result[[4]]  #   not necessary\n",
    "              total_numof_eliminated_vars = as.numeric(feature_elimination_result[2])\n",
    "              numof_eliminated_vars = as.numeric(feature_elimination_result[3])  #   not necessary \n",
    "              \n",
    "              # update iteration_history\n",
    "              iteration_history[iter]$IsFeatureEliminated= 1\n",
    "          }\n",
    "    }\n",
    "iter = iter + 1  \n",
    "}\n",
    "print(paste0(\"AdFe section end time : \",Sys.time()))"
   ]
  },
  {
   "cell_type": "code",
   "execution_count": null,
   "metadata": {},
   "outputs": [],
   "source": [
    "iter = 1\n",
    "importance_table_AdFe = data.table()\n",
    "\n",
    "while(iter <= (iteration_budget - 4) ){ \n",
    "    importance_table_AdFe = rbind(importance_table_AdFe,data.table(\"iter_no\" = iter, t(importance(get(paste0(\"model_AdFe_\",iter)), type = 1, scale = FALSE))))\n",
    "iter = iter + 1    \n",
    "}"
   ]
  },
  {
   "cell_type": "code",
   "execution_count": null,
   "metadata": {},
   "outputs": [],
   "source": [
    "# Final records\n",
    "FinalTrainData_AdFe = copy(training_set_Ad)\n",
    "performance_table_AdFe = copy(performance_table)\n",
    "train_candidates_table_AdFe  = copy(train_candidates_table)\n",
    "predictedLabels_table_AdFe = copy(predictedLabels_table)\n",
    "obb_error_AdFe = copy(obb_error)"
   ]
  },
  {
   "cell_type": "code",
   "execution_count": null,
   "metadata": {},
   "outputs": [],
   "source": [
    "fwrite(importance_table_AdFe,paste0(outputs.path,model.type,\"_\",\"importance_table_AdFe\",\".csv\") )\n",
    "fwrite(FinalTrainData_AdFe,paste0(outputs.path,model.type,\"_\",\"FinalTrainData_AdFe\",\".csv\") )\n",
    "fwrite(performance_table_AdFe,paste0(outputs.path,model.type,\"_\",\"performance_table_AdFe\",\".csv\") )\n",
    "fwrite(train_candidates_table_AdFe,paste0(outputs.path,model.type,\"_\",\"train_candidates_table_AdFe\",\".csv\") )\n",
    "fwrite(predictedLabels_table_AdFe,paste0(outputs.path,model.type,\"_\",\"predictedLabels_table_AdFe\",\".csv\") )\n",
    "fwrite(obb_error_AdFe,paste0(outputs.path,model.type,\"_\",\"obb_error_AdFe\",\".csv\") )\n",
    "fwrite(iteration_history,paste0(outputs.path,model.type,\"_\",\"iteration_history\",\".csv\") )"
   ]
  },
  {
   "cell_type": "code",
   "execution_count": null,
   "metadata": {},
   "outputs": [],
   "source": [
    "iteration_history"
   ]
  },
  {
   "cell_type": "code",
   "execution_count": null,
   "metadata": {},
   "outputs": [],
   "source": [
    "performance_molten_AdFe <- melt(data = performance_table_AdFe\n",
    "                             , id.vars = 'iter')\n",
    "setnames(performance_molten_AdFe, c(\"variable\",\"value\"),c(\"errortype\",\"errorvalue\"))\n",
    "p_AdFe = ggplot(performance_molten_AdFe, aes(x = iter, y = errorvalue, group=errortype, col=errortype)) + \n",
    "            geom_line(lwd=1) +\n",
    "            geom_hline(data = performance_molten_oneshot, aes(yintercept = errorvalue, group=errortype, col=errortype),stat = \"hline\", linetype = \"dashed\") +\n",
    "            geom_vline(xintercept = iteration_history[IsFeatureEliminated==1]$iter_no + 1, linetype = \"dashed\") +\n",
    "          #  geom_vline(xintercept = iteration_history[IsDataSelected==1]$iter_no + 1, linetype = \"dotdash\",color = \"yellow\") +\n",
    "            ggtitle(paste0(\"Performances with AdFe for model_ \", model.type))\n",
    "p_AdFe\n",
    "ggsave(paste0(outputs.path,\"performance_table_AdFe_\", model.type,\".png\"))"
   ]
  },
  {
   "cell_type": "markdown",
   "metadata": {},
   "source": [
    "## Final Visualization"
   ]
  },
  {
   "cell_type": "code",
   "execution_count": null,
   "metadata": {},
   "outputs": [],
   "source": [
    "final_AdFe_plot = ggplot(data = FinalTrainData_AdFe, aes(x = density, y = `%-similar-wanted`)) +\n",
    "                     geom_point(aes(colour = output)) +\n",
    "                     labs(legend = \"output\") +\n",
    "                     ggtitle(paste0(\"Final Data with AdFe for model_ \", model.type))\n",
    "final_AdFe_plot\n",
    "ggsave(paste0(outputs.path,\"FinalTrainData_AdFe_\", model.type,\".png\"))\n",
    "\n",
    "#pca_final_AdFe_training_set <- princomp(FinalTrainData_AdFe[,.SD, .SDcols = !c(\"output\")], cor = TRUE, scores = TRUE)\n",
    "#\n",
    "#pca_final_AdFe_training_set_components <- get_pca_ind(pca_final_AdFe_training_set)\n",
    "#pca_final_AdFe_training_set_components <-cbind(pca_final_AdFe_training_set_components$coord[,1:2],FinalTrainData_AdFe[,.SD, .SDcols = c(\"output\")])\n",
    "#p_final_AdFe_training_set <- ggplot(data = pca_final_AdFe_training_set_components, aes(x = Dim.1, y = Dim.2)) +\n",
    "#             geom_point(aes(colour = output)) +\n",
    "#             labs(legend = \"output\") +\n",
    "#             ggtitle(paste0(\"Final Data with AdFe for model_ \", model.type)) \n",
    "#p_final_AdFe_training_set\n",
    "#ggsave(paste0(outputs.path,\"FinalTrainData_AdFe_\", model.type,\".png\"))"
   ]
  },
  {
   "cell_type": "markdown",
   "metadata": {},
   "source": [
    "# Adaptive Sampling with/without Feature Elimination"
   ]
  },
  {
   "cell_type": "code",
   "execution_count": null,
   "metadata": {},
   "outputs": [],
   "source": [
    "png(paste0(outputs.path,\"TrainData_Ad&AdFe_Before_After_\", model.type,\".png\"))\n",
    "grid.arrange(one_shot_plot, adaptive_initial_plot,final_Ad_plot,final_AdFe_plot,nrow=2, ncol=2)\n",
    "dev.off()\n",
    "grid.arrange(one_shot_plot, adaptive_initial_plot,final_Ad_plot,final_AdFe_plot,nrow=2, ncol=2)"
   ]
  },
  {
   "cell_type": "code",
   "execution_count": null,
   "metadata": {},
   "outputs": [],
   "source": [
    "performance_Ad_vs_AdFe = rbind(performance_molten_Ad[,.(iter,errortype,errorvalue, type = \"Ad\")], performance_molten_AdFe[,.(iter,errortype,errorvalue, type = \"AdFe\")])\n",
    "p_Ad_vs_AdFe = ggplot(performance_Ad_vs_AdFe, aes(x = iter, y = errorvalue, group=errortype, col=errortype)) + \n",
    "            geom_line(lwd=1) +\n",
    "            geom_vline(xintercept = iteration_history[IsFeatureEliminated==1]$iter_no + 1, linetype = \"dashed\") +\n",
    "            geom_hline(data = performance_molten_oneshot, aes(yintercept = errorvalue, group=errortype, col=errortype),stat = \"hline\", linetype = \"dashed\") +\n",
    "            facet_wrap(~type) +\n",
    "            ggtitle(paste0(\"Performances with Ad and AdFe for model_ \", model.type))\n",
    "p_Ad_vs_AdFe\n",
    "ggsave(paste0(outputs.path,\"performance_table_Ad&AdFe_\", model.type,\".png\"))"
   ]
  },
  {
   "cell_type": "code",
   "execution_count": null,
   "metadata": {},
   "outputs": [],
   "source": [
    "ggplotly(p_Ad_vs_AdFe)"
   ]
  },
  {
   "cell_type": "code",
   "execution_count": null,
   "metadata": {},
   "outputs": [],
   "source": [
    "performance_Rd_vs_Ad_vs_AdFe = rbind(performance_Rd_vs_Ad,performance_molten_AdFe[,.(iter,errortype,errorvalue, type = \"AdFe\")])\n",
    "\n",
    "\n",
    "p_Rd_vs_Ad_vs_AdFe = ggplot(performance_Rd_vs_Ad_vs_AdFe, aes(x = iter, y = errorvalue, group=errortype, col=errortype)) + \n",
    "            geom_line(lwd=1) +\n",
    "            geom_hline(data = performance_molten_oneshot, aes(yintercept = errorvalue, group=errortype, col=errortype),stat = \"hline\", linetype = \"dashed\") +\n",
    "            facet_wrap( ~type  ) +\n",
    "            ggtitle(\"performance_table_Rd&Ad&AdFe\")\n",
    "p_Rd_vs_Ad_vs_AdFe\n",
    "ggsave(paste0(outputs.path,\"performance_table_Rd&Ad&Fe_\", model.type,\".png\"))"
   ]
  },
  {
   "cell_type": "markdown",
   "metadata": {},
   "source": [
    "# Alternative Test Sets"
   ]
  },
  {
   "cell_type": "markdown",
   "metadata": {},
   "source": [
    "## Different Seeds"
   ]
  },
  {
   "cell_type": "code",
   "execution_count": null,
   "metadata": {},
   "outputs": [],
   "source": [
    "#test.seed.5.2 = \"old\"\n",
    "#test_ins_5.2 = 400\n",
    "#\n",
    "#test_set.name.5.2= paste0(data.path,\"test_set\",\"_\",model.type,\"_\",test_ins_5.2,\"_seed\",test.seed.5.2,\".csv\")\n",
    "#test_set.5.2 <- fread(test_set.name.2)  \n",
    "#\n",
    "#pca_test_set.5.2 <- princomp(test_set.5.2, cor = TRUE, scores = TRUE)\n",
    "#pca_test_set_components.5.2 <- get_pca_ind(pca_test_set.5.2)\n",
    "#p_test_set.5.2 <- ggplot(data = data.table(pca_test_set_components.5.2$coord[,1:2]), aes(x = Dim.1, y = Dim.2)) +\n",
    "#                    geom_point() +\n",
    "#                    ggtitle(paste0(\"test data for model_ \", model.type)) \n",
    "#p_test_set.5.2"
   ]
  },
  {
   "cell_type": "code",
   "execution_count": null,
   "metadata": {},
   "outputs": [],
   "source": [
    "## Record model performances\n",
    "#performance_table = data.table(iter = numeric(), mae = numeric(), rmse = numeric(), mape = numeric())\n",
    "#\n",
    "### initialize variables\n",
    "## keep test set undistorted\n",
    "#predictedLabels_table = copy(test_set.5.2)\n",
    "#\n",
    "#iter = 1\n",
    "#while (iter <= iteration_budget) {\n",
    "#    \n",
    "#    model_Sub = copy(get(paste0(\"model_AdFe_\", iter)))\n",
    "#    \n",
    "#     # Test the model on test set\n",
    "#    test_predictions_Sub = get_test_predictions(model_Sub, test_set.5.2, error_type)\n",
    "#    predictedLabels_Sub = test_predictions_Sub[[1]]\n",
    "#    setnames(predictedLabels_Sub, c(\"pred_output\", error_type), c(paste0(\"pred_output_\", iter), paste0(error_type, \"_\", iter)))\n",
    "#    predictedLabels_table = cbind(predictedLabels_table, predictedLabels_Sub[,.SD, .SDcols = c(paste0(\"pred_output_\", iter), paste0(error_type, \"_\", iter))])\n",
    "#    \n",
    "#    # Keep test set error records\n",
    "#    performance_table = rbind(performance_table, data.table(iter, test_predictions_Sub[[2]]), use.names = FALSE)\n",
    "#iter = iter + 1  \n",
    "#}\n",
    "#\n",
    "#performance_table_AdFe.5.2 = copy(performance_table)\n",
    "#predictedLabels_table_AdFe.5.2 = copy(predictedLabels_table)\n",
    "#    \n",
    "#\n",
    "##fwrite(performance_table_AdFe,paste0(outputs.path,model.type,\"_\",\"performance_table_AdFe\",\".csv\") )\n",
    "##fwrite(predictedLabels_table_AdFe,paste0(outputs.path,model.type,\"_\",\"predictedLabels_table_AdFe\",\".csv\") )"
   ]
  },
  {
   "cell_type": "code",
   "execution_count": null,
   "metadata": {},
   "outputs": [],
   "source": [
    "#performance_molten_AdFe.5.2 <- melt(data = performance_table_AdFe.5.2\n",
    "#                             , id.vars = 'iter')\n",
    "#setnames(performance_molten_AdFe.5.2, c(\"variable\",\"value\"),c(\"errortype\",\"errorvalue\"))"
   ]
  },
  {
   "cell_type": "code",
   "execution_count": null,
   "metadata": {},
   "outputs": [],
   "source": [
    "#performance_Ad_vs_AdFe_vs_AdFe3_vs_AdFe4_vs_AdFe.5_vs_AdFe.5.2 = rbind( performance_Ad_vs_AdFe_vs_AdFe3_vs_AdFe4_vs_AdFe.5\n",
    "#                                                           ,performance_molten_AdFe.5.2[,.(iter,errortype,errorvalue, type = \"AdFe.5.2\")])\n",
    "#\n",
    "#p_Ad_vs_AdFe_vs_AdFe3_vs_AdFe4_vs_AdFe.5_vs_AdFe.5.2 = ggplot(performance_Ad_vs_AdFe_vs_AdFe3_vs_AdFe4_vs_AdFe.5_vs_AdFe.5.2, aes(x = iter, y = errorvalue, group=errortype, col=errortype)) + \n",
    "#            geom_line(lwd=1) +\n",
    "#            geom_vline(xintercept = iteration_history[IsFeatureEliminated==1]$iter_no + 1, linetype = \"dashed\") +\n",
    "#            geom_hline(data = performance_molten_oneshot, aes(yintercept = errorvalue, group=errortype, col=errortype),stat = \"hline\", linetype = \"dashed\") +\n",
    "#            facet_wrap(~type) +\n",
    "#            ggtitle(paste0(\"Performances with Ad,AdFe,AdFe.3,AdFe.4,AdFe.5,AdFe.5.2 for model_ \", model.type))\n",
    "#p_Ad_vs_AdFe_vs_AdFe3_vs_AdFe4_vs_AdFe.5_vs_AdFe.5.2\n",
    "##ggsave(paste0(outputs.path,\"performance_table_Ad&AdFe_\", model.type,\".png\"))"
   ]
  },
  {
   "cell_type": "markdown",
   "metadata": {},
   "source": [
    "## Different Size"
   ]
  },
  {
   "cell_type": "markdown",
   "metadata": {},
   "source": [
    "### test_ins = 200"
   ]
  },
  {
   "cell_type": "code",
   "execution_count": null,
   "metadata": {},
   "outputs": [],
   "source": [
    "#test_ins_3 = 200\n",
    "#test_set.name.3= paste0(data.path,\"test_set\",\"_\",model.type,\"_\",test_ins_3,\".csv\")\n",
    "#test_set.3 <- fread(test_set.name.3)  \n",
    "#"
   ]
  },
  {
   "cell_type": "code",
   "execution_count": null,
   "metadata": {},
   "outputs": [],
   "source": [
    "## Record model performances\n",
    "#performance_table = data.table(iter = numeric(), mae = numeric(), rmse = numeric(), mape = numeric())\n",
    "#performance_table_oneshot = data.table(iter = numeric(), mae= numeric(),rmse= numeric(), mape = numeric())\n",
    "#\n",
    "### initialize variables\n",
    "## keep test set undistorted\n",
    "#predictedLabels_table = copy(test_set.3)\n",
    "#\n",
    "#test_prediction_oneshot = get_test_predictions(model_oneshot,test_set.3,error_type)\n",
    "#performance_table_oneshot = rbind(performance_table_oneshot, data.table(1, test_prediction_oneshot[[2]]), use.names = FALSE)\n",
    "#\n",
    "#iter = 1\n",
    "#while (iter <= iteration_budget) {\n",
    "#    \n",
    "#    model_Sub = copy(get(paste0(\"model_AdFe_\", iter)))\n",
    "#    \n",
    "#     # Test the model on test set\n",
    "#    test_predictions_Sub = get_test_predictions(model_Sub, test_set.3, error_type)\n",
    "#    predictedLabels_Sub = test_predictions_Sub[[1]]\n",
    "#    setnames(predictedLabels_Sub, c(\"pred_output\", error_type), c(paste0(\"pred_output_\", iter), paste0(error_type, \"_\", iter)))\n",
    "#    predictedLabels_table = cbind(predictedLabels_table, predictedLabels_Sub[,.SD, .SDcols = c(paste0(\"pred_output_\", iter), paste0(error_type, \"_\", iter))])\n",
    "#    \n",
    "#    # Keep test set error records\n",
    "#    performance_table = rbind(performance_table, data.table(iter, test_predictions_Sub[[2]]), use.names = FALSE)\n",
    "#iter = iter + 1  \n",
    "#}\n",
    "#\n",
    "#performance_table_oneshot.3 = copy(performance_table_oneshot)\n",
    "#\n",
    "#performance_table_AdFe.3 = copy(performance_table)\n",
    "#predictedLabels_table_AdFe.3 = copy(predictedLabels_table)\n",
    "#    \n",
    "#\n",
    "##fwrite(performance_table_AdFe,paste0(outputs.path,model.type,\"_\",\"performance_table_AdFe\",\".csv\") )\n",
    "##fwrite(predictedLabels_table_AdFe,paste0(outputs.path,model.type,\"_\",\"predictedLabels_table_AdFe\",\".csv\") )"
   ]
  },
  {
   "cell_type": "code",
   "execution_count": null,
   "metadata": {},
   "outputs": [],
   "source": [
    "#performance_molten_oneshot.3 <- melt(data = performance_table_oneshot.3, id.vars = 'iter')\n",
    "#setnames(performance_molten_oneshot.3, c(\"variable\",\"value\"),c(\"errortype\",\"errorvalue\"))\n",
    "#\n",
    "#performance_molten_AdFe.3 <- melt(data = performance_table_AdFe.3 , id.vars = 'iter')\n",
    "#setnames(performance_molten_AdFe.3, c(\"variable\",\"value\"),c(\"errortype\",\"errorvalue\"))"
   ]
  },
  {
   "cell_type": "code",
   "execution_count": null,
   "metadata": {},
   "outputs": [],
   "source": [
    "#GRID ARRANGE YAPMALI\n",
    "#performance_Ad_vs_AdFe_vs_AdFe3 = rbind(performance_Ad_vs_AdFe, performance_molten_AdFe.3[,.(iter,errortype,errorvalue, type = \"AdFe.3\")])\n",
    "#\n",
    "#p_Ad_vs_AdFe_vs_AdFe3 = ggplot(performance_Ad_vs_AdFe_vs_AdFe3, aes(x = iter, y = errorvalue, group=errortype, col=errortype)) + \n",
    "#            geom_line(lwd=1) +\n",
    "#            geom_vline(xintercept = iteration_history[IsFeatureEliminated==1]$iter_no + 1, linetype = \"dashed\") +\n",
    "#            geom_hline(data = performance_molten_oneshot, aes(yintercept = errorvalue, group=errortype, col=errortype),stat = \"hline\", linetype = \"dashed\") +\n",
    "#            facet_wrap(~type) +\n",
    "#            ggtitle(paste0(\"Performances with Ad,AdFe,AdFe.3 for model_ \", model.type))\n",
    "#p_Ad_vs_AdFe_vs_AdFe3\n",
    "##ggsave(paste0(outputs.path,\"performance_table_Ad&AdFe_\", model.type,\".png\"))"
   ]
  },
  {
   "cell_type": "markdown",
   "metadata": {},
   "source": [
    "### test_ins = 300"
   ]
  },
  {
   "cell_type": "code",
   "execution_count": null,
   "metadata": {},
   "outputs": [],
   "source": [
    "#test_ins_4 = 300\n",
    "#test_set.name.4= paste0(data.path,\"test_set\",\"_\",model.type,\"_\",test_ins_4,\".csv\")\n",
    "#test_set.4 <- fread(test_set.name.4)  \n",
    "#\n",
    "#pca_test_set.4 <- princomp(test_set.4, cor = TRUE, scores = TRUE)\n",
    "#pca_test_set_components.4 <- get_pca_ind(pca_test_set.4)\n",
    "#p_test_set.4 <- ggplot(data = data.table(pca_test_set_components.4$coord[,1:2]), aes(x = Dim.1, y = Dim.2)) +\n",
    "#                    geom_point() +\n",
    "#                    ggtitle(paste0(\"test data for model_ \", model.type)) \n",
    "#p_test_set.4"
   ]
  },
  {
   "cell_type": "code",
   "execution_count": null,
   "metadata": {},
   "outputs": [],
   "source": [
    "## Record model performances\n",
    "#performance_table = data.table(iter = numeric(), mae = numeric(), rmse = numeric(), mape = numeric())\n",
    "#\n",
    "### initialize variables\n",
    "## keep test set undistorted\n",
    "#predictedLabels_table = copy(test_set.4)\n",
    "#\n",
    "#iter = 1\n",
    "#while (iter <= iteration_budget) {\n",
    "#    \n",
    "#    model_Sub = copy(get(paste0(\"model_AdFe_\", iter)))\n",
    "#    \n",
    "#     # Test the model on test set\n",
    "#    test_predictions_Sub = get_test_predictions(model_Sub, test_set.4, error_type)\n",
    "#    predictedLabels_Sub = test_predictions_Sub[[1]]\n",
    "#    setnames(predictedLabels_Sub, c(\"pred_output\", error_type), c(paste0(\"pred_output_\", iter), paste0(error_type, \"_\", iter)))\n",
    "#    predictedLabels_table = cbind(predictedLabels_table, predictedLabels_Sub[,.SD, .SDcols = c(paste0(\"pred_output_\", iter), paste0(error_type, \"_\", iter))])\n",
    "#    \n",
    "#    # Keep test set error records\n",
    "#    performance_table = rbind(performance_table, data.table(iter, test_predictions_Sub[[2]]), use.names = FALSE)\n",
    "#iter = iter + 1  \n",
    "#}\n",
    "#\n",
    "#performance_table_AdFe.4 = copy(performance_table)\n",
    "#predictedLabels_table_AdFe.4 = copy(predictedLabels_table)\n",
    "#    \n",
    "#\n",
    "##fwrite(performance_table_AdFe,paste0(outputs.path,model.type,\"_\",\"performance_table_AdFe\",\".csv\") )\n",
    "##fwrite(predictedLabels_table_AdFe,paste0(outputs.path,model.type,\"_\",\"predictedLabels_table_AdFe\",\".csv\") )"
   ]
  },
  {
   "cell_type": "code",
   "execution_count": null,
   "metadata": {},
   "outputs": [],
   "source": [
    "#performance_molten_AdFe.4 <- melt(data = performance_table_AdFe.4\n",
    "#                             , id.vars = 'iter')\n",
    "#setnames(performance_molten_AdFe.4, c(\"variable\",\"value\"),c(\"errortype\",\"errorvalue\"))"
   ]
  },
  {
   "cell_type": "code",
   "execution_count": null,
   "metadata": {},
   "outputs": [],
   "source": [
    "#performance_Ad_vs_AdFe_vs_AdFe3_vs_AdFe4 = rbind(performance_Ad_vs_AdFe_vs_AdFe3, performance_molten_AdFe.4[,.(iter,errortype,errorvalue, type = \"AdFe.4\")])\n",
    "#\n",
    "#p_Ad_vs_AdFe_vs_AdFe3_vs_AdFe4 = ggplot(performance_Ad_vs_AdFe_vs_AdFe3_vs_AdFe4, aes(x = iter, y = errorvalue, group=errortype, col=errortype)) + \n",
    "#            geom_line(lwd=1) +\n",
    "#            geom_vline(xintercept = iteration_history[IsFeatureEliminated==1]$iter_no + 1, linetype = \"dashed\") +\n",
    "#            geom_hline(data = performance_molten_oneshot, aes(yintercept = errorvalue, group=errortype, col=errortype),stat = \"hline\", linetype = \"dashed\") +\n",
    "#            facet_wrap(~type) +\n",
    "#            ggtitle(paste0(\"Performances with Ad,AdFe,AdFe.3,AdFe.4 for model_ \", model.type))\n",
    "#p_Ad_vs_AdFe_vs_AdFe3_vs_AdFe4\n",
    "##ggsave(paste0(outputs.path,\"performance_table_Ad&AdFe_\", model.type,\".png\"))"
   ]
  },
  {
   "cell_type": "markdown",
   "metadata": {},
   "source": [
    "### test_ins = 400"
   ]
  },
  {
   "cell_type": "code",
   "execution_count": null,
   "metadata": {},
   "outputs": [],
   "source": [
    "#test_ins_5 = 400\n",
    "#test_set.name.5= paste0(data.path,\"test_set\",\"_\",model.type,\"_\",test_ins_5,\".csv\")\n",
    "#test_set.5 <- fread(test_set.name.5)  \n",
    "#\n",
    "#pca_test_set.5 <- princomp(test_set.5, cor = TRUE, scores = TRUE)\n",
    "#pca_test_set_components.5 <- get_pca_ind(pca_test_set.5)\n",
    "#p_test_set.5 <- ggplot(data = data.table(pca_test_set_components.5$coord[,1:2]), aes(x = Dim.1, y = Dim.2)) +\n",
    "#                    geom_point() +\n",
    "#                    ggtitle(paste0(\"test data for model_ \", model.type)) \n",
    "#p_test_set.5"
   ]
  },
  {
   "cell_type": "code",
   "execution_count": null,
   "metadata": {},
   "outputs": [],
   "source": [
    "## Record model performances\n",
    "#performance_table = data.table(iter = numeric(), mae = numeric(), rmse = numeric(), mape = numeric())\n",
    "#\n",
    "### initialize variables\n",
    "## keep test set undistorted\n",
    "#predictedLabels_table = copy(test_set.5)\n",
    "#\n",
    "#iter = 1\n",
    "#while (iter <= iteration_budget) {\n",
    "#    \n",
    "#    model_Sub = copy(get(paste0(\"model_AdFe_\", iter)))\n",
    "#    \n",
    "#     # Test the model on test set\n",
    "#    test_predictions_Sub = get_test_predictions(model_Sub, test_set.5, error_type)\n",
    "#    predictedLabels_Sub = test_predictions_Sub[[1]]\n",
    "#    setnames(predictedLabels_Sub, c(\"pred_output\", error_type), c(paste0(\"pred_output_\", iter), paste0(error_type, \"_\", iter)))\n",
    "#    predictedLabels_table = cbind(predictedLabels_table, predictedLabels_Sub[,.SD, .SDcols = c(paste0(\"pred_output_\", iter), paste0(error_type, \"_\", iter))])\n",
    "#    \n",
    "#    # Keep test set error records\n",
    "#    performance_table = rbind(performance_table, data.table(iter, test_predictions_Sub[[2]]), use.names = FALSE)\n",
    "#iter = iter + 1  \n",
    "#}\n",
    "#\n",
    "#performance_table_AdFe.5 = copy(performance_table)\n",
    "#predictedLabels_table_AdFe.5 = copy(predictedLabels_table)\n",
    "#    \n",
    "#\n",
    "##fwrite(performance_table_AdFe,paste0(outputs.path,model.type,\"_\",\"performance_table_AdFe\",\".csv\") )\n",
    "##fwrite(predictedLabels_table_AdFe,paste0(outputs.path,model.type,\"_\",\"predictedLabels_table_AdFe\",\".csv\") )"
   ]
  },
  {
   "cell_type": "code",
   "execution_count": null,
   "metadata": {},
   "outputs": [],
   "source": [
    "#performance_molten_AdFe.5 <- melt(data = performance_table_AdFe.5\n",
    "#                             , id.vars = 'iter')\n",
    "#setnames(performance_molten_AdFe.5, c(\"variable\",\"value\"),c(\"errortype\",\"errorvalue\"))"
   ]
  },
  {
   "cell_type": "code",
   "execution_count": null,
   "metadata": {},
   "outputs": [],
   "source": [
    "#performance_Ad_vs_AdFe_vs_AdFe3_vs_AdFe4_vs_AdFe.5 = rbind( performance_Ad_vs_AdFe_vs_AdFe3_vs_AdFe4\n",
    "#                                                           ,performance_molten_AdFe.5[,.(iter,errortype,errorvalue, type = \"AdFe.5\")])\n",
    "#\n",
    "#p_Ad_vs_AdFe_vs_AdFe3_vs_AdFe4_vs_AdFe.5 = ggplot(performance_Ad_vs_AdFe_vs_AdFe3_vs_AdFe4_vs_AdFe.5, aes(x = iter, y = errorvalue, group=errortype, col=errortype)) + \n",
    "#            geom_line(lwd=1) +\n",
    "#            geom_vline(xintercept = iteration_history[IsFeatureEliminated==1]$iter_no + 1, linetype = \"dashed\") +\n",
    "#            geom_hline(data = performance_molten_oneshot, aes(yintercept = errorvalue, group=errortype, col=errortype),stat = \"hline\", linetype = \"dashed\") +\n",
    "#            facet_wrap(~type) +\n",
    "#            ggtitle(paste0(\"Performances with Ad,AdFe,AdFe.3,AdFe.4,AdFe.5 for model_ \", model.type))\n",
    "#p_Ad_vs_AdFe_vs_AdFe3_vs_AdFe4_vs_AdFe.5\n",
    "##ggsave(paste0(outputs.path,\"performance_table_Ad&AdFe_\", model.type,\".png\"))"
   ]
  },
  {
   "cell_type": "code",
   "execution_count": null,
   "metadata": {
    "scrolled": true
   },
   "outputs": [],
   "source": [
    "#head(train_candidates_table_AdFe)\n",
    "#head(train_candidates_table_Ad)"
   ]
  },
  {
   "cell_type": "code",
   "execution_count": null,
   "metadata": {},
   "outputs": [],
   "source": [
    "#varImpPlot(model_Ad)"
   ]
  },
  {
   "cell_type": "markdown",
   "metadata": {},
   "source": [
    "# Quit NL"
   ]
  },
  {
   "cell_type": "code",
   "execution_count": null,
   "metadata": {},
   "outputs": [],
   "source": [
    "NLQuit(nl.obj = nl.model)\n",
    "#NLQuit(all=FALSE)"
   ]
  }
 ],
 "metadata": {
  "kernelspec": {
   "display_name": "R 3.6",
   "language": "R",
   "name": "ir36"
  },
  "language_info": {
   "codemirror_mode": "r",
   "file_extension": ".r",
   "mimetype": "text/x-r-source",
   "name": "R",
   "pygments_lexer": "r",
   "version": "3.6.1"
  },
  "toc": {
   "base_numbering": 1,
   "nav_menu": {
    "height": "80.9983px",
    "width": "167.995px"
   },
   "number_sections": true,
   "sideBar": true,
   "skip_h1_title": false,
   "title_cell": "Table of Contents",
   "title_sidebar": "Contents",
   "toc_cell": false,
   "toc_position": {
    "height": "calc(100% - 180px)",
    "left": "10px",
    "top": "150px",
    "width": "327.882px"
   },
   "toc_section_display": true,
   "toc_window_display": true
  }
 },
 "nbformat": 4,
 "nbformat_minor": 2
}
